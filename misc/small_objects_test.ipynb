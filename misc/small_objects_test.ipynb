{
 "cells": [
  {
   "cell_type": "code",
   "execution_count": 1,
   "id": "initial_id",
   "metadata": {
    "collapsed": true,
    "ExecuteTime": {
     "end_time": "2024-01-11T15:16:26.161530Z",
     "start_time": "2024-01-11T15:16:25.526849Z"
    },
    "pycharm": {
     "name": "#%%\n"
    }
   },
   "source": [
    "import yaml\n",
    "import platform\n",
    "import pandas as pd\n",
    "import glob\n",
    "from PIL import Image"
   ],
   "outputs": []
  },
  {
   "cell_type": "code",
   "source": [
    "def check_os():\n",
    "    os = platform.system()\n",
    "\n",
    "    if os == 'Darwin':\n",
    "        return \"MacOS\"\n",
    "    elif os == 'Linux':\n",
    "        return \"Linux\"\n",
    "    else:\n",
    "        return \"Unknown OS\"\n",
    "    \n",
    "operating_system = check_os()\n",
    "\n",
    "\n",
    "if operating_system == \"MacOS\":\n",
    "    root_path = \"/Users/johnny/Projects/\"\n",
    "elif operating_system == \"Linux\":\n",
    "    root_path = \"/home/johnny/Projects/\""
   ],
   "metadata": {
    "collapsed": false,
    "ExecuteTime": {
     "end_time": "2024-01-11T15:16:26.165654Z",
     "start_time": "2024-01-11T15:16:26.162295Z"
    },
    "pycharm": {
     "name": "#%%\n"
    }
   },
   "id": "90a08499e1bd403f",
   "execution_count": 2,
   "outputs": []
  },
  {
   "cell_type": "code",
   "source": [
    "file_path = root_path + \"datasets/antiuav.v3i/data.yaml\"\n",
    "\n",
    "with open(file_path, 'r') as file:\n",
    "    yaml_data = yaml.safe_load(file)\n",
    "\n",
    "yaml_data"
   ],
   "metadata": {
    "collapsed": false,
    "ExecuteTime": {
     "end_time": "2024-01-11T15:16:26.169135Z",
     "start_time": "2024-01-11T15:16:26.164701Z"
    },
    "pycharm": {
     "name": "#%%\n"
    }
   },
   "id": "629309cd51ff510c",
   "execution_count": 3,
   "outputs": []
  },
  {
   "cell_type": "code",
   "source": [
    "train_data = file_path + yaml_data['train']\n",
    "val_data = file_path + yaml_data['val']"
   ],
   "metadata": {
    "collapsed": false,
    "ExecuteTime": {
     "end_time": "2024-01-11T15:16:26.171676Z",
     "start_time": "2024-01-11T15:16:26.170726Z"
    },
    "pycharm": {
     "name": "#%%\n"
    }
   },
   "id": "cf13941e0af7a24d",
   "execution_count": 4,
   "outputs": []
  },
  {
   "cell_type": "code",
   "source": [
    "import os\n",
    "import re\n",
    "\n",
    "def rename_files(directory, pattern):\n",
    "    for filename in os.listdir(directory):\n",
    "        # Use regular expression to find the pattern to remove\n",
    "        new_filename = re.sub(pattern, '', filename)\n",
    "        if new_filename != filename:  # Check if the filename actually needs to be changed\n",
    "            old_file = os.path.join(directory, filename)\n",
    "            new_file = os.path.join(directory, new_filename)\n",
    "            os.rename(old_file, new_file)\n",
    "            print(f'Renamed: {old_file} to {new_file}')\n",
    "\n",
    "# Pattern that matches the unwanted part in the filenames\n",
    "# This will match any '.rf.' followed by any alphanumeric and the file extension\n",
    "pattern_to_remove = r'\\.rf\\.[\\w-]+'\n",
    "\n",
    "# Replace these with the actual paths on your system\n",
    "images_directory = root_path + 'datasets/antiuav.v3i/valid/images/'\n",
    "labels_directory = root_path + 'datasets/antiuav.v3i/valid/labels/'\n",
    "\n",
    "# Call the function for both directories\n",
    "# Make sure to uncomment these lines when running in your local environment\n",
    "rename_files(images_directory, pattern_to_remove)\n",
    "rename_files(labels_directory, pattern_to_remove)\n",
    "\n",
    "# Note: Backup your files before running this script as renaming is irreversible\n"
   ],
   "metadata": {
    "collapsed": false,
    "ExecuteTime": {
     "end_time": "2024-01-11T15:16:26.204805Z",
     "start_time": "2024-01-11T15:16:26.173761Z"
    },
    "pycharm": {
     "name": "#%%\n"
    }
   },
   "id": "b465380f2ebba0d1",
   "execution_count": 5,
   "outputs": []
  },
  {
   "cell_type": "code",
   "source": [
    "\n",
    "# Dummy directory paths (you would replace these with your actual directory paths)\n",
    "images_directory = root_path + 'datasets/antiuav.v3i/valid/images/'\n",
    "labels_directory = root_path + 'datasets/antiuav.v3i/valid/labels/'\n",
    "\n",
    "def rename_files(directory):\n",
    "    for filename in os.listdir(directory):\n",
    "        if filename.endswith(\"_jpg.jpg\"):\n",
    "            new_name = filename.replace(\"_jpg.jpg\", \".jpg\")\n",
    "            os.rename(os.path.join(directory, filename), os.path.join(directory, new_name))\n",
    "            print(f\"Renamed {filename} to {new_name}\")\n",
    "        \n",
    "        if filename.endswith(\"_jpg.txt\"):\n",
    "            new_name = filename.replace(\"_jpg.txt\", \".txt\")\n",
    "            os.rename(os.path.join(directory, filename), os.path.join(directory, new_name))\n",
    "            print(f\"Renamed {filename} to {new_name}\")\n",
    "            \n",
    "rename_files(images_directory)\n",
    "rename_files(labels_directory)           \n",
    "# Get the list of all image files in the images directory\n",
    "image_files = glob.glob(images_directory + '*.jpg')\n",
    "\n",
    "# List to hold the DataFrame rows before concatenation\n",
    "# List to hold the DataFrame rows before concatenation\n",
    "df_rows = []\n",
    "\n",
    "# Function to get image resolution\n",
    "def get_image_resolution(image_path):\n",
    "    with Image.open(image_path) as img:\n",
    "        return img.size\n",
    "\n",
    "# Read and process each label file and associate it with the corresponding image file\n",
    "for image_file in image_files:\n",
    "    # Get the resolution of the image\n",
    "    image_resolution = get_image_resolution(image_file)\n",
    "\n",
    "    # Get the base of the file name to match with label files\n",
    "    base_name = os.path.basename(image_file).replace('.jpg', '')\n",
    "    \n",
    "    # Construct the corresponding label file path\n",
    "    label_file = os.path.join(labels_directory, base_name + '.txt')\n",
    "    \n",
    "    # Check if the label file exists\n",
    "    if os.path.exists(label_file):\n",
    "        # Read the annotation data from the label file\n",
    "        with open(label_file, 'r') as file:\n",
    "            annotation_data = file.readlines()\n",
    "        \n",
    "        # Process each annotation in the label file\n",
    "        for line in annotation_data:\n",
    "            class_id, x_center, y_center, width, height = line.strip().split()\n",
    "            # Calculate object size in pixels\n",
    "            object_width = int(float(width) * image_resolution[0])\n",
    "            object_height = int(float(height) * image_resolution[1])\n",
    "\n",
    "            df_rows.append({\n",
    "                'file_name': base_name + '.jpg',\n",
    "                'class_id': int(class_id),\n",
    "                'x_center': float(x_center),\n",
    "                'y_center': float(y_center),\n",
    "                'width': float(width),\n",
    "                'height': float(height),\n",
    "                'res_width': image_resolution[0],\n",
    "                'res_height': image_resolution[1],\n",
    "                'obj_width': object_width,\n",
    "                'obj_height': object_height,\n",
    "                'image_path': image_file,\n",
    "                'label_path': label_file,\n",
    "            })\n",
    "\n",
    "# Create a DataFrame from the list of rows\n",
    "df_annotations = pd.DataFrame(df_rows)\n",
    "\n",
    "# Display the DataFrame\n",
    "print(df_annotations.head())\n"
   ],
   "metadata": {
    "collapsed": false,
    "ExecuteTime": {
     "end_time": "2024-01-11T15:16:27.099353Z",
     "start_time": "2024-01-11T15:16:26.191085Z"
    },
    "pycharm": {
     "name": "#%%\n"
    }
   },
   "id": "be815f61d27761b0",
   "execution_count": 6,
   "outputs": []
  },
  {
   "cell_type": "code",
   "source": [
    "# save to csv\n",
    "df_annotations.to_csv(root_path + 'datasets/antiuav.v3i/valid/annotations.csv', index=False)"
   ],
   "metadata": {
    "collapsed": false,
    "ExecuteTime": {
     "end_time": "2024-01-11T15:16:27.140112Z",
     "start_time": "2024-01-11T15:16:27.100217Z"
    },
    "pycharm": {
     "name": "#%%\n"
    }
   },
   "id": "a1ef43a2d5e5a40d",
   "execution_count": 7,
   "outputs": []
  },
  {
   "cell_type": "code",
   "source": [
    "full_hd_new_data = df_annotations[(df_annotations['res_width'] == 1920) & (df_annotations['res_height'] == 1080)].copy()\n",
    "# POST UPDATE\n",
    "# full_hd_new_data = full_hd_new_data[(full_hd_new_data['resolution_object_width'] >= 10) & (full_hd_new_data['resolution_object_height'] >= 15)]"
   ],
   "metadata": {
    "collapsed": false,
    "ExecuteTime": {
     "end_time": "2024-01-11T15:16:27.144538Z",
     "start_time": "2024-01-11T15:16:27.141883Z"
    },
    "pycharm": {
     "name": "#%%\n"
    }
   },
   "id": "65818dae76d5e051",
   "execution_count": 8,
   "outputs": []
  },
  {
   "cell_type": "code",
   "source": [
    "import matplotlib.pyplot as plt\n",
    "full_hd_new_data['obj_area'] = full_hd_new_data['obj_width'] * full_hd_new_data['obj_height']\n",
    "\n",
    "def categorize_size(area):\n",
    "    if area > 96**2:\n",
    "        return 'Large'\n",
    "    elif area > 32**2:\n",
    "        return 'Mid'\n",
    "    elif area > 16**2:\n",
    "        return 'Small'\n",
    "    else:\n",
    "        return 'Tiny'\n",
    "\n",
    "# Apply the categorization\n",
    "full_hd_new_data['size_category'] = full_hd_new_data['obj_area'].apply(categorize_size)\n",
    "\n",
    "# Plotting the histogram of size categories\n",
    "plt.figure(figsize=(8, 6))\n",
    "full_hd_new_data['size_category'].value_counts().plot(kind='bar')\n",
    "plt.title('Distribution of Object Sizes')\n",
    "plt.xlabel('Size Category')\n",
    "plt.ylabel('Number of Objects')\n",
    "plt.xticks(rotation=45)\n",
    "plt.show()"
   ],
   "metadata": {
    "collapsed": false,
    "ExecuteTime": {
     "end_time": "2024-01-11T15:16:27.456491Z",
     "start_time": "2024-01-11T15:16:27.145435Z"
    },
    "pycharm": {
     "name": "#%%\n"
    }
   },
   "id": "c6472cdacfacce62",
   "execution_count": 9,
   "outputs": []
  },
  {
   "cell_type": "code",
   "source": [
    "import pandas as pd\n",
    "import os\n",
    "import shutil\n",
    "import yaml\n",
    "\n",
    "csv_path = root_path + 'datasets/antiuav.v3i/valid/annotations.csv'\n",
    "base_dir = root_path + 'datasets/Client_Validation_Set'\n",
    "\n",
    "df = pd.read_csv(csv_path)\n",
    "\n",
    "df = df[(df['res_width'] == 1920) & (df['res_height'] == 1080)].copy()\n",
    "\n",
    "subfolders = ['train', 'val', 'test']\n",
    "folders = ['images', 'labels']\n",
    "for folder in folders:\n",
    "    for subfolder in subfolders:\n",
    "        os.makedirs(os.path.join(base_dir, folder, subfolder), exist_ok=True)\n",
    "\n",
    "for index, row in df.iterrows():\n",
    "    image_path = row['image_path']\n",
    "    label_path = row['label_path']\n",
    "    shutil.copy(image_path, os.path.join(base_dir, 'images', 'val'))\n",
    "    shutil.copy(label_path, os.path.join(base_dir, 'labels', 'val'))\n",
    "yaml_data = {\n",
    "    'path': '../small-fast-detector/inference_tools/Evaluation/datasets/Client_Validation_Set',  # PUT HERE THE PATH\n",
    "    'train': 'images/train',\n",
    "    'val': 'images/val',\n",
    "    'test': '',\n",
    "    'names': {\n",
    "        0: 'uav',\n",
    "        1: 'airplane',\n",
    "        2: 'boat',\n",
    "        3: 'car',\n",
    "        4: 'person',\n",
    "        5: 'truck'\n",
    "    }\n",
    "\n",
    "}\n",
    "with open(os.path.join(base_dir, 'data.yaml'), 'w') as file:\n",
    "    yaml.dump(yaml_data, file, default_flow_style=False)\n",
    "\n",
    "print(\"Dataset organized and YAML file created.\")"
   ],
   "metadata": {
    "collapsed": false,
    "ExecuteTime": {
     "end_time": "2024-01-11T15:16:31.125274Z",
     "start_time": "2024-01-11T15:16:27.457232Z"
    },
    "pycharm": {
     "name": "#%%\n"
    }
   },
   "id": "83c16fa1fe8d0549",
   "execution_count": 10,
   "outputs": []
  }
 ],
 "metadata": {
  "kernelspec": {
   "display_name": "Python 3",
   "language": "python",
   "name": "python3"
  },
  "language_info": {
   "codemirror_mode": {
    "name": "ipython",
    "version": 2
   },
   "file_extension": ".py",
   "mimetype": "text/x-python",
   "name": "python",
   "nbconvert_exporter": "python",
   "pygments_lexer": "ipython2",
   "version": "2.7.6"
  }
 },
 "nbformat": 4,
 "nbformat_minor": 5
}
