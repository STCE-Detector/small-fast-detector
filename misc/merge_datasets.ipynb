{
 "cells": [
  {
   "cell_type": "code",
   "execution_count": 1,
   "metadata": {
    "ExecuteTime": {
     "end_time": "2023-09-07T10:15:01.748551Z",
     "start_time": "2023-09-07T10:15:01.740153Z"
    },
    "pycharm": {
     "name": "#%%\n"
    }
   },
   "outputs": [],
   "source": [
    "import os\n",
    "import shutil"
   ]
  },
  {
   "cell_type": "markdown",
   "metadata": {
    "pycharm": {
     "name": "#%% md\n"
    }
   },
   "source": [
    "### Creating a new empty dataset"
   ]
  },
  {
   "cell_type": "code",
   "execution_count": 3,
   "metadata": {
    "collapsed": false,
    "jupyter": {
     "outputs_hidden": false
    },
    "pycharm": {
     "name": "#%%\n"
    }
   },
   "outputs": [],
   "source": [
    "root_path = '/data-fast/127-data2/ierregue/datasets'\n",
    "#root_path = '/Users/inaki-eab/Desktop/datasets'\n",
    "\n",
    "dataset_1 = 'custom_no_coco'\n",
    "dataset_2 = 'custom_coco'\n",
    "\n",
    "new_dataset = 'custom_dataset_v1'\n",
    "new_dataset_root = os.path.join(root_path, new_dataset)\n",
    "\n",
    "# Create folder structure\n",
    "if not os.path.isdir(new_dataset_root):\n",
    "    os.makedirs(new_dataset_root)\n",
    "    os.makedirs(os.path.join(new_dataset_root, 'labels','train'))\n",
    "    os.makedirs(os.path.join(new_dataset_root, 'labels','test'))\n",
    "    os.makedirs(os.path.join(new_dataset_root, 'labels','val'))\n",
    "    os.makedirs(os.path.join(new_dataset_root, 'images','train'))\n",
    "    os.makedirs(os.path.join(new_dataset_root, 'images','test'))\n",
    "    os.makedirs(os.path.join(new_dataset_root, 'images','val'))"
   ]
  },
  {
   "cell_type": "markdown",
   "metadata": {
    "pycharm": {
     "name": "#%% md\n"
    }
   },
   "source": [
    "### Check overlaping filenames"
   ]
  },
  {
   "cell_type": "code",
   "execution_count": 4,
   "metadata": {
    "pycharm": {
     "name": "#%%\n"
    }
   },
   "outputs": [
    {
     "data": {
      "text/plain": [
       "True"
      ]
     },
     "execution_count": 4,
     "metadata": {},
     "output_type": "execute_result"
    }
   ],
   "source": [
    "d1_filenames = os.listdir(os.path.join(root_path,dataset_1,'labels','val'))\n",
    "d2_filenames = os.listdir(os.path.join(root_path,dataset_2,'labels','val'))\n",
    "\n",
    "common_filenames = list(set(d1_filenames) & set(d2_filenames))\n",
    "len(common_filenames)==0"
   ]
  },
  {
   "cell_type": "code",
   "execution_count": 5,
   "metadata": {
    "pycharm": {
     "name": "#%%\n"
    }
   },
   "outputs": [
    {
     "data": {
      "text/plain": [
       "True"
      ]
     },
     "execution_count": 5,
     "metadata": {},
     "output_type": "execute_result"
    }
   ],
   "source": [
    "d1_filenames = os.listdir(os.path.join(root_path,dataset_1,'labels','train'))\n",
    "d2_filenames = os.listdir(os.path.join(root_path,dataset_2,'labels','train'))\n",
    "\n",
    "common_filenames = list(set(d1_filenames) & set(d2_filenames))\n",
    "len(common_filenames)==0"
   ]
  },
  {
   "cell_type": "markdown",
   "metadata": {
    "pycharm": {
     "name": "#%% md\n"
    }
   },
   "source": [
    "### Proceed to merge"
   ]
  },
  {
   "cell_type": "code",
   "execution_count": 6,
   "metadata": {
    "pycharm": {
     "name": "#%%\n"
    }
   },
   "outputs": [
    {
     "data": {
      "text/plain": [
       "'/data-fast/127-data2/ierregue/datasets/custom_dataset_v1'"
      ]
     },
     "execution_count": 6,
     "metadata": {},
     "output_type": "execute_result"
    }
   ],
   "source": [
    "# Copy dataset 1 into new one\n",
    "shutil.copytree(os.path.join(root_path,dataset_1), \n",
    "                new_dataset_root,\n",
    "                dirs_exist_ok=True)"
   ]
  },
  {
   "cell_type": "code",
   "execution_count": 7,
   "metadata": {
    "pycharm": {
     "name": "#%%\n"
    }
   },
   "outputs": [
    {
     "data": {
      "text/plain": [
       "'/data-fast/127-data2/ierregue/datasets/custom_dataset_v1'"
      ]
     },
     "execution_count": 7,
     "metadata": {},
     "output_type": "execute_result"
    }
   ],
   "source": [
    "# Copy dataset 2 into new one\n",
    "shutil.copytree(os.path.join(root_path,dataset_2), \n",
    "                new_dataset_root,\n",
    "                dirs_exist_ok=True)"
   ]
  },
  {
   "cell_type": "code",
   "execution_count": 8,
   "metadata": {
    "pycharm": {
     "name": "#%%\n"
    }
   },
   "outputs": [],
   "source": [
    "# check that the total num os elements corresponds to the sum of datasets\n",
    "assert (len(os.listdir(os.path.join(root_path,dataset_1,'labels','val'))) + \n",
    "        len(os.listdir(os.path.join(root_path,dataset_2,'labels','val'))) == \n",
    "        len(os.listdir(os.path.join(new_dataset_root,'labels','val'))))\n",
    "\n",
    "assert (len(os.listdir(os.path.join(root_path,dataset_1,'images','val'))) + \n",
    "        len(os.listdir(os.path.join(root_path,dataset_2,'images','val'))) == \n",
    "        len(os.listdir(os.path.join(new_dataset_root,'images','val'))))\n",
    "\n",
    "assert (len(os.listdir(os.path.join(root_path,dataset_1,'images','train'))) + \n",
    "        len(os.listdir(os.path.join(root_path,dataset_2,'images','train'))) == \n",
    "        len(os.listdir(os.path.join(new_dataset_root,'images','train'))))\n",
    "\n",
    "assert (len(os.listdir(os.path.join(root_path,dataset_1,'labels','train'))) + \n",
    "        len(os.listdir(os.path.join(root_path,dataset_2,'labels','train'))) == \n",
    "        len(os.listdir(os.path.join(new_dataset_root,'labels','train'))))"
   ]
  },
  {
   "cell_type": "markdown",
   "metadata": {
    "pycharm": {
     "name": "#%% md\n"
    }
   },
   "source": [
    "### Inspect the resulting dataset"
   ]
  },
  {
   "cell_type": "code",
   "execution_count": 9,
   "metadata": {
    "pycharm": {
     "name": "#%%\n"
    }
   },
   "outputs": [],
   "source": [
    "import pandas as pd\n",
    "import imagesize\n",
    "import matplotlib.pyplot as plt"
   ]
  },
  {
   "cell_type": "code",
   "execution_count": 10,
   "metadata": {
    "pycharm": {
     "name": "#%%\n"
    }
   },
   "outputs": [],
   "source": [
    "class_names = {\n",
    "    0:'person',\n",
    "    1:'car', \n",
    "    2:'truck', \n",
    "    3:'uav', \n",
    "    4:'airplane', \n",
    "    5:'ship'\n",
    "}"
   ]
  },
  {
   "cell_type": "code",
   "execution_count": 11,
   "metadata": {
    "pycharm": {
     "name": "#%%\n"
    }
   },
   "outputs": [],
   "source": [
    "def inspect_dataset(\n",
    "    target_dataset_root, # ../datasets/new_dataset\n",
    "    target_dataset_slice, # train,test,val\n",
    "):\n",
    "    info = [] #list of lists, each list corresponds to an instance [cls_id, x, y, w, h, img]\n",
    "    \n",
    "    \n",
    "    target_labels_dir = os.path.join(target_dataset_root, 'labels', target_dataset_slice)\n",
    "\n",
    "    # Iterate over all files in the original dataset labels folder\n",
    "    for filename in os.listdir(target_labels_dir):\n",
    "        if filename.endswith('.txt'):\n",
    "            # Read file\n",
    "            with open(os.path.join(target_labels_dir, filename), \"r\") as f:\n",
    "                # Iterate over instances in image and get present class ids\n",
    "                for line in f:\n",
    "                    line_data = []\n",
    "                    # label data\n",
    "                    line_data = line.split()\n",
    "                    # Image name\n",
    "                    line_data.append(os.path.splitext(filename)[0])\n",
    "                    # Image size: could be done at image level and not row level\n",
    "                    img_path = os.path.join(target_dataset_root,'images',target_dataset_slice, os.path.splitext(filename)[0]+'.jpg')\n",
    "                    img_w, img_h = imagesize.get(img_path)\n",
    "                    line_data.extend([img_w, img_h])\n",
    "                    # Append line data to info\n",
    "                    info.append(line_data)\n",
    "\n",
    "    df = pd.DataFrame(info, columns=['new_class_id', 'xcn', 'ycn', 'wn', 'hn', 'img', 'img_w', 'img_h'])\n",
    "    df = df.astype({'new_class_id':'int32', 'xcn':'float32', 'ycn':'float32', 'wn':'float32', 'hn':'float32', 'img':'int64', 'img_w':'float32', 'img_h':'float32'})\n",
    "    df['class_name'] = df['new_class_id'].map(class_names)\n",
    "    return df"
   ]
  },
  {
   "cell_type": "code",
   "execution_count": 12,
   "metadata": {
    "pycharm": {
     "name": "#%%\n"
    }
   },
   "outputs": [
    {
     "data": {
      "text/html": [
       "<div>\n",
       "<style scoped>\n",
       "    .dataframe tbody tr th:only-of-type {\n",
       "        vertical-align: middle;\n",
       "    }\n",
       "\n",
       "    .dataframe tbody tr th {\n",
       "        vertical-align: top;\n",
       "    }\n",
       "\n",
       "    .dataframe thead th {\n",
       "        text-align: right;\n",
       "    }\n",
       "</style>\n",
       "<table border=\"1\" class=\"dataframe\">\n",
       "  <thead>\n",
       "    <tr style=\"text-align: right;\">\n",
       "      <th></th>\n",
       "      <th>new_class_id</th>\n",
       "      <th>xcn</th>\n",
       "      <th>ycn</th>\n",
       "      <th>wn</th>\n",
       "      <th>hn</th>\n",
       "      <th>img</th>\n",
       "      <th>img_w</th>\n",
       "      <th>img_h</th>\n",
       "      <th>class_name</th>\n",
       "    </tr>\n",
       "  </thead>\n",
       "  <tbody>\n",
       "    <tr>\n",
       "      <th>0</th>\n",
       "      <td>1</td>\n",
       "      <td>0.713264</td>\n",
       "      <td>0.549830</td>\n",
       "      <td>0.059249</td>\n",
       "      <td>0.040532</td>\n",
       "      <td>33132</td>\n",
       "      <td>1624.0</td>\n",
       "      <td>1200.0</td>\n",
       "      <td>car</td>\n",
       "    </tr>\n",
       "    <tr>\n",
       "      <th>1</th>\n",
       "      <td>1</td>\n",
       "      <td>0.217753</td>\n",
       "      <td>0.536722</td>\n",
       "      <td>0.069178</td>\n",
       "      <td>0.054257</td>\n",
       "      <td>33132</td>\n",
       "      <td>1624.0</td>\n",
       "      <td>1200.0</td>\n",
       "      <td>car</td>\n",
       "    </tr>\n",
       "    <tr>\n",
       "      <th>2</th>\n",
       "      <td>1</td>\n",
       "      <td>0.138355</td>\n",
       "      <td>0.531935</td>\n",
       "      <td>0.067605</td>\n",
       "      <td>0.038299</td>\n",
       "      <td>33132</td>\n",
       "      <td>1624.0</td>\n",
       "      <td>1200.0</td>\n",
       "      <td>car</td>\n",
       "    </tr>\n",
       "    <tr>\n",
       "      <th>3</th>\n",
       "      <td>1</td>\n",
       "      <td>0.919305</td>\n",
       "      <td>0.511549</td>\n",
       "      <td>0.141984</td>\n",
       "      <td>0.129488</td>\n",
       "      <td>111934</td>\n",
       "      <td>640.0</td>\n",
       "      <td>410.0</td>\n",
       "      <td>car</td>\n",
       "    </tr>\n",
       "    <tr>\n",
       "      <th>4</th>\n",
       "      <td>1</td>\n",
       "      <td>0.166086</td>\n",
       "      <td>0.418244</td>\n",
       "      <td>0.037641</td>\n",
       "      <td>0.043854</td>\n",
       "      <td>111934</td>\n",
       "      <td>640.0</td>\n",
       "      <td>410.0</td>\n",
       "      <td>car</td>\n",
       "    </tr>\n",
       "    <tr>\n",
       "      <th>...</th>\n",
       "      <td>...</td>\n",
       "      <td>...</td>\n",
       "      <td>...</td>\n",
       "      <td>...</td>\n",
       "      <td>...</td>\n",
       "      <td>...</td>\n",
       "      <td>...</td>\n",
       "      <td>...</td>\n",
       "      <td>...</td>\n",
       "    </tr>\n",
       "    <tr>\n",
       "      <th>589159</th>\n",
       "      <td>1</td>\n",
       "      <td>0.568031</td>\n",
       "      <td>0.444578</td>\n",
       "      <td>0.032156</td>\n",
       "      <td>0.023255</td>\n",
       "      <td>81579</td>\n",
       "      <td>640.0</td>\n",
       "      <td>427.0</td>\n",
       "      <td>car</td>\n",
       "    </tr>\n",
       "    <tr>\n",
       "      <th>589160</th>\n",
       "      <td>1</td>\n",
       "      <td>0.741375</td>\n",
       "      <td>0.439567</td>\n",
       "      <td>0.024219</td>\n",
       "      <td>0.015902</td>\n",
       "      <td>81579</td>\n",
       "      <td>640.0</td>\n",
       "      <td>427.0</td>\n",
       "      <td>car</td>\n",
       "    </tr>\n",
       "    <tr>\n",
       "      <th>589161</th>\n",
       "      <td>2</td>\n",
       "      <td>0.650805</td>\n",
       "      <td>0.442295</td>\n",
       "      <td>0.035828</td>\n",
       "      <td>0.023607</td>\n",
       "      <td>81579</td>\n",
       "      <td>640.0</td>\n",
       "      <td>427.0</td>\n",
       "      <td>truck</td>\n",
       "    </tr>\n",
       "    <tr>\n",
       "      <th>589162</th>\n",
       "      <td>2</td>\n",
       "      <td>0.478500</td>\n",
       "      <td>0.448244</td>\n",
       "      <td>0.031937</td>\n",
       "      <td>0.015972</td>\n",
       "      <td>81579</td>\n",
       "      <td>640.0</td>\n",
       "      <td>427.0</td>\n",
       "      <td>truck</td>\n",
       "    </tr>\n",
       "    <tr>\n",
       "      <th>589163</th>\n",
       "      <td>1</td>\n",
       "      <td>0.116422</td>\n",
       "      <td>0.617004</td>\n",
       "      <td>0.232844</td>\n",
       "      <td>0.277163</td>\n",
       "      <td>26484</td>\n",
       "      <td>1624.0</td>\n",
       "      <td>1200.0</td>\n",
       "      <td>car</td>\n",
       "    </tr>\n",
       "  </tbody>\n",
       "</table>\n",
       "<p>589164 rows × 9 columns</p>\n",
       "</div>"
      ],
      "text/plain": [
       "        new_class_id       xcn       ycn        wn        hn     img   img_w  \\\n",
       "0                  1  0.713264  0.549830  0.059249  0.040532   33132  1624.0   \n",
       "1                  1  0.217753  0.536722  0.069178  0.054257   33132  1624.0   \n",
       "2                  1  0.138355  0.531935  0.067605  0.038299   33132  1624.0   \n",
       "3                  1  0.919305  0.511549  0.141984  0.129488  111934   640.0   \n",
       "4                  1  0.166086  0.418244  0.037641  0.043854  111934   640.0   \n",
       "...              ...       ...       ...       ...       ...     ...     ...   \n",
       "589159             1  0.568031  0.444578  0.032156  0.023255   81579   640.0   \n",
       "589160             1  0.741375  0.439567  0.024219  0.015902   81579   640.0   \n",
       "589161             2  0.650805  0.442295  0.035828  0.023607   81579   640.0   \n",
       "589162             2  0.478500  0.448244  0.031937  0.015972   81579   640.0   \n",
       "589163             1  0.116422  0.617004  0.232844  0.277163   26484  1624.0   \n",
       "\n",
       "         img_h class_name  \n",
       "0       1200.0        car  \n",
       "1       1200.0        car  \n",
       "2       1200.0        car  \n",
       "3        410.0        car  \n",
       "4        410.0        car  \n",
       "...        ...        ...  \n",
       "589159   427.0        car  \n",
       "589160   427.0        car  \n",
       "589161   427.0      truck  \n",
       "589162   427.0      truck  \n",
       "589163  1200.0        car  \n",
       "\n",
       "[589164 rows x 9 columns]"
      ]
     },
     "execution_count": 12,
     "metadata": {},
     "output_type": "execute_result"
    }
   ],
   "source": [
    "df = inspect_dataset(new_dataset_root, 'train')\n",
    "df"
   ]
  },
  {
   "cell_type": "code",
   "execution_count": 13,
   "metadata": {
    "pycharm": {
     "name": "#%%\n"
    }
   },
   "outputs": [
    {
     "name": "stdout",
     "output_type": "stream",
     "text": [
      "The number of objects is 589164\n",
      "The number of images is 122162\n"
     ]
    }
   ],
   "source": [
    "print(f\"The number of objects is {len(df)}\")\n",
    "print(f\"The number of images is {len(df['img'].unique())}\")"
   ]
  },
  {
   "cell_type": "code",
   "execution_count": 14,
   "metadata": {
    "pycharm": {
     "name": "#%%\n"
    }
   },
   "outputs": [],
   "source": [
    "# Create dir to store plots\n",
    "save_dir = './data/dataset_creation'\n",
    "if not os.path.isdir(save_dir):\n",
    "    os.makedirs(save_dir)"
   ]
  },
  {
   "cell_type": "code",
   "execution_count": 15,
   "metadata": {
    "pycharm": {
     "name": "#%%\n"
    }
   },
   "outputs": [
    {
     "data": {
      "image/png": "[encoded data removed]",
      "text/plain": [
       "<Figure size 800x600 with 1 Axes>"
      ]
     },
     "metadata": {},
     "output_type": "display_data"
    }
   ],
   "source": [
    "fig = plt.figure(figsize=(8, 6))\n",
    "ax = df['class_name'].value_counts().plot(kind='bar')\n",
    "# Set x-axis label\n",
    "ax.set_xlabel(\"Classes\", weight='bold', size=12)\n",
    "# Set y-axis label\n",
    "ax.set_ylabel(\"Counts\", weight='bold', size=12)\n",
    "ax.ticklabel_format(axis='y', style='sci', scilimits=(-3,3))\n",
    "ax.set_xticklabels(ax.get_xticklabels(), rotation=45)\n",
    "None\n",
    "fig.savefig(save_dir+'/cdv1_class_counts.png', bbox_inches = 'tight')"
   ]
  },
  {
   "cell_type": "code",
   "execution_count": 17,
   "metadata": {
    "pycharm": {
     "name": "#%%\n"
    }
   },
   "outputs": [
    {
     "data": {
      "image/png": "[encoded data removed]",
      "text/plain": [
       "<Figure size 1200x600 with 1 Axes>"
      ]
     },
     "metadata": {},
     "output_type": "display_data"
    }
   ],
   "source": [
    "fig = plt.figure(figsize=(12, 6))\n",
    "ax = df.groupby(by=['img'])['img'].count().value_counts().sort_index().plot(kind='bar')\n",
    "# Set x-axis label\n",
    "ax.set_xlabel(\"Instances per image\", weight='bold', size=12)\n",
    "# Set y-axis label\n",
    "ax.set_ylabel(\"Counts\", weight='bold', size=12)\n",
    "ax.ticklabel_format(axis='y', style='sci', scilimits=(-3,3))\n",
    "ax.set_xticklabels(ax.get_xticklabels(), rotation=0)\n",
    "None\n",
    "fig.savefig(save_dir+'/cdv1_instances_count.png', bbox_inches = 'tight')"
   ]
  },
  {
   "cell_type": "markdown",
   "metadata": {
    "pycharm": {
     "name": "#%% md\n"
    }
   },
   "source": [
    "#### NEW PROCEEDING REGARDING BBOX AREA CATEGORIZATION\n",
    "Categories will be defined by the ration of the bbox to its image. In MS COCO images are 640x480 and the classification is done like:\n",
    "- Tiny: less than 16^2 $\\Rightarrow 16^2/(640*480)=1/1200$\n",
    "- Small: less than 32^2 $\\Rightarrow 32^2/(640*480)=1/300$\n",
    "- Medium: less than 96^2 $\\Rightarrow 96^2/(640*480)=3/100$\n",
    "- Large: more than 96^2 $\\Rightarrow 96^2/(640*480)=3/100$\n"
   ]
  },
  {
   "cell_type": "code",
   "execution_count": 18,
   "metadata": {
    "pycharm": {
     "name": "#%%\n"
    }
   },
   "outputs": [],
   "source": [
    "df['bbox_area'] = (df['wn']*df['img_w'])*(df['hn']*df['img_h'])\n",
    "df['bbox_image_area_ration'] = df['bbox_area']/(df['img_w']*df['img_h'])\n",
    "\n",
    "bin_edges = [0, 1/1200, 1/300, 3/100, float('inf')]\n",
    "bin_labels = ['tiny', 'small', 'medium', 'large']\n",
    "df['bbox_size_category'] = pd.cut(df['bbox_image_area_ration'], bins=bin_edges, labels=bin_labels, right=False)"
   ]
  },
  {
   "cell_type": "code",
   "execution_count": 19,
   "metadata": {
    "pycharm": {
     "name": "#%%\n"
    }
   },
   "outputs": [
    {
     "data": {
      "image/png": "[encoded data removed]",
      "text/plain": [
       "<Figure size 800x600 with 1 Axes>"
      ]
     },
     "metadata": {},
     "output_type": "display_data"
    }
   ],
   "source": [
    "fig = plt.figure(figsize=(8, 6))\n",
    "ax = df['bbox_size_category'].value_counts().sort_index().plot(kind='bar')\n",
    "# Set x-axis label\n",
    "ax.set_xlabel(\"Object category size\", weight='bold', size=12, labelpad=10)\n",
    "# Set y-axis label\n",
    "ax.set_ylabel(\"Counts\", weight='bold', size=12)\n",
    "ax.ticklabel_format(axis='y', style='sci', scilimits=(-3,3))\n",
    "ax.set_xticklabels(ax.get_xticklabels(), rotation=45)\n",
    "None\n",
    "fig.savefig(save_dir+'/cdv1_objsz_counts.png', bbox_inches = 'tight')"
   ]
  },
  {
   "cell_type": "code",
   "execution_count": null,
   "metadata": {
    "pycharm": {
     "name": "#%%\n"
    }
   },
   "outputs": [],
   "source": []
  }
 ],
 "metadata": {
  "kernelspec": {
   "display_name": "Python 3 (ipykernel)",
   "language": "python",
   "name": "python3"
  },
  "language_info": {
   "codemirror_mode": {
    "name": "ipython",
    "version": 3
   },
   "file_extension": ".py",
   "mimetype": "text/x-python",
   "name": "python",
   "nbconvert_exporter": "python",
   "pygments_lexer": "ipython3",
   "version": "3.11.4"
  }
 },
 "nbformat": 4,
 "nbformat_minor": 4
}
