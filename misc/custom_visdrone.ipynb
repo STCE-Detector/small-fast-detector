{
 "cells": [
  {
   "cell_type": "code",
   "execution_count": 1,
   "id": "ea04212d-79be-4a09-a269-f84e4258c0e0",
   "metadata": {},
   "outputs": [],
   "source": [
    "import os\n",
    "import shutil"
   ]
  },
  {
   "cell_type": "markdown",
   "id": "48edd10c-cc98-46f8-ac14-7452bf0f73e5",
   "metadata": {},
   "source": [
    "# VISDRONE DATASET"
   ]
  },
  {
   "cell_type": "code",
   "execution_count": 2,
   "id": "e0b043a3-614b-4d0d-956a-3d492a6a3c72",
   "metadata": {},
   "outputs": [],
   "source": [
    "root_path = '/Users/inaki-eab/Desktop/DETECTOR_DATASETS/'\n",
    "#root_path = '/data-fast/127-data2/ierregue/datasets'\n",
    "\n",
    "dataset_name = 'custom_visdrone'\n",
    "\n",
    "new_dataset_root = os.path.join(root_path, dataset_name)\n",
    "\n",
    "# Create folder structure\n",
    "if not os.path.isdir(new_dataset_root):\n",
    "    os.makedirs(new_dataset_root)\n",
    "    os.makedirs(os.path.join(new_dataset_root, 'labels','train'))\n",
    "    os.makedirs(os.path.join(new_dataset_root, 'labels','test'))\n",
    "    os.makedirs(os.path.join(new_dataset_root, 'labels','val'))\n",
    "    os.makedirs(os.path.join(new_dataset_root, 'images','train'))\n",
    "    os.makedirs(os.path.join(new_dataset_root, 'images','test'))\n",
    "    os.makedirs(os.path.join(new_dataset_root, 'images','val'))"
   ]
  },
  {
   "cell_type": "markdown",
   "id": "035ea58f-7c27-40e4-b893-a24fdf693028",
   "metadata": {},
   "source": [
    "## SELECTING DESIRED IMAGES AND MAPING"
   ]
  },
  {
   "cell_type": "code",
   "execution_count": 3,
   "id": "6db94426-f0dd-448e-8bc9-6a3acb4af0dd",
   "metadata": {},
   "outputs": [],
   "source": [
    "wanted_indices = [\n",
    "    0, #airplane\n",
    "    1, #boat\n",
    "    2, #car\n",
    "    3, #person\n",
    "    4, #bus/truck\n",
    "    5, #uav\n",
    "]"
   ]
  },
  {
   "cell_type": "code",
   "execution_count": 4,
   "id": "23ac79cb-eefa-461a-92ee-db032712f5fb",
   "metadata": {},
   "outputs": [],
   "source": [
    "def clean_map_file(file):\n",
    "# Mapping should be performed only once\n",
    "    \n",
    "    class_index_map = {\n",
    "        0:4, # airplane\n",
    "        1:5, # boat\n",
    "        2:1, # car\n",
    "        3:0, # person\n",
    "        4:2, # truck\n",
    "        5:3, # uav\n",
    "    }\n",
    "    \n",
    "    with open(file, 'r+') as fp:\n",
    "        # read an store all lines into list\n",
    "        lines = fp.readlines()\n",
    "        # move file pointer to the beginning of a file\n",
    "        fp.seek(0)\n",
    "        # truncate the file\n",
    "        fp.truncate()\n",
    "    \n",
    "        # start writing lines\n",
    "        # iterate line and line number\n",
    "        for number, line in enumerate(lines):\n",
    "            # Only write rows of interested instances\n",
    "            old_class_id = int(line.split()[0])\n",
    "            if old_class_id in wanted_indices:\n",
    "                # map old class indices to new ones\n",
    "                new_class_id = class_index_map[old_class_id]\n",
    "                new_line_splitted = line.split()\n",
    "                new_line_splitted[0] = str(new_class_id)\n",
    "                new_line = ' '.join(new_line_splitted)\n",
    "                fp.write(new_line+'\\n')"
   ]
  },
  {
   "cell_type": "code",
   "execution_count": 5,
   "id": "29cf26a7-44fb-47c2-b9ba-224079a39ed1",
   "metadata": {},
   "outputs": [],
   "source": [
    "def move_desired_files(\n",
    "    original_dataset_root, #../datasets/old_dataset\n",
    "    target_dataset_root, # ../datasets/new_dataset\n",
    "    original_dataset_slice, # liketrain,test,val\n",
    "    target_dataset_slice, # train,test,val\n",
    "    wanted_indices # list of desired indices\n",
    "):\n",
    "    # Empty list to store the selected files containing at list one of the desired objects\n",
    "    selected_images = []\n",
    "    \n",
    "    \n",
    "    original_labels_dir = os.path.join(original_dataset_root, 'labels', original_dataset_slice)\n",
    "    original_images_dir = os.path.join(original_dataset_root, 'images', original_dataset_slice)\n",
    "\n",
    "    # Iterate over all files in the original dataset labels folder\n",
    "    for filename in os.listdir(original_labels_dir):\n",
    "        if filename.endswith('.txt'):\n",
    "            # Read file\n",
    "            with open(os.path.join(original_labels_dir, filename), \"r\") as f:\n",
    "                # Empty list to store objects/instances present in image\n",
    "                indices_in_file = []\n",
    "                # Iterate over instances in image and get present class ids\n",
    "                for line in f:\n",
    "                    indices_in_file.append(int(line.split()[0]))\n",
    "                # If any present class ids is a class id of interest, get its filename\n",
    "                if any((True for x in indices_in_file if x in wanted_indices)):\n",
    "                    # Get only name, no '.txt' extension\n",
    "                    selected_images.append(os.path.splitext(filename)[0])\n",
    "                    # Copy *.txt folder\n",
    "                    shutil.copy(os.path.join(original_labels_dir, filename), os.path.join(target_dataset_root, 'labels', target_dataset_slice))\n",
    "                    # Copy *jpg image\n",
    "                    img_path = os.path.join(original_images_dir, os.path.splitext(filename)[0]+'.jpg')\n",
    "                    shutil.copy(img_path, os.path.join(target_dataset_root, 'images', target_dataset_slice))\n",
    "\n",
    "                    # Map old index to new one and delete unwanted instances\n",
    "                    clean_map_file(os.path.join(target_dataset_root, 'labels', target_dataset_slice, filename))\n",
    "                    \n",
    "    return selected_images"
   ]
  },
  {
   "cell_type": "code",
   "execution_count": 6,
   "id": "00162059-4f45-4bd6-871c-929d26e65d5e",
   "metadata": {},
   "outputs": [],
   "source": [
    "original_dataset_path = 'visdrone'\n",
    "original_dataset_root = os.path.join(root_path, original_dataset_path)"
   ]
  },
  {
   "cell_type": "code",
   "execution_count": 7,
   "id": "7e19bd16-b6b7-4f58-ad4e-a391e2748168",
   "metadata": {},
   "outputs": [],
   "source": [
    "val_indices = move_desired_files(original_dataset_root, \n",
    "                                   new_dataset_root, \n",
    "                                   'val', \n",
    "                                   'val', \n",
    "                                   wanted_indices)"
   ]
  },
  {
   "cell_type": "code",
   "execution_count": 8,
   "id": "df076917-0c0f-45be-b42d-348e54c73e45",
   "metadata": {},
   "outputs": [],
   "source": [
    "train_indices = move_desired_files(original_dataset_root, \n",
    "                                   new_dataset_root, \n",
    "                                   'train', \n",
    "                                   'train', \n",
    "                                   wanted_indices)"
   ]
  },
  {
   "cell_type": "code",
   "execution_count": 9,
   "id": "a00bd03c-3d6b-4311-a1eb-246a82b23a81",
   "metadata": {},
   "outputs": [],
   "source": [
    "old_len_img_train = len(os.listdir(os.path.join(new_dataset_root,'images','train')))\n",
    "old_len_img_val = len(os.listdir(os.path.join(new_dataset_root,'images','val')))\n",
    "old_len_txt_val = len(os.listdir(os.path.join(new_dataset_root,'labels','val')))\n",
    "old_len_txt_train = len(os.listdir(os.path.join(new_dataset_root,'labels','train')))"
   ]
  },
  {
   "cell_type": "code",
   "execution_count": 10,
   "id": "c4583e3e-e1fa-4578-8ddb-41ec35a4c62d",
   "metadata": {},
   "outputs": [],
   "source": [
    "import re\n",
    "\n",
    "def rename_dir(dir, shift=1):\n",
    "    files = [f for f in os.listdir(dir)]\n",
    "    #files.sort(key=lambda x: int(re.match(r'\\d+', x).group()))\n",
    "    files.sort()\n",
    "    \n",
    "    for idx, old_filename in enumerate(files):\n",
    "        extension = os.path.splitext(old_filename)[1]\n",
    "        new_filename = f'{idx+shift}{extension}'\n",
    "        old_path = os.path.join(dir, old_filename)\n",
    "        new_path = os.path.join(dir, new_filename)\n",
    "        os.rename(old_path, new_path)"
   ]
  },
  {
   "cell_type": "code",
   "execution_count": 11,
   "id": "94d1aeee-dd09-4624-bd72-996b4de06ff6",
   "metadata": {},
   "outputs": [],
   "source": [
    "rename_dir(os.path.join(new_dataset_root,'images','train'), shift=1+127544)\n",
    "rename_dir(os.path.join(new_dataset_root,'images','val'), shift=1+13205)\n",
    "rename_dir(os.path.join(new_dataset_root,'labels','train'), shift=1+127544)\n",
    "rename_dir(os.path.join(new_dataset_root,'labels','val'), shift=1+13205)"
   ]
  },
  {
   "cell_type": "code",
   "execution_count": 12,
   "id": "965390ad-e7ef-4fa3-a3ca-fc31e9bb91e6",
   "metadata": {},
   "outputs": [],
   "source": [
    "# CHECK THAT WE HAVE THE SAME NUMBER OF FILES\n",
    "assert old_len_img_train == len(os.listdir(os.path.join(new_dataset_root,'images','train')))\n",
    "assert old_len_img_val == len(os.listdir(os.path.join(new_dataset_root,'images','val')))\n",
    "assert old_len_txt_val == len(os.listdir(os.path.join(new_dataset_root,'labels','val')))\n",
    "assert old_len_txt_train == len(os.listdir(os.path.join(new_dataset_root,'labels','train')))"
   ]
  },
  {
   "cell_type": "code",
   "execution_count": 13,
   "id": "20711f16-920d-493c-9826-07c7be8469ca",
   "metadata": {},
   "outputs": [],
   "source": [
    "import pandas as pd\n",
    "import imagesize\n",
    "import matplotlib.pyplot as plt"
   ]
  },
  {
   "cell_type": "code",
   "execution_count": 14,
   "id": "d2a461b3-388d-4650-8eaf-e83e2e7da289",
   "metadata": {},
   "outputs": [],
   "source": [
    "class_names = {\n",
    "    0:'person',\n",
    "    1:'car', \n",
    "    2:'truck', \n",
    "    3:'uav', \n",
    "    4:'airplane', \n",
    "    5:'ship'\n",
    "}"
   ]
  },
  {
   "cell_type": "code",
   "execution_count": 15,
   "id": "cd604fd5-5ef5-4450-b7c7-8c7254568d34",
   "metadata": {},
   "outputs": [],
   "source": [
    "def inspect_dataset(\n",
    "    target_dataset_root, # ../datasets/new_dataset\n",
    "    target_dataset_slice, # train,test,val\n",
    "):\n",
    "    info = [] #list of lists, each list corresponds to an instance [cls_id, x, y, w, h, img]\n",
    "    \n",
    "    \n",
    "    target_labels_dir = os.path.join(target_dataset_root, 'labels', target_dataset_slice)\n",
    "\n",
    "    # Iterate over all files in the original dataset labels folder\n",
    "    for filename in os.listdir(target_labels_dir):\n",
    "        if filename.endswith('.txt'):\n",
    "            # Read file\n",
    "            with open(os.path.join(target_labels_dir, filename), \"r\") as f:\n",
    "                # Iterate over instances in image and get present class ids\n",
    "                for line in f:\n",
    "                    line_data = []\n",
    "                    # label data\n",
    "                    line_data = line.split()\n",
    "                    # Image name\n",
    "                    line_data.append(os.path.splitext(filename)[0])\n",
    "                    # Image size: could be done at image level and not row level\n",
    "                    img_path = os.path.join(target_dataset_root,'images',target_dataset_slice, os.path.splitext(filename)[0]+'.jpg')\n",
    "                    img_w, img_h = imagesize.get(img_path)\n",
    "                    line_data.extend([img_w, img_h])\n",
    "                    # Append line data to info\n",
    "                    info.append(line_data)\n",
    "\n",
    "    df = pd.DataFrame(info, columns=['new_class_id', 'xcn', 'ycn', 'wn', 'hn', 'img', 'img_w', 'img_h'])\n",
    "    df = df.astype('float32').astype({'new_class_id':'int32', 'img':'int64'})\n",
    "    df['class_name'] = df['new_class_id'].map(class_names)\n",
    "    return df"
   ]
  },
  {
   "cell_type": "code",
   "execution_count": 16,
   "id": "246bbf3e-1788-423f-b40b-4d7c69964972",
   "metadata": {},
   "outputs": [
    {
     "data": {
      "text/html": [
       "<div>\n",
       "<style scoped>\n",
       "    .dataframe tbody tr th:only-of-type {\n",
       "        vertical-align: middle;\n",
       "    }\n",
       "\n",
       "    .dataframe tbody tr th {\n",
       "        vertical-align: top;\n",
       "    }\n",
       "\n",
       "    .dataframe thead th {\n",
       "        text-align: right;\n",
       "    }\n",
       "</style>\n",
       "<table border=\"1\" class=\"dataframe\">\n",
       "  <thead>\n",
       "    <tr style=\"text-align: right;\">\n",
       "      <th></th>\n",
       "      <th>new_class_id</th>\n",
       "      <th>xcn</th>\n",
       "      <th>ycn</th>\n",
       "      <th>wn</th>\n",
       "      <th>hn</th>\n",
       "      <th>img</th>\n",
       "      <th>img_w</th>\n",
       "      <th>img_h</th>\n",
       "      <th>class_name</th>\n",
       "    </tr>\n",
       "  </thead>\n",
       "  <tbody>\n",
       "    <tr>\n",
       "      <th>0</th>\n",
       "      <td>0</td>\n",
       "      <td>0.494286</td>\n",
       "      <td>0.295714</td>\n",
       "      <td>0.002857</td>\n",
       "      <td>0.008571</td>\n",
       "      <td>132592</td>\n",
       "      <td>1400.0</td>\n",
       "      <td>1050.0</td>\n",
       "      <td>person</td>\n",
       "    </tr>\n",
       "    <tr>\n",
       "      <th>1</th>\n",
       "      <td>0</td>\n",
       "      <td>0.503929</td>\n",
       "      <td>0.407143</td>\n",
       "      <td>0.003571</td>\n",
       "      <td>0.008571</td>\n",
       "      <td>132592</td>\n",
       "      <td>1400.0</td>\n",
       "      <td>1050.0</td>\n",
       "      <td>person</td>\n",
       "    </tr>\n",
       "    <tr>\n",
       "      <th>2</th>\n",
       "      <td>0</td>\n",
       "      <td>0.498214</td>\n",
       "      <td>0.421905</td>\n",
       "      <td>0.002143</td>\n",
       "      <td>0.013333</td>\n",
       "      <td>132592</td>\n",
       "      <td>1400.0</td>\n",
       "      <td>1050.0</td>\n",
       "      <td>person</td>\n",
       "    </tr>\n",
       "    <tr>\n",
       "      <th>3</th>\n",
       "      <td>0</td>\n",
       "      <td>0.426429</td>\n",
       "      <td>0.428095</td>\n",
       "      <td>0.004286</td>\n",
       "      <td>0.010476</td>\n",
       "      <td>132592</td>\n",
       "      <td>1400.0</td>\n",
       "      <td>1050.0</td>\n",
       "      <td>person</td>\n",
       "    </tr>\n",
       "    <tr>\n",
       "      <th>4</th>\n",
       "      <td>2</td>\n",
       "      <td>0.262143</td>\n",
       "      <td>0.932857</td>\n",
       "      <td>0.064286</td>\n",
       "      <td>0.134286</td>\n",
       "      <td>132592</td>\n",
       "      <td>1400.0</td>\n",
       "      <td>1050.0</td>\n",
       "      <td>truck</td>\n",
       "    </tr>\n",
       "    <tr>\n",
       "      <th>...</th>\n",
       "      <td>...</td>\n",
       "      <td>...</td>\n",
       "      <td>...</td>\n",
       "      <td>...</td>\n",
       "      <td>...</td>\n",
       "      <td>...</td>\n",
       "      <td>...</td>\n",
       "      <td>...</td>\n",
       "      <td>...</td>\n",
       "    </tr>\n",
       "    <tr>\n",
       "      <th>305565</th>\n",
       "      <td>1</td>\n",
       "      <td>0.369360</td>\n",
       "      <td>0.109340</td>\n",
       "      <td>0.009760</td>\n",
       "      <td>0.006533</td>\n",
       "      <td>133695</td>\n",
       "      <td>2000.0</td>\n",
       "      <td>1500.0</td>\n",
       "      <td>car</td>\n",
       "    </tr>\n",
       "    <tr>\n",
       "      <th>305566</th>\n",
       "      <td>1</td>\n",
       "      <td>0.365080</td>\n",
       "      <td>0.114047</td>\n",
       "      <td>0.015865</td>\n",
       "      <td>0.007293</td>\n",
       "      <td>133695</td>\n",
       "      <td>2000.0</td>\n",
       "      <td>1500.0</td>\n",
       "      <td>car</td>\n",
       "    </tr>\n",
       "    <tr>\n",
       "      <th>305567</th>\n",
       "      <td>1</td>\n",
       "      <td>0.347085</td>\n",
       "      <td>0.110073</td>\n",
       "      <td>0.008375</td>\n",
       "      <td>0.008753</td>\n",
       "      <td>133695</td>\n",
       "      <td>2000.0</td>\n",
       "      <td>1500.0</td>\n",
       "      <td>car</td>\n",
       "    </tr>\n",
       "    <tr>\n",
       "      <th>305568</th>\n",
       "      <td>0</td>\n",
       "      <td>0.500535</td>\n",
       "      <td>0.103547</td>\n",
       "      <td>0.002110</td>\n",
       "      <td>0.008873</td>\n",
       "      <td>133695</td>\n",
       "      <td>2000.0</td>\n",
       "      <td>1500.0</td>\n",
       "      <td>person</td>\n",
       "    </tr>\n",
       "    <tr>\n",
       "      <th>305569</th>\n",
       "      <td>0</td>\n",
       "      <td>0.505595</td>\n",
       "      <td>0.094633</td>\n",
       "      <td>0.002715</td>\n",
       "      <td>0.009027</td>\n",
       "      <td>133695</td>\n",
       "      <td>2000.0</td>\n",
       "      <td>1500.0</td>\n",
       "      <td>person</td>\n",
       "    </tr>\n",
       "  </tbody>\n",
       "</table>\n",
       "<p>305570 rows × 9 columns</p>\n",
       "</div>"
      ],
      "text/plain": [
       "        new_class_id       xcn       ycn        wn        hn     img   img_w  \\\n",
       "0                  0  0.494286  0.295714  0.002857  0.008571  132592  1400.0   \n",
       "1                  0  0.503929  0.407143  0.003571  0.008571  132592  1400.0   \n",
       "2                  0  0.498214  0.421905  0.002143  0.013333  132592  1400.0   \n",
       "3                  0  0.426429  0.428095  0.004286  0.010476  132592  1400.0   \n",
       "4                  2  0.262143  0.932857  0.064286  0.134286  132592  1400.0   \n",
       "...              ...       ...       ...       ...       ...     ...     ...   \n",
       "305565             1  0.369360  0.109340  0.009760  0.006533  133695  2000.0   \n",
       "305566             1  0.365080  0.114047  0.015865  0.007293  133695  2000.0   \n",
       "305567             1  0.347085  0.110073  0.008375  0.008753  133695  2000.0   \n",
       "305568             0  0.500535  0.103547  0.002110  0.008873  133695  2000.0   \n",
       "305569             0  0.505595  0.094633  0.002715  0.009027  133695  2000.0   \n",
       "\n",
       "         img_h class_name  \n",
       "0       1050.0     person  \n",
       "1       1050.0     person  \n",
       "2       1050.0     person  \n",
       "3       1050.0     person  \n",
       "4       1050.0      truck  \n",
       "...        ...        ...  \n",
       "305565  1500.0        car  \n",
       "305566  1500.0        car  \n",
       "305567  1500.0        car  \n",
       "305568  1500.0     person  \n",
       "305569  1500.0     person  \n",
       "\n",
       "[305570 rows x 9 columns]"
      ]
     },
     "execution_count": 16,
     "metadata": {},
     "output_type": "execute_result"
    }
   ],
   "source": [
    "df = inspect_dataset(new_dataset_root, 'train')\n",
    "df"
   ]
  },
  {
   "cell_type": "code",
   "execution_count": 17,
   "id": "3bc12f53-313f-4624-a30c-e051f5dde46d",
   "metadata": {},
   "outputs": [
    {
     "name": "stdout",
     "output_type": "stream",
     "text": [
      "The number of objects is 305570\n",
      "The number of images is 6458\n"
     ]
    }
   ],
   "source": [
    "print(f\"The number of objects is {len(df)}\")\n",
    "print(f\"The number of images is {len(df['img'].unique())}\")"
   ]
  },
  {
   "cell_type": "code",
   "execution_count": 18,
   "id": "b4c36d2a-bef5-4b13-b041-58e86b37b47a",
   "metadata": {},
   "outputs": [
    {
     "data": {
      "image/png": "[encoded data removed]",
      "text/plain": [
       "<Figure size 800x600 with 1 Axes>"
      ]
     },
     "metadata": {},
     "output_type": "display_data"
    }
   ],
   "source": [
    "fig = plt.figure(figsize=(8, 6))\n",
    "ax = df['class_name'].value_counts().plot(kind='bar')\n",
    "# Set x-axis label\n",
    "ax.set_xlabel(\"Classes\", weight='bold', size=12)\n",
    "# Set y-axis label\n",
    "ax.set_ylabel(\"Counts\", weight='bold', size=12)\n",
    "ax.ticklabel_format(axis='y', style='sci', scilimits=(-3,3))\n",
    "ax.set_xticklabels(ax.get_xticklabels(), rotation=45)\n",
    "None"
   ]
  },
  {
   "cell_type": "code",
   "execution_count": 19,
   "id": "3022d605-4915-4947-8479-e99d6c0ebac4",
   "metadata": {},
   "outputs": [
    {
     "data": {
      "image/png": "[encoded data removed]",
      "text/plain": [
       "<Figure size 800x600 with 1 Axes>"
      ]
     },
     "metadata": {},
     "output_type": "display_data"
    }
   ],
   "source": [
    "fig = plt.figure(figsize=(8, 6))\n",
    "ax = df.groupby(by=['img'])['img'].count().value_counts().sort_index().plot(kind='bar')\n",
    "# Set x-axis label\n",
    "ax.set_xlabel(\"Instances per image\", weight='bold', size=12)\n",
    "# Set y-axis label\n",
    "ax.set_ylabel(\"Counts\", weight='bold', size=12)\n",
    "ax.ticklabel_format(axis='y', style='sci', scilimits=(-3,3))\n",
    "ax.set_xticklabels(ax.get_xticklabels(), rotation=0)\n",
    "None"
   ]
  },
  {
   "cell_type": "code",
   "execution_count": 20,
   "id": "b5a81df1-976f-4db2-9b32-2b43850d723f",
   "metadata": {},
   "outputs": [],
   "source": [
    "df['bbox_area'] = (df['wn']*df['img_w'])*(df['hn']*df['img_h'])\n",
    "bin_edges = [0, 16**2, 32**2, 96**2, float('inf')]\n",
    "bin_labels = ['tiny', 'small', 'medium', 'large']\n",
    "df['bbox_size_category'] = pd.cut(df['bbox_area'], bins=bin_edges, labels=bin_labels, right=False)"
   ]
  },
  {
   "cell_type": "code",
   "execution_count": 21,
   "id": "501f8f1c-58ce-4d46-b9ba-bda3206b9e91",
   "metadata": {},
   "outputs": [
    {
     "data": {
      "image/png": "[encoded data removed]",
      "text/plain": [
       "<Figure size 800x600 with 1 Axes>"
      ]
     },
     "metadata": {},
     "output_type": "display_data"
    }
   ],
   "source": [
    "fig = plt.figure(figsize=(8, 6))\n",
    "ax = df['bbox_size_category'].value_counts().sort_index().plot(kind='bar')\n",
    "# Set x-axis label\n",
    "ax.set_xlabel(\"Object category size\", weight='bold', size=12, labelpad=10)\n",
    "# Set y-axis label\n",
    "ax.set_ylabel(\"Counts\", weight='bold', size=12)\n",
    "ax.ticklabel_format(axis='y', style='sci', scilimits=(-3,3))\n",
    "ax.set_xticklabels(ax.get_xticklabels(), rotation=45)\n",
    "None"
   ]
  },
  {
   "cell_type": "code",
   "execution_count": null,
   "id": "aa72ec48-b023-47df-950e-93afbb1e6d5a",
   "metadata": {},
   "outputs": [],
   "source": []
  }
 ],
 "metadata": {
  "kernelspec": {
   "display_name": "Python 3 (ipykernel)",
   "language": "python",
   "name": "python3"
  },
  "language_info": {
   "codemirror_mode": {
    "name": "ipython",
    "version": 3
   },
   "file_extension": ".py",
   "mimetype": "text/x-python",
   "name": "python",
   "nbconvert_exporter": "python",
   "pygments_lexer": "ipython3",
   "version": "3.11.4"
  }
 },
 "nbformat": 4,
 "nbformat_minor": 5
}
