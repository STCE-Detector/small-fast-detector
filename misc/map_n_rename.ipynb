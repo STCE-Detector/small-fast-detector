{
 "cells": [
  {
   "cell_type": "code",
   "execution_count": 2,
   "id": "641ac938-0b4f-4650-b032-b50b18268edf",
   "metadata": {
    "pycharm": {
     "name": "#%%\n"
    }
   },
   "outputs": [],
   "source": [
    "import os\n",
    "import shutil"
   ]
  },
  {
   "cell_type": "markdown",
   "id": "b925245d-c7c1-47e4-a23a-859aa08ed801",
   "metadata": {
    "pycharm": {
     "name": "#%% md\n"
    }
   },
   "source": [
    "# CUSTOM IR DATASETS"
   ]
  },
  {
   "cell_type": "code",
   "execution_count": 3,
   "id": "29922ebe-bfaa-49b1-bdcd-9f1a3154c1d7",
   "metadata": {
    "pycharm": {
     "name": "#%%\n"
    }
   },
   "outputs": [],
   "source": [
    "root_path = '/Users/inaki-eab/Desktop/'\n",
    "#root_path = '/data-fast/127-data2/ierregue/datasets'\n",
    "\n",
    "dataset_name = 'custom_antiuav'\n",
    "\n",
    "new_dataset_root = os.path.join(root_path, dataset_name)\n",
    "\n",
    "# Create folder structure\n",
    "if not os.path.isdir(new_dataset_root):\n",
    "    os.makedirs(new_dataset_root)\n",
    "    os.makedirs(os.path.join(new_dataset_root, 'labels','train'))\n",
    "    os.makedirs(os.path.join(new_dataset_root, 'labels','test'))\n",
    "    os.makedirs(os.path.join(new_dataset_root, 'labels','val'))\n",
    "    os.makedirs(os.path.join(new_dataset_root, 'images','train'))\n",
    "    os.makedirs(os.path.join(new_dataset_root, 'images','test'))\n",
    "    os.makedirs(os.path.join(new_dataset_root, 'images','val'))"
   ]
  },
  {
   "cell_type": "code",
   "execution_count": 5,
   "id": "dc1e2eda-f05c-4eb9-bcf8-c08df28c3b22",
   "metadata": {
    "pycharm": {
     "name": "#%%\n"
    }
   },
   "outputs": [],
   "source": [
    "# DESIRED INDICES\n",
    "wanted_indices = [\n",
    "    1, #car\n",
    "    2, #bus/truck\n",
    "    3, #uav\n",
    "]"
   ]
  },
  {
   "cell_type": "code",
   "execution_count": 6,
   "id": "b534ff3e-b5ce-49e0-8f27-09ae5dbdcd8f",
   "metadata": {
    "pycharm": {
     "name": "#%%\n"
    }
   },
   "outputs": [],
   "source": [
    "def clean_map_file(file):\n",
    "# Mapping should be performed only once\n",
    "    \n",
    "    class_index_map = {\n",
    "        1:1, # car\n",
    "        2:2, # person\n",
    "        3:3, # truck\n",
    "    }\n",
    "    \n",
    "    with open(file, 'r+') as fp:\n",
    "        # read an store all lines into list\n",
    "        lines = fp.readlines()\n",
    "        # move file pointer to the beginning of a file\n",
    "        fp.seek(0)\n",
    "        # truncate the file\n",
    "        fp.truncate()\n",
    "    \n",
    "        # start writing lines\n",
    "        # iterate line and line number\n",
    "        for number, line in enumerate(lines):\n",
    "            # Only write rows of interested instances\n",
    "            old_class_id = int(line.split()[0])\n",
    "            if old_class_id in wanted_indices:\n",
    "                # map old class indices to new ones\n",
    "                new_class_id = class_index_map[old_class_id]\n",
    "                new_line_splitted = line.split()\n",
    "                new_line_splitted[0] = str(new_class_id)\n",
    "                new_line = ' '.join(new_line_splitted)\n",
    "                fp.write(new_line+'\\n')"
   ]
  },
  {
   "cell_type": "code",
   "execution_count": 7,
   "id": "b261c165-efb9-4d30-9a30-432472bae717",
   "metadata": {
    "pycharm": {
     "name": "#%%\n"
    }
   },
   "outputs": [],
   "source": [
    "def move_desired_files(\n",
    "    original_dataset_root, #../datasets/old_dataset\n",
    "    target_dataset_root, # ../datasets/new_dataset\n",
    "    original_dataset_slice, # liketrain,test,val\n",
    "    target_dataset_slice, # train,test,val\n",
    "    wanted_indices # list of desired indices\n",
    "):\n",
    "    # Empty list to store the selected files containing at list one of the desired objects\n",
    "    selected_images = []\n",
    "    \n",
    "    \n",
    "    original_labels_dir = os.path.join(original_dataset_root, 'labels', original_dataset_slice)\n",
    "    original_images_dir = os.path.join(original_dataset_root, 'images', original_dataset_slice)\n",
    "\n",
    "    # Iterate over all files in the original dataset labels folder\n",
    "    for filename in os.listdir(original_labels_dir):\n",
    "        if filename.endswith('.txt'):\n",
    "            # Read file\n",
    "            with open(os.path.join(original_labels_dir, filename), \"r\") as f:\n",
    "                # Empty list to store objects/instances present in image\n",
    "                indices_in_file = []\n",
    "                # Iterate over instances in image and get present class ids\n",
    "                for line in f:\n",
    "                    indices_in_file.append(int(line.split()[0]))\n",
    "                # If any present class ids is a class id of interest, get its filename\n",
    "                if any((True for x in indices_in_file if x in wanted_indices)):\n",
    "                    # Get only name, no '.txt' extension\n",
    "                    selected_images.append(os.path.splitext(filename)[0])\n",
    "                    # Copy *.txt folder\n",
    "                    shutil.copy(os.path.join(original_labels_dir, filename), os.path.join(target_dataset_root, 'labels', target_dataset_slice))\n",
    "                    # Copy *jpg image\n",
    "                    img_path = os.path.join(original_images_dir, os.path.splitext(filename)[0]+'.jpg')\n",
    "                    shutil.copy(img_path, os.path.join(target_dataset_root, 'images', target_dataset_slice))\n",
    "\n",
    "                    # Map old index to new one and delete unwanted instances\n",
    "                    clean_map_file(os.path.join(target_dataset_root, 'labels', target_dataset_slice, filename))\n",
    "                    \n",
    "    return selected_images"
   ]
  },
  {
   "cell_type": "code",
   "execution_count": 8,
   "id": "fdcf9909-156b-45a5-84df-a29c290da2da",
   "metadata": {
    "pycharm": {
     "name": "#%%\n"
    }
   },
   "outputs": [],
   "source": [
    "original_dataset_path = 'antiuav'\n",
    "original_dataset_root = os.path.join(root_path, original_dataset_path)"
   ]
  },
  {
   "cell_type": "code",
   "execution_count": 9,
   "id": "3c6700db-d4b7-4324-aa86-50e5729fa869",
   "metadata": {
    "pycharm": {
     "name": "#%%\n"
    }
   },
   "outputs": [],
   "source": [
    "val_indices = move_desired_files(original_dataset_root, \n",
    "                                   new_dataset_root, \n",
    "                                   'val', \n",
    "                                   'val', \n",
    "                                   wanted_indices)"
   ]
  },
  {
   "cell_type": "code",
   "execution_count": 10,
   "id": "086fd3ab-2918-4bc3-84d2-91d33e727468",
   "metadata": {
    "pycharm": {
     "name": "#%%\n"
    }
   },
   "outputs": [],
   "source": [
    "train_indices = move_desired_files(original_dataset_root, \n",
    "                                   new_dataset_root, \n",
    "                                   'train', \n",
    "                                   'train', \n",
    "                                   wanted_indices)"
   ]
  },
  {
   "cell_type": "code",
   "execution_count": 11,
   "id": "5f036db7-c226-4efc-965d-6d0af3d01a17",
   "metadata": {
    "pycharm": {
     "name": "#%%\n"
    }
   },
   "outputs": [],
   "source": [
    "old_len_img_train = len(os.listdir(os.path.join(new_dataset_root,'images','train')))\n",
    "old_len_img_val = len(os.listdir(os.path.join(new_dataset_root,'images','val')))\n",
    "old_len_txt_val = len(os.listdir(os.path.join(new_dataset_root,'labels','val')))\n",
    "old_len_txt_train = len(os.listdir(os.path.join(new_dataset_root,'labels','train')))"
   ]
  },
  {
   "cell_type": "code",
   "execution_count": 12,
   "id": "4cc24e3d-3e0c-4e52-841e-1e91fe556bcd",
   "metadata": {
    "pycharm": {
     "name": "#%%\n"
    }
   },
   "outputs": [],
   "source": [
    "import re\n",
    "\n",
    "def rename_dir(dir, shift=1):\n",
    "    files = [f for f in os.listdir(dir)]\n",
    "    #files.sort(key=lambda x: int(re.match(r'\\d+', x).group()))\n",
    "    files.sort()\n",
    "    \n",
    "    for idx, old_filename in enumerate(files):\n",
    "        extension = os.path.splitext(old_filename)[1]\n",
    "        new_filename = f'{idx+shift}{extension}'\n",
    "        old_path = os.path.join(dir, old_filename)\n",
    "        new_path = os.path.join(dir, new_filename)\n",
    "        os.rename(old_path, new_path)"
   ]
  },
  {
   "cell_type": "code",
   "execution_count": 13,
   "id": "38b31111-2d85-48e0-92e7-e81483b3573b",
   "metadata": {
    "pycharm": {
     "name": "#%%\n"
    }
   },
   "outputs": [],
   "source": [
    "rename_dir(os.path.join(new_dataset_root,'images','train'), shift=1+139315)\n",
    "rename_dir(os.path.join(new_dataset_root,'images','val'), shift=1+17020)\n",
    "rename_dir(os.path.join(new_dataset_root,'labels','train'), shift=1+139315)\n",
    "rename_dir(os.path.join(new_dataset_root,'labels','val'), shift=1+17020)"
   ]
  },
  {
   "cell_type": "code",
   "execution_count": 14,
   "id": "9653a56a-2eeb-4396-b6fa-f6434f735e0e",
   "metadata": {
    "pycharm": {
     "name": "#%%\n"
    }
   },
   "outputs": [],
   "source": [
    "# CHECK THAT WE HAVE THE SAME NUMBER OF FILES\n",
    "assert old_len_img_train == len(os.listdir(os.path.join(new_dataset_root,'images','train')))\n",
    "assert old_len_img_val == len(os.listdir(os.path.join(new_dataset_root,'images','val')))\n",
    "assert old_len_txt_val == len(os.listdir(os.path.join(new_dataset_root,'labels','val')))\n",
    "assert old_len_txt_train == len(os.listdir(os.path.join(new_dataset_root,'labels','train')))"
   ]
  },
  {
   "cell_type": "code",
   "execution_count": null,
   "id": "de7c8dc1-621f-476c-ab45-ba6dfbe98b0a",
   "metadata": {
    "pycharm": {
     "name": "#%%\n"
    }
   },
   "outputs": [],
   "source": []
  }
 ],
 "metadata": {
  "kernelspec": {
   "display_name": "Python 3 (ipykernel)",
   "language": "python",
   "name": "python3"
  },
  "language_info": {
   "codemirror_mode": {
    "name": "ipython",
    "version": 3
   },
   "file_extension": ".py",
   "mimetype": "text/x-python",
   "name": "python",
   "nbconvert_exporter": "python",
   "pygments_lexer": "ipython3",
   "version": "3.11.4"
  }
 },
 "nbformat": 4,
 "nbformat_minor": 5
}