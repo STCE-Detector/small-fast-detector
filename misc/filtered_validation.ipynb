{
 "cells": [
  {
   "cell_type": "code",
   "execution_count": 49,
   "id": "8d1757db-150e-4036-a818-212539f7417f",
   "metadata": {
    "ExecuteTime": {
     "end_time": "2024-01-19T12:54:41.094450284Z",
     "start_time": "2024-01-19T12:54:41.050788748Z"
    }
   },
   "outputs": [],
   "source": [
    "from ultralytics import YOLO\n",
    "import pandas as pd\n",
    "import numpy as np\n",
    "import os\n",
    "import imagesize"
   ]
  },
  {
   "cell_type": "code",
   "execution_count": 50,
   "id": "a371d7ed-67e3-4d56-add9-dca31c9ab232",
   "metadata": {
    "ExecuteTime": {
     "end_time": "2024-01-19T12:54:41.356179185Z",
     "start_time": "2024-01-19T12:54:41.353546186Z"
    }
   },
   "outputs": [],
   "source": [
    "class_names = {\n",
    "    0:'Person',\n",
    "    1:'Car',\n",
    "    2:'Truck',\n",
    "    3:'UAV',\n",
    "    4:'Aircraft',\n",
    "    5:'Ship'\n",
    "}"
   ]
  },
  {
   "cell_type": "code",
   "execution_count": 51,
   "id": "7bc64d28-4a7e-4a3c-9d4d-b551843b357c",
   "metadata": {
    "ExecuteTime": {
     "end_time": "2024-01-19T12:54:42.197992249Z",
     "start_time": "2024-01-19T12:54:42.192416884Z"
    }
   },
   "outputs": [],
   "source": [
    "def inspect_dataset(\n",
    "        target_dataset_root,  # ../datasets/new_dataset\n",
    "        target_dataset_slice,  # train,test,val\n",
    "):\n",
    " info = []  # list of lists, each list corresponds to an instance [cls_id, x, y, w, h, img]\n",
    "\n",
    " target_labels_dir = os.path.join(target_dataset_root, 'labels', target_dataset_slice)\n",
    "\n",
    " # Iterate over all files in the original dataset labels folder\n",
    " for filename in os.listdir(target_labels_dir):\n",
    "  if filename.endswith('.txt'):\n",
    "   # Read file\n",
    "   with open(os.path.join(target_labels_dir, filename), \"r\") as f:\n",
    "    # Iterate over instances in image and get present class ids\n",
    "    for line in f:\n",
    "     line_data = []\n",
    "     # label data\n",
    "     line_data = line.split()\n",
    "     # Image name\n",
    "     line_data.append(os.path.splitext(filename)[0])\n",
    "     # Image size: could be done at image level and not row level\n",
    "     img_path = os.path.join(target_dataset_root, 'images', target_dataset_slice,\n",
    "                             os.path.splitext(filename)[0] + '.jpg')\n",
    "     img_w, img_h = imagesize.get(img_path)\n",
    "     line_data.extend([img_w, img_h])\n",
    "     line_data.extend([img_path, os.path.join(target_labels_dir, filename)])\n",
    "     # Append line data to info\n",
    "     info.append(line_data)\n",
    "\n",
    " df = pd.DataFrame(info, columns=['new_class_id', 'xcn', 'ycn', 'wn', 'hn', 'img', 'img_w', 'img_h', 'image_path', 'label_path'])\n",
    " df = df.astype(\n",
    "  {'new_class_id': 'int32', 'xcn': 'float32', 'ycn': 'float32', 'wn': 'float32', 'hn': 'float32', 'img': 'int64',\n",
    "   'img_w': 'float32', 'img_h': 'float32', 'image_path': 'string', 'label_path': 'string'})\n",
    " df['class_name'] = df['new_class_id'].map(class_names)\n",
    " return df"
   ]
  },
  {
   "cell_type": "code",
   "execution_count": 52,
   "id": "5641ef6b-31ab-4dfc-bff7-d3a48d58cefa",
   "metadata": {
    "ExecuteTime": {
     "end_time": "2024-01-19T12:54:50.432834196Z",
     "start_time": "2024-01-19T12:54:49.071407442Z"
    }
   },
   "outputs": [],
   "source": [
    "df_val = inspect_dataset('/home/johnny/Projects/datasets/custom_dataset_v2/', 'val')"
   ]
  },
  {
   "cell_type": "code",
   "execution_count": 53,
   "id": "a1c1823e-4688-485a-891f-a18c6a2afb13",
   "metadata": {
    "ExecuteTime": {
     "end_time": "2024-01-19T12:54:50.445080633Z",
     "start_time": "2024-01-19T12:54:50.437550466Z"
    }
   },
   "outputs": [
    {
     "data": {
      "text/plain": "       new_class_id       xcn       ycn        wn        hn    img   img_w  \\\n0                 0  0.430208  0.599219  0.572917  0.801562  11122   480.0   \n1                 3  0.912500  0.265278  0.028125  0.026852   7103  1920.0   \n2                 3  0.554688  0.314583  0.151562  0.165278   5292  1280.0   \n3                 0  0.357776  0.605787  0.009604  0.016954   7649  1920.0   \n4                 0  0.434849  0.627046  0.009969  0.039713   7649  1920.0   \n...             ...       ...       ...       ...       ...    ...     ...   \n95016             2  0.480581  0.544305  0.041685  0.056822   1302  1624.0   \n95017             1  0.537520  0.543896  0.023863  0.023301   1302  1624.0   \n95018             2  0.566215  0.542057  0.019634  0.023710   1302  1624.0   \n95019             1  0.519231  0.718456  0.067308  0.065913   8507   624.0   \n95020             1  0.701923  0.700565  0.041667  0.037665   8507   624.0   \n\n        img_h                                         image_path  \\\n0       640.0  /home/johnny/Projects/datasets/custom_dataset_...   \n1      1080.0  /home/johnny/Projects/datasets/custom_dataset_...   \n2       720.0  /home/johnny/Projects/datasets/custom_dataset_...   \n3      1080.0  /home/johnny/Projects/datasets/custom_dataset_...   \n4      1080.0  /home/johnny/Projects/datasets/custom_dataset_...   \n...       ...                                                ...   \n95016  1200.0  /home/johnny/Projects/datasets/custom_dataset_...   \n95017  1200.0  /home/johnny/Projects/datasets/custom_dataset_...   \n95018  1200.0  /home/johnny/Projects/datasets/custom_dataset_...   \n95019   531.0  /home/johnny/Projects/datasets/custom_dataset_...   \n95020   531.0  /home/johnny/Projects/datasets/custom_dataset_...   \n\n                                              label_path class_name  \n0      /home/johnny/Projects/datasets/custom_dataset_...     Person  \n1      /home/johnny/Projects/datasets/custom_dataset_...        UAV  \n2      /home/johnny/Projects/datasets/custom_dataset_...        UAV  \n3      /home/johnny/Projects/datasets/custom_dataset_...     Person  \n4      /home/johnny/Projects/datasets/custom_dataset_...     Person  \n...                                                  ...        ...  \n95016  /home/johnny/Projects/datasets/custom_dataset_...      Truck  \n95017  /home/johnny/Projects/datasets/custom_dataset_...        Car  \n95018  /home/johnny/Projects/datasets/custom_dataset_...      Truck  \n95019  /home/johnny/Projects/datasets/custom_dataset_...        Car  \n95020  /home/johnny/Projects/datasets/custom_dataset_...        Car  \n\n[95021 rows x 11 columns]",
      "text/html": "<div>\n<style scoped>\n    .dataframe tbody tr th:only-of-type {\n        vertical-align: middle;\n    }\n\n    .dataframe tbody tr th {\n        vertical-align: top;\n    }\n\n    .dataframe thead th {\n        text-align: right;\n    }\n</style>\n<table border=\"1\" class=\"dataframe\">\n  <thead>\n    <tr style=\"text-align: right;\">\n      <th></th>\n      <th>new_class_id</th>\n      <th>xcn</th>\n      <th>ycn</th>\n      <th>wn</th>\n      <th>hn</th>\n      <th>img</th>\n      <th>img_w</th>\n      <th>img_h</th>\n      <th>image_path</th>\n      <th>label_path</th>\n      <th>class_name</th>\n    </tr>\n  </thead>\n  <tbody>\n    <tr>\n      <th>0</th>\n      <td>0</td>\n      <td>0.430208</td>\n      <td>0.599219</td>\n      <td>0.572917</td>\n      <td>0.801562</td>\n      <td>11122</td>\n      <td>480.0</td>\n      <td>640.0</td>\n      <td>/home/johnny/Projects/datasets/custom_dataset_...</td>\n      <td>/home/johnny/Projects/datasets/custom_dataset_...</td>\n      <td>Person</td>\n    </tr>\n    <tr>\n      <th>1</th>\n      <td>3</td>\n      <td>0.912500</td>\n      <td>0.265278</td>\n      <td>0.028125</td>\n      <td>0.026852</td>\n      <td>7103</td>\n      <td>1920.0</td>\n      <td>1080.0</td>\n      <td>/home/johnny/Projects/datasets/custom_dataset_...</td>\n      <td>/home/johnny/Projects/datasets/custom_dataset_...</td>\n      <td>UAV</td>\n    </tr>\n    <tr>\n      <th>2</th>\n      <td>3</td>\n      <td>0.554688</td>\n      <td>0.314583</td>\n      <td>0.151562</td>\n      <td>0.165278</td>\n      <td>5292</td>\n      <td>1280.0</td>\n      <td>720.0</td>\n      <td>/home/johnny/Projects/datasets/custom_dataset_...</td>\n      <td>/home/johnny/Projects/datasets/custom_dataset_...</td>\n      <td>UAV</td>\n    </tr>\n    <tr>\n      <th>3</th>\n      <td>0</td>\n      <td>0.357776</td>\n      <td>0.605787</td>\n      <td>0.009604</td>\n      <td>0.016954</td>\n      <td>7649</td>\n      <td>1920.0</td>\n      <td>1080.0</td>\n      <td>/home/johnny/Projects/datasets/custom_dataset_...</td>\n      <td>/home/johnny/Projects/datasets/custom_dataset_...</td>\n      <td>Person</td>\n    </tr>\n    <tr>\n      <th>4</th>\n      <td>0</td>\n      <td>0.434849</td>\n      <td>0.627046</td>\n      <td>0.009969</td>\n      <td>0.039713</td>\n      <td>7649</td>\n      <td>1920.0</td>\n      <td>1080.0</td>\n      <td>/home/johnny/Projects/datasets/custom_dataset_...</td>\n      <td>/home/johnny/Projects/datasets/custom_dataset_...</td>\n      <td>Person</td>\n    </tr>\n    <tr>\n      <th>...</th>\n      <td>...</td>\n      <td>...</td>\n      <td>...</td>\n      <td>...</td>\n      <td>...</td>\n      <td>...</td>\n      <td>...</td>\n      <td>...</td>\n      <td>...</td>\n      <td>...</td>\n      <td>...</td>\n    </tr>\n    <tr>\n      <th>95016</th>\n      <td>2</td>\n      <td>0.480581</td>\n      <td>0.544305</td>\n      <td>0.041685</td>\n      <td>0.056822</td>\n      <td>1302</td>\n      <td>1624.0</td>\n      <td>1200.0</td>\n      <td>/home/johnny/Projects/datasets/custom_dataset_...</td>\n      <td>/home/johnny/Projects/datasets/custom_dataset_...</td>\n      <td>Truck</td>\n    </tr>\n    <tr>\n      <th>95017</th>\n      <td>1</td>\n      <td>0.537520</td>\n      <td>0.543896</td>\n      <td>0.023863</td>\n      <td>0.023301</td>\n      <td>1302</td>\n      <td>1624.0</td>\n      <td>1200.0</td>\n      <td>/home/johnny/Projects/datasets/custom_dataset_...</td>\n      <td>/home/johnny/Projects/datasets/custom_dataset_...</td>\n      <td>Car</td>\n    </tr>\n    <tr>\n      <th>95018</th>\n      <td>2</td>\n      <td>0.566215</td>\n      <td>0.542057</td>\n      <td>0.019634</td>\n      <td>0.023710</td>\n      <td>1302</td>\n      <td>1624.0</td>\n      <td>1200.0</td>\n      <td>/home/johnny/Projects/datasets/custom_dataset_...</td>\n      <td>/home/johnny/Projects/datasets/custom_dataset_...</td>\n      <td>Truck</td>\n    </tr>\n    <tr>\n      <th>95019</th>\n      <td>1</td>\n      <td>0.519231</td>\n      <td>0.718456</td>\n      <td>0.067308</td>\n      <td>0.065913</td>\n      <td>8507</td>\n      <td>624.0</td>\n      <td>531.0</td>\n      <td>/home/johnny/Projects/datasets/custom_dataset_...</td>\n      <td>/home/johnny/Projects/datasets/custom_dataset_...</td>\n      <td>Car</td>\n    </tr>\n    <tr>\n      <th>95020</th>\n      <td>1</td>\n      <td>0.701923</td>\n      <td>0.700565</td>\n      <td>0.041667</td>\n      <td>0.037665</td>\n      <td>8507</td>\n      <td>624.0</td>\n      <td>531.0</td>\n      <td>/home/johnny/Projects/datasets/custom_dataset_...</td>\n      <td>/home/johnny/Projects/datasets/custom_dataset_...</td>\n      <td>Car</td>\n    </tr>\n  </tbody>\n</table>\n<p>95021 rows × 11 columns</p>\n</div>"
     },
     "execution_count": 53,
     "metadata": {},
     "output_type": "execute_result"
    }
   ],
   "source": [
    "df_val"
   ]
  },
  {
   "cell_type": "code",
   "execution_count": 54,
   "id": "af3e0246-d5ae-4c64-80f5-4737118064b1",
   "metadata": {
    "ExecuteTime": {
     "end_time": "2024-01-19T12:54:50.460952512Z",
     "start_time": "2024-01-19T12:54:50.439111572Z"
    }
   },
   "outputs": [
    {
     "name": "stdout",
     "output_type": "stream",
     "text": [
      "The number of objects is 95021\n",
      "The number of images is 13205\n"
     ]
    }
   ],
   "source": [
    "print(f\"The number of objects is {len(df_val)}\")\n",
    "print(f\"The number of images is {len(df_val['img'].unique())}\")"
   ]
  },
  {
   "cell_type": "code",
   "execution_count": 55,
   "id": "0c278779-e7d7-4a8d-84d0-bc24c61b9930",
   "metadata": {
    "ExecuteTime": {
     "end_time": "2024-01-19T12:54:50.483200432Z",
     "start_time": "2024-01-19T12:54:50.458281292Z"
    }
   },
   "outputs": [],
   "source": [
    "bin_edges = [0, 16**2, 32**2, 96**2, float('inf')]\n",
    "bin_labels = ['Tiny', 'Small', 'Medium', 'Large']\n",
    "df_val['bbox_area'] = (df_val['wn']*df_val['img_w'])*(df_val['hn']*df_val['img_h'])\n",
    "df_val['bbox_size_category'] = pd.cut(df_val['bbox_area'], bins=bin_edges, labels=bin_labels, right=False)"
   ]
  },
  {
   "cell_type": "code",
   "execution_count": 56,
   "id": "f54a79f6-45bf-4db1-96f3-34c12f9b49ba",
   "metadata": {
    "ExecuteTime": {
     "end_time": "2024-01-19T12:54:50.509638619Z",
     "start_time": "2024-01-19T12:54:50.468682642Z"
    }
   },
   "outputs": [
    {
     "data": {
      "text/plain": "       new_class_id       xcn       ycn        wn        hn    img   img_w  \\\n0                 0  0.430208  0.599219  0.572917  0.801562  11122   480.0   \n1                 3  0.912500  0.265278  0.028125  0.026852   7103  1920.0   \n2                 3  0.554688  0.314583  0.151562  0.165278   5292  1280.0   \n3                 0  0.357776  0.605787  0.009604  0.016954   7649  1920.0   \n4                 0  0.434849  0.627046  0.009969  0.039713   7649  1920.0   \n...             ...       ...       ...       ...       ...    ...     ...   \n95016             2  0.480581  0.544305  0.041685  0.056822   1302  1624.0   \n95017             1  0.537520  0.543896  0.023863  0.023301   1302  1624.0   \n95018             2  0.566215  0.542057  0.019634  0.023710   1302  1624.0   \n95019             1  0.519231  0.718456  0.067308  0.065913   8507   624.0   \n95020             1  0.701923  0.700565  0.041667  0.037665   8507   624.0   \n\n        img_h                                         image_path  \\\n0       640.0  /home/johnny/Projects/datasets/custom_dataset_...   \n1      1080.0  /home/johnny/Projects/datasets/custom_dataset_...   \n2       720.0  /home/johnny/Projects/datasets/custom_dataset_...   \n3      1080.0  /home/johnny/Projects/datasets/custom_dataset_...   \n4      1080.0  /home/johnny/Projects/datasets/custom_dataset_...   \n...       ...                                                ...   \n95016  1200.0  /home/johnny/Projects/datasets/custom_dataset_...   \n95017  1200.0  /home/johnny/Projects/datasets/custom_dataset_...   \n95018  1200.0  /home/johnny/Projects/datasets/custom_dataset_...   \n95019   531.0  /home/johnny/Projects/datasets/custom_dataset_...   \n95020   531.0  /home/johnny/Projects/datasets/custom_dataset_...   \n\n                                              label_path class_name  \\\n0      /home/johnny/Projects/datasets/custom_dataset_...     Person   \n1      /home/johnny/Projects/datasets/custom_dataset_...        UAV   \n2      /home/johnny/Projects/datasets/custom_dataset_...        UAV   \n3      /home/johnny/Projects/datasets/custom_dataset_...     Person   \n4      /home/johnny/Projects/datasets/custom_dataset_...     Person   \n...                                                  ...        ...   \n95016  /home/johnny/Projects/datasets/custom_dataset_...      Truck   \n95017  /home/johnny/Projects/datasets/custom_dataset_...        Car   \n95018  /home/johnny/Projects/datasets/custom_dataset_...      Truck   \n95019  /home/johnny/Projects/datasets/custom_dataset_...        Car   \n95020  /home/johnny/Projects/datasets/custom_dataset_...        Car   \n\n           bbox_area bbox_size_category  \n0      141075.000000              Large  \n1        1566.000000             Medium  \n2       23086.000000              Large  \n3         337.636353              Small  \n4         820.914551              Small  \n...              ...                ...  \n95016    4615.924316             Medium  \n95017    1083.594849             Medium  \n95018     907.201843              Small  \n95019    1470.000122             Medium  \n95020     520.000000              Small  \n\n[95021 rows x 13 columns]",
      "text/html": "<div>\n<style scoped>\n    .dataframe tbody tr th:only-of-type {\n        vertical-align: middle;\n    }\n\n    .dataframe tbody tr th {\n        vertical-align: top;\n    }\n\n    .dataframe thead th {\n        text-align: right;\n    }\n</style>\n<table border=\"1\" class=\"dataframe\">\n  <thead>\n    <tr style=\"text-align: right;\">\n      <th></th>\n      <th>new_class_id</th>\n      <th>xcn</th>\n      <th>ycn</th>\n      <th>wn</th>\n      <th>hn</th>\n      <th>img</th>\n      <th>img_w</th>\n      <th>img_h</th>\n      <th>image_path</th>\n      <th>label_path</th>\n      <th>class_name</th>\n      <th>bbox_area</th>\n      <th>bbox_size_category</th>\n    </tr>\n  </thead>\n  <tbody>\n    <tr>\n      <th>0</th>\n      <td>0</td>\n      <td>0.430208</td>\n      <td>0.599219</td>\n      <td>0.572917</td>\n      <td>0.801562</td>\n      <td>11122</td>\n      <td>480.0</td>\n      <td>640.0</td>\n      <td>/home/johnny/Projects/datasets/custom_dataset_...</td>\n      <td>/home/johnny/Projects/datasets/custom_dataset_...</td>\n      <td>Person</td>\n      <td>141075.000000</td>\n      <td>Large</td>\n    </tr>\n    <tr>\n      <th>1</th>\n      <td>3</td>\n      <td>0.912500</td>\n      <td>0.265278</td>\n      <td>0.028125</td>\n      <td>0.026852</td>\n      <td>7103</td>\n      <td>1920.0</td>\n      <td>1080.0</td>\n      <td>/home/johnny/Projects/datasets/custom_dataset_...</td>\n      <td>/home/johnny/Projects/datasets/custom_dataset_...</td>\n      <td>UAV</td>\n      <td>1566.000000</td>\n      <td>Medium</td>\n    </tr>\n    <tr>\n      <th>2</th>\n      <td>3</td>\n      <td>0.554688</td>\n      <td>0.314583</td>\n      <td>0.151562</td>\n      <td>0.165278</td>\n      <td>5292</td>\n      <td>1280.0</td>\n      <td>720.0</td>\n      <td>/home/johnny/Projects/datasets/custom_dataset_...</td>\n      <td>/home/johnny/Projects/datasets/custom_dataset_...</td>\n      <td>UAV</td>\n      <td>23086.000000</td>\n      <td>Large</td>\n    </tr>\n    <tr>\n      <th>3</th>\n      <td>0</td>\n      <td>0.357776</td>\n      <td>0.605787</td>\n      <td>0.009604</td>\n      <td>0.016954</td>\n      <td>7649</td>\n      <td>1920.0</td>\n      <td>1080.0</td>\n      <td>/home/johnny/Projects/datasets/custom_dataset_...</td>\n      <td>/home/johnny/Projects/datasets/custom_dataset_...</td>\n      <td>Person</td>\n      <td>337.636353</td>\n      <td>Small</td>\n    </tr>\n    <tr>\n      <th>4</th>\n      <td>0</td>\n      <td>0.434849</td>\n      <td>0.627046</td>\n      <td>0.009969</td>\n      <td>0.039713</td>\n      <td>7649</td>\n      <td>1920.0</td>\n      <td>1080.0</td>\n      <td>/home/johnny/Projects/datasets/custom_dataset_...</td>\n      <td>/home/johnny/Projects/datasets/custom_dataset_...</td>\n      <td>Person</td>\n      <td>820.914551</td>\n      <td>Small</td>\n    </tr>\n    <tr>\n      <th>...</th>\n      <td>...</td>\n      <td>...</td>\n      <td>...</td>\n      <td>...</td>\n      <td>...</td>\n      <td>...</td>\n      <td>...</td>\n      <td>...</td>\n      <td>...</td>\n      <td>...</td>\n      <td>...</td>\n      <td>...</td>\n      <td>...</td>\n    </tr>\n    <tr>\n      <th>95016</th>\n      <td>2</td>\n      <td>0.480581</td>\n      <td>0.544305</td>\n      <td>0.041685</td>\n      <td>0.056822</td>\n      <td>1302</td>\n      <td>1624.0</td>\n      <td>1200.0</td>\n      <td>/home/johnny/Projects/datasets/custom_dataset_...</td>\n      <td>/home/johnny/Projects/datasets/custom_dataset_...</td>\n      <td>Truck</td>\n      <td>4615.924316</td>\n      <td>Medium</td>\n    </tr>\n    <tr>\n      <th>95017</th>\n      <td>1</td>\n      <td>0.537520</td>\n      <td>0.543896</td>\n      <td>0.023863</td>\n      <td>0.023301</td>\n      <td>1302</td>\n      <td>1624.0</td>\n      <td>1200.0</td>\n      <td>/home/johnny/Projects/datasets/custom_dataset_...</td>\n      <td>/home/johnny/Projects/datasets/custom_dataset_...</td>\n      <td>Car</td>\n      <td>1083.594849</td>\n      <td>Medium</td>\n    </tr>\n    <tr>\n      <th>95018</th>\n      <td>2</td>\n      <td>0.566215</td>\n      <td>0.542057</td>\n      <td>0.019634</td>\n      <td>0.023710</td>\n      <td>1302</td>\n      <td>1624.0</td>\n      <td>1200.0</td>\n      <td>/home/johnny/Projects/datasets/custom_dataset_...</td>\n      <td>/home/johnny/Projects/datasets/custom_dataset_...</td>\n      <td>Truck</td>\n      <td>907.201843</td>\n      <td>Small</td>\n    </tr>\n    <tr>\n      <th>95019</th>\n      <td>1</td>\n      <td>0.519231</td>\n      <td>0.718456</td>\n      <td>0.067308</td>\n      <td>0.065913</td>\n      <td>8507</td>\n      <td>624.0</td>\n      <td>531.0</td>\n      <td>/home/johnny/Projects/datasets/custom_dataset_...</td>\n      <td>/home/johnny/Projects/datasets/custom_dataset_...</td>\n      <td>Car</td>\n      <td>1470.000122</td>\n      <td>Medium</td>\n    </tr>\n    <tr>\n      <th>95020</th>\n      <td>1</td>\n      <td>0.701923</td>\n      <td>0.700565</td>\n      <td>0.041667</td>\n      <td>0.037665</td>\n      <td>8507</td>\n      <td>624.0</td>\n      <td>531.0</td>\n      <td>/home/johnny/Projects/datasets/custom_dataset_...</td>\n      <td>/home/johnny/Projects/datasets/custom_dataset_...</td>\n      <td>Car</td>\n      <td>520.000000</td>\n      <td>Small</td>\n    </tr>\n  </tbody>\n</table>\n<p>95021 rows × 13 columns</p>\n</div>"
     },
     "execution_count": 56,
     "metadata": {},
     "output_type": "execute_result"
    }
   ],
   "source": [
    "df_val"
   ]
  },
  {
   "cell_type": "code",
   "execution_count": 57,
   "id": "f4fafebe-a447-4a5a-b814-057d937d6cf2",
   "metadata": {
    "ExecuteTime": {
     "end_time": "2024-01-19T12:54:50.548062096Z",
     "start_time": "2024-01-19T12:54:50.491060996Z"
    }
   },
   "outputs": [
    {
     "data": {
      "text/plain": "bbox_size_category\nMedium    35772\nSmall     21698\nLarge     20803\nTiny      16748\nName: count, dtype: int64"
     },
     "execution_count": 57,
     "metadata": {},
     "output_type": "execute_result"
    }
   ],
   "source": [
    "df_val['bbox_size_category'].value_counts()"
   ]
  },
  {
   "cell_type": "markdown",
   "id": "3abf450a-27d6-49f6-bdf0-db6c4be7e980",
   "metadata": {},
   "source": [
    "# 1) Filter by Image Size (≥ 1920x1080)"
   ]
  },
  {
   "cell_type": "code",
   "execution_count": 58,
   "id": "5bff593e-26b4-45df-8ce3-dd1a41106976",
   "metadata": {
    "ExecuteTime": {
     "end_time": "2024-01-19T12:54:51.018459975Z",
     "start_time": "2024-01-19T12:54:50.975564745Z"
    }
   },
   "outputs": [],
   "source": [
    "df_size = df_val[(df_val['img_w']>= 1920)&(df_val['img_h']>= 1080)]"
   ]
  },
  {
   "cell_type": "code",
   "execution_count": 59,
   "id": "00a5e2c7-1b22-4fda-91cd-d6c0d90aadd1",
   "metadata": {
    "ExecuteTime": {
     "end_time": "2024-01-19T12:54:51.279668397Z",
     "start_time": "2024-01-19T12:54:51.274876957Z"
    }
   },
   "outputs": [
    {
     "data": {
      "text/plain": "       new_class_id       xcn       ycn        wn        hn   img   img_w  \\\n1                 3  0.912500  0.265278  0.028125  0.026852  7103  1920.0   \n3                 0  0.357776  0.605787  0.009604  0.016954  7649  1920.0   \n4                 0  0.434849  0.627046  0.009969  0.039713  7649  1920.0   \n5                 0  0.478359  0.629602  0.015969  0.039630  7649  1920.0   \n6                 0  0.496073  0.630537  0.017589  0.045704  7649  1920.0   \n...             ...       ...       ...       ...       ...   ...     ...   \n94952             1  0.411180  0.435370  0.008818  0.011482  9527  1920.0   \n94953             0  0.430362  0.376731  0.008640  0.017351  9863  3840.0   \n94954             0  0.727029  0.421764  0.009267  0.010194  9863  3840.0   \n94955             0  0.740905  0.426007  0.006809  0.006644  9863  3840.0   \n95012             3  0.465104  0.409722  0.026042  0.023148  6793  1920.0   \n\n        img_h                                         image_path  \\\n1      1080.0  /home/johnny/Projects/datasets/custom_dataset_...   \n3      1080.0  /home/johnny/Projects/datasets/custom_dataset_...   \n4      1080.0  /home/johnny/Projects/datasets/custom_dataset_...   \n5      1080.0  /home/johnny/Projects/datasets/custom_dataset_...   \n6      1080.0  /home/johnny/Projects/datasets/custom_dataset_...   \n...       ...                                                ...   \n94952  1080.0  /home/johnny/Projects/datasets/custom_dataset_...   \n94953  2160.0  /home/johnny/Projects/datasets/custom_dataset_...   \n94954  2160.0  /home/johnny/Projects/datasets/custom_dataset_...   \n94955  2160.0  /home/johnny/Projects/datasets/custom_dataset_...   \n95012  1080.0  /home/johnny/Projects/datasets/custom_dataset_...   \n\n                                              label_path class_name  \\\n1      /home/johnny/Projects/datasets/custom_dataset_...        UAV   \n3      /home/johnny/Projects/datasets/custom_dataset_...     Person   \n4      /home/johnny/Projects/datasets/custom_dataset_...     Person   \n5      /home/johnny/Projects/datasets/custom_dataset_...     Person   \n6      /home/johnny/Projects/datasets/custom_dataset_...     Person   \n...                                                  ...        ...   \n94952  /home/johnny/Projects/datasets/custom_dataset_...        Car   \n94953  /home/johnny/Projects/datasets/custom_dataset_...     Person   \n94954  /home/johnny/Projects/datasets/custom_dataset_...     Person   \n94955  /home/johnny/Projects/datasets/custom_dataset_...     Person   \n95012  /home/johnny/Projects/datasets/custom_dataset_...        UAV   \n\n         bbox_area bbox_size_category  \n1      1566.000000             Medium  \n3       337.636353              Small  \n4       820.914551              Small  \n5      1312.248047             Medium  \n6      1666.887085             Medium  \n...            ...                ...  \n94952   209.932404               Tiny  \n94953  1243.405396             Medium  \n94954   783.578552              Small  \n94955   375.276093              Small  \n95012  1250.000000             Medium  \n\n[23156 rows x 13 columns]",
      "text/html": "<div>\n<style scoped>\n    .dataframe tbody tr th:only-of-type {\n        vertical-align: middle;\n    }\n\n    .dataframe tbody tr th {\n        vertical-align: top;\n    }\n\n    .dataframe thead th {\n        text-align: right;\n    }\n</style>\n<table border=\"1\" class=\"dataframe\">\n  <thead>\n    <tr style=\"text-align: right;\">\n      <th></th>\n      <th>new_class_id</th>\n      <th>xcn</th>\n      <th>ycn</th>\n      <th>wn</th>\n      <th>hn</th>\n      <th>img</th>\n      <th>img_w</th>\n      <th>img_h</th>\n      <th>image_path</th>\n      <th>label_path</th>\n      <th>class_name</th>\n      <th>bbox_area</th>\n      <th>bbox_size_category</th>\n    </tr>\n  </thead>\n  <tbody>\n    <tr>\n      <th>1</th>\n      <td>3</td>\n      <td>0.912500</td>\n      <td>0.265278</td>\n      <td>0.028125</td>\n      <td>0.026852</td>\n      <td>7103</td>\n      <td>1920.0</td>\n      <td>1080.0</td>\n      <td>/home/johnny/Projects/datasets/custom_dataset_...</td>\n      <td>/home/johnny/Projects/datasets/custom_dataset_...</td>\n      <td>UAV</td>\n      <td>1566.000000</td>\n      <td>Medium</td>\n    </tr>\n    <tr>\n      <th>3</th>\n      <td>0</td>\n      <td>0.357776</td>\n      <td>0.605787</td>\n      <td>0.009604</td>\n      <td>0.016954</td>\n      <td>7649</td>\n      <td>1920.0</td>\n      <td>1080.0</td>\n      <td>/home/johnny/Projects/datasets/custom_dataset_...</td>\n      <td>/home/johnny/Projects/datasets/custom_dataset_...</td>\n      <td>Person</td>\n      <td>337.636353</td>\n      <td>Small</td>\n    </tr>\n    <tr>\n      <th>4</th>\n      <td>0</td>\n      <td>0.434849</td>\n      <td>0.627046</td>\n      <td>0.009969</td>\n      <td>0.039713</td>\n      <td>7649</td>\n      <td>1920.0</td>\n      <td>1080.0</td>\n      <td>/home/johnny/Projects/datasets/custom_dataset_...</td>\n      <td>/home/johnny/Projects/datasets/custom_dataset_...</td>\n      <td>Person</td>\n      <td>820.914551</td>\n      <td>Small</td>\n    </tr>\n    <tr>\n      <th>5</th>\n      <td>0</td>\n      <td>0.478359</td>\n      <td>0.629602</td>\n      <td>0.015969</td>\n      <td>0.039630</td>\n      <td>7649</td>\n      <td>1920.0</td>\n      <td>1080.0</td>\n      <td>/home/johnny/Projects/datasets/custom_dataset_...</td>\n      <td>/home/johnny/Projects/datasets/custom_dataset_...</td>\n      <td>Person</td>\n      <td>1312.248047</td>\n      <td>Medium</td>\n    </tr>\n    <tr>\n      <th>6</th>\n      <td>0</td>\n      <td>0.496073</td>\n      <td>0.630537</td>\n      <td>0.017589</td>\n      <td>0.045704</td>\n      <td>7649</td>\n      <td>1920.0</td>\n      <td>1080.0</td>\n      <td>/home/johnny/Projects/datasets/custom_dataset_...</td>\n      <td>/home/johnny/Projects/datasets/custom_dataset_...</td>\n      <td>Person</td>\n      <td>1666.887085</td>\n      <td>Medium</td>\n    </tr>\n    <tr>\n      <th>...</th>\n      <td>...</td>\n      <td>...</td>\n      <td>...</td>\n      <td>...</td>\n      <td>...</td>\n      <td>...</td>\n      <td>...</td>\n      <td>...</td>\n      <td>...</td>\n      <td>...</td>\n      <td>...</td>\n      <td>...</td>\n      <td>...</td>\n    </tr>\n    <tr>\n      <th>94952</th>\n      <td>1</td>\n      <td>0.411180</td>\n      <td>0.435370</td>\n      <td>0.008818</td>\n      <td>0.011482</td>\n      <td>9527</td>\n      <td>1920.0</td>\n      <td>1080.0</td>\n      <td>/home/johnny/Projects/datasets/custom_dataset_...</td>\n      <td>/home/johnny/Projects/datasets/custom_dataset_...</td>\n      <td>Car</td>\n      <td>209.932404</td>\n      <td>Tiny</td>\n    </tr>\n    <tr>\n      <th>94953</th>\n      <td>0</td>\n      <td>0.430362</td>\n      <td>0.376731</td>\n      <td>0.008640</td>\n      <td>0.017351</td>\n      <td>9863</td>\n      <td>3840.0</td>\n      <td>2160.0</td>\n      <td>/home/johnny/Projects/datasets/custom_dataset_...</td>\n      <td>/home/johnny/Projects/datasets/custom_dataset_...</td>\n      <td>Person</td>\n      <td>1243.405396</td>\n      <td>Medium</td>\n    </tr>\n    <tr>\n      <th>94954</th>\n      <td>0</td>\n      <td>0.727029</td>\n      <td>0.421764</td>\n      <td>0.009267</td>\n      <td>0.010194</td>\n      <td>9863</td>\n      <td>3840.0</td>\n      <td>2160.0</td>\n      <td>/home/johnny/Projects/datasets/custom_dataset_...</td>\n      <td>/home/johnny/Projects/datasets/custom_dataset_...</td>\n      <td>Person</td>\n      <td>783.578552</td>\n      <td>Small</td>\n    </tr>\n    <tr>\n      <th>94955</th>\n      <td>0</td>\n      <td>0.740905</td>\n      <td>0.426007</td>\n      <td>0.006809</td>\n      <td>0.006644</td>\n      <td>9863</td>\n      <td>3840.0</td>\n      <td>2160.0</td>\n      <td>/home/johnny/Projects/datasets/custom_dataset_...</td>\n      <td>/home/johnny/Projects/datasets/custom_dataset_...</td>\n      <td>Person</td>\n      <td>375.276093</td>\n      <td>Small</td>\n    </tr>\n    <tr>\n      <th>95012</th>\n      <td>3</td>\n      <td>0.465104</td>\n      <td>0.409722</td>\n      <td>0.026042</td>\n      <td>0.023148</td>\n      <td>6793</td>\n      <td>1920.0</td>\n      <td>1080.0</td>\n      <td>/home/johnny/Projects/datasets/custom_dataset_...</td>\n      <td>/home/johnny/Projects/datasets/custom_dataset_...</td>\n      <td>UAV</td>\n      <td>1250.000000</td>\n      <td>Medium</td>\n    </tr>\n  </tbody>\n</table>\n<p>23156 rows × 13 columns</p>\n</div>"
     },
     "execution_count": 59,
     "metadata": {},
     "output_type": "execute_result"
    }
   ],
   "source": [
    "df_size"
   ]
  },
  {
   "cell_type": "code",
   "execution_count": 60,
   "id": "78785554-76ac-48f8-adc8-a110212446f6",
   "metadata": {
    "ExecuteTime": {
     "end_time": "2024-01-19T12:54:51.543357304Z",
     "start_time": "2024-01-19T12:54:51.541888600Z"
    }
   },
   "outputs": [
    {
     "name": "stdout",
     "output_type": "stream",
     "text": [
      "The number of objects is 23156\n",
      "The number of images is 3154\n"
     ]
    }
   ],
   "source": [
    "print(f\"The number of objects is {len(df_size)}\")\n",
    "print(f\"The number of images is {len(df_size['img'].unique())}\")"
   ]
  },
  {
   "cell_type": "code",
   "execution_count": 61,
   "id": "ed34ebbc-e165-44fb-b720-684f9c1261d2",
   "metadata": {
    "ExecuteTime": {
     "end_time": "2024-01-19T12:54:52.246845201Z",
     "start_time": "2024-01-19T12:54:52.243659921Z"
    }
   },
   "outputs": [
    {
     "data": {
      "text/plain": "bbox_size_category\nSmall     7458\nMedium    7212\nTiny      6449\nLarge     2037\nName: count, dtype: int64"
     },
     "execution_count": 61,
     "metadata": {},
     "output_type": "execute_result"
    }
   ],
   "source": [
    "df_size['bbox_size_category'].value_counts()"
   ]
  },
  {
   "cell_type": "code",
   "execution_count": 62,
   "id": "7ee3f092-883c-4d3a-9b03-377445cb4afd",
   "metadata": {
    "ExecuteTime": {
     "end_time": "2024-01-19T12:54:52.490954829Z",
     "start_time": "2024-01-19T12:54:52.486365276Z"
    }
   },
   "outputs": [
    {
     "data": {
      "text/plain": "class_name\nPerson      15897\nCar          4584\nUAV          2206\nShip          321\nTruck         147\nAircraft        1\nName: count, dtype: int64"
     },
     "execution_count": 62,
     "metadata": {},
     "output_type": "execute_result"
    }
   ],
   "source": [
    "df_size['class_name'].value_counts()"
   ]
  },
  {
   "cell_type": "markdown",
   "id": "62e638f5-ec73-4051-b482-482af72d24fc",
   "metadata": {},
   "source": [
    "# 2) Filter by maximum number of objects present (≤ 100)"
   ]
  },
  {
   "cell_type": "code",
   "execution_count": 63,
   "id": "5ebb1a59-eb55-4cf2-b322-02c32ea56276",
   "metadata": {
    "ExecuteTime": {
     "end_time": "2024-01-19T12:54:53.052645751Z",
     "start_time": "2024-01-19T12:54:53.046725322Z"
    }
   },
   "outputs": [],
   "source": [
    "object_counts = df_size['img'].value_counts()\n",
    "selected_images = object_counts[object_counts <= 100].index\n",
    "df_filtered = df_size[df_size['img'].isin(selected_images)]"
   ]
  },
  {
   "cell_type": "code",
   "execution_count": 64,
   "id": "b57d7803-bd62-42ae-bd53-6bb41314fc98",
   "metadata": {
    "ExecuteTime": {
     "end_time": "2024-01-19T12:54:53.593315098Z",
     "start_time": "2024-01-19T12:54:53.522099688Z"
    }
   },
   "outputs": [],
   "source": [
    "df_filtered.to_csv('filtered_validation.csv', index=False)"
   ]
  },
  {
   "cell_type": "code",
   "execution_count": 65,
   "id": "49100e5d-5a9e-4a1d-becc-5caefcd34bb1",
   "metadata": {
    "ExecuteTime": {
     "end_time": "2024-01-19T12:54:53.780662432Z",
     "start_time": "2024-01-19T12:54:53.777045806Z"
    }
   },
   "outputs": [
    {
     "name": "stdout",
     "output_type": "stream",
     "text": [
      "The number of objects is 19455\n",
      "The number of images is 3133\n"
     ]
    }
   ],
   "source": [
    "print(f\"The number of objects is {len(df_filtered)}\")\n",
    "print(f\"The number of images is {len(df_filtered['img'].unique())}\")"
   ]
  },
  {
   "cell_type": "code",
   "execution_count": 66,
   "id": "49fb37b2-bff0-4ecb-9e4e-89bd47655224",
   "metadata": {
    "ExecuteTime": {
     "end_time": "2024-01-19T12:54:54.017218597Z",
     "start_time": "2024-01-19T12:54:54.009718497Z"
    }
   },
   "outputs": [
    {
     "data": {
      "text/plain": "bbox_size_category\nMedium    6689\nSmall     6556\nTiny      4190\nLarge     2020\nName: count, dtype: int64"
     },
     "execution_count": 66,
     "metadata": {},
     "output_type": "execute_result"
    }
   ],
   "source": [
    "df_filtered['bbox_size_category'].value_counts()"
   ]
  },
  {
   "cell_type": "code",
   "execution_count": null,
   "id": "14995316-580f-42df-9066-1d67450130a6",
   "metadata": {},
   "outputs": [],
   "source": [
    "import pandas as pd\n",
    "import os\n",
    "import shutil\n",
    "import yaml\n",
    "\n",
    "base_dir = '/home/johnny/Projects/datasets/Client_Validation_Set'\n",
    "\n",
    "subfolders = ['train', 'val', 'test']\n",
    "folders = ['images', 'labels']\n",
    "for folder in folders:\n",
    "    for subfolder in subfolders:\n",
    "        os.makedirs(os.path.join(base_dir, folder, subfolder), exist_ok=True)\n",
    "\n",
    "for index, row in df_filtered.iterrows():\n",
    "    image_path = row['image_path']\n",
    "    label_path = row['label_path']\n",
    "    shutil.copy(image_path, os.path.join(base_dir, 'images', 'val'))\n",
    "    shutil.copy(label_path, os.path.join(base_dir, 'labels', 'val'))\n",
    "yaml_data = {\n",
    "    'path': '../small-fast-detector/inference_tools/Evaluation/datasets/Client_Validation_Set',  # PUT HERE THE PATH\n",
    "    'train': 'images/train',\n",
    "    'val': 'images/val',\n",
    "    'test': '',\n",
    "    'names': {\n",
    "        0: 'uav',\n",
    "        1: 'airplane',\n",
    "        2: 'boat',\n",
    "        3: 'car',\n",
    "        4: 'person',\n",
    "        5: 'truck'\n",
    "    }\n",
    "\n",
    "}\n",
    "with open(os.path.join(base_dir, 'data.yaml'), 'w') as file:\n",
    "    yaml.dump(yaml_data, file, default_flow_style=False)\n",
    "\n",
    "print(\"Dataset organized and YAML file created.\")"
   ]
  },
  {
   "cell_type": "markdown",
   "source": [
    "# PART 2"
   ],
   "metadata": {
    "collapsed": false
   },
   "id": "c1d99be78e66cf05"
  },
  {
   "cell_type": "code",
   "execution_count": 68,
   "outputs": [],
   "source": [
    "import yaml\n",
    "import platform\n",
    "import pandas as pd\n",
    "import glob\n",
    "from PIL import Image\n",
    "import brambox as bb\n",
    "import numpy as np\n",
    "import pandas as pd\n",
    "from IPython.display import display\n",
    "import matplotlib.pyplot as plt\n",
    "import seaborn as sns"
   ],
   "metadata": {
    "collapsed": false,
    "ExecuteTime": {
     "end_time": "2024-01-19T12:55:27.506435775Z",
     "start_time": "2024-01-19T12:55:27.458558702Z"
    }
   },
   "id": "aca4fa1dfc716195"
  },
  {
   "cell_type": "code",
   "execution_count": 69,
   "outputs": [],
   "source": [
    "def check_os():\n",
    "    os = platform.system()\n",
    "\n",
    "    if os == 'Darwin':\n",
    "        return \"MacOS\"\n",
    "    elif os == 'Linux':\n",
    "        return \"Linux\"\n",
    "    else:\n",
    "        return \"Unknown OS\"\n",
    "    \n",
    "operating_system = check_os()\n",
    "\n",
    "\n",
    "if operating_system == \"MacOS\":\n",
    "    root_path = \"/Users/johnny/Projects/\"\n",
    "elif operating_system == \"Linux\":\n",
    "    root_path = \"/home/johnny/Projects/\""
   ],
   "metadata": {
    "collapsed": false,
    "ExecuteTime": {
     "end_time": "2024-01-19T12:55:28.281372251Z",
     "start_time": "2024-01-19T12:55:28.278691945Z"
    }
   },
   "id": "5136baa4c4771ce0"
  },
  {
   "cell_type": "code",
   "execution_count": 70,
   "outputs": [
    {
     "name": "stdout",
     "output_type": "stream",
     "text": [
      "detections:\n"
     ]
    },
    {
     "data": {
      "text/plain": "   image class_label  id  x_top_left  y_top_left     width    height  \\\n0   5009    airplane NaN    1249.232     504.652  1609.672   887.401   \n1   5009         uav NaN    1134.438     506.220  1728.182   884.410   \n2   5009      person NaN    1733.487     575.757    98.935   117.171   \n3   5019      person NaN       3.357      46.260   927.604  2777.971   \n4   5019      person NaN       6.387    1015.198   921.734  1812.106   \n\n   confidence  \n0     0.01988  \n1     0.89394  \n2     0.00298  \n3     0.04554  \n4     0.01079  ",
      "text/html": "<div>\n<style scoped>\n    .dataframe tbody tr th:only-of-type {\n        vertical-align: middle;\n    }\n\n    .dataframe tbody tr th {\n        vertical-align: top;\n    }\n\n    .dataframe thead th {\n        text-align: right;\n    }\n</style>\n<table border=\"1\" class=\"dataframe\">\n  <thead>\n    <tr style=\"text-align: right;\">\n      <th></th>\n      <th>image</th>\n      <th>class_label</th>\n      <th>id</th>\n      <th>x_top_left</th>\n      <th>y_top_left</th>\n      <th>width</th>\n      <th>height</th>\n      <th>confidence</th>\n    </tr>\n  </thead>\n  <tbody>\n    <tr>\n      <th>0</th>\n      <td>5009</td>\n      <td>airplane</td>\n      <td>NaN</td>\n      <td>1249.232</td>\n      <td>504.652</td>\n      <td>1609.672</td>\n      <td>887.401</td>\n      <td>0.01988</td>\n    </tr>\n    <tr>\n      <th>1</th>\n      <td>5009</td>\n      <td>uav</td>\n      <td>NaN</td>\n      <td>1134.438</td>\n      <td>506.220</td>\n      <td>1728.182</td>\n      <td>884.410</td>\n      <td>0.89394</td>\n    </tr>\n    <tr>\n      <th>2</th>\n      <td>5009</td>\n      <td>person</td>\n      <td>NaN</td>\n      <td>1733.487</td>\n      <td>575.757</td>\n      <td>98.935</td>\n      <td>117.171</td>\n      <td>0.00298</td>\n    </tr>\n    <tr>\n      <th>3</th>\n      <td>5019</td>\n      <td>person</td>\n      <td>NaN</td>\n      <td>3.357</td>\n      <td>46.260</td>\n      <td>927.604</td>\n      <td>2777.971</td>\n      <td>0.04554</td>\n    </tr>\n    <tr>\n      <th>4</th>\n      <td>5019</td>\n      <td>person</td>\n      <td>NaN</td>\n      <td>6.387</td>\n      <td>1015.198</td>\n      <td>921.734</td>\n      <td>1812.106</td>\n      <td>0.01079</td>\n    </tr>\n  </tbody>\n</table>\n</div>"
     },
     "metadata": {},
     "output_type": "display_data"
    }
   ],
   "source": [
    "from brambox.io.parser.detection import CocoParser\n",
    "\n",
    "# Load detections\n",
    "\n",
    "det = bb.io.load(CocoParser, '../../small-fast-detector/runs/detect/val/predictions.json')\n",
    "print('detections:')\n",
    "det['image'] = det['image'].astype(str).str.lstrip('0').astype(int)\n",
    "det['class_label'] = det['class_label'].astype(int)\n",
    "label_mapping = {\n",
    "    0: 'person',\n",
    "    1: 'car',\n",
    "    2: 'truck',\n",
    "    3: 'uav',\n",
    "    4: 'airplane',\n",
    "    5: 'boat'\n",
    "}\n",
    "\n",
    "# Applying the mapping to the 'class_label' column\n",
    "det['class_label'] = det['class_label'].map(label_mapping)\n",
    "\n",
    "display(det.head())"
   ],
   "metadata": {
    "collapsed": false,
    "ExecuteTime": {
     "end_time": "2024-01-19T12:55:41.292621601Z",
     "start_time": "2024-01-19T12:55:40.362642021Z"
    }
   },
   "id": "f667a15bee6a299f"
  },
  {
   "cell_type": "code",
   "execution_count": 71,
   "outputs": [
    {
     "name": "stdout",
     "output_type": "stream",
     "text": [
      "annotations:\n"
     ]
    },
    {
     "data": {
      "text/plain": "   image class_label       id  x_top_left  y_top_left  width  height  \\\n0  10000      person  10389.0      3386.0      2147.0   23.0    13.0   \n1  10000      person  10390.0      2965.0       797.0   70.0    62.0   \n2  10000      person  10391.0      2153.0       843.0   32.0    28.0   \n3  10000      person  10392.0       889.0      1017.0  146.0    51.0   \n4  10000        boat  10393.0       454.0       241.0  104.0    33.0   \n\n   occluded  truncated   lost  difficult  ignore  image_width  image_height  \n0       0.0        0.0  False      False   False         3840          2160  \n1       0.0        0.0  False      False   False         3840          2160  \n2       0.0        0.0  False      False   False         3840          2160  \n3       0.0        0.0  False      False   False         3840          2160  \n4       0.0        0.0  False      False   False         3840          2160  ",
      "text/html": "<div>\n<style scoped>\n    .dataframe tbody tr th:only-of-type {\n        vertical-align: middle;\n    }\n\n    .dataframe tbody tr th {\n        vertical-align: top;\n    }\n\n    .dataframe thead th {\n        text-align: right;\n    }\n</style>\n<table border=\"1\" class=\"dataframe\">\n  <thead>\n    <tr style=\"text-align: right;\">\n      <th></th>\n      <th>image</th>\n      <th>class_label</th>\n      <th>id</th>\n      <th>x_top_left</th>\n      <th>y_top_left</th>\n      <th>width</th>\n      <th>height</th>\n      <th>occluded</th>\n      <th>truncated</th>\n      <th>lost</th>\n      <th>difficult</th>\n      <th>ignore</th>\n      <th>image_width</th>\n      <th>image_height</th>\n    </tr>\n  </thead>\n  <tbody>\n    <tr>\n      <th>0</th>\n      <td>10000</td>\n      <td>person</td>\n      <td>10389.0</td>\n      <td>3386.0</td>\n      <td>2147.0</td>\n      <td>23.0</td>\n      <td>13.0</td>\n      <td>0.0</td>\n      <td>0.0</td>\n      <td>False</td>\n      <td>False</td>\n      <td>False</td>\n      <td>3840</td>\n      <td>2160</td>\n    </tr>\n    <tr>\n      <th>1</th>\n      <td>10000</td>\n      <td>person</td>\n      <td>10390.0</td>\n      <td>2965.0</td>\n      <td>797.0</td>\n      <td>70.0</td>\n      <td>62.0</td>\n      <td>0.0</td>\n      <td>0.0</td>\n      <td>False</td>\n      <td>False</td>\n      <td>False</td>\n      <td>3840</td>\n      <td>2160</td>\n    </tr>\n    <tr>\n      <th>2</th>\n      <td>10000</td>\n      <td>person</td>\n      <td>10391.0</td>\n      <td>2153.0</td>\n      <td>843.0</td>\n      <td>32.0</td>\n      <td>28.0</td>\n      <td>0.0</td>\n      <td>0.0</td>\n      <td>False</td>\n      <td>False</td>\n      <td>False</td>\n      <td>3840</td>\n      <td>2160</td>\n    </tr>\n    <tr>\n      <th>3</th>\n      <td>10000</td>\n      <td>person</td>\n      <td>10392.0</td>\n      <td>889.0</td>\n      <td>1017.0</td>\n      <td>146.0</td>\n      <td>51.0</td>\n      <td>0.0</td>\n      <td>0.0</td>\n      <td>False</td>\n      <td>False</td>\n      <td>False</td>\n      <td>3840</td>\n      <td>2160</td>\n    </tr>\n    <tr>\n      <th>4</th>\n      <td>10000</td>\n      <td>boat</td>\n      <td>10393.0</td>\n      <td>454.0</td>\n      <td>241.0</td>\n      <td>104.0</td>\n      <td>33.0</td>\n      <td>0.0</td>\n      <td>0.0</td>\n      <td>False</td>\n      <td>False</td>\n      <td>False</td>\n      <td>3840</td>\n      <td>2160</td>\n    </tr>\n  </tbody>\n</table>\n</div>"
     },
     "metadata": {},
     "output_type": "display_data"
    }
   ],
   "source": [
    "from brambox.io.parser.annotation import CocoParser\n",
    "# Load annotations\n",
    "anno = bb.io.load(CocoParser(add_image_dims=True), '../../small-fast-detector/inference_tools/Evaluation/datasets/Client_Validation_Set_3133/annotations/instances_val2017.json')\n",
    "anno['image'] = anno['image'].astype(str).str.lstrip('0').astype(int)\n",
    "\n",
    "print('annotations:')\n",
    "display(anno.head())\n",
    "\n",
    "# save dataframes\n",
    "det.to_csv('../../small-fast-detector/runs/detect/val/detections.csv', index=False)\n",
    "\n",
    "anno.to_csv('../../small-fast-detector/runs/detect/val/annotations.csv', index=False)"
   ],
   "metadata": {
    "collapsed": false,
    "ExecuteTime": {
     "end_time": "2024-01-19T12:55:44.312644675Z",
     "start_time": "2024-01-19T12:55:43.818305378Z"
    }
   },
   "id": "c4d2e90df714d74"
  },
  {
   "cell_type": "code",
   "execution_count": 72,
   "outputs": [
    {
     "data": {
      "text/plain": "  0%|          | 0/3133 [00:00<?, ?it/s]",
      "application/vnd.jupyter.widget-view+json": {
       "version_major": 2,
       "version_minor": 0,
       "model_id": "798cc71082384cc4b1a1dd8616c1928b"
      }
     },
     "metadata": {},
     "output_type": "display_data"
    },
    {
     "name": "stderr",
     "output_type": "stream",
     "text": [
      "/tmp/ipykernel_27629/942259679.py:155: FutureWarning: The behavior of DataFrame concatenation with empty or all-NA entries is deprecated. In a future version, this will no longer exclude empty or all-NA columns when determining the result dtypes. To retain the old behavior, exclude the relevant entries before the concat operation.\n",
      "  image_stats = pd.concat([image_stats, pd.DataFrame([new_row])], ignore_index=True)\n"
     ]
    }
   ],
   "source": [
    "from tqdm.notebook import tqdm\n",
    "\n",
    "\n",
    "def calculate_area(row):\n",
    "    return row['width'] * row['height']\n",
    "\n",
    "def iou(box_a, box_b):\n",
    "    xA = max(box_a[0], box_b[0])\n",
    "    yA = max(box_a[1], box_b[1])\n",
    "    xB = min(box_a[2], box_b[2])\n",
    "    yB = min(box_a[3], box_b[3])\n",
    "\n",
    "    interArea = max(0, xB - xA) * max(0, yB - yA)\n",
    "\n",
    "    boxAArea = (box_a[2] - box_a[0]) * (box_a[3] - box_a[1])\n",
    "    boxBArea = (box_b[2] - box_b[0]) * (box_b[3] - box_b[1])\n",
    "\n",
    "    iou = interArea / float(boxAArea + boxBArea - interArea)\n",
    "    return iou\n",
    "\n",
    "def calculate_map(detected, actual, class_labels):\n",
    "    aps = []\n",
    "    if detected.empty or 'class_label' not in detected.columns:\n",
    "        return 0\n",
    "\n",
    "    for label in class_labels:\n",
    "        if label not in detected['class_label'].values:\n",
    "            aps.append(0)\n",
    "            continue\n",
    "\n",
    "        dc = detected[detected.class_label == label]\n",
    "        ac = actual[actual.class_label == label]\n",
    "\n",
    "        ap_coco = []\n",
    "        for iou_threshold in range(50, 100, 5):\n",
    "            if dc.empty:\n",
    "                ap_coco.append(0)\n",
    "                continue\n",
    "\n",
    "            pr = bb.stat.pr(dc, ac, iou_threshold / 100, smooth=True)\n",
    "            ap_coco.append(bb.stat.auc_interpolated(pr))\n",
    "\n",
    "        aps.append(sum(ap_coco) / len(ap_coco))\n",
    "\n",
    "    mAP_coco = sum(aps) / len(aps) if aps else 0\n",
    "    return mAP_coco\n",
    "\n",
    "def calculate_pr_curve(detected, actual, iou_threshold):\n",
    "    \"\"\" Calcula la curva PR para un umbral de IoU específico. \"\"\"\n",
    "    matched_det = bb.stat.match_det(detected, actual, threshold=iou_threshold, \n",
    "                                    criteria=bb.stat.coordinates.iou, \n",
    "                                    ignore=bb.stat.IgnoreMethod.SINGLE)\n",
    "    pr_curve = bb.stat.pr(matched_det, actual)\n",
    "    return pr_curve\n",
    "\n",
    "def calculate_recall_precision(tp, fn, fp):\n",
    "    \"\"\" Calcula el recall y la precisión. \"\"\"\n",
    "    recall = tp / (tp + fn) if (tp + fn) > 0 else 0\n",
    "    precision = tp / (tp + fp) if (tp + fp) > 0 else 0\n",
    "    return recall, precision\n",
    "\n",
    "def calculate_ap(recalls, precisions):\n",
    "    \"\"\" Calcula el Average Precision (AP) a partir de las curvas de recall y precision. \"\"\"\n",
    "    recalls = [0] + recalls + [1] \n",
    "    precisions = [0] + precisions + [0] \n",
    "\n",
    "    ap = np.sum((recalls[i] - recalls[i - 1]) * precisions[i] for i in range(1, len(recalls)))\n",
    "    return ap\n",
    "\n",
    "def calculate_metrics(detected, actual, class_labels, iou_threshold=0.5):\n",
    "    precision = []\n",
    "    recall = []\n",
    "\n",
    "    for label in class_labels:\n",
    "        tp_per_class = 0\n",
    "        fp_per_class = 0\n",
    "        fn_per_class = 0\n",
    "        detected_class = detected[detected['class_label'] == label]\n",
    "        actual_class = actual[actual['class_label'] == label]\n",
    "\n",
    "        for _, det_row in detected_class.iterrows():\n",
    "            box_det = [det_row['x_top_left'], det_row['y_top_left'],\n",
    "                       det_row['x_top_left'] + det_row['width'], \n",
    "                       det_row['y_top_left'] + det_row['height']]\n",
    "\n",
    "            best_iou = 0\n",
    "            for _, act_row in actual_class.iterrows():\n",
    "                box_act = [act_row['x_top_left'], act_row['y_top_left'],\n",
    "                           act_row['x_top_left'] + act_row['width'], \n",
    "                           act_row['y_top_left'] + act_row['height']]\n",
    "                current_iou = iou(box_det, box_act)\n",
    "                best_iou = max(best_iou, current_iou)\n",
    "\n",
    "            if best_iou >= iou_threshold:\n",
    "                tp_per_class += 1\n",
    "            else:\n",
    "                fp_per_class += 1\n",
    "\n",
    "        # Calcular FN\n",
    "        fn_per_class = len(actual) - tp_per_class\n",
    "    \n",
    "        # Calcular recall y precisión\n",
    "        recall_per_class, precision_per_class = calculate_recall_precision(tp_per_class, fn_per_class, fp_per_class)\n",
    "        recall.append(recall_per_class)\n",
    "        precision.append(precision_per_class)\n",
    "    \n",
    "    recall = np.mean(recall)\n",
    "    precision = np.mean(precision)\n",
    "\n",
    "    # Calcular AP por clase y luego calcular el promedio (mAP)\n",
    "    mAP = calculate_map(detected, actual, class_labels)\n",
    "\n",
    "    return recall, precision, mAP\n",
    "\n",
    "image_stats = pd.DataFrame(columns=['name', 'width', 'height', 'num_of_gt_objects', 'lowest_area', 'biggest_area', 'num_of_predicted_objects', 'recall', 'precision', 'mAP'])\n",
    "\n",
    "det_grouped = det.groupby('image', observed=True)\n",
    "anno_grouped = anno.groupby('image', observed=True)\n",
    "\n",
    "class_labels = anno['class_label'].unique().tolist()\n",
    "\n",
    "total_images = set(anno['image'].unique().tolist() + det['image'].unique().tolist())\n",
    "total_images = sorted(total_images)\n",
    "for image_id in tqdm(total_images):\n",
    "    width = height = num_of_gt_objects = lowest_area = biggest_area = num_of_predicted_objects = np.nan\n",
    "    recall = precision = mAP = 0\n",
    "\n",
    "    if image_id in anno_grouped.groups:\n",
    "        image_data = anno_grouped.get_group(image_id).copy()\n",
    "        width = image_data.iloc[0]['image_width']\n",
    "        height = image_data.iloc[0]['image_height']\n",
    "        num_of_gt_objects = len(image_data)\n",
    "        image_data['area'] = image_data.apply(calculate_area, axis=1)\n",
    "        lowest_area = image_data['area'].min() if not image_data['area'].empty else np.nan\n",
    "        biggest_area = image_data['area'].max() if not image_data['area'].empty else np.nan\n",
    "\n",
    "    if image_id in det_grouped.groups:\n",
    "        det_data = det_grouped.get_group(image_id)\n",
    "        num_of_predicted_objects = len(det_data)\n",
    "        recall, precision, mAP = calculate_metrics(det_data, image_data, class_labels)\n",
    "\n",
    "    new_row = {\n",
    "        'name': image_id,\n",
    "        'width': width,\n",
    "        'height': height,\n",
    "        'num_of_gt_objects': num_of_gt_objects,\n",
    "        'lowest_area': lowest_area,\n",
    "        'biggest_area': biggest_area,\n",
    "        'num_of_predicted_objects': num_of_predicted_objects,\n",
    "        'recall': recall,\n",
    "        'precision': precision,\n",
    "        'mAP': mAP,\n",
    "        \n",
    "    }\n",
    "    image_stats = pd.concat([image_stats, pd.DataFrame([new_row])], ignore_index=True)\n"
   ],
   "metadata": {
    "collapsed": false,
    "ExecuteTime": {
     "end_time": "2024-01-19T12:59:10.371261093Z",
     "start_time": "2024-01-19T12:55:44.682824481Z"
    }
   },
   "id": "7a27d0172ff2cb56"
  },
  {
   "cell_type": "code",
   "outputs": [
    {
     "name": "stdout",
     "output_type": "stream",
     "text": [
      "The number of images is 3133\n"
     ]
    }
   ],
   "source": [
    "print(f\"The number of images is {len(image_stats['name'].unique())}\")"
   ],
   "metadata": {
    "collapsed": false,
    "ExecuteTime": {
     "end_time": "2024-01-19T12:59:10.419094006Z",
     "start_time": "2024-01-19T12:59:10.372597014Z"
    }
   },
   "id": "96921ad2c5955d66",
   "execution_count": 73
  },
  {
   "cell_type": "code",
   "outputs": [],
   "source": [
    "grouped_df_filtered = df_filtered.groupby('img').agg(\n",
    "    num_objects=('img', 'count'),\n",
    "    image_path=('image_path', 'first'),  # Tomamos el primer 'image_path' para cada grupo\n",
    "    label_path=('label_path', 'first')   # Tomamos el primer 'label_path' para cada grupo\n",
    ").reset_index()"
   ],
   "metadata": {
    "collapsed": false,
    "ExecuteTime": {
     "end_time": "2024-01-19T12:59:10.420691736Z",
     "start_time": "2024-01-19T12:59:10.418704840Z"
    }
   },
   "id": "6c7c6eddd5087afa",
   "execution_count": 74
  },
  {
   "cell_type": "code",
   "outputs": [],
   "source": [
    "image_stats = pd.merge(image_stats, grouped_df_filtered[['img', 'image_path', 'label_path']], left_on='name', right_on='img', how='left')"
   ],
   "metadata": {
    "collapsed": false,
    "ExecuteTime": {
     "end_time": "2024-01-19T12:59:10.421290313Z",
     "start_time": "2024-01-19T12:59:10.418910163Z"
    }
   },
   "id": "ce8a1e9700236ede",
   "execution_count": 75
  },
  {
   "cell_type": "code",
   "outputs": [
    {
     "name": "stdout",
     "output_type": "stream",
     "text": [
      "The number of images is 3133\n"
     ]
    }
   ],
   "source": [
    "image_stats.sort_values(by=['name'], ascending=True, inplace=True)\n",
    "print(f\"The number of images is {len(image_stats['name'].unique())}\")"
   ],
   "metadata": {
    "collapsed": false,
    "ExecuteTime": {
     "end_time": "2024-01-19T12:59:10.422235827Z",
     "start_time": "2024-01-19T12:59:10.418967190Z"
    }
   },
   "id": "eb1c72ce48571236",
   "execution_count": 76
  },
  {
   "cell_type": "code",
   "execution_count": 77,
   "outputs": [],
   "source": [
    "image_stats.to_csv('../../small-fast-detector/runs/detect/val/image_stats.csv', index=False)"
   ],
   "metadata": {
    "collapsed": false,
    "ExecuteTime": {
     "end_time": "2024-01-19T12:59:10.452662372Z",
     "start_time": "2024-01-19T12:59:10.419503180Z"
    }
   },
   "id": "5b7eafda42e6b300"
  },
  {
   "cell_type": "code",
   "outputs": [
    {
     "data": {
      "text/plain": "3133"
     },
     "execution_count": 78,
     "metadata": {},
     "output_type": "execute_result"
    }
   ],
   "source": [
    "# check if there are images repeated\n",
    "image_stats['name'].unique()\n",
    "len(image_stats)"
   ],
   "metadata": {
    "collapsed": false,
    "ExecuteTime": {
     "end_time": "2024-01-19T12:59:10.487310852Z",
     "start_time": "2024-01-19T12:59:10.443611219Z"
    }
   },
   "id": "d5079a59e1e2f588",
   "execution_count": 78
  },
  {
   "cell_type": "code",
   "outputs": [],
   "source": [
    "df_filtered_2k = image_stats.sort_values(by=['recall'], ascending=False).head(2000)"
   ],
   "metadata": {
    "collapsed": false,
    "ExecuteTime": {
     "end_time": "2024-01-19T13:37:19.794428503Z",
     "start_time": "2024-01-19T13:37:19.747925257Z"
    }
   },
   "id": "c4571900b9b956b1",
   "execution_count": 126
  },
  {
   "cell_type": "code",
   "outputs": [
    {
     "data": {
      "text/plain": "      name width height num_of_gt_objects  lowest_area  biggest_area  \\\n2749  9703  2249   2811                 1       8880.0        8880.0   \n72    5464  1920   1080                 1       5828.0        5828.0   \n678   6070  1920   1080                 1       2448.0        2448.0   \n603   5995  1920   1080                 1       9225.0        9225.0   \n2429  7911  3916   2842                 1      23653.0       23653.0   \n...    ...   ...    ...               ...          ...           ...   \n1022  6414  1920   1080                10        464.0        1632.0   \n1598  6990  1920   1080                15        280.0        2079.0   \n1231  6623  1920   1080                 5       1050.0        6144.0   \n427   5819  1920   1080                10        420.0       16960.0   \n910   6302  1920   1080                 5        348.0        1980.0   \n\n     num_of_predicted_objects    recall  precision       mAP   img  \\\n2749                        8  1.000000   0.125000  0.060692  9703   \n72                         28  0.833333   0.037879  0.066044  5464   \n678                        68  0.833333   0.030864  0.074300  6070   \n603                       159  0.833333   0.005952  0.009493  5995   \n2429                       75  0.833333   0.029762  0.045427  7911   \n...                       ...       ...        ...       ...   ...   \n1022                      138  0.300000   0.103383  0.169901  6414   \n1598                      117  0.300000   0.077887  0.156550  6990   \n1231                      132  0.300000   0.043557  0.136234  6623   \n427                        60  0.300000   0.117665  0.287718  5819   \n910                        55  0.300000   0.045238  0.127394  6302   \n\n                                             image_path  \\\n2749  /home/johnny/Projects/datasets/custom_dataset_...   \n72    /home/johnny/Projects/datasets/custom_dataset_...   \n678   /home/johnny/Projects/datasets/custom_dataset_...   \n603   /home/johnny/Projects/datasets/custom_dataset_...   \n2429  /home/johnny/Projects/datasets/custom_dataset_...   \n...                                                 ...   \n1022  /home/johnny/Projects/datasets/custom_dataset_...   \n1598  /home/johnny/Projects/datasets/custom_dataset_...   \n1231  /home/johnny/Projects/datasets/custom_dataset_...   \n427   /home/johnny/Projects/datasets/custom_dataset_...   \n910   /home/johnny/Projects/datasets/custom_dataset_...   \n\n                                             label_path  \n2749  /home/johnny/Projects/datasets/custom_dataset_...  \n72    /home/johnny/Projects/datasets/custom_dataset_...  \n678   /home/johnny/Projects/datasets/custom_dataset_...  \n603   /home/johnny/Projects/datasets/custom_dataset_...  \n2429  /home/johnny/Projects/datasets/custom_dataset_...  \n...                                                 ...  \n1022  /home/johnny/Projects/datasets/custom_dataset_...  \n1598  /home/johnny/Projects/datasets/custom_dataset_...  \n1231  /home/johnny/Projects/datasets/custom_dataset_...  \n427   /home/johnny/Projects/datasets/custom_dataset_...  \n910   /home/johnny/Projects/datasets/custom_dataset_...  \n\n[1000 rows x 13 columns]",
      "text/html": "<div>\n<style scoped>\n    .dataframe tbody tr th:only-of-type {\n        vertical-align: middle;\n    }\n\n    .dataframe tbody tr th {\n        vertical-align: top;\n    }\n\n    .dataframe thead th {\n        text-align: right;\n    }\n</style>\n<table border=\"1\" class=\"dataframe\">\n  <thead>\n    <tr style=\"text-align: right;\">\n      <th></th>\n      <th>name</th>\n      <th>width</th>\n      <th>height</th>\n      <th>num_of_gt_objects</th>\n      <th>lowest_area</th>\n      <th>biggest_area</th>\n      <th>num_of_predicted_objects</th>\n      <th>recall</th>\n      <th>precision</th>\n      <th>mAP</th>\n      <th>img</th>\n      <th>image_path</th>\n      <th>label_path</th>\n    </tr>\n  </thead>\n  <tbody>\n    <tr>\n      <th>2749</th>\n      <td>9703</td>\n      <td>2249</td>\n      <td>2811</td>\n      <td>1</td>\n      <td>8880.0</td>\n      <td>8880.0</td>\n      <td>8</td>\n      <td>1.000000</td>\n      <td>0.125000</td>\n      <td>0.060692</td>\n      <td>9703</td>\n      <td>/home/johnny/Projects/datasets/custom_dataset_...</td>\n      <td>/home/johnny/Projects/datasets/custom_dataset_...</td>\n    </tr>\n    <tr>\n      <th>72</th>\n      <td>5464</td>\n      <td>1920</td>\n      <td>1080</td>\n      <td>1</td>\n      <td>5828.0</td>\n      <td>5828.0</td>\n      <td>28</td>\n      <td>0.833333</td>\n      <td>0.037879</td>\n      <td>0.066044</td>\n      <td>5464</td>\n      <td>/home/johnny/Projects/datasets/custom_dataset_...</td>\n      <td>/home/johnny/Projects/datasets/custom_dataset_...</td>\n    </tr>\n    <tr>\n      <th>678</th>\n      <td>6070</td>\n      <td>1920</td>\n      <td>1080</td>\n      <td>1</td>\n      <td>2448.0</td>\n      <td>2448.0</td>\n      <td>68</td>\n      <td>0.833333</td>\n      <td>0.030864</td>\n      <td>0.074300</td>\n      <td>6070</td>\n      <td>/home/johnny/Projects/datasets/custom_dataset_...</td>\n      <td>/home/johnny/Projects/datasets/custom_dataset_...</td>\n    </tr>\n    <tr>\n      <th>603</th>\n      <td>5995</td>\n      <td>1920</td>\n      <td>1080</td>\n      <td>1</td>\n      <td>9225.0</td>\n      <td>9225.0</td>\n      <td>159</td>\n      <td>0.833333</td>\n      <td>0.005952</td>\n      <td>0.009493</td>\n      <td>5995</td>\n      <td>/home/johnny/Projects/datasets/custom_dataset_...</td>\n      <td>/home/johnny/Projects/datasets/custom_dataset_...</td>\n    </tr>\n    <tr>\n      <th>2429</th>\n      <td>7911</td>\n      <td>3916</td>\n      <td>2842</td>\n      <td>1</td>\n      <td>23653.0</td>\n      <td>23653.0</td>\n      <td>75</td>\n      <td>0.833333</td>\n      <td>0.029762</td>\n      <td>0.045427</td>\n      <td>7911</td>\n      <td>/home/johnny/Projects/datasets/custom_dataset_...</td>\n      <td>/home/johnny/Projects/datasets/custom_dataset_...</td>\n    </tr>\n    <tr>\n      <th>...</th>\n      <td>...</td>\n      <td>...</td>\n      <td>...</td>\n      <td>...</td>\n      <td>...</td>\n      <td>...</td>\n      <td>...</td>\n      <td>...</td>\n      <td>...</td>\n      <td>...</td>\n      <td>...</td>\n      <td>...</td>\n      <td>...</td>\n    </tr>\n    <tr>\n      <th>1022</th>\n      <td>6414</td>\n      <td>1920</td>\n      <td>1080</td>\n      <td>10</td>\n      <td>464.0</td>\n      <td>1632.0</td>\n      <td>138</td>\n      <td>0.300000</td>\n      <td>0.103383</td>\n      <td>0.169901</td>\n      <td>6414</td>\n      <td>/home/johnny/Projects/datasets/custom_dataset_...</td>\n      <td>/home/johnny/Projects/datasets/custom_dataset_...</td>\n    </tr>\n    <tr>\n      <th>1598</th>\n      <td>6990</td>\n      <td>1920</td>\n      <td>1080</td>\n      <td>15</td>\n      <td>280.0</td>\n      <td>2079.0</td>\n      <td>117</td>\n      <td>0.300000</td>\n      <td>0.077887</td>\n      <td>0.156550</td>\n      <td>6990</td>\n      <td>/home/johnny/Projects/datasets/custom_dataset_...</td>\n      <td>/home/johnny/Projects/datasets/custom_dataset_...</td>\n    </tr>\n    <tr>\n      <th>1231</th>\n      <td>6623</td>\n      <td>1920</td>\n      <td>1080</td>\n      <td>5</td>\n      <td>1050.0</td>\n      <td>6144.0</td>\n      <td>132</td>\n      <td>0.300000</td>\n      <td>0.043557</td>\n      <td>0.136234</td>\n      <td>6623</td>\n      <td>/home/johnny/Projects/datasets/custom_dataset_...</td>\n      <td>/home/johnny/Projects/datasets/custom_dataset_...</td>\n    </tr>\n    <tr>\n      <th>427</th>\n      <td>5819</td>\n      <td>1920</td>\n      <td>1080</td>\n      <td>10</td>\n      <td>420.0</td>\n      <td>16960.0</td>\n      <td>60</td>\n      <td>0.300000</td>\n      <td>0.117665</td>\n      <td>0.287718</td>\n      <td>5819</td>\n      <td>/home/johnny/Projects/datasets/custom_dataset_...</td>\n      <td>/home/johnny/Projects/datasets/custom_dataset_...</td>\n    </tr>\n    <tr>\n      <th>910</th>\n      <td>6302</td>\n      <td>1920</td>\n      <td>1080</td>\n      <td>5</td>\n      <td>348.0</td>\n      <td>1980.0</td>\n      <td>55</td>\n      <td>0.300000</td>\n      <td>0.045238</td>\n      <td>0.127394</td>\n      <td>6302</td>\n      <td>/home/johnny/Projects/datasets/custom_dataset_...</td>\n      <td>/home/johnny/Projects/datasets/custom_dataset_...</td>\n    </tr>\n  </tbody>\n</table>\n<p>1000 rows × 13 columns</p>\n</div>"
     },
     "execution_count": 121,
     "metadata": {},
     "output_type": "execute_result"
    }
   ],
   "source": [
    "df_filtered_2k"
   ],
   "metadata": {
    "collapsed": false,
    "ExecuteTime": {
     "end_time": "2024-01-19T13:36:39.410507956Z",
     "start_time": "2024-01-19T13:36:39.406914690Z"
    }
   },
   "id": "c3fa650d02731b26",
   "execution_count": 121
  },
  {
   "cell_type": "code",
   "outputs": [
    {
     "name": "stdout",
     "output_type": "stream",
     "text": [
      "The number of images is 2000\n",
      "Dataset organized and YAML file created.\n"
     ]
    }
   ],
   "source": [
    "import pandas as pd\n",
    "import os\n",
    "import shutil\n",
    "import yaml\n",
    "dataset = df_filtered_2k\n",
    "print(f\"The number of images is {len(dataset['name'].unique())}\")\n",
    "base_dir = '/home/johnny/Projects/datasets/Client_Validation_Set'\n",
    "subfolders = ['train', 'val', 'test']\n",
    "folders = ['images', 'labels']\n",
    "for folder in folders:\n",
    "    for subfolder in subfolders:\n",
    "        os.makedirs(os.path.join(base_dir, folder, subfolder), exist_ok=True)\n",
    "\n",
    "for index, row in dataset.iterrows():\n",
    "    image_path = row['image_path']\n",
    "    label_path = row['label_path']\n",
    "    shutil.copy(image_path, os.path.join(base_dir, 'images', 'val'))\n",
    "    shutil.copy(label_path, os.path.join(base_dir, 'labels', 'val'))\n",
    "yaml_data = {\n",
    "    'path': '../small-fast-detector/inference_tools/Evaluation/datasets/Client_Validation_Set',  # PUT HERE THE PATH\n",
    "    'train': 'images/train',\n",
    "    'val': 'images/val',\n",
    "    'test': '',\n",
    "    'names': {\n",
    "        0: 'uav',\n",
    "        1: 'airplane',\n",
    "        2: 'boat',\n",
    "        3: 'car',\n",
    "        4: 'person',\n",
    "        5: 'truck'\n",
    "    }\n",
    "\n",
    "}\n",
    "with open(os.path.join(base_dir, 'data.yaml'), 'w') as file:\n",
    "    yaml.dump(yaml_data, file, default_flow_style=False)\n",
    "\n",
    "print(\"Dataset organized and YAML file created.\")"
   ],
   "metadata": {
    "collapsed": false,
    "ExecuteTime": {
     "end_time": "2024-01-19T13:23:59.664876927Z",
     "start_time": "2024-01-19T13:23:58.958165687Z"
    }
   },
   "id": "6aa5876f0c207f31",
   "execution_count": 114
  },
  {
   "cell_type": "code",
   "outputs": [
    {
     "data": {
      "text/plain": "bbox_size_category\nMedium    6649\nSmall     6436\nTiny      4079\nLarge     2018\nName: count, dtype: int64"
     },
     "execution_count": 127,
     "metadata": {},
     "output_type": "execute_result"
    }
   ],
   "source": [
    "df_filtered[df_filtered['img'].isin(df_filtered_2k['img'])]['bbox_size_category'].value_counts()"
   ],
   "metadata": {
    "collapsed": false,
    "ExecuteTime": {
     "end_time": "2024-01-19T13:37:23.530026926Z",
     "start_time": "2024-01-19T13:37:23.523457292Z"
    }
   },
   "id": "8f576f15b7770a47",
   "execution_count": 127
  },
  {
   "cell_type": "code",
   "outputs": [
    {
     "data": {
      "text/plain": "class_name\nPerson      12127\nCar          4494\nUAV          2153\nShip          283\nTruck         124\nAircraft        1\nName: count, dtype: int64"
     },
     "execution_count": 128,
     "metadata": {},
     "output_type": "execute_result"
    }
   ],
   "source": [
    "df_filtered[df_filtered['img'].isin(df_filtered_2k['img'])]['class_name'].value_counts()"
   ],
   "metadata": {
    "collapsed": false,
    "ExecuteTime": {
     "end_time": "2024-01-19T13:37:24.499065177Z",
     "start_time": "2024-01-19T13:37:24.481907619Z"
    }
   },
   "id": "bf8da94df4af3937",
   "execution_count": 128
  },
  {
   "cell_type": "code",
   "outputs": [
    {
     "data": {
      "text/plain": "class_name\nPerson    3831\nUAV        164\nCar         62\nShip        22\nName: count, dtype: int64"
     },
     "execution_count": 129,
     "metadata": {},
     "output_type": "execute_result"
    }
   ],
   "source": [
    "filtered_new = df_filtered[df_filtered['img'].isin(df_filtered_2k['img'])]\n",
    "filtered_new[filtered_new['bbox_size_category'] == 'Tiny']['class_name'].value_counts()"
   ],
   "metadata": {
    "collapsed": false,
    "ExecuteTime": {
     "end_time": "2024-01-19T13:37:25.294039499Z",
     "start_time": "2024-01-19T13:37:25.287784470Z"
    }
   },
   "id": "7538c256db06b327",
   "execution_count": 129
  }
 ],
 "metadata": {
  "kernelspec": {
   "display_name": "Python 3 (ipykernel)",
   "language": "python",
   "name": "python3"
  },
  "language_info": {
   "codemirror_mode": {
    "name": "ipython",
    "version": 3
   },
   "file_extension": ".py",
   "mimetype": "text/x-python",
   "name": "python",
   "nbconvert_exporter": "python",
   "pygments_lexer": "ipython3",
   "version": "3.11.4"
  }
 },
 "nbformat": 4,
 "nbformat_minor": 5
}
