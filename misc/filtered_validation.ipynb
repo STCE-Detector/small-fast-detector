{
 "cells": [
  {
   "cell_type": "code",
   "execution_count": 1,
   "id": "8d1757db-150e-4036-a818-212539f7417f",
   "metadata": {
    "ExecuteTime": {
     "end_time": "2024-01-19T09:57:37.393377Z",
     "start_time": "2024-01-19T09:57:36.092549Z"
    }
   },
   "outputs": [],
   "source": [
    "from ultralytics import YOLO\n",
    "import pandas as pd\n",
    "import numpy as np\n",
    "import os\n",
    "import imagesize"
   ]
  },
  {
   "cell_type": "code",
   "execution_count": 2,
   "id": "a371d7ed-67e3-4d56-add9-dca31c9ab232",
   "metadata": {
    "ExecuteTime": {
     "end_time": "2024-01-19T09:57:37.395842Z",
     "start_time": "2024-01-19T09:57:37.389261Z"
    }
   },
   "outputs": [],
   "source": [
    "class_names = {\n",
    "    0:'Person',\n",
    "    1:'Car',\n",
    "    2:'Truck',\n",
    "    3:'UAV',\n",
    "    4:'Aircraft',\n",
    "    5:'Ship'\n",
    "}"
   ]
  },
  {
   "cell_type": "code",
   "execution_count": 3,
   "id": "7bc64d28-4a7e-4a3c-9d4d-b551843b357c",
   "metadata": {
    "ExecuteTime": {
     "end_time": "2024-01-19T09:57:37.396459Z",
     "start_time": "2024-01-19T09:57:37.393071Z"
    }
   },
   "outputs": [],
   "source": [
    "def inspect_dataset(\n",
    "        target_dataset_root,  # ../datasets/new_dataset\n",
    "        target_dataset_slice,  # train,test,val\n",
    "):\n",
    " info = []  # list of lists, each list corresponds to an instance [cls_id, x, y, w, h, img]\n",
    "\n",
    " target_labels_dir = os.path.join(target_dataset_root, 'labels', target_dataset_slice)\n",
    "\n",
    " # Iterate over all files in the original dataset labels folder\n",
    " for filename in os.listdir(target_labels_dir):\n",
    "  if filename.endswith('.txt'):\n",
    "   # Read file\n",
    "   with open(os.path.join(target_labels_dir, filename), \"r\") as f:\n",
    "    # Iterate over instances in image and get present class ids\n",
    "    for line in f:\n",
    "     line_data = []\n",
    "     # label data\n",
    "     line_data = line.split()\n",
    "     # Image name\n",
    "     line_data.append(os.path.splitext(filename)[0])\n",
    "     # Image size: could be done at image level and not row level\n",
    "     img_path = os.path.join(target_dataset_root, 'images', target_dataset_slice,\n",
    "                             os.path.splitext(filename)[0] + '.jpg')\n",
    "     img_w, img_h = imagesize.get(img_path)\n",
    "     line_data.extend([img_w, img_h])\n",
    "     line_data.extend([img_path, os.path.join(target_labels_dir, filename)])\n",
    "     # Append line data to info\n",
    "     info.append(line_data)\n",
    "\n",
    " df = pd.DataFrame(info, columns=['new_class_id', 'xcn', 'ycn', 'wn', 'hn', 'img', 'img_w', 'img_h', 'image_path', 'label_path'])\n",
    " df = df.astype(\n",
    "  {'new_class_id': 'int32', 'xcn': 'float32', 'ycn': 'float32', 'wn': 'float32', 'hn': 'float32', 'img': 'int64',\n",
    "   'img_w': 'float32', 'img_h': 'float32', 'image_path': 'string', 'label_path': 'string'})\n",
    " df['class_name'] = df['new_class_id'].map(class_names)\n",
    " return df"
   ]
  },
  {
   "cell_type": "code",
   "execution_count": 4,
   "id": "5641ef6b-31ab-4dfc-bff7-d3a48d58cefa",
   "metadata": {
    "ExecuteTime": {
     "end_time": "2024-01-19T09:57:42.422053Z",
     "start_time": "2024-01-19T09:57:37.395260Z"
    }
   },
   "outputs": [],
   "source": [
    "df_val = inspect_dataset('/Users/johnny/Projects/datasets/custom_dataset_v2/', 'val')"
   ]
  },
  {
   "cell_type": "code",
   "execution_count": 5,
   "id": "a1c1823e-4688-485a-891f-a18c6a2afb13",
   "metadata": {
    "ExecuteTime": {
     "end_time": "2024-01-19T09:57:42.432974Z",
     "start_time": "2024-01-19T09:57:42.425348Z"
    }
   },
   "outputs": [
    {
     "data": {
      "text/plain": "       new_class_id       xcn       ycn        wn        hn    img   img_w  \\\n0                 0  0.104688  0.515258  0.112500  0.152582  11303   640.0   \n1                 0  0.741406  0.524648  0.098438  0.171362  11303   640.0   \n2                 0  0.459375  0.311033  0.106250  0.265258  11303   640.0   \n3                 1  0.113008  0.516769  0.038066  0.033807   3644  1624.0   \n4                 3  0.178125  0.514583  0.142188  0.129167   5235  1280.0   \n...             ...       ...       ...       ...       ...    ...     ...   \n95016             1  0.406055  0.520774  0.016188  0.020995   4132  1624.0   \n95017             1  0.440119  0.525339  0.023608  0.026472   4132  1624.0   \n95018             0  0.455295  0.534467  0.012141  0.048380   4132  1624.0   \n95019             1  0.558832  0.561395  0.087012  0.082156   4132  1624.0   \n95020             1  0.646589  0.550441  0.089924  0.069376   4132  1624.0   \n\n        img_h                                         image_path  \\\n0       426.0  /Users/johnny/Projects/datasets/custom_dataset...   \n1       426.0  /Users/johnny/Projects/datasets/custom_dataset...   \n2       426.0  /Users/johnny/Projects/datasets/custom_dataset...   \n3      1200.0  /Users/johnny/Projects/datasets/custom_dataset...   \n4       720.0  /Users/johnny/Projects/datasets/custom_dataset...   \n...       ...                                                ...   \n95016  1200.0  /Users/johnny/Projects/datasets/custom_dataset...   \n95017  1200.0  /Users/johnny/Projects/datasets/custom_dataset...   \n95018  1200.0  /Users/johnny/Projects/datasets/custom_dataset...   \n95019  1200.0  /Users/johnny/Projects/datasets/custom_dataset...   \n95020  1200.0  /Users/johnny/Projects/datasets/custom_dataset...   \n\n                                              label_path class_name  \n0      /Users/johnny/Projects/datasets/custom_dataset...     Person  \n1      /Users/johnny/Projects/datasets/custom_dataset...     Person  \n2      /Users/johnny/Projects/datasets/custom_dataset...     Person  \n3      /Users/johnny/Projects/datasets/custom_dataset...        Car  \n4      /Users/johnny/Projects/datasets/custom_dataset...        UAV  \n...                                                  ...        ...  \n95016  /Users/johnny/Projects/datasets/custom_dataset...        Car  \n95017  /Users/johnny/Projects/datasets/custom_dataset...        Car  \n95018  /Users/johnny/Projects/datasets/custom_dataset...     Person  \n95019  /Users/johnny/Projects/datasets/custom_dataset...        Car  \n95020  /Users/johnny/Projects/datasets/custom_dataset...        Car  \n\n[95021 rows x 11 columns]",
      "text/html": "<div>\n<style scoped>\n    .dataframe tbody tr th:only-of-type {\n        vertical-align: middle;\n    }\n\n    .dataframe tbody tr th {\n        vertical-align: top;\n    }\n\n    .dataframe thead th {\n        text-align: right;\n    }\n</style>\n<table border=\"1\" class=\"dataframe\">\n  <thead>\n    <tr style=\"text-align: right;\">\n      <th></th>\n      <th>new_class_id</th>\n      <th>xcn</th>\n      <th>ycn</th>\n      <th>wn</th>\n      <th>hn</th>\n      <th>img</th>\n      <th>img_w</th>\n      <th>img_h</th>\n      <th>image_path</th>\n      <th>label_path</th>\n      <th>class_name</th>\n    </tr>\n  </thead>\n  <tbody>\n    <tr>\n      <th>0</th>\n      <td>0</td>\n      <td>0.104688</td>\n      <td>0.515258</td>\n      <td>0.112500</td>\n      <td>0.152582</td>\n      <td>11303</td>\n      <td>640.0</td>\n      <td>426.0</td>\n      <td>/Users/johnny/Projects/datasets/custom_dataset...</td>\n      <td>/Users/johnny/Projects/datasets/custom_dataset...</td>\n      <td>Person</td>\n    </tr>\n    <tr>\n      <th>1</th>\n      <td>0</td>\n      <td>0.741406</td>\n      <td>0.524648</td>\n      <td>0.098438</td>\n      <td>0.171362</td>\n      <td>11303</td>\n      <td>640.0</td>\n      <td>426.0</td>\n      <td>/Users/johnny/Projects/datasets/custom_dataset...</td>\n      <td>/Users/johnny/Projects/datasets/custom_dataset...</td>\n      <td>Person</td>\n    </tr>\n    <tr>\n      <th>2</th>\n      <td>0</td>\n      <td>0.459375</td>\n      <td>0.311033</td>\n      <td>0.106250</td>\n      <td>0.265258</td>\n      <td>11303</td>\n      <td>640.0</td>\n      <td>426.0</td>\n      <td>/Users/johnny/Projects/datasets/custom_dataset...</td>\n      <td>/Users/johnny/Projects/datasets/custom_dataset...</td>\n      <td>Person</td>\n    </tr>\n    <tr>\n      <th>3</th>\n      <td>1</td>\n      <td>0.113008</td>\n      <td>0.516769</td>\n      <td>0.038066</td>\n      <td>0.033807</td>\n      <td>3644</td>\n      <td>1624.0</td>\n      <td>1200.0</td>\n      <td>/Users/johnny/Projects/datasets/custom_dataset...</td>\n      <td>/Users/johnny/Projects/datasets/custom_dataset...</td>\n      <td>Car</td>\n    </tr>\n    <tr>\n      <th>4</th>\n      <td>3</td>\n      <td>0.178125</td>\n      <td>0.514583</td>\n      <td>0.142188</td>\n      <td>0.129167</td>\n      <td>5235</td>\n      <td>1280.0</td>\n      <td>720.0</td>\n      <td>/Users/johnny/Projects/datasets/custom_dataset...</td>\n      <td>/Users/johnny/Projects/datasets/custom_dataset...</td>\n      <td>UAV</td>\n    </tr>\n    <tr>\n      <th>...</th>\n      <td>...</td>\n      <td>...</td>\n      <td>...</td>\n      <td>...</td>\n      <td>...</td>\n      <td>...</td>\n      <td>...</td>\n      <td>...</td>\n      <td>...</td>\n      <td>...</td>\n      <td>...</td>\n    </tr>\n    <tr>\n      <th>95016</th>\n      <td>1</td>\n      <td>0.406055</td>\n      <td>0.520774</td>\n      <td>0.016188</td>\n      <td>0.020995</td>\n      <td>4132</td>\n      <td>1624.0</td>\n      <td>1200.0</td>\n      <td>/Users/johnny/Projects/datasets/custom_dataset...</td>\n      <td>/Users/johnny/Projects/datasets/custom_dataset...</td>\n      <td>Car</td>\n    </tr>\n    <tr>\n      <th>95017</th>\n      <td>1</td>\n      <td>0.440119</td>\n      <td>0.525339</td>\n      <td>0.023608</td>\n      <td>0.026472</td>\n      <td>4132</td>\n      <td>1624.0</td>\n      <td>1200.0</td>\n      <td>/Users/johnny/Projects/datasets/custom_dataset...</td>\n      <td>/Users/johnny/Projects/datasets/custom_dataset...</td>\n      <td>Car</td>\n    </tr>\n    <tr>\n      <th>95018</th>\n      <td>0</td>\n      <td>0.455295</td>\n      <td>0.534467</td>\n      <td>0.012141</td>\n      <td>0.048380</td>\n      <td>4132</td>\n      <td>1624.0</td>\n      <td>1200.0</td>\n      <td>/Users/johnny/Projects/datasets/custom_dataset...</td>\n      <td>/Users/johnny/Projects/datasets/custom_dataset...</td>\n      <td>Person</td>\n    </tr>\n    <tr>\n      <th>95019</th>\n      <td>1</td>\n      <td>0.558832</td>\n      <td>0.561395</td>\n      <td>0.087012</td>\n      <td>0.082156</td>\n      <td>4132</td>\n      <td>1624.0</td>\n      <td>1200.0</td>\n      <td>/Users/johnny/Projects/datasets/custom_dataset...</td>\n      <td>/Users/johnny/Projects/datasets/custom_dataset...</td>\n      <td>Car</td>\n    </tr>\n    <tr>\n      <th>95020</th>\n      <td>1</td>\n      <td>0.646589</td>\n      <td>0.550441</td>\n      <td>0.089924</td>\n      <td>0.069376</td>\n      <td>4132</td>\n      <td>1624.0</td>\n      <td>1200.0</td>\n      <td>/Users/johnny/Projects/datasets/custom_dataset...</td>\n      <td>/Users/johnny/Projects/datasets/custom_dataset...</td>\n      <td>Car</td>\n    </tr>\n  </tbody>\n</table>\n<p>95021 rows × 11 columns</p>\n</div>"
     },
     "execution_count": 5,
     "metadata": {},
     "output_type": "execute_result"
    }
   ],
   "source": [
    "df_val"
   ]
  },
  {
   "cell_type": "code",
   "execution_count": 6,
   "id": "af3e0246-d5ae-4c64-80f5-4737118064b1",
   "metadata": {
    "ExecuteTime": {
     "end_time": "2024-01-19T09:57:42.437007Z",
     "start_time": "2024-01-19T09:57:42.433431Z"
    }
   },
   "outputs": [
    {
     "name": "stdout",
     "output_type": "stream",
     "text": [
      "The number of objects is 95021\n",
      "The number of images is 13205\n"
     ]
    }
   ],
   "source": [
    "print(f\"The number of objects is {len(df_val)}\")\n",
    "print(f\"The number of images is {len(df_val['img'].unique())}\")"
   ]
  },
  {
   "cell_type": "code",
   "execution_count": 7,
   "id": "0c278779-e7d7-4a8d-84d0-bc24c61b9930",
   "metadata": {
    "ExecuteTime": {
     "end_time": "2024-01-19T09:57:42.442060Z",
     "start_time": "2024-01-19T09:57:42.436551Z"
    }
   },
   "outputs": [],
   "source": [
    "bin_edges = [0, 16**2, 32**2, 96**2, float('inf')]\n",
    "bin_labels = ['Tiny', 'Small', 'Medium', 'Large']\n",
    "df_val['bbox_area'] = (df_val['wn']*df_val['img_w'])*(df_val['hn']*df_val['img_h'])\n",
    "df_val['bbox_size_category'] = pd.cut(df_val['bbox_area'], bins=bin_edges, labels=bin_labels, right=False)"
   ]
  },
  {
   "cell_type": "code",
   "execution_count": 8,
   "id": "f54a79f6-45bf-4db1-96f3-34c12f9b49ba",
   "metadata": {
    "ExecuteTime": {
     "end_time": "2024-01-19T09:57:42.468822Z",
     "start_time": "2024-01-19T09:57:42.443005Z"
    }
   },
   "outputs": [
    {
     "data": {
      "text/plain": "       new_class_id       xcn       ycn        wn        hn    img   img_w  \\\n0                 0  0.104688  0.515258  0.112500  0.152582  11303   640.0   \n1                 0  0.741406  0.524648  0.098438  0.171362  11303   640.0   \n2                 0  0.459375  0.311033  0.106250  0.265258  11303   640.0   \n3                 1  0.113008  0.516769  0.038066  0.033807   3644  1624.0   \n4                 3  0.178125  0.514583  0.142188  0.129167   5235  1280.0   \n...             ...       ...       ...       ...       ...    ...     ...   \n95016             1  0.406055  0.520774  0.016188  0.020995   4132  1624.0   \n95017             1  0.440119  0.525339  0.023608  0.026472   4132  1624.0   \n95018             0  0.455295  0.534467  0.012141  0.048380   4132  1624.0   \n95019             1  0.558832  0.561395  0.087012  0.082156   4132  1624.0   \n95020             1  0.646589  0.550441  0.089924  0.069376   4132  1624.0   \n\n        img_h                                         image_path  \\\n0       426.0  /Users/johnny/Projects/datasets/custom_dataset...   \n1       426.0  /Users/johnny/Projects/datasets/custom_dataset...   \n2       426.0  /Users/johnny/Projects/datasets/custom_dataset...   \n3      1200.0  /Users/johnny/Projects/datasets/custom_dataset...   \n4       720.0  /Users/johnny/Projects/datasets/custom_dataset...   \n...       ...                                                ...   \n95016  1200.0  /Users/johnny/Projects/datasets/custom_dataset...   \n95017  1200.0  /Users/johnny/Projects/datasets/custom_dataset...   \n95018  1200.0  /Users/johnny/Projects/datasets/custom_dataset...   \n95019  1200.0  /Users/johnny/Projects/datasets/custom_dataset...   \n95020  1200.0  /Users/johnny/Projects/datasets/custom_dataset...   \n\n                                              label_path class_name  \\\n0      /Users/johnny/Projects/datasets/custom_dataset...     Person   \n1      /Users/johnny/Projects/datasets/custom_dataset...     Person   \n2      /Users/johnny/Projects/datasets/custom_dataset...     Person   \n3      /Users/johnny/Projects/datasets/custom_dataset...        Car   \n4      /Users/johnny/Projects/datasets/custom_dataset...        UAV   \n...                                                  ...        ...   \n95016  /Users/johnny/Projects/datasets/custom_dataset...        Car   \n95017  /Users/johnny/Projects/datasets/custom_dataset...        Car   \n95018  /Users/johnny/Projects/datasets/custom_dataset...     Person   \n95019  /Users/johnny/Projects/datasets/custom_dataset...        Car   \n95020  /Users/johnny/Projects/datasets/custom_dataset...        Car   \n\n          bbox_area bbox_size_category  \n0       4679.995117             Medium  \n1       4599.013672             Medium  \n2       7683.994141             Medium  \n3       2507.913330             Medium  \n4      16926.000000              Large  \n...             ...                ...  \n95016    662.350647              Small  \n95017   1217.913086             Medium  \n95018   1144.717529             Medium  \n95019  13930.977539              Large  \n95020  12157.708008              Large  \n\n[95021 rows x 13 columns]",
      "text/html": "<div>\n<style scoped>\n    .dataframe tbody tr th:only-of-type {\n        vertical-align: middle;\n    }\n\n    .dataframe tbody tr th {\n        vertical-align: top;\n    }\n\n    .dataframe thead th {\n        text-align: right;\n    }\n</style>\n<table border=\"1\" class=\"dataframe\">\n  <thead>\n    <tr style=\"text-align: right;\">\n      <th></th>\n      <th>new_class_id</th>\n      <th>xcn</th>\n      <th>ycn</th>\n      <th>wn</th>\n      <th>hn</th>\n      <th>img</th>\n      <th>img_w</th>\n      <th>img_h</th>\n      <th>image_path</th>\n      <th>label_path</th>\n      <th>class_name</th>\n      <th>bbox_area</th>\n      <th>bbox_size_category</th>\n    </tr>\n  </thead>\n  <tbody>\n    <tr>\n      <th>0</th>\n      <td>0</td>\n      <td>0.104688</td>\n      <td>0.515258</td>\n      <td>0.112500</td>\n      <td>0.152582</td>\n      <td>11303</td>\n      <td>640.0</td>\n      <td>426.0</td>\n      <td>/Users/johnny/Projects/datasets/custom_dataset...</td>\n      <td>/Users/johnny/Projects/datasets/custom_dataset...</td>\n      <td>Person</td>\n      <td>4679.995117</td>\n      <td>Medium</td>\n    </tr>\n    <tr>\n      <th>1</th>\n      <td>0</td>\n      <td>0.741406</td>\n      <td>0.524648</td>\n      <td>0.098438</td>\n      <td>0.171362</td>\n      <td>11303</td>\n      <td>640.0</td>\n      <td>426.0</td>\n      <td>/Users/johnny/Projects/datasets/custom_dataset...</td>\n      <td>/Users/johnny/Projects/datasets/custom_dataset...</td>\n      <td>Person</td>\n      <td>4599.013672</td>\n      <td>Medium</td>\n    </tr>\n    <tr>\n      <th>2</th>\n      <td>0</td>\n      <td>0.459375</td>\n      <td>0.311033</td>\n      <td>0.106250</td>\n      <td>0.265258</td>\n      <td>11303</td>\n      <td>640.0</td>\n      <td>426.0</td>\n      <td>/Users/johnny/Projects/datasets/custom_dataset...</td>\n      <td>/Users/johnny/Projects/datasets/custom_dataset...</td>\n      <td>Person</td>\n      <td>7683.994141</td>\n      <td>Medium</td>\n    </tr>\n    <tr>\n      <th>3</th>\n      <td>1</td>\n      <td>0.113008</td>\n      <td>0.516769</td>\n      <td>0.038066</td>\n      <td>0.033807</td>\n      <td>3644</td>\n      <td>1624.0</td>\n      <td>1200.0</td>\n      <td>/Users/johnny/Projects/datasets/custom_dataset...</td>\n      <td>/Users/johnny/Projects/datasets/custom_dataset...</td>\n      <td>Car</td>\n      <td>2507.913330</td>\n      <td>Medium</td>\n    </tr>\n    <tr>\n      <th>4</th>\n      <td>3</td>\n      <td>0.178125</td>\n      <td>0.514583</td>\n      <td>0.142188</td>\n      <td>0.129167</td>\n      <td>5235</td>\n      <td>1280.0</td>\n      <td>720.0</td>\n      <td>/Users/johnny/Projects/datasets/custom_dataset...</td>\n      <td>/Users/johnny/Projects/datasets/custom_dataset...</td>\n      <td>UAV</td>\n      <td>16926.000000</td>\n      <td>Large</td>\n    </tr>\n    <tr>\n      <th>...</th>\n      <td>...</td>\n      <td>...</td>\n      <td>...</td>\n      <td>...</td>\n      <td>...</td>\n      <td>...</td>\n      <td>...</td>\n      <td>...</td>\n      <td>...</td>\n      <td>...</td>\n      <td>...</td>\n      <td>...</td>\n      <td>...</td>\n    </tr>\n    <tr>\n      <th>95016</th>\n      <td>1</td>\n      <td>0.406055</td>\n      <td>0.520774</td>\n      <td>0.016188</td>\n      <td>0.020995</td>\n      <td>4132</td>\n      <td>1624.0</td>\n      <td>1200.0</td>\n      <td>/Users/johnny/Projects/datasets/custom_dataset...</td>\n      <td>/Users/johnny/Projects/datasets/custom_dataset...</td>\n      <td>Car</td>\n      <td>662.350647</td>\n      <td>Small</td>\n    </tr>\n    <tr>\n      <th>95017</th>\n      <td>1</td>\n      <td>0.440119</td>\n      <td>0.525339</td>\n      <td>0.023608</td>\n      <td>0.026472</td>\n      <td>4132</td>\n      <td>1624.0</td>\n      <td>1200.0</td>\n      <td>/Users/johnny/Projects/datasets/custom_dataset...</td>\n      <td>/Users/johnny/Projects/datasets/custom_dataset...</td>\n      <td>Car</td>\n      <td>1217.913086</td>\n      <td>Medium</td>\n    </tr>\n    <tr>\n      <th>95018</th>\n      <td>0</td>\n      <td>0.455295</td>\n      <td>0.534467</td>\n      <td>0.012141</td>\n      <td>0.048380</td>\n      <td>4132</td>\n      <td>1624.0</td>\n      <td>1200.0</td>\n      <td>/Users/johnny/Projects/datasets/custom_dataset...</td>\n      <td>/Users/johnny/Projects/datasets/custom_dataset...</td>\n      <td>Person</td>\n      <td>1144.717529</td>\n      <td>Medium</td>\n    </tr>\n    <tr>\n      <th>95019</th>\n      <td>1</td>\n      <td>0.558832</td>\n      <td>0.561395</td>\n      <td>0.087012</td>\n      <td>0.082156</td>\n      <td>4132</td>\n      <td>1624.0</td>\n      <td>1200.0</td>\n      <td>/Users/johnny/Projects/datasets/custom_dataset...</td>\n      <td>/Users/johnny/Projects/datasets/custom_dataset...</td>\n      <td>Car</td>\n      <td>13930.977539</td>\n      <td>Large</td>\n    </tr>\n    <tr>\n      <th>95020</th>\n      <td>1</td>\n      <td>0.646589</td>\n      <td>0.550441</td>\n      <td>0.089924</td>\n      <td>0.069376</td>\n      <td>4132</td>\n      <td>1624.0</td>\n      <td>1200.0</td>\n      <td>/Users/johnny/Projects/datasets/custom_dataset...</td>\n      <td>/Users/johnny/Projects/datasets/custom_dataset...</td>\n      <td>Car</td>\n      <td>12157.708008</td>\n      <td>Large</td>\n    </tr>\n  </tbody>\n</table>\n<p>95021 rows × 13 columns</p>\n</div>"
     },
     "execution_count": 8,
     "metadata": {},
     "output_type": "execute_result"
    }
   ],
   "source": [
    "df_val"
   ]
  },
  {
   "cell_type": "code",
   "execution_count": 9,
   "id": "f4fafebe-a447-4a5a-b814-057d937d6cf2",
   "metadata": {
    "ExecuteTime": {
     "end_time": "2024-01-19T09:57:42.472596Z",
     "start_time": "2024-01-19T09:57:42.452153Z"
    }
   },
   "outputs": [
    {
     "data": {
      "text/plain": "bbox_size_category\nMedium    35772\nSmall     21698\nLarge     20803\nTiny      16748\nName: count, dtype: int64"
     },
     "execution_count": 9,
     "metadata": {},
     "output_type": "execute_result"
    }
   ],
   "source": [
    "df_val['bbox_size_category'].value_counts()"
   ]
  },
  {
   "cell_type": "markdown",
   "id": "3abf450a-27d6-49f6-bdf0-db6c4be7e980",
   "metadata": {},
   "source": [
    "# 1) Filter by Image Size (≥ 1920x1080)"
   ]
  },
  {
   "cell_type": "code",
   "execution_count": 10,
   "id": "5bff593e-26b4-45df-8ce3-dd1a41106976",
   "metadata": {
    "ExecuteTime": {
     "end_time": "2024-01-19T09:57:42.487766Z",
     "start_time": "2024-01-19T09:57:42.455735Z"
    }
   },
   "outputs": [],
   "source": [
    "df_size = df_val[(df_val['img_w']>= 1920)&(df_val['img_h']>= 1080)]"
   ]
  },
  {
   "cell_type": "code",
   "execution_count": 11,
   "id": "00a5e2c7-1b22-4fda-91cd-d6c0d90aadd1",
   "metadata": {
    "ExecuteTime": {
     "end_time": "2024-01-19T09:57:42.488976Z",
     "start_time": "2024-01-19T09:57:42.465441Z"
    }
   },
   "outputs": [
    {
     "data": {
      "text/plain": "       new_class_id       xcn       ycn        wn        hn    img   img_w  \\\n23                3  0.398438  0.616204  0.012500  0.008333   7422  1920.0   \n82                3  0.360156  0.598148  0.011979  0.005556   7344  1920.0   \n83                1  0.486807  0.891343  0.008396  0.014769   7344  1920.0   \n84                0  0.380125  0.944889  0.008495  0.026176   7344  1920.0   \n85                0  0.916901  0.984667  0.007786  0.030657   7344  1920.0   \n...             ...       ...       ...       ...       ...    ...     ...   \n94989             0  0.687198  0.270741  0.008251  0.018334  10004  3840.0   \n94990             0  0.699027  0.306811  0.025659  0.022881  10004  3840.0   \n94991             0  0.737579  0.260000  0.008491  0.016296  10004  3840.0   \n94992             0  0.324881  0.365857  0.023200  0.031715  10004  3840.0   \n94993             5  0.572568  0.068530  0.018573  0.012060  10004  3840.0   \n\n        img_h                                         image_path  \\\n23     1080.0  /Users/johnny/Projects/datasets/custom_dataset...   \n82     1080.0  /Users/johnny/Projects/datasets/custom_dataset...   \n83     1080.0  /Users/johnny/Projects/datasets/custom_dataset...   \n84     1080.0  /Users/johnny/Projects/datasets/custom_dataset...   \n85     1080.0  /Users/johnny/Projects/datasets/custom_dataset...   \n...       ...                                                ...   \n94989  2160.0  /Users/johnny/Projects/datasets/custom_dataset...   \n94990  2160.0  /Users/johnny/Projects/datasets/custom_dataset...   \n94991  2160.0  /Users/johnny/Projects/datasets/custom_dataset...   \n94992  2160.0  /Users/johnny/Projects/datasets/custom_dataset...   \n94993  2160.0  /Users/johnny/Projects/datasets/custom_dataset...   \n\n                                              label_path class_name  \\\n23     /Users/johnny/Projects/datasets/custom_dataset...        UAV   \n82     /Users/johnny/Projects/datasets/custom_dataset...        UAV   \n83     /Users/johnny/Projects/datasets/custom_dataset...        Car   \n84     /Users/johnny/Projects/datasets/custom_dataset...     Person   \n85     /Users/johnny/Projects/datasets/custom_dataset...     Person   \n...                                                  ...        ...   \n94989  /Users/johnny/Projects/datasets/custom_dataset...     Person   \n94990  /Users/johnny/Projects/datasets/custom_dataset...     Person   \n94991  /Users/johnny/Projects/datasets/custom_dataset...     Person   \n94992  /Users/johnny/Projects/datasets/custom_dataset...     Person   \n94993  /Users/johnny/Projects/datasets/custom_dataset...       Ship   \n\n         bbox_area bbox_size_category  \n23      216.000000               Tiny  \n82      138.000000               Tiny  \n83      257.113983              Small  \n84      461.083679              Small  \n85      494.994507              Small  \n...            ...                ...  \n94989  1254.673096             Medium  \n94990  4869.652832             Medium  \n94991  1147.660278             Medium  \n94992  6102.750000             Medium  \n94993  1857.886719             Medium  \n\n[23156 rows x 13 columns]",
      "text/html": "<div>\n<style scoped>\n    .dataframe tbody tr th:only-of-type {\n        vertical-align: middle;\n    }\n\n    .dataframe tbody tr th {\n        vertical-align: top;\n    }\n\n    .dataframe thead th {\n        text-align: right;\n    }\n</style>\n<table border=\"1\" class=\"dataframe\">\n  <thead>\n    <tr style=\"text-align: right;\">\n      <th></th>\n      <th>new_class_id</th>\n      <th>xcn</th>\n      <th>ycn</th>\n      <th>wn</th>\n      <th>hn</th>\n      <th>img</th>\n      <th>img_w</th>\n      <th>img_h</th>\n      <th>image_path</th>\n      <th>label_path</th>\n      <th>class_name</th>\n      <th>bbox_area</th>\n      <th>bbox_size_category</th>\n    </tr>\n  </thead>\n  <tbody>\n    <tr>\n      <th>23</th>\n      <td>3</td>\n      <td>0.398438</td>\n      <td>0.616204</td>\n      <td>0.012500</td>\n      <td>0.008333</td>\n      <td>7422</td>\n      <td>1920.0</td>\n      <td>1080.0</td>\n      <td>/Users/johnny/Projects/datasets/custom_dataset...</td>\n      <td>/Users/johnny/Projects/datasets/custom_dataset...</td>\n      <td>UAV</td>\n      <td>216.000000</td>\n      <td>Tiny</td>\n    </tr>\n    <tr>\n      <th>82</th>\n      <td>3</td>\n      <td>0.360156</td>\n      <td>0.598148</td>\n      <td>0.011979</td>\n      <td>0.005556</td>\n      <td>7344</td>\n      <td>1920.0</td>\n      <td>1080.0</td>\n      <td>/Users/johnny/Projects/datasets/custom_dataset...</td>\n      <td>/Users/johnny/Projects/datasets/custom_dataset...</td>\n      <td>UAV</td>\n      <td>138.000000</td>\n      <td>Tiny</td>\n    </tr>\n    <tr>\n      <th>83</th>\n      <td>1</td>\n      <td>0.486807</td>\n      <td>0.891343</td>\n      <td>0.008396</td>\n      <td>0.014769</td>\n      <td>7344</td>\n      <td>1920.0</td>\n      <td>1080.0</td>\n      <td>/Users/johnny/Projects/datasets/custom_dataset...</td>\n      <td>/Users/johnny/Projects/datasets/custom_dataset...</td>\n      <td>Car</td>\n      <td>257.113983</td>\n      <td>Small</td>\n    </tr>\n    <tr>\n      <th>84</th>\n      <td>0</td>\n      <td>0.380125</td>\n      <td>0.944889</td>\n      <td>0.008495</td>\n      <td>0.026176</td>\n      <td>7344</td>\n      <td>1920.0</td>\n      <td>1080.0</td>\n      <td>/Users/johnny/Projects/datasets/custom_dataset...</td>\n      <td>/Users/johnny/Projects/datasets/custom_dataset...</td>\n      <td>Person</td>\n      <td>461.083679</td>\n      <td>Small</td>\n    </tr>\n    <tr>\n      <th>85</th>\n      <td>0</td>\n      <td>0.916901</td>\n      <td>0.984667</td>\n      <td>0.007786</td>\n      <td>0.030657</td>\n      <td>7344</td>\n      <td>1920.0</td>\n      <td>1080.0</td>\n      <td>/Users/johnny/Projects/datasets/custom_dataset...</td>\n      <td>/Users/johnny/Projects/datasets/custom_dataset...</td>\n      <td>Person</td>\n      <td>494.994507</td>\n      <td>Small</td>\n    </tr>\n    <tr>\n      <th>...</th>\n      <td>...</td>\n      <td>...</td>\n      <td>...</td>\n      <td>...</td>\n      <td>...</td>\n      <td>...</td>\n      <td>...</td>\n      <td>...</td>\n      <td>...</td>\n      <td>...</td>\n      <td>...</td>\n      <td>...</td>\n      <td>...</td>\n    </tr>\n    <tr>\n      <th>94989</th>\n      <td>0</td>\n      <td>0.687198</td>\n      <td>0.270741</td>\n      <td>0.008251</td>\n      <td>0.018334</td>\n      <td>10004</td>\n      <td>3840.0</td>\n      <td>2160.0</td>\n      <td>/Users/johnny/Projects/datasets/custom_dataset...</td>\n      <td>/Users/johnny/Projects/datasets/custom_dataset...</td>\n      <td>Person</td>\n      <td>1254.673096</td>\n      <td>Medium</td>\n    </tr>\n    <tr>\n      <th>94990</th>\n      <td>0</td>\n      <td>0.699027</td>\n      <td>0.306811</td>\n      <td>0.025659</td>\n      <td>0.022881</td>\n      <td>10004</td>\n      <td>3840.0</td>\n      <td>2160.0</td>\n      <td>/Users/johnny/Projects/datasets/custom_dataset...</td>\n      <td>/Users/johnny/Projects/datasets/custom_dataset...</td>\n      <td>Person</td>\n      <td>4869.652832</td>\n      <td>Medium</td>\n    </tr>\n    <tr>\n      <th>94991</th>\n      <td>0</td>\n      <td>0.737579</td>\n      <td>0.260000</td>\n      <td>0.008491</td>\n      <td>0.016296</td>\n      <td>10004</td>\n      <td>3840.0</td>\n      <td>2160.0</td>\n      <td>/Users/johnny/Projects/datasets/custom_dataset...</td>\n      <td>/Users/johnny/Projects/datasets/custom_dataset...</td>\n      <td>Person</td>\n      <td>1147.660278</td>\n      <td>Medium</td>\n    </tr>\n    <tr>\n      <th>94992</th>\n      <td>0</td>\n      <td>0.324881</td>\n      <td>0.365857</td>\n      <td>0.023200</td>\n      <td>0.031715</td>\n      <td>10004</td>\n      <td>3840.0</td>\n      <td>2160.0</td>\n      <td>/Users/johnny/Projects/datasets/custom_dataset...</td>\n      <td>/Users/johnny/Projects/datasets/custom_dataset...</td>\n      <td>Person</td>\n      <td>6102.750000</td>\n      <td>Medium</td>\n    </tr>\n    <tr>\n      <th>94993</th>\n      <td>5</td>\n      <td>0.572568</td>\n      <td>0.068530</td>\n      <td>0.018573</td>\n      <td>0.012060</td>\n      <td>10004</td>\n      <td>3840.0</td>\n      <td>2160.0</td>\n      <td>/Users/johnny/Projects/datasets/custom_dataset...</td>\n      <td>/Users/johnny/Projects/datasets/custom_dataset...</td>\n      <td>Ship</td>\n      <td>1857.886719</td>\n      <td>Medium</td>\n    </tr>\n  </tbody>\n</table>\n<p>23156 rows × 13 columns</p>\n</div>"
     },
     "execution_count": 11,
     "metadata": {},
     "output_type": "execute_result"
    }
   ],
   "source": [
    "df_size"
   ]
  },
  {
   "cell_type": "code",
   "execution_count": 12,
   "id": "78785554-76ac-48f8-adc8-a110212446f6",
   "metadata": {
    "ExecuteTime": {
     "end_time": "2024-01-19T09:57:42.489843Z",
     "start_time": "2024-01-19T09:57:42.467882Z"
    }
   },
   "outputs": [
    {
     "name": "stdout",
     "output_type": "stream",
     "text": [
      "The number of objects is 23156\n",
      "The number of images is 3154\n"
     ]
    }
   ],
   "source": [
    "print(f\"The number of objects is {len(df_size)}\")\n",
    "print(f\"The number of images is {len(df_size['img'].unique())}\")"
   ]
  },
  {
   "cell_type": "code",
   "execution_count": 13,
   "id": "ed34ebbc-e165-44fb-b720-684f9c1261d2",
   "metadata": {
    "ExecuteTime": {
     "end_time": "2024-01-19T09:57:42.490621Z",
     "start_time": "2024-01-19T09:57:42.470579Z"
    }
   },
   "outputs": [
    {
     "data": {
      "text/plain": "bbox_size_category\nSmall     7458\nMedium    7212\nTiny      6449\nLarge     2037\nName: count, dtype: int64"
     },
     "execution_count": 13,
     "metadata": {},
     "output_type": "execute_result"
    }
   ],
   "source": [
    "df_size['bbox_size_category'].value_counts()"
   ]
  },
  {
   "cell_type": "code",
   "execution_count": 14,
   "id": "7ee3f092-883c-4d3a-9b03-377445cb4afd",
   "metadata": {
    "ExecuteTime": {
     "end_time": "2024-01-19T09:57:42.490946Z",
     "start_time": "2024-01-19T09:57:42.477002Z"
    }
   },
   "outputs": [
    {
     "data": {
      "text/plain": "class_name\nPerson      15897\nCar          4584\nUAV          2206\nShip          321\nTruck         147\nAircraft        1\nName: count, dtype: int64"
     },
     "execution_count": 14,
     "metadata": {},
     "output_type": "execute_result"
    }
   ],
   "source": [
    "df_size['class_name'].value_counts()"
   ]
  },
  {
   "cell_type": "markdown",
   "id": "62e638f5-ec73-4051-b482-482af72d24fc",
   "metadata": {},
   "source": [
    "# 2) Filter by maximum number of objects present (≤ 100)"
   ]
  },
  {
   "cell_type": "code",
   "execution_count": 15,
   "id": "5ebb1a59-eb55-4cf2-b322-02c32ea56276",
   "metadata": {
    "ExecuteTime": {
     "end_time": "2024-01-19T09:57:42.490991Z",
     "start_time": "2024-01-19T09:57:42.479292Z"
    }
   },
   "outputs": [],
   "source": [
    "object_counts = df_size['img'].value_counts()\n",
    "selected_images = object_counts[object_counts <= 100].index\n",
    "df_filtered = df_size[df_size['img'].isin(selected_images)]"
   ]
  },
  {
   "cell_type": "code",
   "execution_count": 16,
   "id": "b57d7803-bd62-42ae-bd53-6bb41314fc98",
   "metadata": {
    "ExecuteTime": {
     "end_time": "2024-01-19T09:57:42.515450Z",
     "start_time": "2024-01-19T09:57:42.487607Z"
    }
   },
   "outputs": [
    {
     "data": {
      "text/plain": "       new_class_id       xcn       ycn        wn        hn    img   img_w  \\\n23                3  0.398438  0.616204  0.012500  0.008333   7422  1920.0   \n82                3  0.360156  0.598148  0.011979  0.005556   7344  1920.0   \n83                1  0.486807  0.891343  0.008396  0.014769   7344  1920.0   \n84                0  0.380125  0.944889  0.008495  0.026176   7344  1920.0   \n85                0  0.916901  0.984667  0.007786  0.030657   7344  1920.0   \n...             ...       ...       ...       ...       ...    ...     ...   \n94989             0  0.687198  0.270741  0.008251  0.018334  10004  3840.0   \n94990             0  0.699027  0.306811  0.025659  0.022881  10004  3840.0   \n94991             0  0.737579  0.260000  0.008491  0.016296  10004  3840.0   \n94992             0  0.324881  0.365857  0.023200  0.031715  10004  3840.0   \n94993             5  0.572568  0.068530  0.018573  0.012060  10004  3840.0   \n\n        img_h                                         image_path  \\\n23     1080.0  /Users/johnny/Projects/datasets/custom_dataset...   \n82     1080.0  /Users/johnny/Projects/datasets/custom_dataset...   \n83     1080.0  /Users/johnny/Projects/datasets/custom_dataset...   \n84     1080.0  /Users/johnny/Projects/datasets/custom_dataset...   \n85     1080.0  /Users/johnny/Projects/datasets/custom_dataset...   \n...       ...                                                ...   \n94989  2160.0  /Users/johnny/Projects/datasets/custom_dataset...   \n94990  2160.0  /Users/johnny/Projects/datasets/custom_dataset...   \n94991  2160.0  /Users/johnny/Projects/datasets/custom_dataset...   \n94992  2160.0  /Users/johnny/Projects/datasets/custom_dataset...   \n94993  2160.0  /Users/johnny/Projects/datasets/custom_dataset...   \n\n                                              label_path class_name  \\\n23     /Users/johnny/Projects/datasets/custom_dataset...        UAV   \n82     /Users/johnny/Projects/datasets/custom_dataset...        UAV   \n83     /Users/johnny/Projects/datasets/custom_dataset...        Car   \n84     /Users/johnny/Projects/datasets/custom_dataset...     Person   \n85     /Users/johnny/Projects/datasets/custom_dataset...     Person   \n...                                                  ...        ...   \n94989  /Users/johnny/Projects/datasets/custom_dataset...     Person   \n94990  /Users/johnny/Projects/datasets/custom_dataset...     Person   \n94991  /Users/johnny/Projects/datasets/custom_dataset...     Person   \n94992  /Users/johnny/Projects/datasets/custom_dataset...     Person   \n94993  /Users/johnny/Projects/datasets/custom_dataset...       Ship   \n\n         bbox_area bbox_size_category  \n23      216.000000               Tiny  \n82      138.000000               Tiny  \n83      257.113983              Small  \n84      461.083679              Small  \n85      494.994507              Small  \n...            ...                ...  \n94989  1254.673096             Medium  \n94990  4869.652832             Medium  \n94991  1147.660278             Medium  \n94992  6102.750000             Medium  \n94993  1857.886719             Medium  \n\n[19455 rows x 13 columns]",
      "text/html": "<div>\n<style scoped>\n    .dataframe tbody tr th:only-of-type {\n        vertical-align: middle;\n    }\n\n    .dataframe tbody tr th {\n        vertical-align: top;\n    }\n\n    .dataframe thead th {\n        text-align: right;\n    }\n</style>\n<table border=\"1\" class=\"dataframe\">\n  <thead>\n    <tr style=\"text-align: right;\">\n      <th></th>\n      <th>new_class_id</th>\n      <th>xcn</th>\n      <th>ycn</th>\n      <th>wn</th>\n      <th>hn</th>\n      <th>img</th>\n      <th>img_w</th>\n      <th>img_h</th>\n      <th>image_path</th>\n      <th>label_path</th>\n      <th>class_name</th>\n      <th>bbox_area</th>\n      <th>bbox_size_category</th>\n    </tr>\n  </thead>\n  <tbody>\n    <tr>\n      <th>23</th>\n      <td>3</td>\n      <td>0.398438</td>\n      <td>0.616204</td>\n      <td>0.012500</td>\n      <td>0.008333</td>\n      <td>7422</td>\n      <td>1920.0</td>\n      <td>1080.0</td>\n      <td>/Users/johnny/Projects/datasets/custom_dataset...</td>\n      <td>/Users/johnny/Projects/datasets/custom_dataset...</td>\n      <td>UAV</td>\n      <td>216.000000</td>\n      <td>Tiny</td>\n    </tr>\n    <tr>\n      <th>82</th>\n      <td>3</td>\n      <td>0.360156</td>\n      <td>0.598148</td>\n      <td>0.011979</td>\n      <td>0.005556</td>\n      <td>7344</td>\n      <td>1920.0</td>\n      <td>1080.0</td>\n      <td>/Users/johnny/Projects/datasets/custom_dataset...</td>\n      <td>/Users/johnny/Projects/datasets/custom_dataset...</td>\n      <td>UAV</td>\n      <td>138.000000</td>\n      <td>Tiny</td>\n    </tr>\n    <tr>\n      <th>83</th>\n      <td>1</td>\n      <td>0.486807</td>\n      <td>0.891343</td>\n      <td>0.008396</td>\n      <td>0.014769</td>\n      <td>7344</td>\n      <td>1920.0</td>\n      <td>1080.0</td>\n      <td>/Users/johnny/Projects/datasets/custom_dataset...</td>\n      <td>/Users/johnny/Projects/datasets/custom_dataset...</td>\n      <td>Car</td>\n      <td>257.113983</td>\n      <td>Small</td>\n    </tr>\n    <tr>\n      <th>84</th>\n      <td>0</td>\n      <td>0.380125</td>\n      <td>0.944889</td>\n      <td>0.008495</td>\n      <td>0.026176</td>\n      <td>7344</td>\n      <td>1920.0</td>\n      <td>1080.0</td>\n      <td>/Users/johnny/Projects/datasets/custom_dataset...</td>\n      <td>/Users/johnny/Projects/datasets/custom_dataset...</td>\n      <td>Person</td>\n      <td>461.083679</td>\n      <td>Small</td>\n    </tr>\n    <tr>\n      <th>85</th>\n      <td>0</td>\n      <td>0.916901</td>\n      <td>0.984667</td>\n      <td>0.007786</td>\n      <td>0.030657</td>\n      <td>7344</td>\n      <td>1920.0</td>\n      <td>1080.0</td>\n      <td>/Users/johnny/Projects/datasets/custom_dataset...</td>\n      <td>/Users/johnny/Projects/datasets/custom_dataset...</td>\n      <td>Person</td>\n      <td>494.994507</td>\n      <td>Small</td>\n    </tr>\n    <tr>\n      <th>...</th>\n      <td>...</td>\n      <td>...</td>\n      <td>...</td>\n      <td>...</td>\n      <td>...</td>\n      <td>...</td>\n      <td>...</td>\n      <td>...</td>\n      <td>...</td>\n      <td>...</td>\n      <td>...</td>\n      <td>...</td>\n      <td>...</td>\n    </tr>\n    <tr>\n      <th>94989</th>\n      <td>0</td>\n      <td>0.687198</td>\n      <td>0.270741</td>\n      <td>0.008251</td>\n      <td>0.018334</td>\n      <td>10004</td>\n      <td>3840.0</td>\n      <td>2160.0</td>\n      <td>/Users/johnny/Projects/datasets/custom_dataset...</td>\n      <td>/Users/johnny/Projects/datasets/custom_dataset...</td>\n      <td>Person</td>\n      <td>1254.673096</td>\n      <td>Medium</td>\n    </tr>\n    <tr>\n      <th>94990</th>\n      <td>0</td>\n      <td>0.699027</td>\n      <td>0.306811</td>\n      <td>0.025659</td>\n      <td>0.022881</td>\n      <td>10004</td>\n      <td>3840.0</td>\n      <td>2160.0</td>\n      <td>/Users/johnny/Projects/datasets/custom_dataset...</td>\n      <td>/Users/johnny/Projects/datasets/custom_dataset...</td>\n      <td>Person</td>\n      <td>4869.652832</td>\n      <td>Medium</td>\n    </tr>\n    <tr>\n      <th>94991</th>\n      <td>0</td>\n      <td>0.737579</td>\n      <td>0.260000</td>\n      <td>0.008491</td>\n      <td>0.016296</td>\n      <td>10004</td>\n      <td>3840.0</td>\n      <td>2160.0</td>\n      <td>/Users/johnny/Projects/datasets/custom_dataset...</td>\n      <td>/Users/johnny/Projects/datasets/custom_dataset...</td>\n      <td>Person</td>\n      <td>1147.660278</td>\n      <td>Medium</td>\n    </tr>\n    <tr>\n      <th>94992</th>\n      <td>0</td>\n      <td>0.324881</td>\n      <td>0.365857</td>\n      <td>0.023200</td>\n      <td>0.031715</td>\n      <td>10004</td>\n      <td>3840.0</td>\n      <td>2160.0</td>\n      <td>/Users/johnny/Projects/datasets/custom_dataset...</td>\n      <td>/Users/johnny/Projects/datasets/custom_dataset...</td>\n      <td>Person</td>\n      <td>6102.750000</td>\n      <td>Medium</td>\n    </tr>\n    <tr>\n      <th>94993</th>\n      <td>5</td>\n      <td>0.572568</td>\n      <td>0.068530</td>\n      <td>0.018573</td>\n      <td>0.012060</td>\n      <td>10004</td>\n      <td>3840.0</td>\n      <td>2160.0</td>\n      <td>/Users/johnny/Projects/datasets/custom_dataset...</td>\n      <td>/Users/johnny/Projects/datasets/custom_dataset...</td>\n      <td>Ship</td>\n      <td>1857.886719</td>\n      <td>Medium</td>\n    </tr>\n  </tbody>\n</table>\n<p>19455 rows × 13 columns</p>\n</div>"
     },
     "execution_count": 16,
     "metadata": {},
     "output_type": "execute_result"
    }
   ],
   "source": [
    "df_filtered"
   ]
  },
  {
   "cell_type": "code",
   "execution_count": 17,
   "id": "49100e5d-5a9e-4a1d-becc-5caefcd34bb1",
   "metadata": {
    "ExecuteTime": {
     "end_time": "2024-01-19T09:57:42.535090Z",
     "start_time": "2024-01-19T09:57:42.492200Z"
    }
   },
   "outputs": [
    {
     "name": "stdout",
     "output_type": "stream",
     "text": [
      "The number of objects is 19455\n",
      "The number of images is 3133\n"
     ]
    }
   ],
   "source": [
    "print(f\"The number of objects is {len(df_filtered)}\")\n",
    "print(f\"The number of images is {len(df_filtered['img'].unique())}\")"
   ]
  },
  {
   "cell_type": "code",
   "execution_count": 18,
   "id": "49fb37b2-bff0-4ecb-9e4e-89bd47655224",
   "metadata": {
    "ExecuteTime": {
     "end_time": "2024-01-19T09:57:42.535353Z",
     "start_time": "2024-01-19T09:57:42.495552Z"
    }
   },
   "outputs": [
    {
     "data": {
      "text/plain": "bbox_size_category\nMedium    6689\nSmall     6556\nTiny      4190\nLarge     2020\nName: count, dtype: int64"
     },
     "execution_count": 18,
     "metadata": {},
     "output_type": "execute_result"
    }
   ],
   "source": [
    "df_filtered['bbox_size_category'].value_counts()"
   ]
  },
  {
   "cell_type": "code",
   "execution_count": 19,
   "id": "14995316-580f-42df-9066-1d67450130a6",
   "metadata": {
    "ExecuteTime": {
     "end_time": "2024-01-19T09:57:49.976910Z",
     "start_time": "2024-01-19T09:57:42.499500Z"
    }
   },
   "outputs": [
    {
     "name": "stdout",
     "output_type": "stream",
     "text": [
      "Dataset organized and YAML file created.\n"
     ]
    }
   ],
   "source": [
    "import pandas as pd\n",
    "import os\n",
    "import shutil\n",
    "import yaml\n",
    "\n",
    "base_dir = '/Users/johnny/Projects/datasets/Client_Validation_Set'\n",
    "\n",
    "subfolders = ['train', 'val', 'test']\n",
    "folders = ['images', 'labels']\n",
    "for folder in folders:\n",
    "    for subfolder in subfolders:\n",
    "        os.makedirs(os.path.join(base_dir, folder, subfolder), exist_ok=True)\n",
    "\n",
    "for index, row in df_filtered.iterrows():\n",
    "    image_path = row['image_path']\n",
    "    label_path = row['label_path']\n",
    "    shutil.copy(image_path, os.path.join(base_dir, 'images', 'val'))\n",
    "    shutil.copy(label_path, os.path.join(base_dir, 'labels', 'val'))\n",
    "yaml_data = {\n",
    "    'path': '../small-fast-detector/inference_tools/Evaluation/datasets/Client_Validation_Set',  # PUT HERE THE PATH\n",
    "    'train': 'images/train',\n",
    "    'val': 'images/val',\n",
    "    'test': '',\n",
    "    'names': {\n",
    "        0: 'uav',\n",
    "        1: 'airplane',\n",
    "        2: 'boat',\n",
    "        3: 'car',\n",
    "        4: 'person',\n",
    "        5: 'truck'\n",
    "    }\n",
    "\n",
    "}\n",
    "with open(os.path.join(base_dir, 'data.yaml'), 'w') as file:\n",
    "    yaml.dump(yaml_data, file, default_flow_style=False)\n",
    "\n",
    "print(\"Dataset organized and YAML file created.\")"
   ]
  },
  {
   "cell_type": "code",
   "execution_count": 20,
   "outputs": [],
   "source": [
    "import yaml\n",
    "import platform\n",
    "import pandas as pd\n",
    "import glob\n",
    "from PIL import Image\n",
    "import brambox as bb\n",
    "import numpy as np\n",
    "import pandas as pd\n",
    "from IPython.display import display\n",
    "import matplotlib.pyplot as plt\n",
    "import seaborn as sns"
   ],
   "metadata": {
    "collapsed": false,
    "ExecuteTime": {
     "end_time": "2024-01-19T09:57:50.014735Z",
     "start_time": "2024-01-19T09:57:49.977794Z"
    }
   },
   "id": "aca4fa1dfc716195"
  },
  {
   "cell_type": "code",
   "execution_count": 21,
   "outputs": [],
   "source": [
    "def check_os():\n",
    "    os = platform.system()\n",
    "\n",
    "    if os == 'Darwin':\n",
    "        return \"MacOS\"\n",
    "    elif os == 'Linux':\n",
    "        return \"Linux\"\n",
    "    else:\n",
    "        return \"Unknown OS\"\n",
    "    \n",
    "operating_system = check_os()\n",
    "\n",
    "\n",
    "if operating_system == \"MacOS\":\n",
    "    root_path = \"/Users/johnny/Projects/\"\n",
    "elif operating_system == \"Linux\":\n",
    "    root_path = \"/home/johnny/Projects/\""
   ],
   "metadata": {
    "collapsed": false,
    "ExecuteTime": {
     "end_time": "2024-01-19T09:57:50.019134Z",
     "start_time": "2024-01-19T09:57:50.015886Z"
    }
   },
   "id": "5136baa4c4771ce0"
  },
  {
   "cell_type": "code",
   "execution_count": 22,
   "outputs": [
    {
     "name": "stdout",
     "output_type": "stream",
     "text": [
      "detections:\n"
     ]
    },
    {
     "data": {
      "text/plain": "   image class_label  id  x_top_left  y_top_left     width    height  \\\n0   5009         uav NaN    1120.995     510.087  1731.857   882.608   \n1   5009    airplane NaN    1125.773     513.662  1728.777   878.329   \n2   5019      person NaN       0.448       1.436   915.496  2799.004   \n3   5019      person NaN      35.801       6.081  2470.119  2777.691   \n4   5019      person NaN      15.692      39.736  1634.106  2752.865   \n\n   confidence  \n0     0.92286  \n1     0.00179  \n2     0.00524  \n3     0.00136  \n4     0.00235  ",
      "text/html": "<div>\n<style scoped>\n    .dataframe tbody tr th:only-of-type {\n        vertical-align: middle;\n    }\n\n    .dataframe tbody tr th {\n        vertical-align: top;\n    }\n\n    .dataframe thead th {\n        text-align: right;\n    }\n</style>\n<table border=\"1\" class=\"dataframe\">\n  <thead>\n    <tr style=\"text-align: right;\">\n      <th></th>\n      <th>image</th>\n      <th>class_label</th>\n      <th>id</th>\n      <th>x_top_left</th>\n      <th>y_top_left</th>\n      <th>width</th>\n      <th>height</th>\n      <th>confidence</th>\n    </tr>\n  </thead>\n  <tbody>\n    <tr>\n      <th>0</th>\n      <td>5009</td>\n      <td>uav</td>\n      <td>NaN</td>\n      <td>1120.995</td>\n      <td>510.087</td>\n      <td>1731.857</td>\n      <td>882.608</td>\n      <td>0.92286</td>\n    </tr>\n    <tr>\n      <th>1</th>\n      <td>5009</td>\n      <td>airplane</td>\n      <td>NaN</td>\n      <td>1125.773</td>\n      <td>513.662</td>\n      <td>1728.777</td>\n      <td>878.329</td>\n      <td>0.00179</td>\n    </tr>\n    <tr>\n      <th>2</th>\n      <td>5019</td>\n      <td>person</td>\n      <td>NaN</td>\n      <td>0.448</td>\n      <td>1.436</td>\n      <td>915.496</td>\n      <td>2799.004</td>\n      <td>0.00524</td>\n    </tr>\n    <tr>\n      <th>3</th>\n      <td>5019</td>\n      <td>person</td>\n      <td>NaN</td>\n      <td>35.801</td>\n      <td>6.081</td>\n      <td>2470.119</td>\n      <td>2777.691</td>\n      <td>0.00136</td>\n    </tr>\n    <tr>\n      <th>4</th>\n      <td>5019</td>\n      <td>person</td>\n      <td>NaN</td>\n      <td>15.692</td>\n      <td>39.736</td>\n      <td>1634.106</td>\n      <td>2752.865</td>\n      <td>0.00235</td>\n    </tr>\n  </tbody>\n</table>\n</div>"
     },
     "metadata": {},
     "output_type": "display_data"
    }
   ],
   "source": [
    "from brambox.io.parser.detection import CocoParser\n",
    "\n",
    "# Load detections\n",
    "\n",
    "det = bb.io.load(CocoParser, '../../small-fast-detector/runs/detect/val/predictions.json')\n",
    "print('detections:')\n",
    "det['image'] = det['image'].astype(str).str.lstrip('0').astype(int)\n",
    "det['class_label'] = det['class_label'].astype(int)\n",
    "label_mapping = {\n",
    "    0: 'person',\n",
    "    1: 'car',\n",
    "    2: 'truck',\n",
    "    3: 'uav',\n",
    "    4: 'airplane',\n",
    "    5: 'boat'\n",
    "}\n",
    "\n",
    "# Applying the mapping to the 'class_label' column\n",
    "det['class_label'] = det['class_label'].map(label_mapping)\n",
    "\n",
    "display(det.head())"
   ],
   "metadata": {
    "collapsed": false,
    "ExecuteTime": {
     "end_time": "2024-01-19T09:57:50.767061Z",
     "start_time": "2024-01-19T09:57:50.018550Z"
    }
   },
   "id": "f667a15bee6a299f"
  },
  {
   "cell_type": "code",
   "execution_count": 23,
   "outputs": [
    {
     "name": "stdout",
     "output_type": "stream",
     "text": [
      "annotations:\n"
     ]
    },
    {
     "data": {
      "text/plain": "   image class_label       id  x_top_left  y_top_left  width  height  \\\n0  10000      person  10389.0      3386.0      2147.0   23.0    13.0   \n1  10000      person  10390.0      2965.0       797.0   70.0    62.0   \n2  10000      person  10391.0      2153.0       843.0   32.0    28.0   \n3  10000      person  10392.0       889.0      1017.0  146.0    51.0   \n4  10000        boat  10393.0       454.0       241.0  104.0    33.0   \n\n   occluded  truncated   lost  difficult  ignore  image_width  image_height  \n0       0.0        0.0  False      False   False         3840          2160  \n1       0.0        0.0  False      False   False         3840          2160  \n2       0.0        0.0  False      False   False         3840          2160  \n3       0.0        0.0  False      False   False         3840          2160  \n4       0.0        0.0  False      False   False         3840          2160  ",
      "text/html": "<div>\n<style scoped>\n    .dataframe tbody tr th:only-of-type {\n        vertical-align: middle;\n    }\n\n    .dataframe tbody tr th {\n        vertical-align: top;\n    }\n\n    .dataframe thead th {\n        text-align: right;\n    }\n</style>\n<table border=\"1\" class=\"dataframe\">\n  <thead>\n    <tr style=\"text-align: right;\">\n      <th></th>\n      <th>image</th>\n      <th>class_label</th>\n      <th>id</th>\n      <th>x_top_left</th>\n      <th>y_top_left</th>\n      <th>width</th>\n      <th>height</th>\n      <th>occluded</th>\n      <th>truncated</th>\n      <th>lost</th>\n      <th>difficult</th>\n      <th>ignore</th>\n      <th>image_width</th>\n      <th>image_height</th>\n    </tr>\n  </thead>\n  <tbody>\n    <tr>\n      <th>0</th>\n      <td>10000</td>\n      <td>person</td>\n      <td>10389.0</td>\n      <td>3386.0</td>\n      <td>2147.0</td>\n      <td>23.0</td>\n      <td>13.0</td>\n      <td>0.0</td>\n      <td>0.0</td>\n      <td>False</td>\n      <td>False</td>\n      <td>False</td>\n      <td>3840</td>\n      <td>2160</td>\n    </tr>\n    <tr>\n      <th>1</th>\n      <td>10000</td>\n      <td>person</td>\n      <td>10390.0</td>\n      <td>2965.0</td>\n      <td>797.0</td>\n      <td>70.0</td>\n      <td>62.0</td>\n      <td>0.0</td>\n      <td>0.0</td>\n      <td>False</td>\n      <td>False</td>\n      <td>False</td>\n      <td>3840</td>\n      <td>2160</td>\n    </tr>\n    <tr>\n      <th>2</th>\n      <td>10000</td>\n      <td>person</td>\n      <td>10391.0</td>\n      <td>2153.0</td>\n      <td>843.0</td>\n      <td>32.0</td>\n      <td>28.0</td>\n      <td>0.0</td>\n      <td>0.0</td>\n      <td>False</td>\n      <td>False</td>\n      <td>False</td>\n      <td>3840</td>\n      <td>2160</td>\n    </tr>\n    <tr>\n      <th>3</th>\n      <td>10000</td>\n      <td>person</td>\n      <td>10392.0</td>\n      <td>889.0</td>\n      <td>1017.0</td>\n      <td>146.0</td>\n      <td>51.0</td>\n      <td>0.0</td>\n      <td>0.0</td>\n      <td>False</td>\n      <td>False</td>\n      <td>False</td>\n      <td>3840</td>\n      <td>2160</td>\n    </tr>\n    <tr>\n      <th>4</th>\n      <td>10000</td>\n      <td>boat</td>\n      <td>10393.0</td>\n      <td>454.0</td>\n      <td>241.0</td>\n      <td>104.0</td>\n      <td>33.0</td>\n      <td>0.0</td>\n      <td>0.0</td>\n      <td>False</td>\n      <td>False</td>\n      <td>False</td>\n      <td>3840</td>\n      <td>2160</td>\n    </tr>\n  </tbody>\n</table>\n</div>"
     },
     "metadata": {},
     "output_type": "display_data"
    }
   ],
   "source": [
    "from brambox.io.parser.annotation import CocoParser\n",
    "# Load annotations\n",
    "anno = bb.io.load(CocoParser(add_image_dims=True), '../../small-fast-detector/inference_tools/Evaluation/datasets/Client_Validation_Set/annotations/instances_val2017.json')\n",
    "anno['image'] = anno['image'].astype(str).str.lstrip('0').astype(int)\n",
    "\n",
    "print('annotations:')\n",
    "display(anno.head())\n",
    "\n",
    "# save dataframes\n",
    "det.to_csv('../../small-fast-detector/runs/detect/val/detections.csv', index=False)\n",
    "\n",
    "anno.to_csv('../../small-fast-detector/runs/detect/val/annotations.csv', index=False)"
   ],
   "metadata": {
    "collapsed": false,
    "ExecuteTime": {
     "end_time": "2024-01-19T09:57:51.274744Z",
     "start_time": "2024-01-19T09:57:50.767389Z"
    }
   },
   "id": "c4d2e90df714d74"
  },
  {
   "cell_type": "code",
   "execution_count": 24,
   "outputs": [
    {
     "data": {
      "text/plain": "  0%|          | 0/3133 [00:00<?, ?it/s]",
      "application/vnd.jupyter.widget-view+json": {
       "version_major": 2,
       "version_minor": 0,
       "model_id": "dc206e5948d14874aa3f582660bf7b5e"
      }
     },
     "metadata": {},
     "output_type": "display_data"
    },
    {
     "name": "stderr",
     "output_type": "stream",
     "text": [
      "/var/folders/d_/mv_tvljd4wz2dmh2c7kcl6xm0000gn/T/ipykernel_35429/942259679.py:155: FutureWarning: The behavior of DataFrame concatenation with empty or all-NA entries is deprecated. In a future version, this will no longer exclude empty or all-NA columns when determining the result dtypes. To retain the old behavior, exclude the relevant entries before the concat operation.\n",
      "  image_stats = pd.concat([image_stats, pd.DataFrame([new_row])], ignore_index=True)\n"
     ]
    }
   ],
   "source": [
    "from tqdm.notebook import tqdm\n",
    "\n",
    "\n",
    "def calculate_area(row):\n",
    "    return row['width'] * row['height']\n",
    "\n",
    "def iou(box_a, box_b):\n",
    "    xA = max(box_a[0], box_b[0])\n",
    "    yA = max(box_a[1], box_b[1])\n",
    "    xB = min(box_a[2], box_b[2])\n",
    "    yB = min(box_a[3], box_b[3])\n",
    "\n",
    "    interArea = max(0, xB - xA) * max(0, yB - yA)\n",
    "\n",
    "    boxAArea = (box_a[2] - box_a[0]) * (box_a[3] - box_a[1])\n",
    "    boxBArea = (box_b[2] - box_b[0]) * (box_b[3] - box_b[1])\n",
    "\n",
    "    iou = interArea / float(boxAArea + boxBArea - interArea)\n",
    "    return iou\n",
    "\n",
    "def calculate_map(detected, actual, class_labels):\n",
    "    aps = []\n",
    "    if detected.empty or 'class_label' not in detected.columns:\n",
    "        return 0\n",
    "\n",
    "    for label in class_labels:\n",
    "        if label not in detected['class_label'].values:\n",
    "            aps.append(0)\n",
    "            continue\n",
    "\n",
    "        dc = detected[detected.class_label == label]\n",
    "        ac = actual[actual.class_label == label]\n",
    "\n",
    "        ap_coco = []\n",
    "        for iou_threshold in range(50, 100, 5):\n",
    "            if dc.empty:\n",
    "                ap_coco.append(0)\n",
    "                continue\n",
    "\n",
    "            pr = bb.stat.pr(dc, ac, iou_threshold / 100, smooth=True)\n",
    "            ap_coco.append(bb.stat.auc_interpolated(pr))\n",
    "\n",
    "        aps.append(sum(ap_coco) / len(ap_coco))\n",
    "\n",
    "    mAP_coco = sum(aps) / len(aps) if aps else 0\n",
    "    return mAP_coco\n",
    "\n",
    "def calculate_pr_curve(detected, actual, iou_threshold):\n",
    "    \"\"\" Calcula la curva PR para un umbral de IoU específico. \"\"\"\n",
    "    matched_det = bb.stat.match_det(detected, actual, threshold=iou_threshold, \n",
    "                                    criteria=bb.stat.coordinates.iou, \n",
    "                                    ignore=bb.stat.IgnoreMethod.SINGLE)\n",
    "    pr_curve = bb.stat.pr(matched_det, actual)\n",
    "    return pr_curve\n",
    "\n",
    "def calculate_recall_precision(tp, fn, fp):\n",
    "    \"\"\" Calcula el recall y la precisión. \"\"\"\n",
    "    recall = tp / (tp + fn) if (tp + fn) > 0 else 0\n",
    "    precision = tp / (tp + fp) if (tp + fp) > 0 else 0\n",
    "    return recall, precision\n",
    "\n",
    "def calculate_ap(recalls, precisions):\n",
    "    \"\"\" Calcula el Average Precision (AP) a partir de las curvas de recall y precision. \"\"\"\n",
    "    recalls = [0] + recalls + [1] \n",
    "    precisions = [0] + precisions + [0] \n",
    "\n",
    "    ap = np.sum((recalls[i] - recalls[i - 1]) * precisions[i] for i in range(1, len(recalls)))\n",
    "    return ap\n",
    "\n",
    "def calculate_metrics(detected, actual, class_labels, iou_threshold=0.5):\n",
    "    precision = []\n",
    "    recall = []\n",
    "\n",
    "    for label in class_labels:\n",
    "        tp_per_class = 0\n",
    "        fp_per_class = 0\n",
    "        fn_per_class = 0\n",
    "        detected_class = detected[detected['class_label'] == label]\n",
    "        actual_class = actual[actual['class_label'] == label]\n",
    "\n",
    "        for _, det_row in detected_class.iterrows():\n",
    "            box_det = [det_row['x_top_left'], det_row['y_top_left'],\n",
    "                       det_row['x_top_left'] + det_row['width'], \n",
    "                       det_row['y_top_left'] + det_row['height']]\n",
    "\n",
    "            best_iou = 0\n",
    "            for _, act_row in actual_class.iterrows():\n",
    "                box_act = [act_row['x_top_left'], act_row['y_top_left'],\n",
    "                           act_row['x_top_left'] + act_row['width'], \n",
    "                           act_row['y_top_left'] + act_row['height']]\n",
    "                current_iou = iou(box_det, box_act)\n",
    "                best_iou = max(best_iou, current_iou)\n",
    "\n",
    "            if best_iou >= iou_threshold:\n",
    "                tp_per_class += 1\n",
    "            else:\n",
    "                fp_per_class += 1\n",
    "\n",
    "        # Calcular FN\n",
    "        fn_per_class = len(actual) - tp_per_class\n",
    "    \n",
    "        # Calcular recall y precisión\n",
    "        recall_per_class, precision_per_class = calculate_recall_precision(tp_per_class, fn_per_class, fp_per_class)\n",
    "        recall.append(recall_per_class)\n",
    "        precision.append(precision_per_class)\n",
    "    \n",
    "    recall = np.mean(recall)\n",
    "    precision = np.mean(precision)\n",
    "\n",
    "    # Calcular AP por clase y luego calcular el promedio (mAP)\n",
    "    mAP = calculate_map(detected, actual, class_labels)\n",
    "\n",
    "    return recall, precision, mAP\n",
    "\n",
    "image_stats = pd.DataFrame(columns=['name', 'width', 'height', 'num_of_gt_objects', 'lowest_area', 'biggest_area', 'num_of_predicted_objects', 'recall', 'precision', 'mAP'])\n",
    "\n",
    "det_grouped = det.groupby('image', observed=True)\n",
    "anno_grouped = anno.groupby('image', observed=True)\n",
    "\n",
    "class_labels = anno['class_label'].unique().tolist()\n",
    "\n",
    "total_images = set(anno['image'].unique().tolist() + det['image'].unique().tolist())\n",
    "total_images = sorted(total_images)\n",
    "for image_id in tqdm(total_images):\n",
    "    width = height = num_of_gt_objects = lowest_area = biggest_area = num_of_predicted_objects = np.nan\n",
    "    recall = precision = mAP = 0\n",
    "\n",
    "    if image_id in anno_grouped.groups:\n",
    "        image_data = anno_grouped.get_group(image_id).copy()\n",
    "        width = image_data.iloc[0]['image_width']\n",
    "        height = image_data.iloc[0]['image_height']\n",
    "        num_of_gt_objects = len(image_data)\n",
    "        image_data['area'] = image_data.apply(calculate_area, axis=1)\n",
    "        lowest_area = image_data['area'].min() if not image_data['area'].empty else np.nan\n",
    "        biggest_area = image_data['area'].max() if not image_data['area'].empty else np.nan\n",
    "\n",
    "    if image_id in det_grouped.groups:\n",
    "        det_data = det_grouped.get_group(image_id)\n",
    "        num_of_predicted_objects = len(det_data)\n",
    "        recall, precision, mAP = calculate_metrics(det_data, image_data, class_labels)\n",
    "\n",
    "    new_row = {\n",
    "        'name': image_id,\n",
    "        'width': width,\n",
    "        'height': height,\n",
    "        'num_of_gt_objects': num_of_gt_objects,\n",
    "        'lowest_area': lowest_area,\n",
    "        'biggest_area': biggest_area,\n",
    "        'num_of_predicted_objects': num_of_predicted_objects,\n",
    "        'recall': recall,\n",
    "        'precision': precision,\n",
    "        'mAP': mAP,\n",
    "        \n",
    "    }\n",
    "    image_stats = pd.concat([image_stats, pd.DataFrame([new_row])], ignore_index=True)\n"
   ],
   "metadata": {
    "collapsed": false,
    "ExecuteTime": {
     "end_time": "2024-01-19T10:00:46.331228Z",
     "start_time": "2024-01-19T09:57:51.283449Z"
    }
   },
   "id": "7a27d0172ff2cb56"
  },
  {
   "cell_type": "code",
   "execution_count": 36,
   "outputs": [
    {
     "data": {
      "text/plain": "      name width height num_of_gt_objects  lowest_area  biggest_area  \\\n2446  7962  3732   1840                 1        640.0         640.0   \n\n     num_of_predicted_objects  recall  precision  mAP  \n2446                        3     0.0        0.0  0.0  ",
      "text/html": "<div>\n<style scoped>\n    .dataframe tbody tr th:only-of-type {\n        vertical-align: middle;\n    }\n\n    .dataframe tbody tr th {\n        vertical-align: top;\n    }\n\n    .dataframe thead th {\n        text-align: right;\n    }\n</style>\n<table border=\"1\" class=\"dataframe\">\n  <thead>\n    <tr style=\"text-align: right;\">\n      <th></th>\n      <th>name</th>\n      <th>width</th>\n      <th>height</th>\n      <th>num_of_gt_objects</th>\n      <th>lowest_area</th>\n      <th>biggest_area</th>\n      <th>num_of_predicted_objects</th>\n      <th>recall</th>\n      <th>precision</th>\n      <th>mAP</th>\n    </tr>\n  </thead>\n  <tbody>\n    <tr>\n      <th>2446</th>\n      <td>7962</td>\n      <td>3732</td>\n      <td>1840</td>\n      <td>1</td>\n      <td>640.0</td>\n      <td>640.0</td>\n      <td>3</td>\n      <td>0.0</td>\n      <td>0.0</td>\n      <td>0.0</td>\n    </tr>\n  </tbody>\n</table>\n</div>"
     },
     "execution_count": 36,
     "metadata": {},
     "output_type": "execute_result"
    }
   ],
   "source": [
    "image_stats[image_stats['name']==7962]"
   ],
   "metadata": {
    "collapsed": false,
    "ExecuteTime": {
     "end_time": "2024-01-19T10:16:39.271498Z",
     "start_time": "2024-01-19T10:16:39.261199Z"
    }
   },
   "id": "9906a74edd0ec704"
  },
  {
   "cell_type": "code",
   "execution_count": 25,
   "outputs": [
    {
     "data": {
      "text/plain": "       name width height num_of_gt_objects  lowest_area  biggest_area  \\\n0      5009  3000   2000                 1    1574832.0     1574832.0   \n1      5019  4256   2832                 1     769872.0      769872.0   \n2      5024  1920   1080                 1    1248928.0     1248928.0   \n3      5025  2048   1365                 1     467250.0      467250.0   \n4      5034  2048   1365                 1    1446720.0     1446720.0   \n...     ...   ...    ...               ...          ...           ...   \n3128  10089  3840   2160                 1        418.0         418.0   \n3129  10090  3840   2160                 2        143.0         330.0   \n3130  10091  3840   2160                 1        391.0         391.0   \n3131  10092  3840   2160                 1        204.0         204.0   \n3132  10093  3840   2160                 1        459.0         459.0   \n\n     num_of_predicted_objects    recall  precision       mAP  \n0                           2  0.166667   0.166667  0.166667  \n1                          22  0.166667   0.041667  0.148886  \n2                           2  0.166667   0.166667  0.166667  \n3                           2  0.166667   0.166667  0.166667  \n4                           1  0.166667   0.166667  0.166667  \n...                       ...       ...        ...       ...  \n3128                       25  0.000000   0.000000  0.000000  \n3129                       29  0.000000   0.000000  0.000000  \n3130                       29  0.000000   0.000000  0.000000  \n3131                       12  0.000000   0.000000  0.000000  \n3132                        5  0.000000   0.000000  0.000000  \n\n[3133 rows x 10 columns]",
      "text/html": "<div>\n<style scoped>\n    .dataframe tbody tr th:only-of-type {\n        vertical-align: middle;\n    }\n\n    .dataframe tbody tr th {\n        vertical-align: top;\n    }\n\n    .dataframe thead th {\n        text-align: right;\n    }\n</style>\n<table border=\"1\" class=\"dataframe\">\n  <thead>\n    <tr style=\"text-align: right;\">\n      <th></th>\n      <th>name</th>\n      <th>width</th>\n      <th>height</th>\n      <th>num_of_gt_objects</th>\n      <th>lowest_area</th>\n      <th>biggest_area</th>\n      <th>num_of_predicted_objects</th>\n      <th>recall</th>\n      <th>precision</th>\n      <th>mAP</th>\n    </tr>\n  </thead>\n  <tbody>\n    <tr>\n      <th>0</th>\n      <td>5009</td>\n      <td>3000</td>\n      <td>2000</td>\n      <td>1</td>\n      <td>1574832.0</td>\n      <td>1574832.0</td>\n      <td>2</td>\n      <td>0.166667</td>\n      <td>0.166667</td>\n      <td>0.166667</td>\n    </tr>\n    <tr>\n      <th>1</th>\n      <td>5019</td>\n      <td>4256</td>\n      <td>2832</td>\n      <td>1</td>\n      <td>769872.0</td>\n      <td>769872.0</td>\n      <td>22</td>\n      <td>0.166667</td>\n      <td>0.041667</td>\n      <td>0.148886</td>\n    </tr>\n    <tr>\n      <th>2</th>\n      <td>5024</td>\n      <td>1920</td>\n      <td>1080</td>\n      <td>1</td>\n      <td>1248928.0</td>\n      <td>1248928.0</td>\n      <td>2</td>\n      <td>0.166667</td>\n      <td>0.166667</td>\n      <td>0.166667</td>\n    </tr>\n    <tr>\n      <th>3</th>\n      <td>5025</td>\n      <td>2048</td>\n      <td>1365</td>\n      <td>1</td>\n      <td>467250.0</td>\n      <td>467250.0</td>\n      <td>2</td>\n      <td>0.166667</td>\n      <td>0.166667</td>\n      <td>0.166667</td>\n    </tr>\n    <tr>\n      <th>4</th>\n      <td>5034</td>\n      <td>2048</td>\n      <td>1365</td>\n      <td>1</td>\n      <td>1446720.0</td>\n      <td>1446720.0</td>\n      <td>1</td>\n      <td>0.166667</td>\n      <td>0.166667</td>\n      <td>0.166667</td>\n    </tr>\n    <tr>\n      <th>...</th>\n      <td>...</td>\n      <td>...</td>\n      <td>...</td>\n      <td>...</td>\n      <td>...</td>\n      <td>...</td>\n      <td>...</td>\n      <td>...</td>\n      <td>...</td>\n      <td>...</td>\n    </tr>\n    <tr>\n      <th>3128</th>\n      <td>10089</td>\n      <td>3840</td>\n      <td>2160</td>\n      <td>1</td>\n      <td>418.0</td>\n      <td>418.0</td>\n      <td>25</td>\n      <td>0.000000</td>\n      <td>0.000000</td>\n      <td>0.000000</td>\n    </tr>\n    <tr>\n      <th>3129</th>\n      <td>10090</td>\n      <td>3840</td>\n      <td>2160</td>\n      <td>2</td>\n      <td>143.0</td>\n      <td>330.0</td>\n      <td>29</td>\n      <td>0.000000</td>\n      <td>0.000000</td>\n      <td>0.000000</td>\n    </tr>\n    <tr>\n      <th>3130</th>\n      <td>10091</td>\n      <td>3840</td>\n      <td>2160</td>\n      <td>1</td>\n      <td>391.0</td>\n      <td>391.0</td>\n      <td>29</td>\n      <td>0.000000</td>\n      <td>0.000000</td>\n      <td>0.000000</td>\n    </tr>\n    <tr>\n      <th>3131</th>\n      <td>10092</td>\n      <td>3840</td>\n      <td>2160</td>\n      <td>1</td>\n      <td>204.0</td>\n      <td>204.0</td>\n      <td>12</td>\n      <td>0.000000</td>\n      <td>0.000000</td>\n      <td>0.000000</td>\n    </tr>\n    <tr>\n      <th>3132</th>\n      <td>10093</td>\n      <td>3840</td>\n      <td>2160</td>\n      <td>1</td>\n      <td>459.0</td>\n      <td>459.0</td>\n      <td>5</td>\n      <td>0.000000</td>\n      <td>0.000000</td>\n      <td>0.000000</td>\n    </tr>\n  </tbody>\n</table>\n<p>3133 rows × 10 columns</p>\n</div>"
     },
     "execution_count": 25,
     "metadata": {},
     "output_type": "execute_result"
    }
   ],
   "source": [
    "image_stats.sort_values(by=['name'], ascending=True, inplace=True)\n",
    "image_stats"
   ],
   "metadata": {
    "collapsed": false,
    "ExecuteTime": {
     "end_time": "2024-01-19T10:00:46.342463Z",
     "start_time": "2024-01-19T10:00:46.335786Z"
    }
   },
   "id": "2cc596056a6299ce"
  },
  {
   "cell_type": "code",
   "execution_count": 26,
   "outputs": [],
   "source": [
    "image_stats.to_csv('../../small-fast-detector/runs/detect/val/image_stats.csv', index=False)"
   ],
   "metadata": {
    "collapsed": false,
    "ExecuteTime": {
     "end_time": "2024-01-19T10:00:46.413230Z",
     "start_time": "2024-01-19T10:00:46.337385Z"
    }
   },
   "id": "5b7eafda42e6b300"
  },
  {
   "cell_type": "code",
   "execution_count": 33,
   "outputs": [
    {
     "data": {
      "text/plain": "100"
     },
     "execution_count": 33,
     "metadata": {},
     "output_type": "execute_result"
    }
   ],
   "source": [
    "image_stats['num_of_gt_objects'].unique().max()"
   ],
   "metadata": {
    "collapsed": false,
    "ExecuteTime": {
     "end_time": "2024-01-19T10:12:03.873779Z",
     "start_time": "2024-01-19T10:12:03.861909Z"
    }
   },
   "id": "b82318258f5d6f4a"
  },
  {
   "cell_type": "code",
   "execution_count": 37,
   "outputs": [],
   "source": [
    "#top-1000k recall\n",
    "df_filtered_2k = image_stats.sort_values(by=['mAP'], ascending=False).head(2000)"
   ],
   "metadata": {
    "collapsed": false,
    "ExecuteTime": {
     "end_time": "2024-01-19T10:26:08.083469Z",
     "start_time": "2024-01-19T10:26:08.072630Z"
    }
   },
   "id": "c6dedb4f1b414f20"
  },
  {
   "cell_type": "code",
   "execution_count": 38,
   "outputs": [
    {
     "data": {
      "text/plain": "      name width height num_of_gt_objects  lowest_area  biggest_area  \\\n374   5766  1920   1080                 3        920.0        5800.0   \n127   5519  1920   1080                14       1098.0        7888.0   \n419   5811  1920   1080                11        588.0       16274.0   \n582   5974  1920   1080                 4       1428.0        6192.0   \n1690  7082  1920   1080                 4        308.0       14240.0   \n...    ...   ...    ...               ...          ...           ...   \n3024  9985  3840   2160                 7       1596.0       48114.0   \n1610  7002  1920   1080                 2        420.0        1749.0   \n1887  7279  1920   1080                 1       1134.0        1134.0   \n2434  7924  1920   1080                 2       9020.0       19760.0   \n912   6304  1920   1080                 4        351.0        1479.0   \n\n     num_of_predicted_objects    recall  precision       mAP  \n374                        90  0.222222   0.023551  0.396203  \n127                       113  0.273810   0.122475  0.371177  \n419                        54  0.348485   0.182828  0.369782  \n582                        86  0.375000   0.165281  0.369483  \n1690                       62  0.333333   0.116162  0.367617  \n...                       ...       ...        ...       ...  \n3024                       40  0.333333   0.093056  0.067598  \n1610                       55  0.250000   0.017999  0.067414  \n1887                       34  0.500000   0.014706  0.067413  \n2434                        9  0.083333   0.166667  0.067327  \n912                        62  0.166667   0.017094  0.066859  \n\n[2000 rows x 10 columns]",
      "text/html": "<div>\n<style scoped>\n    .dataframe tbody tr th:only-of-type {\n        vertical-align: middle;\n    }\n\n    .dataframe tbody tr th {\n        vertical-align: top;\n    }\n\n    .dataframe thead th {\n        text-align: right;\n    }\n</style>\n<table border=\"1\" class=\"dataframe\">\n  <thead>\n    <tr style=\"text-align: right;\">\n      <th></th>\n      <th>name</th>\n      <th>width</th>\n      <th>height</th>\n      <th>num_of_gt_objects</th>\n      <th>lowest_area</th>\n      <th>biggest_area</th>\n      <th>num_of_predicted_objects</th>\n      <th>recall</th>\n      <th>precision</th>\n      <th>mAP</th>\n    </tr>\n  </thead>\n  <tbody>\n    <tr>\n      <th>374</th>\n      <td>5766</td>\n      <td>1920</td>\n      <td>1080</td>\n      <td>3</td>\n      <td>920.0</td>\n      <td>5800.0</td>\n      <td>90</td>\n      <td>0.222222</td>\n      <td>0.023551</td>\n      <td>0.396203</td>\n    </tr>\n    <tr>\n      <th>127</th>\n      <td>5519</td>\n      <td>1920</td>\n      <td>1080</td>\n      <td>14</td>\n      <td>1098.0</td>\n      <td>7888.0</td>\n      <td>113</td>\n      <td>0.273810</td>\n      <td>0.122475</td>\n      <td>0.371177</td>\n    </tr>\n    <tr>\n      <th>419</th>\n      <td>5811</td>\n      <td>1920</td>\n      <td>1080</td>\n      <td>11</td>\n      <td>588.0</td>\n      <td>16274.0</td>\n      <td>54</td>\n      <td>0.348485</td>\n      <td>0.182828</td>\n      <td>0.369782</td>\n    </tr>\n    <tr>\n      <th>582</th>\n      <td>5974</td>\n      <td>1920</td>\n      <td>1080</td>\n      <td>4</td>\n      <td>1428.0</td>\n      <td>6192.0</td>\n      <td>86</td>\n      <td>0.375000</td>\n      <td>0.165281</td>\n      <td>0.369483</td>\n    </tr>\n    <tr>\n      <th>1690</th>\n      <td>7082</td>\n      <td>1920</td>\n      <td>1080</td>\n      <td>4</td>\n      <td>308.0</td>\n      <td>14240.0</td>\n      <td>62</td>\n      <td>0.333333</td>\n      <td>0.116162</td>\n      <td>0.367617</td>\n    </tr>\n    <tr>\n      <th>...</th>\n      <td>...</td>\n      <td>...</td>\n      <td>...</td>\n      <td>...</td>\n      <td>...</td>\n      <td>...</td>\n      <td>...</td>\n      <td>...</td>\n      <td>...</td>\n      <td>...</td>\n    </tr>\n    <tr>\n      <th>3024</th>\n      <td>9985</td>\n      <td>3840</td>\n      <td>2160</td>\n      <td>7</td>\n      <td>1596.0</td>\n      <td>48114.0</td>\n      <td>40</td>\n      <td>0.333333</td>\n      <td>0.093056</td>\n      <td>0.067598</td>\n    </tr>\n    <tr>\n      <th>1610</th>\n      <td>7002</td>\n      <td>1920</td>\n      <td>1080</td>\n      <td>2</td>\n      <td>420.0</td>\n      <td>1749.0</td>\n      <td>55</td>\n      <td>0.250000</td>\n      <td>0.017999</td>\n      <td>0.067414</td>\n    </tr>\n    <tr>\n      <th>1887</th>\n      <td>7279</td>\n      <td>1920</td>\n      <td>1080</td>\n      <td>1</td>\n      <td>1134.0</td>\n      <td>1134.0</td>\n      <td>34</td>\n      <td>0.500000</td>\n      <td>0.014706</td>\n      <td>0.067413</td>\n    </tr>\n    <tr>\n      <th>2434</th>\n      <td>7924</td>\n      <td>1920</td>\n      <td>1080</td>\n      <td>2</td>\n      <td>9020.0</td>\n      <td>19760.0</td>\n      <td>9</td>\n      <td>0.083333</td>\n      <td>0.166667</td>\n      <td>0.067327</td>\n    </tr>\n    <tr>\n      <th>912</th>\n      <td>6304</td>\n      <td>1920</td>\n      <td>1080</td>\n      <td>4</td>\n      <td>351.0</td>\n      <td>1479.0</td>\n      <td>62</td>\n      <td>0.166667</td>\n      <td>0.017094</td>\n      <td>0.066859</td>\n    </tr>\n  </tbody>\n</table>\n<p>2000 rows × 10 columns</p>\n</div>"
     },
     "execution_count": 38,
     "metadata": {},
     "output_type": "execute_result"
    }
   ],
   "source": [
    "import pandas as pd\n",
    "import os\n",
    "import shutil\n",
    "import yaml\n",
    "\n",
    "# CHANGE DATASET HERE\n",
    "dataframe = df_filtered_2k\n",
    "base_dir = '/Users/johnny/Projects/datasets/Client_Validation_Set'\n",
    "\n",
    "subfolders = ['train', 'val', 'test']\n",
    "folders = ['images', 'labels']\n",
    "for folder in folders:\n",
    "    for subfolder in subfolders:\n",
    "        os.makedirs(os.path.join(base_dir, folder, subfolder), exist_ok=True)\n",
    "\n",
    "for index, row in dataframe.iterrows():\n",
    "    image_path = row['image_path']\n",
    "    label_path = row['label_path']\n",
    "    shutil.copy(image_path, os.path.join(base_dir, 'images', 'val'))\n",
    "    shutil.copy(label_path, os.path.join(base_dir, 'labels', 'val'))\n",
    "yaml_data = {\n",
    "    'path': '../small-fast-detector/inference_tools/Evaluation/datasets/Client_Validation_Set',  # PUT HERE THE PATH\n",
    "    'train': 'images/train',\n",
    "    'val': 'images/val',\n",
    "    'test': '',\n",
    "    'names': {\n",
    "        0: 'uav',\n",
    "        1: 'airplane',\n",
    "        2: 'boat',\n",
    "        3: 'car',\n",
    "        4: 'person',\n",
    "        5: 'truck'\n",
    "    }\n",
    "\n",
    "}\n",
    "with open(os.path.join(base_dir, 'data.yaml'), 'w') as file:\n",
    "    yaml.dump(yaml_data, file, default_flow_style=False)\n",
    "\n",
    "print(\"Dataset organized and YAML file created.\")"
   ],
   "metadata": {
    "collapsed": false,
    "ExecuteTime": {
     "end_time": "2024-01-19T10:26:13.910687Z",
     "start_time": "2024-01-19T10:26:13.903270Z"
    }
   },
   "id": "71942aecdf75b933"
  },
  {
   "cell_type": "code",
   "execution_count": 28,
   "outputs": [],
   "source": [
    "# merge image_path and label_path from df_filtered\n",
    "image_stats = pd.merge(image_stats, df_filtered[['img', 'image_path', 'label_path']], left_on='name', right_on='img', how='left')"
   ],
   "metadata": {
    "collapsed": false,
    "ExecuteTime": {
     "end_time": "2024-01-19T10:00:46.449516Z",
     "start_time": "2024-01-19T10:00:46.356119Z"
    }
   },
   "id": "c4a5028c498e00f"
  },
  {
   "cell_type": "code",
   "execution_count": 30,
   "outputs": [],
   "source": [
    "image_stats.to_csv('../../small-fast-detector/runs/detect/val/image_stats.csv', index=False)"
   ],
   "metadata": {
    "collapsed": false,
    "ExecuteTime": {
     "end_time": "2024-01-19T10:01:27.284750Z",
     "start_time": "2024-01-19T10:01:27.182512Z"
    }
   },
   "id": "1423498324f60fbb"
  }
 ],
 "metadata": {
  "kernelspec": {
   "display_name": "Python 3 (ipykernel)",
   "language": "python",
   "name": "python3"
  },
  "language_info": {
   "codemirror_mode": {
    "name": "ipython",
    "version": 3
   },
   "file_extension": ".py",
   "mimetype": "text/x-python",
   "name": "python",
   "nbconvert_exporter": "python",
   "pygments_lexer": "ipython3",
   "version": "3.11.4"
  }
 },
 "nbformat": 4,
 "nbformat_minor": 5
}
