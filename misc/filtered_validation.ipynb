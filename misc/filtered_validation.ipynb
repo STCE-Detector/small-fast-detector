{
 "cells": [
  {
   "cell_type": "code",
   "execution_count": 49,
   "id": "8d1757db-150e-4036-a818-212539f7417f",
   "metadata": {
    "ExecuteTime": {
     "end_time": "2024-01-19T12:54:41.094450284Z",
     "start_time": "2024-01-19T12:54:41.050788748Z"
    },
    "pycharm": {
     "name": "#%%\n"
    }
   },
   "source": [
    "from ultralytics import YOLO\n",
    "import pandas as pd\n",
    "import numpy as np\n",
    "import os\n",
    "import imagesize"
   ],
   "outputs": []
  },
  {
   "cell_type": "code",
   "execution_count": 50,
   "id": "a371d7ed-67e3-4d56-add9-dca31c9ab232",
   "metadata": {
    "ExecuteTime": {
     "end_time": "2024-01-19T12:54:41.356179185Z",
     "start_time": "2024-01-19T12:54:41.353546186Z"
    },
    "pycharm": {
     "name": "#%%\n"
    }
   },
   "source": [
    "class_names = {\n",
    "    0:'Person',\n",
    "    1:'Car',\n",
    "    2:'Truck',\n",
    "    3:'UAV',\n",
    "    4:'Aircraft',\n",
    "    5:'Ship'\n",
    "}"
   ],
   "outputs": []
  },
  {
   "cell_type": "code",
   "execution_count": 51,
   "id": "7bc64d28-4a7e-4a3c-9d4d-b551843b357c",
   "metadata": {
    "ExecuteTime": {
     "end_time": "2024-01-19T12:54:42.197992249Z",
     "start_time": "2024-01-19T12:54:42.192416884Z"
    },
    "pycharm": {
     "name": "#%%\n"
    }
   },
   "source": [
    "def inspect_dataset(\n",
    "        target_dataset_root,  # ../datasets/new_dataset\n",
    "        target_dataset_slice,  # train,test,val\n",
    "):\n",
    " info = []  # list of lists, each list corresponds to an instance [cls_id, x, y, w, h, img]\n",
    "\n",
    " target_labels_dir = os.path.join(target_dataset_root, 'labels', target_dataset_slice)\n",
    "\n",
    " # Iterate over all files in the original dataset labels folder\n",
    " for filename in os.listdir(target_labels_dir):\n",
    "  if filename.endswith('.txt'):\n",
    "   # Read file\n",
    "   with open(os.path.join(target_labels_dir, filename), \"r\") as f:\n",
    "    # Iterate over instances in image and get present class ids\n",
    "    for line in f:\n",
    "     line_data = []\n",
    "     # label data\n",
    "     line_data = line.split()\n",
    "     # Image name\n",
    "     line_data.append(os.path.splitext(filename)[0])\n",
    "     # Image size: could be done at image level and not row level\n",
    "     img_path = os.path.join(target_dataset_root, 'images', target_dataset_slice,\n",
    "                             os.path.splitext(filename)[0] + '.jpg')\n",
    "     img_w, img_h = imagesize.get(img_path)\n",
    "     line_data.extend([img_w, img_h])\n",
    "     line_data.extend([img_path, os.path.join(target_labels_dir, filename)])\n",
    "     # Append line data to info\n",
    "     info.append(line_data)\n",
    "\n",
    " df = pd.DataFrame(info, columns=['new_class_id', 'xcn', 'ycn', 'wn', 'hn', 'img', 'img_w', 'img_h', 'image_path', 'label_path'])\n",
    " df = df.astype(\n",
    "  {'new_class_id': 'int32', 'xcn': 'float32', 'ycn': 'float32', 'wn': 'float32', 'hn': 'float32', 'img': 'int64',\n",
    "   'img_w': 'float32', 'img_h': 'float32', 'image_path': 'string', 'label_path': 'string'})\n",
    " df['class_name'] = df['new_class_id'].map(class_names)\n",
    " return df"
   ],
   "outputs": []
  },
  {
   "cell_type": "code",
   "execution_count": 52,
   "id": "5641ef6b-31ab-4dfc-bff7-d3a48d58cefa",
   "metadata": {
    "ExecuteTime": {
     "end_time": "2024-01-19T12:54:50.432834196Z",
     "start_time": "2024-01-19T12:54:49.071407442Z"
    },
    "pycharm": {
     "name": "#%%\n"
    }
   },
   "source": [
    "df_val = inspect_dataset('/home/johnny/Projects/datasets/custom_dataset_v2/', 'val')"
   ],
   "outputs": []
  },
  {
   "cell_type": "code",
   "execution_count": 53,
   "id": "a1c1823e-4688-485a-891f-a18c6a2afb13",
   "metadata": {
    "ExecuteTime": {
     "end_time": "2024-01-19T12:54:50.445080633Z",
     "start_time": "2024-01-19T12:54:50.437550466Z"
    },
    "pycharm": {
     "name": "#%%\n"
    }
   },
   "source": [
    "df_val"
   ],
   "outputs": []
  },
  {
   "cell_type": "code",
   "execution_count": 54,
   "id": "af3e0246-d5ae-4c64-80f5-4737118064b1",
   "metadata": {
    "ExecuteTime": {
     "end_time": "2024-01-19T12:54:50.460952512Z",
     "start_time": "2024-01-19T12:54:50.439111572Z"
    },
    "pycharm": {
     "name": "#%%\n"
    }
   },
   "source": [
    "print(f\"The number of objects is {len(df_val)}\")\n",
    "print(f\"The number of images is {len(df_val['img'].unique())}\")"
   ],
   "outputs": []
  },
  {
   "cell_type": "code",
   "execution_count": 55,
   "id": "0c278779-e7d7-4a8d-84d0-bc24c61b9930",
   "metadata": {
    "ExecuteTime": {
     "end_time": "2024-01-19T12:54:50.483200432Z",
     "start_time": "2024-01-19T12:54:50.458281292Z"
    },
    "pycharm": {
     "name": "#%%\n"
    }
   },
   "source": [
    "bin_edges = [0, 16**2, 32**2, 96**2, float('inf')]\n",
    "bin_labels = ['Tiny', 'Small', 'Medium', 'Large']\n",
    "df_val['bbox_area'] = (df_val['wn']*df_val['img_w'])*(df_val['hn']*df_val['img_h'])\n",
    "df_val['bbox_size_category'] = pd.cut(df_val['bbox_area'], bins=bin_edges, labels=bin_labels, right=False)"
   ],
   "outputs": []
  },
  {
   "cell_type": "code",
   "execution_count": 56,
   "id": "f54a79f6-45bf-4db1-96f3-34c12f9b49ba",
   "metadata": {
    "ExecuteTime": {
     "end_time": "2024-01-19T12:54:50.509638619Z",
     "start_time": "2024-01-19T12:54:50.468682642Z"
    },
    "pycharm": {
     "name": "#%%\n"
    }
   },
   "source": [
    "df_val"
   ],
   "outputs": []
  },
  {
   "cell_type": "code",
   "execution_count": 57,
   "id": "f4fafebe-a447-4a5a-b814-057d937d6cf2",
   "metadata": {
    "ExecuteTime": {
     "end_time": "2024-01-19T12:54:50.548062096Z",
     "start_time": "2024-01-19T12:54:50.491060996Z"
    },
    "pycharm": {
     "name": "#%%\n"
    }
   },
   "source": [
    "df_val['bbox_size_category'].value_counts()"
   ],
   "outputs": []
  },
  {
   "cell_type": "markdown",
   "id": "3abf450a-27d6-49f6-bdf0-db6c4be7e980",
   "metadata": {
    "pycharm": {
     "name": "#%% md\n"
    }
   },
   "source": [
    "# 1) Filter by Image Size (≥ 1920x1080)"
   ]
  },
  {
   "cell_type": "code",
   "execution_count": 58,
   "id": "5bff593e-26b4-45df-8ce3-dd1a41106976",
   "metadata": {
    "ExecuteTime": {
     "end_time": "2024-01-19T12:54:51.018459975Z",
     "start_time": "2024-01-19T12:54:50.975564745Z"
    },
    "pycharm": {
     "name": "#%%\n"
    }
   },
   "source": [
    "df_size = df_val[(df_val['img_w']>= 1920)&(df_val['img_h']>= 1080)]"
   ],
   "outputs": []
  },
  {
   "cell_type": "code",
   "execution_count": 59,
   "id": "00a5e2c7-1b22-4fda-91cd-d6c0d90aadd1",
   "metadata": {
    "ExecuteTime": {
     "end_time": "2024-01-19T12:54:51.279668397Z",
     "start_time": "2024-01-19T12:54:51.274876957Z"
    },
    "pycharm": {
     "name": "#%%\n"
    }
   },
   "source": [
    "df_size"
   ],
   "outputs": []
  },
  {
   "cell_type": "code",
   "execution_count": 60,
   "id": "78785554-76ac-48f8-adc8-a110212446f6",
   "metadata": {
    "ExecuteTime": {
     "end_time": "2024-01-19T12:54:51.543357304Z",
     "start_time": "2024-01-19T12:54:51.541888600Z"
    },
    "pycharm": {
     "name": "#%%\n"
    }
   },
   "source": [
    "print(f\"The number of objects is {len(df_size)}\")\n",
    "print(f\"The number of images is {len(df_size['img'].unique())}\")"
   ],
   "outputs": []
  },
  {
   "cell_type": "code",
   "execution_count": 61,
   "id": "ed34ebbc-e165-44fb-b720-684f9c1261d2",
   "metadata": {
    "ExecuteTime": {
     "end_time": "2024-01-19T12:54:52.246845201Z",
     "start_time": "2024-01-19T12:54:52.243659921Z"
    },
    "pycharm": {
     "name": "#%%\n"
    }
   },
   "source": [
    "df_size['bbox_size_category'].value_counts()"
   ],
   "outputs": []
  },
  {
   "cell_type": "code",
   "execution_count": 62,
   "id": "7ee3f092-883c-4d3a-9b03-377445cb4afd",
   "metadata": {
    "ExecuteTime": {
     "end_time": "2024-01-19T12:54:52.490954829Z",
     "start_time": "2024-01-19T12:54:52.486365276Z"
    },
    "pycharm": {
     "name": "#%%\n"
    }
   },
   "source": [
    "df_size['class_name'].value_counts()"
   ],
   "outputs": []
  },
  {
   "cell_type": "markdown",
   "id": "62e638f5-ec73-4051-b482-482af72d24fc",
   "metadata": {
    "pycharm": {
     "name": "#%% md\n"
    }
   },
   "source": [
    "# 2) Filter by maximum number of objects present (≤ 100)"
   ]
  },
  {
   "cell_type": "code",
   "execution_count": 63,
   "id": "5ebb1a59-eb55-4cf2-b322-02c32ea56276",
   "metadata": {
    "ExecuteTime": {
     "end_time": "2024-01-19T12:54:53.052645751Z",
     "start_time": "2024-01-19T12:54:53.046725322Z"
    },
    "pycharm": {
     "name": "#%%\n"
    }
   },
   "source": [
    "object_counts = df_size['img'].value_counts()\n",
    "selected_images = object_counts[object_counts <= 100].index\n",
    "df_filtered = df_size[df_size['img'].isin(selected_images)]"
   ],
   "outputs": []
  },
  {
   "cell_type": "code",
   "execution_count": 64,
   "id": "b57d7803-bd62-42ae-bd53-6bb41314fc98",
   "metadata": {
    "ExecuteTime": {
     "end_time": "2024-01-19T12:54:53.593315098Z",
     "start_time": "2024-01-19T12:54:53.522099688Z"
    },
    "pycharm": {
     "name": "#%%\n"
    }
   },
   "source": [
    "df_filtered.to_csv('filtered_validation.csv', index=False)"
   ],
   "outputs": []
  },
  {
   "cell_type": "code",
   "execution_count": 65,
   "id": "49100e5d-5a9e-4a1d-becc-5caefcd34bb1",
   "metadata": {
    "ExecuteTime": {
     "end_time": "2024-01-19T12:54:53.780662432Z",
     "start_time": "2024-01-19T12:54:53.777045806Z"
    },
    "pycharm": {
     "name": "#%%\n"
    }
   },
   "source": [
    "print(f\"The number of objects is {len(df_filtered)}\")\n",
    "print(f\"The number of images is {len(df_filtered['img'].unique())}\")"
   ],
   "outputs": []
  },
  {
   "cell_type": "code",
   "execution_count": 66,
   "id": "49fb37b2-bff0-4ecb-9e4e-89bd47655224",
   "metadata": {
    "ExecuteTime": {
     "end_time": "2024-01-19T12:54:54.017218597Z",
     "start_time": "2024-01-19T12:54:54.009718497Z"
    },
    "pycharm": {
     "name": "#%%\n"
    }
   },
   "source": [
    "df_filtered['bbox_size_category'].value_counts()"
   ],
   "outputs": []
  },
  {
   "cell_type": "code",
   "execution_count": null,
   "id": "14995316-580f-42df-9066-1d67450130a6",
   "metadata": {
    "pycharm": {
     "name": "#%%\n"
    }
   },
   "source": [
    "import pandas as pd\n",
    "import os\n",
    "import shutil\n",
    "import yaml\n",
    "\n",
    "base_dir = '/home/johnny/Projects/datasets/Client_Validation_Set'\n",
    "\n",
    "subfolders = ['train', 'val', 'test']\n",
    "folders = ['images', 'labels']\n",
    "for folder in folders:\n",
    "    for subfolder in subfolders:\n",
    "        os.makedirs(os.path.join(base_dir, folder, subfolder), exist_ok=True)\n",
    "\n",
    "for index, row in df_filtered.iterrows():\n",
    "    image_path = row['image_path']\n",
    "    label_path = row['label_path']\n",
    "    shutil.copy(image_path, os.path.join(base_dir, 'images', 'val'))\n",
    "    shutil.copy(label_path, os.path.join(base_dir, 'labels', 'val'))\n",
    "yaml_data = {\n",
    "    'path': '../small-fast-detector/inference_tools/Evaluation/datasets/Client_Validation_Set',  # PUT HERE THE PATH\n",
    "    'train': 'images/train',\n",
    "    'val': 'images/val',\n",
    "    'test': '',\n",
    "    'names': {\n",
    "        0: 'uav',\n",
    "        1: 'airplane',\n",
    "        2: 'boat',\n",
    "        3: 'car',\n",
    "        4: 'person',\n",
    "        5: 'truck'\n",
    "    }\n",
    "\n",
    "}\n",
    "with open(os.path.join(base_dir, 'data.yaml'), 'w') as file:\n",
    "    yaml.dump(yaml_data, file, default_flow_style=False)\n",
    "\n",
    "print(\"Dataset organized and YAML file created.\")"
   ],
   "outputs": []
  },
  {
   "cell_type": "markdown",
   "source": [
    "# PART 2"
   ],
   "metadata": {
    "collapsed": false,
    "pycharm": {
     "name": "#%% md\n"
    }
   },
   "id": "c1d99be78e66cf05"
  },
  {
   "cell_type": "code",
   "execution_count": 68,
   "source": [
    "import yaml\n",
    "import platform\n",
    "import pandas as pd\n",
    "import glob\n",
    "from PIL import Image\n",
    "import brambox as bb\n",
    "import numpy as np\n",
    "import pandas as pd\n",
    "from IPython.display import display\n",
    "import matplotlib.pyplot as plt\n",
    "import seaborn as sns"
   ],
   "metadata": {
    "collapsed": false,
    "ExecuteTime": {
     "end_time": "2024-01-19T12:55:27.506435775Z",
     "start_time": "2024-01-19T12:55:27.458558702Z"
    },
    "pycharm": {
     "name": "#%%\n"
    }
   },
   "id": "aca4fa1dfc716195",
   "outputs": []
  },
  {
   "cell_type": "code",
   "execution_count": 69,
   "source": [
    "def check_os():\n",
    "    os = platform.system()\n",
    "\n",
    "    if os == 'Darwin':\n",
    "        return \"MacOS\"\n",
    "    elif os == 'Linux':\n",
    "        return \"Linux\"\n",
    "    else:\n",
    "        return \"Unknown OS\"\n",
    "    \n",
    "operating_system = check_os()\n",
    "\n",
    "\n",
    "if operating_system == \"MacOS\":\n",
    "    root_path = \"/Users/johnny/Projects/\"\n",
    "elif operating_system == \"Linux\":\n",
    "    root_path = \"/home/johnny/Projects/\""
   ],
   "metadata": {
    "collapsed": false,
    "ExecuteTime": {
     "end_time": "2024-01-19T12:55:28.281372251Z",
     "start_time": "2024-01-19T12:55:28.278691945Z"
    },
    "pycharm": {
     "name": "#%%\n"
    }
   },
   "id": "5136baa4c4771ce0",
   "outputs": []
  },
  {
   "cell_type": "code",
   "execution_count": 70,
   "source": [
    "from brambox.io.parser.detection import CocoParser\n",
    "\n",
    "# Load detections\n",
    "\n",
    "det = bb.io.load(CocoParser, '../../small-fast-detector/runs/detect/val/predictions.json')\n",
    "print('detections:')\n",
    "det['image'] = det['image'].astype(str).str.lstrip('0').astype(int)\n",
    "det['class_label'] = det['class_label'].astype(int)\n",
    "label_mapping = {\n",
    "    0: 'person',\n",
    "    1: 'car',\n",
    "    2: 'truck',\n",
    "    3: 'uav',\n",
    "    4: 'airplane',\n",
    "    5: 'boat'\n",
    "}\n",
    "\n",
    "# Applying the mapping to the 'class_label' column\n",
    "det['class_label'] = det['class_label'].map(label_mapping)\n",
    "\n",
    "display(det.head())"
   ],
   "metadata": {
    "collapsed": false,
    "ExecuteTime": {
     "end_time": "2024-01-19T12:55:41.292621601Z",
     "start_time": "2024-01-19T12:55:40.362642021Z"
    },
    "pycharm": {
     "name": "#%%\n"
    }
   },
   "id": "f667a15bee6a299f",
   "outputs": []
  },
  {
   "cell_type": "code",
   "execution_count": 71,
   "source": [
    "from brambox.io.parser.annotation import CocoParser\n",
    "# Load annotations\n",
    "anno = bb.io.load(CocoParser(add_image_dims=True), '../../small-fast-detector/inference_tools/Evaluation/datasets/Client_Validation_Set_3133/annotations/instances_val2017.json')\n",
    "anno['image'] = anno['image'].astype(str).str.lstrip('0').astype(int)\n",
    "\n",
    "print('annotations:')\n",
    "display(anno.head())\n",
    "\n",
    "# save dataframes\n",
    "det.to_csv('../../small-fast-detector/runs/detect/val/detections.csv', index=False)\n",
    "\n",
    "anno.to_csv('../../small-fast-detector/runs/detect/val/annotations.csv', index=False)"
   ],
   "metadata": {
    "collapsed": false,
    "ExecuteTime": {
     "end_time": "2024-01-19T12:55:44.312644675Z",
     "start_time": "2024-01-19T12:55:43.818305378Z"
    },
    "pycharm": {
     "name": "#%%\n"
    }
   },
   "id": "c4d2e90df714d74",
   "outputs": []
  },
  {
   "cell_type": "code",
   "execution_count": 72,
   "source": [
    "from tqdm.notebook import tqdm\n",
    "\n",
    "\n",
    "def calculate_area(row):\n",
    "    return row['width'] * row['height']\n",
    "\n",
    "def iou(box_a, box_b):\n",
    "    xA = max(box_a[0], box_b[0])\n",
    "    yA = max(box_a[1], box_b[1])\n",
    "    xB = min(box_a[2], box_b[2])\n",
    "    yB = min(box_a[3], box_b[3])\n",
    "\n",
    "    interArea = max(0, xB - xA) * max(0, yB - yA)\n",
    "\n",
    "    boxAArea = (box_a[2] - box_a[0]) * (box_a[3] - box_a[1])\n",
    "    boxBArea = (box_b[2] - box_b[0]) * (box_b[3] - box_b[1])\n",
    "\n",
    "    iou = interArea / float(boxAArea + boxBArea - interArea)\n",
    "    return iou\n",
    "\n",
    "def calculate_map(detected, actual, class_labels):\n",
    "    aps = []\n",
    "    if detected.empty or 'class_label' not in detected.columns:\n",
    "        return 0\n",
    "\n",
    "    for label in class_labels:\n",
    "        if label not in detected['class_label'].values:\n",
    "            aps.append(0)\n",
    "            continue\n",
    "\n",
    "        dc = detected[detected.class_label == label]\n",
    "        ac = actual[actual.class_label == label]\n",
    "\n",
    "        ap_coco = []\n",
    "        for iou_threshold in range(50, 100, 5):\n",
    "            if dc.empty:\n",
    "                ap_coco.append(0)\n",
    "                continue\n",
    "\n",
    "            pr = bb.stat.pr(dc, ac, iou_threshold / 100, smooth=True)\n",
    "            ap_coco.append(bb.stat.auc_interpolated(pr))\n",
    "\n",
    "        aps.append(sum(ap_coco) / len(ap_coco))\n",
    "\n",
    "    mAP_coco = sum(aps) / len(aps) if aps else 0\n",
    "    return mAP_coco\n",
    "\n",
    "def calculate_pr_curve(detected, actual, iou_threshold):\n",
    "    \"\"\" Calcula la curva PR para un umbral de IoU específico. \"\"\"\n",
    "    matched_det = bb.stat.match_det(detected, actual, threshold=iou_threshold, \n",
    "                                    criteria=bb.stat.coordinates.iou, \n",
    "                                    ignore=bb.stat.IgnoreMethod.SINGLE)\n",
    "    pr_curve = bb.stat.pr(matched_det, actual)\n",
    "    return pr_curve\n",
    "\n",
    "def calculate_recall_precision(tp, fn, fp):\n",
    "    \"\"\" Calcula el recall y la precisión. \"\"\"\n",
    "    recall = tp / (tp + fn) if (tp + fn) > 0 else 0\n",
    "    precision = tp / (tp + fp) if (tp + fp) > 0 else 0\n",
    "    return recall, precision\n",
    "\n",
    "def calculate_ap(recalls, precisions):\n",
    "    \"\"\" Calcula el Average Precision (AP) a partir de las curvas de recall y precision. \"\"\"\n",
    "    recalls = [0] + recalls + [1] \n",
    "    precisions = [0] + precisions + [0] \n",
    "\n",
    "    ap = np.sum((recalls[i] - recalls[i - 1]) * precisions[i] for i in range(1, len(recalls)))\n",
    "    return ap\n",
    "\n",
    "def calculate_metrics(detected, actual, class_labels, iou_threshold=0.5):\n",
    "    precision = []\n",
    "    recall = []\n",
    "\n",
    "    for label in class_labels:\n",
    "        tp_per_class = 0\n",
    "        fp_per_class = 0\n",
    "        fn_per_class = 0\n",
    "        detected_class = detected[detected['class_label'] == label]\n",
    "        actual_class = actual[actual['class_label'] == label]\n",
    "\n",
    "        for _, det_row in detected_class.iterrows():\n",
    "            box_det = [det_row['x_top_left'], det_row['y_top_left'],\n",
    "                       det_row['x_top_left'] + det_row['width'], \n",
    "                       det_row['y_top_left'] + det_row['height']]\n",
    "\n",
    "            best_iou = 0\n",
    "            for _, act_row in actual_class.iterrows():\n",
    "                box_act = [act_row['x_top_left'], act_row['y_top_left'],\n",
    "                           act_row['x_top_left'] + act_row['width'], \n",
    "                           act_row['y_top_left'] + act_row['height']]\n",
    "                current_iou = iou(box_det, box_act)\n",
    "                best_iou = max(best_iou, current_iou)\n",
    "\n",
    "            if best_iou >= iou_threshold:\n",
    "                tp_per_class += 1\n",
    "            else:\n",
    "                fp_per_class += 1\n",
    "\n",
    "        # Calcular FN\n",
    "        fn_per_class = len(actual) - tp_per_class\n",
    "    \n",
    "        # Calcular recall y precisión\n",
    "        recall_per_class, precision_per_class = calculate_recall_precision(tp_per_class, fn_per_class, fp_per_class)\n",
    "        recall.append(recall_per_class)\n",
    "        precision.append(precision_per_class)\n",
    "    \n",
    "    recall = np.mean(recall)\n",
    "    precision = np.mean(precision)\n",
    "\n",
    "    # Calcular AP por clase y luego calcular el promedio (mAP)\n",
    "    mAP = calculate_map(detected, actual, class_labels)\n",
    "\n",
    "    return recall, precision, mAP\n",
    "\n",
    "image_stats = pd.DataFrame(columns=['name', 'width', 'height', 'num_of_gt_objects', 'lowest_area', 'biggest_area', 'num_of_predicted_objects', 'recall', 'precision', 'mAP'])\n",
    "\n",
    "det_grouped = det.groupby('image', observed=True)\n",
    "anno_grouped = anno.groupby('image', observed=True)\n",
    "\n",
    "class_labels = anno['class_label'].unique().tolist()\n",
    "\n",
    "total_images = set(anno['image'].unique().tolist() + det['image'].unique().tolist())\n",
    "total_images = sorted(total_images)\n",
    "for image_id in tqdm(total_images):\n",
    "    width = height = num_of_gt_objects = lowest_area = biggest_area = num_of_predicted_objects = np.nan\n",
    "    recall = precision = mAP = 0\n",
    "\n",
    "    if image_id in anno_grouped.groups:\n",
    "        image_data = anno_grouped.get_group(image_id).copy()\n",
    "        width = image_data.iloc[0]['image_width']\n",
    "        height = image_data.iloc[0]['image_height']\n",
    "        num_of_gt_objects = len(image_data)\n",
    "        image_data['area'] = image_data.apply(calculate_area, axis=1)\n",
    "        lowest_area = image_data['area'].min() if not image_data['area'].empty else np.nan\n",
    "        biggest_area = image_data['area'].max() if not image_data['area'].empty else np.nan\n",
    "\n",
    "    if image_id in det_grouped.groups:\n",
    "        det_data = det_grouped.get_group(image_id)\n",
    "        num_of_predicted_objects = len(det_data)\n",
    "        recall, precision, mAP = calculate_metrics(det_data, image_data, class_labels)\n",
    "\n",
    "    new_row = {\n",
    "        'name': image_id,\n",
    "        'width': width,\n",
    "        'height': height,\n",
    "        'num_of_gt_objects': num_of_gt_objects,\n",
    "        'lowest_area': lowest_area,\n",
    "        'biggest_area': biggest_area,\n",
    "        'num_of_predicted_objects': num_of_predicted_objects,\n",
    "        'recall': recall,\n",
    "        'precision': precision,\n",
    "        'mAP': mAP,\n",
    "        \n",
    "    }\n",
    "    image_stats = pd.concat([image_stats, pd.DataFrame([new_row])], ignore_index=True)\n"
   ],
   "metadata": {
    "collapsed": false,
    "ExecuteTime": {
     "end_time": "2024-01-19T12:59:10.371261093Z",
     "start_time": "2024-01-19T12:55:44.682824481Z"
    },
    "pycharm": {
     "name": "#%%\n"
    }
   },
   "id": "7a27d0172ff2cb56",
   "outputs": []
  },
  {
   "cell_type": "code",
   "source": [
    "print(f\"The number of images is {len(image_stats['name'].unique())}\")"
   ],
   "metadata": {
    "collapsed": false,
    "ExecuteTime": {
     "end_time": "2024-01-19T12:59:10.419094006Z",
     "start_time": "2024-01-19T12:59:10.372597014Z"
    },
    "pycharm": {
     "name": "#%%\n"
    }
   },
   "id": "96921ad2c5955d66",
   "execution_count": 73,
   "outputs": []
  },
  {
   "cell_type": "code",
   "source": [
    "grouped_df_filtered = df_filtered.groupby('img').agg(\n",
    "    num_objects=('img', 'count'),\n",
    "    image_path=('image_path', 'first'),  # Tomamos el primer 'image_path' para cada grupo\n",
    "    label_path=('label_path', 'first')   # Tomamos el primer 'label_path' para cada grupo\n",
    ").reset_index()"
   ],
   "metadata": {
    "collapsed": false,
    "ExecuteTime": {
     "end_time": "2024-01-19T12:59:10.420691736Z",
     "start_time": "2024-01-19T12:59:10.418704840Z"
    },
    "pycharm": {
     "name": "#%%\n"
    }
   },
   "id": "6c7c6eddd5087afa",
   "execution_count": 74,
   "outputs": []
  },
  {
   "cell_type": "code",
   "source": [
    "image_stats = pd.merge(image_stats, grouped_df_filtered[['img', 'image_path', 'label_path']], left_on='name', right_on='img', how='left')"
   ],
   "metadata": {
    "collapsed": false,
    "ExecuteTime": {
     "end_time": "2024-01-19T12:59:10.421290313Z",
     "start_time": "2024-01-19T12:59:10.418910163Z"
    },
    "pycharm": {
     "name": "#%%\n"
    }
   },
   "id": "ce8a1e9700236ede",
   "execution_count": 75,
   "outputs": []
  },
  {
   "cell_type": "code",
   "source": [
    "image_stats.sort_values(by=['name'], ascending=True, inplace=True)\n",
    "print(f\"The number of images is {len(image_stats['name'].unique())}\")"
   ],
   "metadata": {
    "collapsed": false,
    "ExecuteTime": {
     "end_time": "2024-01-19T12:59:10.422235827Z",
     "start_time": "2024-01-19T12:59:10.418967190Z"
    },
    "pycharm": {
     "name": "#%%\n"
    }
   },
   "id": "eb1c72ce48571236",
   "execution_count": 76,
   "outputs": []
  },
  {
   "cell_type": "code",
   "execution_count": 77,
   "source": [
    "image_stats.to_csv('../../small-fast-detector/runs/detect/val/image_stats.csv', index=False)"
   ],
   "metadata": {
    "collapsed": false,
    "ExecuteTime": {
     "end_time": "2024-01-19T12:59:10.452662372Z",
     "start_time": "2024-01-19T12:59:10.419503180Z"
    },
    "pycharm": {
     "name": "#%%\n"
    }
   },
   "id": "5b7eafda42e6b300",
   "outputs": []
  },
  {
   "cell_type": "code",
   "source": [
    "# check if there are images repeated\n",
    "image_stats['name'].unique()\n",
    "len(image_stats)"
   ],
   "metadata": {
    "collapsed": false,
    "ExecuteTime": {
     "end_time": "2024-01-19T12:59:10.487310852Z",
     "start_time": "2024-01-19T12:59:10.443611219Z"
    },
    "pycharm": {
     "name": "#%%\n"
    }
   },
   "id": "d5079a59e1e2f588",
   "execution_count": 78,
   "outputs": []
  },
  {
   "cell_type": "code",
   "source": [
    "df_filtered_2k = image_stats.sort_values(by=['recall'], ascending=False).head(2000)"
   ],
   "metadata": {
    "collapsed": false,
    "ExecuteTime": {
     "end_time": "2024-01-19T13:37:19.794428503Z",
     "start_time": "2024-01-19T13:37:19.747925257Z"
    },
    "pycharm": {
     "name": "#%%\n"
    }
   },
   "id": "c4571900b9b956b1",
   "execution_count": 126,
   "outputs": []
  },
  {
   "cell_type": "code",
   "source": [
    "df_filtered_2k"
   ],
   "metadata": {
    "collapsed": false,
    "ExecuteTime": {
     "end_time": "2024-01-19T13:36:39.410507956Z",
     "start_time": "2024-01-19T13:36:39.406914690Z"
    },
    "pycharm": {
     "name": "#%%\n"
    }
   },
   "id": "c3fa650d02731b26",
   "execution_count": 121,
   "outputs": []
  },
  {
   "cell_type": "code",
   "source": [
    "import pandas as pd\n",
    "import os\n",
    "import shutil\n",
    "import yaml\n",
    "dataset = df_filtered_2k\n",
    "print(f\"The number of images is {len(dataset['name'].unique())}\")\n",
    "base_dir = '/home/johnny/Projects/datasets/Client_Validation_Set'\n",
    "subfolders = ['train', 'val', 'test']\n",
    "folders = ['images', 'labels']\n",
    "for folder in folders:\n",
    "    for subfolder in subfolders:\n",
    "        os.makedirs(os.path.join(base_dir, folder, subfolder), exist_ok=True)\n",
    "\n",
    "for index, row in dataset.iterrows():\n",
    "    image_path = row['image_path']\n",
    "    label_path = row['label_path']\n",
    "    shutil.copy(image_path, os.path.join(base_dir, 'images', 'val'))\n",
    "    shutil.copy(label_path, os.path.join(base_dir, 'labels', 'val'))\n",
    "yaml_data = {\n",
    "    'path': '../small-fast-detector/inference_tools/Evaluation/datasets/Client_Validation_Set',  # PUT HERE THE PATH\n",
    "    'train': 'images/train',\n",
    "    'val': 'images/val',\n",
    "    'test': '',\n",
    "    'names': {\n",
    "        0: 'uav',\n",
    "        1: 'airplane',\n",
    "        2: 'boat',\n",
    "        3: 'car',\n",
    "        4: 'person',\n",
    "        5: 'truck'\n",
    "    }\n",
    "\n",
    "}\n",
    "with open(os.path.join(base_dir, 'data.yaml'), 'w') as file:\n",
    "    yaml.dump(yaml_data, file, default_flow_style=False)\n",
    "\n",
    "print(\"Dataset organized and YAML file created.\")"
   ],
   "metadata": {
    "collapsed": false,
    "ExecuteTime": {
     "end_time": "2024-01-19T13:23:59.664876927Z",
     "start_time": "2024-01-19T13:23:58.958165687Z"
    },
    "pycharm": {
     "name": "#%%\n"
    }
   },
   "id": "6aa5876f0c207f31",
   "execution_count": 114,
   "outputs": []
  },
  {
   "cell_type": "code",
   "source": [
    "df_filtered[df_filtered['img'].isin(df_filtered_2k['img'])]['bbox_size_category'].value_counts()"
   ],
   "metadata": {
    "collapsed": false,
    "ExecuteTime": {
     "end_time": "2024-01-19T13:37:23.530026926Z",
     "start_time": "2024-01-19T13:37:23.523457292Z"
    },
    "pycharm": {
     "name": "#%%\n"
    }
   },
   "id": "8f576f15b7770a47",
   "execution_count": 127,
   "outputs": []
  },
  {
   "cell_type": "code",
   "source": [
    "df_filtered[df_filtered['img'].isin(df_filtered_2k['img'])]['class_name'].value_counts()"
   ],
   "metadata": {
    "collapsed": false,
    "ExecuteTime": {
     "end_time": "2024-01-19T13:37:24.499065177Z",
     "start_time": "2024-01-19T13:37:24.481907619Z"
    },
    "pycharm": {
     "name": "#%%\n"
    }
   },
   "id": "bf8da94df4af3937",
   "execution_count": 128,
   "outputs": []
  },
  {
   "cell_type": "code",
   "source": [
    "filtered_new = df_filtered[df_filtered['img'].isin(df_filtered_2k['img'])]\n",
    "filtered_new[filtered_new['bbox_size_category'] == 'Tiny']['class_name'].value_counts()"
   ],
   "metadata": {
    "collapsed": false,
    "ExecuteTime": {
     "end_time": "2024-01-19T13:37:25.294039499Z",
     "start_time": "2024-01-19T13:37:25.287784470Z"
    },
    "pycharm": {
     "name": "#%%\n"
    }
   },
   "id": "7538c256db06b327",
   "execution_count": 129,
   "outputs": []
  }
 ],
 "metadata": {
  "kernelspec": {
   "display_name": "Python 3 (ipykernel)",
   "language": "python",
   "name": "python3"
  },
  "language_info": {
   "codemirror_mode": {
    "name": "ipython",
    "version": 3
   },
   "file_extension": ".py",
   "mimetype": "text/x-python",
   "name": "python",
   "nbconvert_exporter": "python",
   "pygments_lexer": "ipython3",
   "version": "3.11.4"
  }
 },
 "nbformat": 4,
 "nbformat_minor": 5
}
