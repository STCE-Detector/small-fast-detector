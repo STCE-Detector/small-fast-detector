{
 "cells": [
  {
   "cell_type": "code",
   "execution_count": 1,
   "id": "60bccc76-e198-4358-99fb-0cb248595980",
   "metadata": {},
   "outputs": [],
   "source": [
    "import os\n",
    "import numpy as np\n",
    "import pandas as pd"
   ]
  },
  {
   "cell_type": "code",
   "execution_count": 24,
   "id": "5084c0f7-c770-49d5-b309-60a18541a972",
   "metadata": {},
   "outputs": [],
   "source": [
    "dataset_root = '/Users/inaki-eab/Desktop/small-fast-detector/tracker/evaluation/TrackEval/data/gt/mot_challenge/MOTcustom'"
   ]
  },
  {
   "cell_type": "code",
   "execution_count": 25,
   "id": "890c4941-d011-4aa9-8b99-25e44eccbe7e",
   "metadata": {},
   "outputs": [],
   "source": [
    "sequences = [os.path.join(dataset_root, name) for name in os.listdir(dataset_root) if\n",
    "                      os.path.isdir(os.path.join(dataset_root, name))]"
   ]
  },
  {
   "cell_type": "code",
   "execution_count": 26,
   "id": "099047e1-9958-4b35-8a65-e91f5f053a9f",
   "metadata": {},
   "outputs": [],
   "source": [
    "ids = 0\n",
    "frames = 0\n",
    "videos = 0\n",
    "\n",
    "for seq in sequences:\n",
    "    df = pd.read_csv(seq + '/gt/gt.txt', header=None, usecols=[0,1])\n",
    "    df.columns = ['frame', 'id']\n",
    "\n",
    "    videos +=1\n",
    "    frames += len(df['frame'].unique())\n",
    "    ids += len(df['id'].unique())\n",
    "    "
   ]
  },
  {
   "cell_type": "code",
   "execution_count": 27,
   "id": "14909991-f21a-4c09-a367-233b75a8aaef",
   "metadata": {},
   "outputs": [
    {
     "data": {
      "text/plain": [
       "38"
      ]
     },
     "execution_count": 27,
     "metadata": {},
     "output_type": "execute_result"
    }
   ],
   "source": [
    "videos"
   ]
  },
  {
   "cell_type": "code",
   "execution_count": 28,
   "id": "f699d0be-f9b6-49a9-bbe5-3d936f40d839",
   "metadata": {},
   "outputs": [
    {
     "data": {
      "text/plain": [
       "64370"
      ]
     },
     "execution_count": 28,
     "metadata": {},
     "output_type": "execute_result"
    }
   ],
   "source": [
    "frames"
   ]
  },
  {
   "cell_type": "code",
   "execution_count": 29,
   "id": "81e9b601-df16-48e5-a25e-98357c887620",
   "metadata": {},
   "outputs": [
    {
     "data": {
      "text/plain": [
       "1769"
      ]
     },
     "execution_count": 29,
     "metadata": {},
     "output_type": "execute_result"
    }
   ],
   "source": [
    "ids"
   ]
  },
  {
   "cell_type": "code",
   "execution_count": null,
   "id": "b5593825-8bff-47f5-9f1d-e357bca08d7b",
   "metadata": {},
   "outputs": [],
   "source": []
  }
 ],
 "metadata": {
  "kernelspec": {
   "display_name": "Python 3 (ipykernel)",
   "language": "python",
   "name": "python3"
  },
  "language_info": {
   "codemirror_mode": {
    "name": "ipython",
    "version": 3
   },
   "file_extension": ".py",
   "mimetype": "text/x-python",
   "name": "python",
   "nbconvert_exporter": "python",
   "pygments_lexer": "ipython3",
   "version": "3.11.4"
  }
 },
 "nbformat": 4,
 "nbformat_minor": 5
}
