{
 "cells": [
  {
   "cell_type": "code",
   "execution_count": 1,
   "metadata": {
    "collapsed": false,
    "jupyter": {
     "outputs_hidden": false
    },
    "pycharm": {
     "name": "#%%\n"
    }
   },
   "outputs": [],
   "source": [
    "import pandas as pd"
   ]
  },
  {
   "cell_type": "code",
   "execution_count": 2,
   "metadata": {
    "collapsed": false,
    "jupyter": {
     "outputs_hidden": false
    },
    "pycharm": {
     "name": "#%%\n"
    }
   },
   "outputs": [],
   "source": [
    "train_df = pd.read_csv('./data/dataset_creation/dataframes/v2/df_train.csv')"
   ]
  },
  {
   "cell_type": "code",
   "execution_count": 3,
   "metadata": {
    "pycharm": {
     "name": "#%%\n"
    }
   },
   "outputs": [
    {
     "data": {
      "text/html": [
       "<div>\n",
       "<style scoped>\n",
       "    .dataframe tbody tr th:only-of-type {\n",
       "        vertical-align: middle;\n",
       "    }\n",
       "\n",
       "    .dataframe tbody tr th {\n",
       "        vertical-align: top;\n",
       "    }\n",
       "\n",
       "    .dataframe thead th {\n",
       "        text-align: right;\n",
       "    }\n",
       "</style>\n",
       "<table border=\"1\" class=\"dataframe\">\n",
       "  <thead>\n",
       "    <tr style=\"text-align: right;\">\n",
       "      <th></th>\n",
       "      <th>new_class_id</th>\n",
       "      <th>xcn</th>\n",
       "      <th>ycn</th>\n",
       "      <th>wn</th>\n",
       "      <th>hn</th>\n",
       "      <th>img</th>\n",
       "      <th>img_w</th>\n",
       "      <th>img_h</th>\n",
       "      <th>class_name</th>\n",
       "      <th>bbox_area</th>\n",
       "      <th>bbox_size_category</th>\n",
       "    </tr>\n",
       "  </thead>\n",
       "  <tbody>\n",
       "    <tr>\n",
       "      <th>0</th>\n",
       "      <td>1</td>\n",
       "      <td>0.713264</td>\n",
       "      <td>0.549830</td>\n",
       "      <td>0.059249</td>\n",
       "      <td>0.040532</td>\n",
       "      <td>33132</td>\n",
       "      <td>1624.0</td>\n",
       "      <td>1200.0</td>\n",
       "      <td>Car</td>\n",
       "      <td>4680.03960</td>\n",
       "      <td>Medium</td>\n",
       "    </tr>\n",
       "    <tr>\n",
       "      <th>1</th>\n",
       "      <td>1</td>\n",
       "      <td>0.217753</td>\n",
       "      <td>0.536722</td>\n",
       "      <td>0.069178</td>\n",
       "      <td>0.054257</td>\n",
       "      <td>33132</td>\n",
       "      <td>1624.0</td>\n",
       "      <td>1200.0</td>\n",
       "      <td>Car</td>\n",
       "      <td>7314.64800</td>\n",
       "      <td>Medium</td>\n",
       "    </tr>\n",
       "    <tr>\n",
       "      <th>2</th>\n",
       "      <td>1</td>\n",
       "      <td>0.138355</td>\n",
       "      <td>0.531935</td>\n",
       "      <td>0.067605</td>\n",
       "      <td>0.038299</td>\n",
       "      <td>33132</td>\n",
       "      <td>1624.0</td>\n",
       "      <td>1200.0</td>\n",
       "      <td>Car</td>\n",
       "      <td>5045.90230</td>\n",
       "      <td>Medium</td>\n",
       "    </tr>\n",
       "    <tr>\n",
       "      <th>3</th>\n",
       "      <td>4</td>\n",
       "      <td>0.503125</td>\n",
       "      <td>0.455294</td>\n",
       "      <td>0.865625</td>\n",
       "      <td>0.534118</td>\n",
       "      <td>111934</td>\n",
       "      <td>640.0</td>\n",
       "      <td>425.0</td>\n",
       "      <td>Aircraft</td>\n",
       "      <td>125758.08600</td>\n",
       "      <td>Large</td>\n",
       "    </tr>\n",
       "    <tr>\n",
       "      <th>4</th>\n",
       "      <td>0</td>\n",
       "      <td>0.119531</td>\n",
       "      <td>0.569792</td>\n",
       "      <td>0.020313</td>\n",
       "      <td>0.039583</td>\n",
       "      <td>102647</td>\n",
       "      <td>640.0</td>\n",
       "      <td>480.0</td>\n",
       "      <td>Person</td>\n",
       "      <td>246.99977</td>\n",
       "      <td>Tiny</td>\n",
       "    </tr>\n",
       "    <tr>\n",
       "      <th>...</th>\n",
       "      <td>...</td>\n",
       "      <td>...</td>\n",
       "      <td>...</td>\n",
       "      <td>...</td>\n",
       "      <td>...</td>\n",
       "      <td>...</td>\n",
       "      <td>...</td>\n",
       "      <td>...</td>\n",
       "      <td>...</td>\n",
       "      <td>...</td>\n",
       "      <td>...</td>\n",
       "    </tr>\n",
       "    <tr>\n",
       "      <th>740604</th>\n",
       "      <td>1</td>\n",
       "      <td>0.281250</td>\n",
       "      <td>0.518482</td>\n",
       "      <td>0.046875</td>\n",
       "      <td>0.025292</td>\n",
       "      <td>81579</td>\n",
       "      <td>640.0</td>\n",
       "      <td>514.0</td>\n",
       "      <td>Car</td>\n",
       "      <td>389.99957</td>\n",
       "      <td>Small</td>\n",
       "    </tr>\n",
       "    <tr>\n",
       "      <th>740605</th>\n",
       "      <td>1</td>\n",
       "      <td>0.169531</td>\n",
       "      <td>0.514591</td>\n",
       "      <td>0.023438</td>\n",
       "      <td>0.021401</td>\n",
       "      <td>81579</td>\n",
       "      <td>640.0</td>\n",
       "      <td>514.0</td>\n",
       "      <td>Car</td>\n",
       "      <td>165.00017</td>\n",
       "      <td>Tiny</td>\n",
       "    </tr>\n",
       "    <tr>\n",
       "      <th>740606</th>\n",
       "      <td>1</td>\n",
       "      <td>0.075781</td>\n",
       "      <td>0.509728</td>\n",
       "      <td>0.032813</td>\n",
       "      <td>0.027237</td>\n",
       "      <td>81579</td>\n",
       "      <td>640.0</td>\n",
       "      <td>514.0</td>\n",
       "      <td>Car</td>\n",
       "      <td>294.00050</td>\n",
       "      <td>Small</td>\n",
       "    </tr>\n",
       "    <tr>\n",
       "      <th>740607</th>\n",
       "      <td>1</td>\n",
       "      <td>0.025781</td>\n",
       "      <td>0.509728</td>\n",
       "      <td>0.051562</td>\n",
       "      <td>0.027237</td>\n",
       "      <td>81579</td>\n",
       "      <td>640.0</td>\n",
       "      <td>514.0</td>\n",
       "      <td>Car</td>\n",
       "      <td>462.00080</td>\n",
       "      <td>Small</td>\n",
       "    </tr>\n",
       "    <tr>\n",
       "      <th>740608</th>\n",
       "      <td>1</td>\n",
       "      <td>0.116422</td>\n",
       "      <td>0.617004</td>\n",
       "      <td>0.232844</td>\n",
       "      <td>0.277163</td>\n",
       "      <td>26484</td>\n",
       "      <td>1624.0</td>\n",
       "      <td>1200.0</td>\n",
       "      <td>Car</td>\n",
       "      <td>125767.25000</td>\n",
       "      <td>Large</td>\n",
       "    </tr>\n",
       "  </tbody>\n",
       "</table>\n",
       "<p>740609 rows × 11 columns</p>\n",
       "</div>"
      ],
      "text/plain": [
       "        new_class_id       xcn       ycn        wn        hn     img   img_w  \\\n",
       "0                  1  0.713264  0.549830  0.059249  0.040532   33132  1624.0   \n",
       "1                  1  0.217753  0.536722  0.069178  0.054257   33132  1624.0   \n",
       "2                  1  0.138355  0.531935  0.067605  0.038299   33132  1624.0   \n",
       "3                  4  0.503125  0.455294  0.865625  0.534118  111934   640.0   \n",
       "4                  0  0.119531  0.569792  0.020313  0.039583  102647   640.0   \n",
       "...              ...       ...       ...       ...       ...     ...     ...   \n",
       "740604             1  0.281250  0.518482  0.046875  0.025292   81579   640.0   \n",
       "740605             1  0.169531  0.514591  0.023438  0.021401   81579   640.0   \n",
       "740606             1  0.075781  0.509728  0.032813  0.027237   81579   640.0   \n",
       "740607             1  0.025781  0.509728  0.051562  0.027237   81579   640.0   \n",
       "740608             1  0.116422  0.617004  0.232844  0.277163   26484  1624.0   \n",
       "\n",
       "         img_h class_name     bbox_area bbox_size_category  \n",
       "0       1200.0        Car    4680.03960             Medium  \n",
       "1       1200.0        Car    7314.64800             Medium  \n",
       "2       1200.0        Car    5045.90230             Medium  \n",
       "3        425.0   Aircraft  125758.08600              Large  \n",
       "4        480.0     Person     246.99977               Tiny  \n",
       "...        ...        ...           ...                ...  \n",
       "740604   514.0        Car     389.99957              Small  \n",
       "740605   514.0        Car     165.00017               Tiny  \n",
       "740606   514.0        Car     294.00050              Small  \n",
       "740607   514.0        Car     462.00080              Small  \n",
       "740608  1200.0        Car  125767.25000              Large  \n",
       "\n",
       "[740609 rows x 11 columns]"
      ]
     },
     "execution_count": 3,
     "metadata": {},
     "output_type": "execute_result"
    }
   ],
   "source": [
    "train_df"
   ]
  },
  {
   "cell_type": "markdown",
   "metadata": {
    "pycharm": {
     "name": "#%% md\n"
    }
   },
   "source": [
    "# 1) Extract average object size"
   ]
  },
  {
   "cell_type": "code",
   "execution_count": 4,
   "metadata": {
    "pycharm": {
     "name": "#%%\n"
    }
   },
   "outputs": [
    {
     "data": {
      "text/html": [
       "<div>\n",
       "<style scoped>\n",
       "    .dataframe tbody tr th:only-of-type {\n",
       "        vertical-align: middle;\n",
       "    }\n",
       "\n",
       "    .dataframe tbody tr th {\n",
       "        vertical-align: top;\n",
       "    }\n",
       "\n",
       "    .dataframe thead th {\n",
       "        text-align: right;\n",
       "    }\n",
       "</style>\n",
       "<table border=\"1\" class=\"dataframe\">\n",
       "  <thead>\n",
       "    <tr style=\"text-align: right;\">\n",
       "      <th></th>\n",
       "      <th>new_class_id</th>\n",
       "      <th>xcn</th>\n",
       "      <th>ycn</th>\n",
       "      <th>wn</th>\n",
       "      <th>hn</th>\n",
       "      <th>img</th>\n",
       "      <th>img_w</th>\n",
       "      <th>img_h</th>\n",
       "      <th>class_name</th>\n",
       "      <th>bbox_area</th>\n",
       "      <th>bbox_size_category</th>\n",
       "      <th>w</th>\n",
       "      <th>h</th>\n",
       "    </tr>\n",
       "  </thead>\n",
       "  <tbody>\n",
       "    <tr>\n",
       "      <th>0</th>\n",
       "      <td>1</td>\n",
       "      <td>0.713264</td>\n",
       "      <td>0.549830</td>\n",
       "      <td>0.059249</td>\n",
       "      <td>0.040532</td>\n",
       "      <td>33132</td>\n",
       "      <td>1624.0</td>\n",
       "      <td>1200.0</td>\n",
       "      <td>Car</td>\n",
       "      <td>4680.03960</td>\n",
       "      <td>Medium</td>\n",
       "      <td>96.220376</td>\n",
       "      <td>48.638760</td>\n",
       "    </tr>\n",
       "    <tr>\n",
       "      <th>1</th>\n",
       "      <td>1</td>\n",
       "      <td>0.217753</td>\n",
       "      <td>0.536722</td>\n",
       "      <td>0.069178</td>\n",
       "      <td>0.054257</td>\n",
       "      <td>33132</td>\n",
       "      <td>1624.0</td>\n",
       "      <td>1200.0</td>\n",
       "      <td>Car</td>\n",
       "      <td>7314.64800</td>\n",
       "      <td>Medium</td>\n",
       "      <td>112.345072</td>\n",
       "      <td>65.108760</td>\n",
       "    </tr>\n",
       "    <tr>\n",
       "      <th>2</th>\n",
       "      <td>1</td>\n",
       "      <td>0.138355</td>\n",
       "      <td>0.531935</td>\n",
       "      <td>0.067605</td>\n",
       "      <td>0.038299</td>\n",
       "      <td>33132</td>\n",
       "      <td>1624.0</td>\n",
       "      <td>1200.0</td>\n",
       "      <td>Car</td>\n",
       "      <td>5045.90230</td>\n",
       "      <td>Medium</td>\n",
       "      <td>109.791007</td>\n",
       "      <td>45.959160</td>\n",
       "    </tr>\n",
       "    <tr>\n",
       "      <th>3</th>\n",
       "      <td>4</td>\n",
       "      <td>0.503125</td>\n",
       "      <td>0.455294</td>\n",
       "      <td>0.865625</td>\n",
       "      <td>0.534118</td>\n",
       "      <td>111934</td>\n",
       "      <td>640.0</td>\n",
       "      <td>425.0</td>\n",
       "      <td>Aircraft</td>\n",
       "      <td>125758.08600</td>\n",
       "      <td>Large</td>\n",
       "      <td>554.000000</td>\n",
       "      <td>227.000150</td>\n",
       "    </tr>\n",
       "    <tr>\n",
       "      <th>4</th>\n",
       "      <td>0</td>\n",
       "      <td>0.119531</td>\n",
       "      <td>0.569792</td>\n",
       "      <td>0.020313</td>\n",
       "      <td>0.039583</td>\n",
       "      <td>102647</td>\n",
       "      <td>640.0</td>\n",
       "      <td>480.0</td>\n",
       "      <td>Person</td>\n",
       "      <td>246.99977</td>\n",
       "      <td>Tiny</td>\n",
       "      <td>13.000000</td>\n",
       "      <td>18.999984</td>\n",
       "    </tr>\n",
       "    <tr>\n",
       "      <th>...</th>\n",
       "      <td>...</td>\n",
       "      <td>...</td>\n",
       "      <td>...</td>\n",
       "      <td>...</td>\n",
       "      <td>...</td>\n",
       "      <td>...</td>\n",
       "      <td>...</td>\n",
       "      <td>...</td>\n",
       "      <td>...</td>\n",
       "      <td>...</td>\n",
       "      <td>...</td>\n",
       "      <td>...</td>\n",
       "      <td>...</td>\n",
       "    </tr>\n",
       "    <tr>\n",
       "      <th>740604</th>\n",
       "      <td>1</td>\n",
       "      <td>0.281250</td>\n",
       "      <td>0.518482</td>\n",
       "      <td>0.046875</td>\n",
       "      <td>0.025292</td>\n",
       "      <td>81579</td>\n",
       "      <td>640.0</td>\n",
       "      <td>514.0</td>\n",
       "      <td>Car</td>\n",
       "      <td>389.99957</td>\n",
       "      <td>Small</td>\n",
       "      <td>30.000000</td>\n",
       "      <td>12.999985</td>\n",
       "    </tr>\n",
       "    <tr>\n",
       "      <th>740605</th>\n",
       "      <td>1</td>\n",
       "      <td>0.169531</td>\n",
       "      <td>0.514591</td>\n",
       "      <td>0.023438</td>\n",
       "      <td>0.021401</td>\n",
       "      <td>81579</td>\n",
       "      <td>640.0</td>\n",
       "      <td>514.0</td>\n",
       "      <td>Car</td>\n",
       "      <td>165.00017</td>\n",
       "      <td>Tiny</td>\n",
       "      <td>15.000000</td>\n",
       "      <td>11.000011</td>\n",
       "    </tr>\n",
       "    <tr>\n",
       "      <th>740606</th>\n",
       "      <td>1</td>\n",
       "      <td>0.075781</td>\n",
       "      <td>0.509728</td>\n",
       "      <td>0.032813</td>\n",
       "      <td>0.027237</td>\n",
       "      <td>81579</td>\n",
       "      <td>640.0</td>\n",
       "      <td>514.0</td>\n",
       "      <td>Car</td>\n",
       "      <td>294.00050</td>\n",
       "      <td>Small</td>\n",
       "      <td>21.000000</td>\n",
       "      <td>14.000024</td>\n",
       "    </tr>\n",
       "    <tr>\n",
       "      <th>740607</th>\n",
       "      <td>1</td>\n",
       "      <td>0.025781</td>\n",
       "      <td>0.509728</td>\n",
       "      <td>0.051562</td>\n",
       "      <td>0.027237</td>\n",
       "      <td>81579</td>\n",
       "      <td>640.0</td>\n",
       "      <td>514.0</td>\n",
       "      <td>Car</td>\n",
       "      <td>462.00080</td>\n",
       "      <td>Small</td>\n",
       "      <td>33.000000</td>\n",
       "      <td>14.000024</td>\n",
       "    </tr>\n",
       "    <tr>\n",
       "      <th>740608</th>\n",
       "      <td>1</td>\n",
       "      <td>0.116422</td>\n",
       "      <td>0.617004</td>\n",
       "      <td>0.232844</td>\n",
       "      <td>0.277163</td>\n",
       "      <td>26484</td>\n",
       "      <td>1624.0</td>\n",
       "      <td>1200.0</td>\n",
       "      <td>Car</td>\n",
       "      <td>125767.25000</td>\n",
       "      <td>Large</td>\n",
       "      <td>378.138656</td>\n",
       "      <td>332.595600</td>\n",
       "    </tr>\n",
       "  </tbody>\n",
       "</table>\n",
       "<p>740609 rows × 13 columns</p>\n",
       "</div>"
      ],
      "text/plain": [
       "        new_class_id       xcn       ycn        wn        hn     img   img_w  \\\n",
       "0                  1  0.713264  0.549830  0.059249  0.040532   33132  1624.0   \n",
       "1                  1  0.217753  0.536722  0.069178  0.054257   33132  1624.0   \n",
       "2                  1  0.138355  0.531935  0.067605  0.038299   33132  1624.0   \n",
       "3                  4  0.503125  0.455294  0.865625  0.534118  111934   640.0   \n",
       "4                  0  0.119531  0.569792  0.020313  0.039583  102647   640.0   \n",
       "...              ...       ...       ...       ...       ...     ...     ...   \n",
       "740604             1  0.281250  0.518482  0.046875  0.025292   81579   640.0   \n",
       "740605             1  0.169531  0.514591  0.023438  0.021401   81579   640.0   \n",
       "740606             1  0.075781  0.509728  0.032813  0.027237   81579   640.0   \n",
       "740607             1  0.025781  0.509728  0.051562  0.027237   81579   640.0   \n",
       "740608             1  0.116422  0.617004  0.232844  0.277163   26484  1624.0   \n",
       "\n",
       "         img_h class_name     bbox_area bbox_size_category           w  \\\n",
       "0       1200.0        Car    4680.03960             Medium   96.220376   \n",
       "1       1200.0        Car    7314.64800             Medium  112.345072   \n",
       "2       1200.0        Car    5045.90230             Medium  109.791007   \n",
       "3        425.0   Aircraft  125758.08600              Large  554.000000   \n",
       "4        480.0     Person     246.99977               Tiny   13.000000   \n",
       "...        ...        ...           ...                ...         ...   \n",
       "740604   514.0        Car     389.99957              Small   30.000000   \n",
       "740605   514.0        Car     165.00017               Tiny   15.000000   \n",
       "740606   514.0        Car     294.00050              Small   21.000000   \n",
       "740607   514.0        Car     462.00080              Small   33.000000   \n",
       "740608  1200.0        Car  125767.25000              Large  378.138656   \n",
       "\n",
       "                 h  \n",
       "0        48.638760  \n",
       "1        65.108760  \n",
       "2        45.959160  \n",
       "3       227.000150  \n",
       "4        18.999984  \n",
       "...            ...  \n",
       "740604   12.999985  \n",
       "740605   11.000011  \n",
       "740606   14.000024  \n",
       "740607   14.000024  \n",
       "740608  332.595600  \n",
       "\n",
       "[740609 rows x 13 columns]"
      ]
     },
     "execution_count": 4,
     "metadata": {},
     "output_type": "execute_result"
    }
   ],
   "source": [
    "train_df['w'] = train_df['wn']*train_df['img_w']\n",
    "train_df['h'] = train_df['hn']*train_df['img_h']\n",
    "#train_df['ar'] = train_df['w']/(train_df['h']+1e-7)\n",
    "train_df"
   ]
  },
  {
   "cell_type": "code",
   "execution_count": 5,
   "metadata": {
    "pycharm": {
     "name": "#%%\n"
    }
   },
   "outputs": [
    {
     "data": {
      "text/plain": [
       "0           96.220376\n",
       "1          112.345072\n",
       "2          109.791007\n",
       "3          554.000000\n",
       "4           13.000000\n",
       "              ...    \n",
       "1481213     12.999985\n",
       "1481214     11.000011\n",
       "1481215     14.000024\n",
       "1481216     14.000024\n",
       "1481217    332.595600\n",
       "Length: 1481218, dtype: float64"
      ]
     },
     "execution_count": 5,
     "metadata": {},
     "output_type": "execute_result"
    }
   ],
   "source": [
    "sizes = pd.concat([train_df['w'],train_df['h']], ignore_index=True)\n",
    "sizes"
   ]
  },
  {
   "cell_type": "code",
   "execution_count": 6,
   "metadata": {
    "pycharm": {
     "name": "#%%\n"
    }
   },
   "outputs": [
    {
     "name": "stdout",
     "output_type": "stream",
     "text": [
      "98.49613486116972\n",
      "54.0\n",
      "15.0\n"
     ]
    }
   ],
   "source": [
    "print(sizes.mean())\n",
    "print(sizes.median())\n",
    "print(sizes.mode()[0])"
   ]
  },
  {
   "cell_type": "code",
   "execution_count": 7,
   "metadata": {
    "pycharm": {
     "name": "#%%\n"
    }
   },
   "outputs": [
    {
     "data": {
      "text/plain": [
       "<matplotlib.lines.Line2D at 0x150174050>"
      ]
     },
     "execution_count": 7,
     "metadata": {},
     "output_type": "execute_result"
    },
    {
     "data": {
      "image/png": "[encoded data removed]",
      "text/plain": [
       "<Figure size 640x480 with 1 Axes>"
      ]
     },
     "metadata": {},
     "output_type": "display_data"
    }
   ],
   "source": [
    "import matplotlib.pyplot as plt\n",
    "\n",
    "fig, ax = plt.subplots()\n",
    "sizes.plot.hist(bins=100, ax=ax)\n",
    "ax.axvline(sizes.mean(), color='red')\n",
    "ax.axvline(sizes.median(), color='yellow')"
   ]
  },
  {
   "cell_type": "markdown",
   "metadata": {
    "pycharm": {
     "name": "#%% md\n"
    }
   },
   "source": [
    "# 2) Get class inverse freq"
   ]
  },
  {
   "cell_type": "code",
   "execution_count": 8,
   "metadata": {
    "pycharm": {
     "name": "#%%\n"
    }
   },
   "outputs": [],
   "source": [
    "import numpy as np"
   ]
  },
  {
   "cell_type": "code",
   "execution_count": 9,
   "metadata": {
    "pycharm": {
     "name": "#%%\n"
    }
   },
   "outputs": [
    {
     "data": {
      "text/plain": [
       "class_name\n",
       "Person      449258\n",
       "Car         206659\n",
       "Truck        62430\n",
       "Ship         11287\n",
       "Aircraft      5679\n",
       "UAV           5296\n",
       "Name: count, dtype: int64"
      ]
     },
     "execution_count": 9,
     "metadata": {},
     "output_type": "execute_result"
    }
   ],
   "source": [
    "class_counts = train_df['class_name'].value_counts().values\n",
    "train_df['class_name'].value_counts()"
   ]
  },
  {
   "cell_type": "code",
   "execution_count": 10,
   "metadata": {
    "pycharm": {
     "name": "#%%\n"
    }
   },
   "outputs": [],
   "source": [
    "class_recall = np.array([51, 83, 70, 35, 70, 82])\n",
    "class_precision = np.array([78, 87, 81, 66, 71, 93])\n",
    "class_f1 = 2*class_recall*class_precision/(class_recall+class_precision)"
   ]
  },
  {
   "cell_type": "code",
   "execution_count": 11,
   "metadata": {
    "pycharm": {
     "name": "#%%\n"
    }
   },
   "outputs": [],
   "source": [
    "classes_df = pd.DataFrame(train_df['class_name'].value_counts())\n",
    "classes_df['recall'] = class_recall\n",
    "classes_df['precision'] = class_precision\n",
    "classes_df['f1'] = class_f1"
   ]
  },
  {
   "cell_type": "code",
   "execution_count": 12,
   "metadata": {
    "pycharm": {
     "name": "#%%\n"
    }
   },
   "outputs": [
    {
     "data": {
      "text/plain": [
       "<Axes: xlabel='class_name'>"
      ]
     },
     "execution_count": 12,
     "metadata": {},
     "output_type": "execute_result"
    },
    {
     "data": {
      "image/png": "[encoded data removed]",
      "text/plain": [
       "<Figure size 640x480 with 2 Axes>"
      ]
     },
     "metadata": {},
     "output_type": "display_data"
    }
   ],
   "source": [
    "classes_df.plot.bar(secondary_y=('precision', 'recall', 'f1'), legend=1)"
   ]
  },
  {
   "cell_type": "markdown",
   "metadata": {
    "pycharm": {
     "name": "#%% md\n"
    }
   },
   "source": [
    "### 2.1) N/n_i"
   ]
  },
  {
   "cell_type": "code",
   "execution_count": 13,
   "metadata": {
    "pycharm": {
     "name": "#%%\n"
    }
   },
   "outputs": [],
   "source": [
    "num_clases = len(class_counts)\n",
    "num_samples = sum(class_counts)\n",
    "\n",
    "c_weights = []\n",
    "pr_weights = []\n",
    "pp_weights = []\n",
    "pf_weights = []\n",
    "for i in range(num_clases):\n",
    "    c_weights.append(num_samples/class_counts[i])\n",
    "    pr_weights.append(class_recall.sum()/class_recall[i])\n",
    "    pp_weights.append(class_precision.sum()/class_precision[i])\n",
    "    pf_weights.append(class_f1.sum()/class_f1[i])"
   ]
  },
  {
   "cell_type": "code",
   "execution_count": 14,
   "metadata": {
    "pycharm": {
     "name": "#%%\n"
    }
   },
   "outputs": [
    {
     "data": {
      "text/plain": [
       "[1.6485159974891932,\n",
       " 3.5837248801165202,\n",
       " 11.863030594265577,\n",
       " 65.61610702578187,\n",
       " 130.4118682866702,\n",
       " 139.84308912386706]"
      ]
     },
     "execution_count": 14,
     "metadata": {},
     "output_type": "execute_result"
    }
   ],
   "source": [
    "c_weights"
   ]
  },
  {
   "cell_type": "code",
   "execution_count": 15,
   "metadata": {
    "pycharm": {
     "name": "#%%\n"
    }
   },
   "outputs": [
    {
     "data": {
      "text/plain": [
       "[7.666666666666667,\n",
       " 4.710843373493976,\n",
       " 5.585714285714285,\n",
       " 11.17142857142857,\n",
       " 5.585714285714285,\n",
       " 4.7682926829268295]"
      ]
     },
     "execution_count": 15,
     "metadata": {},
     "output_type": "execute_result"
    }
   ],
   "source": [
    "pr_weights"
   ]
  },
  {
   "cell_type": "code",
   "execution_count": 16,
   "metadata": {
    "pycharm": {
     "name": "#%%\n"
    }
   },
   "outputs": [
    {
     "data": {
      "text/plain": [
       "[6.102564102564102,\n",
       " 5.471264367816092,\n",
       " 5.8765432098765435,\n",
       " 7.212121212121212,\n",
       " 6.704225352112676,\n",
       " 5.118279569892473]"
      ]
     },
     "execution_count": 16,
     "metadata": {},
     "output_type": "execute_result"
    }
   ],
   "source": [
    "pp_weights"
   ]
  },
  {
   "cell_type": "code",
   "execution_count": 17,
   "metadata": {
    "pycharm": {
     "name": "#%%\n"
    }
   },
   "outputs": [
    {
     "data": {
      "text/plain": [
       "[6.8929715272553285,\n",
       " 5.004182380440435,\n",
       " 5.660769111259692,\n",
       " 9.293749167010946,\n",
       " 6.030374407209864,\n",
       " 4.877786650624849]"
      ]
     },
     "execution_count": 17,
     "metadata": {},
     "output_type": "execute_result"
    }
   ],
   "source": [
    "pf_weights"
   ]
  },
  {
   "cell_type": "markdown",
   "metadata": {
    "pycharm": {
     "name": "#%% md\n"
    }
   },
   "source": [
    "### 2.2) N/(n_i*6)"
   ]
  },
  {
   "cell_type": "code",
   "execution_count": 18,
   "metadata": {
    "pycharm": {
     "name": "#%%\n"
    }
   },
   "outputs": [],
   "source": [
    "num_clases = len(class_counts)\n",
    "num_samples = sum(class_counts)\n",
    "\n",
    "c_weights = []\n",
    "pr_weights = []\n",
    "pp_weights = []\n",
    "pf_weights = []\n",
    "for i in range(num_clases):\n",
    "    c_weights.append(num_samples/(class_counts[i]*num_clases))\n",
    "    pr_weights.append(class_recall.sum()/(class_recall[i]*num_clases))\n",
    "    pp_weights.append(class_precision.sum()/(class_precision[i]*num_clases))\n",
    "    pf_weights.append(class_f1.sum()/(class_f1[i]*num_clases))"
   ]
  },
  {
   "cell_type": "code",
   "execution_count": 19,
   "metadata": {
    "pycharm": {
     "name": "#%%\n"
    }
   },
   "outputs": [
    {
     "data": {
      "text/plain": [
       "[0.2747526662481989,\n",
       " 0.5972874800194201,\n",
       " 1.9771717657109296,\n",
       " 10.936017837630311,\n",
       " 21.7353113811117,\n",
       " 23.307181520644512]"
      ]
     },
     "execution_count": 19,
     "metadata": {},
     "output_type": "execute_result"
    }
   ],
   "source": [
    "c_weights"
   ]
  },
  {
   "cell_type": "code",
   "execution_count": 20,
   "metadata": {
    "pycharm": {
     "name": "#%%\n"
    }
   },
   "outputs": [
    {
     "data": {
      "text/plain": [
       "[1.2777777777777777,\n",
       " 0.785140562248996,\n",
       " 0.930952380952381,\n",
       " 1.861904761904762,\n",
       " 0.930952380952381,\n",
       " 0.7947154471544715]"
      ]
     },
     "execution_count": 20,
     "metadata": {},
     "output_type": "execute_result"
    }
   ],
   "source": [
    "pr_weights"
   ]
  },
  {
   "cell_type": "code",
   "execution_count": 21,
   "metadata": {
    "pycharm": {
     "name": "#%%\n"
    }
   },
   "outputs": [
    {
     "data": {
      "text/plain": [
       "[1.017094017094017,\n",
       " 0.9118773946360154,\n",
       " 0.9794238683127572,\n",
       " 1.202020202020202,\n",
       " 1.1173708920187793,\n",
       " 0.8530465949820788]"
      ]
     },
     "execution_count": 21,
     "metadata": {},
     "output_type": "execute_result"
    }
   ],
   "source": [
    "pp_weights"
   ]
  },
  {
   "cell_type": "code",
   "execution_count": 22,
   "metadata": {
    "pycharm": {
     "name": "#%%\n"
    }
   },
   "outputs": [
    {
     "data": {
      "text/plain": [
       "[1.1488285878758882,\n",
       " 0.8340303967400724,\n",
       " 0.9434615185432821,\n",
       " 1.5489581945018243,\n",
       " 1.005062401201644,\n",
       " 0.8129644417708081]"
      ]
     },
     "execution_count": 22,
     "metadata": {},
     "output_type": "execute_result"
    }
   ],
   "source": [
    "pf_weights"
   ]
  },
  {
   "cell_type": "markdown",
   "metadata": {
    "pycharm": {
     "name": "#%% md\n"
    }
   },
   "source": [
    "### 2.4) max(n)/n_i"
   ]
  },
  {
   "cell_type": "code",
   "execution_count": 23,
   "metadata": {
    "pycharm": {
     "name": "#%%\n"
    }
   },
   "outputs": [],
   "source": [
    "num_clases = len(class_counts)\n",
    "num_samples = sum(class_counts)\n",
    "\n",
    "c_weights = []\n",
    "pr_weights = []\n",
    "pp_weights = []\n",
    "pf_weights = []\n",
    "for i in range(num_clases):\n",
    "    c_weights.append(max(class_counts)/(class_counts[i]))\n",
    "    pr_weights.append(class_recall.max()/(class_recall[i]))\n",
    "    pp_weights.append(class_precision.max()/(class_precision[i]))\n",
    "    pf_weights.append(class_f1.max()/(class_f1[i]))"
   ]
  },
  {
   "cell_type": "code",
   "execution_count": 24,
   "metadata": {
    "pycharm": {
     "name": "#%%\n"
    }
   },
   "outputs": [
    {
     "data": {
      "text/plain": [
       "[1.0,\n",
       " 2.17390967729448,\n",
       " 7.196187730257889,\n",
       " 39.80313635155488,\n",
       " 79.10864588836063,\n",
       " 84.82968277945619]"
      ]
     },
     "execution_count": 24,
     "metadata": {},
     "output_type": "execute_result"
    }
   ],
   "source": [
    "c_weights"
   ]
  },
  {
   "cell_type": "code",
   "execution_count": 25,
   "metadata": {
    "pycharm": {
     "name": "#%%\n"
    }
   },
   "outputs": [
    {
     "data": {
      "text/plain": [
       "[1.6274509803921569,\n",
       " 1.0,\n",
       " 1.1857142857142857,\n",
       " 2.3714285714285714,\n",
       " 1.1857142857142857,\n",
       " 1.0121951219512195]"
      ]
     },
     "execution_count": 25,
     "metadata": {},
     "output_type": "execute_result"
    }
   ],
   "source": [
    "pr_weights"
   ]
  },
  {
   "cell_type": "code",
   "execution_count": 26,
   "metadata": {
    "pycharm": {
     "name": "#%%\n"
    }
   },
   "outputs": [
    {
     "data": {
      "text/plain": [
       "[1.1923076923076923,\n",
       " 1.0689655172413792,\n",
       " 1.1481481481481481,\n",
       " 1.4090909090909092,\n",
       " 1.3098591549295775,\n",
       " 1.0]"
      ]
     },
     "execution_count": 26,
     "metadata": {},
     "output_type": "execute_result"
    }
   ],
   "source": [
    "pp_weights"
   ]
  },
  {
   "cell_type": "code",
   "execution_count": 27,
   "metadata": {
    "pycharm": {
     "name": "#%%\n"
    }
   },
   "outputs": [
    {
     "data": {
      "text/plain": [
       "[1.4131351001939239,\n",
       " 1.0259125170633272,\n",
       " 1.1605200302343162,\n",
       " 1.9053209647495362,\n",
       " 1.2362931876976144,\n",
       " 1.0]"
      ]
     },
     "execution_count": 27,
     "metadata": {},
     "output_type": "execute_result"
    }
   ],
   "source": [
    "pf_weights"
   ]
  },
  {
   "cell_type": "markdown",
   "metadata": {
    "pycharm": {
     "name": "#%% md\n"
    }
   },
   "source": [
    "### 2.5) (N-ni)/n_i"
   ]
  },
  {
   "cell_type": "code",
   "execution_count": 28,
   "metadata": {
    "pycharm": {
     "name": "#%%\n"
    }
   },
   "outputs": [],
   "source": [
    "num_clases = len(class_counts)\n",
    "num_samples = sum(class_counts)\n",
    "\n",
    "c_weights = []\n",
    "pr_weights = []\n",
    "pp_weights = []\n",
    "pf_weights = []\n",
    "for i in range(num_clases):\n",
    "    c_weights.append((num_samples-class_counts[i])/(class_counts[i]))\n",
    "    pr_weights.append((class_recall.sum()-class_recall[i])/(class_recall[i]))\n",
    "    pp_weights.append((class_precision.sum()-class_precision[i])/(class_precision[i]))\n",
    "    pf_weights.append((class_f1.sum()-class_f1[i])/(class_f1[i]))"
   ]
  },
  {
   "cell_type": "code",
   "execution_count": 29,
   "metadata": {
    "pycharm": {
     "name": "#%%\n"
    }
   },
   "outputs": [
    {
     "data": {
      "text/plain": [
       "[0.6485159974891933,\n",
       " 2.5837248801165202,\n",
       " 10.863030594265577,\n",
       " 64.61610702578187,\n",
       " 129.4118682866702,\n",
       " 138.84308912386706]"
      ]
     },
     "execution_count": 29,
     "metadata": {},
     "output_type": "execute_result"
    }
   ],
   "source": [
    "c_weights"
   ]
  },
  {
   "cell_type": "code",
   "execution_count": 30,
   "metadata": {
    "pycharm": {
     "name": "#%%\n"
    }
   },
   "outputs": [
    {
     "data": {
      "text/plain": [
       "[6.666666666666667,\n",
       " 3.710843373493976,\n",
       " 4.585714285714285,\n",
       " 10.17142857142857,\n",
       " 4.585714285714285,\n",
       " 3.768292682926829]"
      ]
     },
     "execution_count": 30,
     "metadata": {},
     "output_type": "execute_result"
    }
   ],
   "source": [
    "pr_weights"
   ]
  },
  {
   "cell_type": "code",
   "execution_count": 31,
   "metadata": {
    "pycharm": {
     "name": "#%%\n"
    }
   },
   "outputs": [
    {
     "data": {
      "text/plain": [
       "[5.102564102564102,\n",
       " 4.471264367816092,\n",
       " 4.8765432098765435,\n",
       " 6.212121212121212,\n",
       " 5.704225352112676,\n",
       " 4.118279569892473]"
      ]
     },
     "execution_count": 31,
     "metadata": {},
     "output_type": "execute_result"
    }
   ],
   "source": [
    "pp_weights"
   ]
  },
  {
   "cell_type": "code",
   "execution_count": 32,
   "metadata": {
    "pycharm": {
     "name": "#%%\n"
    }
   },
   "outputs": [
    {
     "data": {
      "text/plain": [
       "[5.8929715272553285,\n",
       " 4.004182380440435,\n",
       " 4.660769111259692,\n",
       " 8.293749167010946,\n",
       " 5.030374407209864,\n",
       " 3.877786650624848]"
      ]
     },
     "execution_count": 32,
     "metadata": {},
     "output_type": "execute_result"
    }
   ],
   "source": [
    "pf_weights"
   ]
  },
  {
   "cell_type": "markdown",
   "metadata": {
    "pycharm": {
     "name": "#%% md\n"
    }
   },
   "source": [
    "### 2.6) log(2.1)"
   ]
  },
  {
   "cell_type": "code",
   "execution_count": 33,
   "metadata": {
    "pycharm": {
     "name": "#%%\n"
    }
   },
   "outputs": [],
   "source": [
    "num_clases = len(class_counts)\n",
    "num_samples = sum(class_counts)\n",
    "\n",
    "c_weights = []\n",
    "pr_weights = []\n",
    "pp_weights = []\n",
    "pf_weights = []\n",
    "for i in range(num_clases):\n",
    "    c_weights.append(np.log(num_samples/class_counts[i]))\n",
    "    pr_weights.append(np.log(class_recall.sum()/class_recall[i]))\n",
    "    pp_weights.append(np.log(class_precision.sum()/class_precision[i]))\n",
    "    pf_weights.append(np.log(class_f1.sum()/class_f1[i]))"
   ]
  },
  {
   "cell_type": "code",
   "execution_count": 34,
   "metadata": {
    "pycharm": {
     "name": "#%%\n"
    }
   },
   "outputs": [
    {
     "data": {
      "text/plain": [
       "[0.49987548775262214,\n",
       " 1.2764027288058806,\n",
       " 2.4734268916409596,\n",
       " 4.183821199741123,\n",
       " 4.870697659819317,\n",
       " 4.9405210020799055]"
      ]
     },
     "execution_count": 34,
     "metadata": {},
     "output_type": "execute_result"
    }
   ],
   "source": [
    "c_weights"
   ]
  },
  {
   "cell_type": "code",
   "execution_count": 35,
   "metadata": {
    "pycharm": {
     "name": "#%%\n"
    }
   },
   "outputs": [
    {
     "data": {
      "text/plain": [
       "[2.03688192726104,\n",
       " 1.5498669521887678,\n",
       " 1.7202123179360067,\n",
       " 2.413359498495952,\n",
       " 1.7202123179360067,\n",
       " 1.5619883127211127]"
      ]
     },
     "execution_count": 35,
     "metadata": {},
     "output_type": "execute_result"
    }
   ],
   "source": [
    "pr_weights"
   ]
  },
  {
   "cell_type": "code",
   "execution_count": 36,
   "metadata": {
    "pycharm": {
     "name": "#%%\n"
    }
   },
   "outputs": [
    {
     "data": {
      "text/plain": [
       "[1.8087090275418283,\n",
       " 1.6995097355768363,\n",
       " 1.7709686995589813,\n",
       " 1.9757631122049943,\n",
       " 1.9027379771901045,\n",
       " 1.6328183610781641]"
      ]
     },
     "execution_count": 36,
     "metadata": {},
     "output_type": "execute_result"
    }
   ],
   "source": [
    "pp_weights"
   ]
  },
  {
   "cell_type": "code",
   "execution_count": 37,
   "metadata": {
    "pycharm": {
     "name": "#%%\n"
    }
   },
   "outputs": [
    {
     "data": {
      "text/plain": [
       "[1.9305022732197084,\n",
       " 1.610274038871034,\n",
       " 1.7335597683650805,\n",
       " 2.229342041597374,\n",
       " 1.796809099559448,\n",
       " 1.584691561777959]"
      ]
     },
     "execution_count": 37,
     "metadata": {},
     "output_type": "execute_result"
    }
   ],
   "source": [
    "pf_weights"
   ]
  },
  {
   "cell_type": "markdown",
   "metadata": {
    "pycharm": {
     "name": "#%% md\n"
    }
   },
   "source": [
    "### 2.7) log(2.2)"
   ]
  },
  {
   "cell_type": "code",
   "execution_count": 38,
   "metadata": {
    "pycharm": {
     "name": "#%%\n"
    }
   },
   "outputs": [],
   "source": [
    "num_clases = len(class_counts)\n",
    "num_samples = sum(class_counts)\n",
    "\n",
    "c_weights = []\n",
    "pr_weights = []\n",
    "pp_weights = []\n",
    "pf_weights = []\n",
    "for i in range(num_clases):\n",
    "    c_weights.append(np.log(num_samples/(class_counts[i]*num_clases)))\n",
    "    pr_weights.append(np.log(class_recall.sum()/(class_recall[i]*num_clases)))\n",
    "    pp_weights.append(np.log(class_precision.sum()/(class_precision[i]*num_clases)))\n",
    "    pf_weights.append(np.log(class_f1.sum()/(class_f1[i]*num_clases)))"
   ]
  },
  {
   "cell_type": "code",
   "execution_count": 39,
   "metadata": {
    "pycharm": {
     "name": "#%%\n"
    }
   },
   "outputs": [
    {
     "data": {
      "text/plain": [
       "[-1.2918839814754328,\n",
       " -0.5153567404221743,\n",
       " 0.6816674224129046,\n",
       " 2.392061730513068,\n",
       " 3.078938190591262,\n",
       " 3.14876153285185]"
      ]
     },
     "execution_count": 39,
     "metadata": {},
     "output_type": "execute_result"
    }
   ],
   "source": [
    "c_weights"
   ]
  },
  {
   "cell_type": "code",
   "execution_count": 40,
   "metadata": {
    "pycharm": {
     "name": "#%%\n"
    }
   },
   "outputs": [
    {
     "data": {
      "text/plain": [
       "[0.016949558313773205,\n",
       " -0.09224973365121868,\n",
       " -0.02079076966907378,\n",
       " 0.18400364297693944,\n",
       " 0.11097850796204951,\n",
       " -0.158941108149891]"
      ]
     },
     "execution_count": 40,
     "metadata": {},
     "output_type": "execute_result"
    }
   ],
   "source": [
    "pp_weights"
   ]
  },
  {
   "cell_type": "code",
   "execution_count": 41,
   "metadata": {
    "pycharm": {
     "name": "#%%\n"
    }
   },
   "outputs": [
    {
     "data": {
      "text/plain": [
       "[0.2451224580329849,\n",
       " -0.24189251703928716,\n",
       " -0.0715471512920482,\n",
       " 0.6216000292678971,\n",
       " -0.0715471512920482,\n",
       " -0.22977115650694238]"
      ]
     },
     "execution_count": 41,
     "metadata": {},
     "output_type": "execute_result"
    }
   ],
   "source": [
    "pr_weights"
   ]
  },
  {
   "cell_type": "code",
   "execution_count": 42,
   "metadata": {
    "pycharm": {
     "name": "#%%\n"
    }
   },
   "outputs": [
    {
     "data": {
      "text/plain": [
       "[0.13874280399165342,\n",
       " -0.18148543035702108,\n",
       " -0.0581997008629745,\n",
       " 0.4375825723693191,\n",
       " 0.00504963033139288,\n",
       " -0.2070679074500962]"
      ]
     },
     "execution_count": 42,
     "metadata": {},
     "output_type": "execute_result"
    }
   ],
   "source": [
    "pf_weights"
   ]
  },
  {
   "cell_type": "markdown",
   "metadata": {
    "pycharm": {
     "name": "#%% md\n"
    }
   },
   "source": [
    "### 2.8) log(2.4)"
   ]
  },
  {
   "cell_type": "code",
   "execution_count": 43,
   "metadata": {
    "pycharm": {
     "name": "#%%\n"
    }
   },
   "outputs": [],
   "source": [
    "num_clases = len(class_counts)\n",
    "num_samples = sum(class_counts)\n",
    "\n",
    "c_weights = []\n",
    "pr_weights = []\n",
    "pp_weights = []\n",
    "pf_weights = []\n",
    "for i in range(num_clases):\n",
    "    c_weights.append(np.log(max(class_counts)/(class_counts[i])))\n",
    "    pr_weights.append(np.log(class_recall.max()/(class_recall[i])))\n",
    "    pp_weights.append(np.log(class_precision.max()/(class_precision[i])))\n",
    "    pf_weights.append(np.log(class_f1.max()/(class_f1[i])))"
   ]
  },
  {
   "cell_type": "code",
   "execution_count": 44,
   "metadata": {
    "pycharm": {
     "name": "#%%\n"
    }
   },
   "outputs": [
    {
     "data": {
      "text/plain": [
       "[0.0,\n",
       " 0.7765272410532584,\n",
       " 1.9735514038883373,\n",
       " 3.6839457119885006,\n",
       " 4.370822172066695,\n",
       " 4.440645514327283]"
      ]
     },
     "execution_count": 44,
     "metadata": {},
     "output_type": "execute_result"
    }
   ],
   "source": [
    "c_weights"
   ]
  },
  {
   "cell_type": "code",
   "execution_count": 45,
   "metadata": {
    "pycharm": {
     "name": "#%%\n"
    }
   },
   "outputs": [
    {
     "data": {
      "text/plain": [
       "[0.1758906664636642,\n",
       " 0.06669137449867214,\n",
       " 0.13815033848081718,\n",
       " 0.3429447511268304,\n",
       " 0.26991961611194054,\n",
       " 0.0]"
      ]
     },
     "execution_count": 45,
     "metadata": {},
     "output_type": "execute_result"
    }
   ],
   "source": [
    "pp_weights"
   ]
  },
  {
   "cell_type": "code",
   "execution_count": 46,
   "metadata": {
    "pycharm": {
     "name": "#%%\n"
    }
   },
   "outputs": [
    {
     "data": {
      "text/plain": [
       "[0.3458107114417497,\n",
       " 0.02558247709307512,\n",
       " 0.14886820658712174,\n",
       " 0.6446504798194153,\n",
       " 0.212117537781489,\n",
       " 0.0]"
      ]
     },
     "execution_count": 46,
     "metadata": {},
     "output_type": "execute_result"
    }
   ],
   "source": [
    "pf_weights"
   ]
  },
  {
   "cell_type": "code",
   "execution_count": 47,
   "metadata": {
    "pycharm": {
     "name": "#%%\n"
    }
   },
   "outputs": [
    {
     "data": {
      "text/plain": [
       "[0.48701497507227215,\n",
       " 0.0,\n",
       " 0.17034536574723894,\n",
       " 0.8634925463071842,\n",
       " 0.17034536574723894,\n",
       " 0.01212136053234482]"
      ]
     },
     "execution_count": 47,
     "metadata": {},
     "output_type": "execute_result"
    }
   ],
   "source": [
    "pr_weights"
   ]
  },
  {
   "cell_type": "markdown",
   "metadata": {
    "pycharm": {
     "name": "#%% md\n"
    }
   },
   "source": [
    "### 2.9) log(2.5)"
   ]
  },
  {
   "cell_type": "code",
   "execution_count": 48,
   "metadata": {
    "pycharm": {
     "name": "#%%\n"
    }
   },
   "outputs": [],
   "source": [
    "num_clases = len(class_counts)\n",
    "num_samples = sum(class_counts)\n",
    "\n",
    "c_weights = []\n",
    "pr_weights = []\n",
    "pp_weights = []\n",
    "pf_weights = []\n",
    "for i in range(num_clases):\n",
    "    c_weights.append(np.log((num_samples-class_counts[i])/(class_counts[i])))\n",
    "    pr_weights.append(np.log((class_recall.sum()-class_recall[i])/(class_recall[i])))\n",
    "    pp_weights.append(np.log((class_precision.sum()-class_precision[i])/(class_precision[i])))\n",
    "    pf_weights.append(np.log((class_f1.sum()-class_f1[i])/(class_f1[i])))"
   ]
  },
  {
   "cell_type": "code",
   "execution_count": 49,
   "metadata": {
    "pycharm": {
     "name": "#%%\n"
    }
   },
   "outputs": [
    {
     "data": {
      "text/plain": [
       "[-0.43306860708087375,\n",
       " 0.9492321097088224,\n",
       " 2.3853653358211706,\n",
       " 4.168463714474235,\n",
       " 4.863000095686868,\n",
       " 4.933344440269743]"
      ]
     },
     "execution_count": 49,
     "metadata": {},
     "output_type": "execute_result"
    }
   ],
   "source": [
    "c_weights"
   ]
  },
  {
   "cell_type": "code",
   "execution_count": 50,
   "metadata": {
    "pycharm": {
     "name": "#%%\n"
    }
   },
   "outputs": [
    {
     "data": {
      "text/plain": [
       "[1.629743178594846,\n",
       " 1.4976712249638626,\n",
       " 1.584436610228683,\n",
       " 1.826502417671928,\n",
       " 1.7412071900652237,\n",
       " 1.41543549602739]"
      ]
     },
     "execution_count": 50,
     "metadata": {},
     "output_type": "execute_result"
    }
   ],
   "source": [
    "pp_weights"
   ]
  },
  {
   "cell_type": "code",
   "execution_count": 51,
   "metadata": {
    "pycharm": {
     "name": "#%%\n"
    }
   },
   "outputs": [
    {
     "data": {
      "text/plain": [
       "[1.8971199848858813,\n",
       " 1.3112591751769764,\n",
       " 1.5229458810806569,\n",
       " 2.319582669362617,\n",
       " 1.5229458810806569,\n",
       " 1.3266220296334923]"
      ]
     },
     "execution_count": 51,
     "metadata": {},
     "output_type": "execute_result"
    }
   ],
   "source": [
    "pr_weights"
   ]
  },
  {
   "cell_type": "code",
   "execution_count": 52,
   "metadata": {
    "pycharm": {
     "name": "#%%\n"
    }
   },
   "outputs": [
    {
     "data": {
      "text/plain": [
       "[1.7737603742227446,\n",
       " 1.3873394099761727,\n",
       " 1.5391804798537696,\n",
       " 2.115502118662619,\n",
       " 1.6154944161744882,\n",
       " 1.355264539996296]"
      ]
     },
     "execution_count": 52,
     "metadata": {},
     "output_type": "execute_result"
    }
   ],
   "source": [
    "pf_weights"
   ]
  },
  {
   "cell_type": "markdown",
   "metadata": {
    "pycharm": {
     "name": "#%% md\n"
    }
   },
   "source": [
    "### P as multiplicative factor"
   ]
  },
  {
   "cell_type": "code",
   "execution_count": 53,
   "metadata": {
    "pycharm": {
     "name": "#%%\n"
    }
   },
   "outputs": [],
   "source": [
    "def standardize(X):\n",
    "    return (X - np.mean(X))/np.std(X) + 2"
   ]
  },
  {
   "cell_type": "code",
   "execution_count": 54,
   "metadata": {
    "pycharm": {
     "name": "#%%\n"
    }
   },
   "outputs": [
    {
     "data": {
      "text/plain": [
       "array([1.35026963, 2.99804177, 2.30055364, 0.22253271, 1.97473813,\n",
       "       3.15386413])"
      ]
     },
     "execution_count": 54,
     "metadata": {},
     "output_type": "execute_result"
    }
   ],
   "source": [
    "standardize(class_f1)"
   ]
  },
  {
   "cell_type": "code",
   "execution_count": 55,
   "metadata": {
    "pycharm": {
     "name": "#%%\n"
    }
   },
   "outputs": [
    {
     "data": {
      "text/plain": [
       "array([1.85354959, 2.84208983, 2.18306301, 0.53549595, 1.08468497,\n",
       "       3.50111665])"
      ]
     },
     "execution_count": 55,
     "metadata": {},
     "output_type": "execute_result"
    }
   ],
   "source": [
    "standardize(class_precision)"
   ]
  },
  {
   "cell_type": "code",
   "execution_count": 56,
   "metadata": {
    "pycharm": {
     "name": "#%%\n"
    }
   },
   "outputs": [
    {
     "data": {
      "text/plain": [
       "array([1.17257058, 3.04158762, 2.28229945, 0.23806207, 2.28229945,\n",
       "       2.98318084])"
      ]
     },
     "execution_count": 56,
     "metadata": {},
     "output_type": "execute_result"
    }
   ],
   "source": [
    "standardize(class_recall)"
   ]
  },
  {
   "cell_type": "code",
   "execution_count": 57,
   "metadata": {
    "pycharm": {
     "name": "#%%\n"
    }
   },
   "outputs": [
    {
     "data": {
      "text/plain": [
       "array([4.01288498, 2.51414599, 1.6231216 , 1.30716808, 1.27252273,\n",
       "       1.27015661])"
      ]
     },
     "execution_count": 57,
     "metadata": {},
     "output_type": "execute_result"
    }
   ],
   "source": [
    "standardize(class_counts)"
   ]
  },
  {
   "cell_type": "code",
   "execution_count": 58,
   "metadata": {
    "pycharm": {
     "name": "#%%\n"
    }
   },
   "outputs": [],
   "source": [
    "def invert_array(arr):\n",
    "    # Create a list of tuples containing values and their indices\n",
    "    indexed_arr = [(value, idx) for idx, value in enumerate(arr)]\n",
    "    # Sort the list based on values\n",
    "    indexed_arr.sort(key=lambda x: x[0])\n",
    "    # Extract the indices from the sorted list\n",
    "    inverted_indices = [x[1] for x in indexed_arr]\n",
    "    # Use the inverted indices to reorder the original array\n",
    "    inverted_arr = [arr[idx] for idx in inverted_indices]\n",
    "    return inverted_arr"
   ]
  },
  {
   "cell_type": "code",
   "execution_count": 59,
   "metadata": {
    "pycharm": {
     "name": "#%%\n"
    }
   },
   "outputs": [
    {
     "data": {
      "text/plain": [
       "[1.2701566130539006,\n",
       " 1.272522727643941,\n",
       " 1.3071680817456297,\n",
       " 1.6231216025770614,\n",
       " 2.5141459921513247,\n",
       " 4.012884982828142]"
      ]
     },
     "execution_count": 59,
     "metadata": {},
     "output_type": "execute_result"
    }
   ],
   "source": [
    "invert_array(standardize(class_counts))"
   ]
  },
  {
   "cell_type": "code",
   "execution_count": 60,
   "metadata": {
    "pycharm": {
     "name": "#%%\n"
    }
   },
   "outputs": [
    {
     "data": {
      "text/plain": [
       "[0.5354959481235757,\n",
       " 1.084684967577235,\n",
       " 1.8535495948123581,\n",
       " 2.1830630064845535,\n",
       " 2.8420898298289448,\n",
       " 3.501116653173336]"
      ]
     },
     "execution_count": 60,
     "metadata": {},
     "output_type": "execute_result"
    }
   ],
   "source": [
    "invert_array(standardize(class_precision))"
   ]
  },
  {
   "cell_type": "code",
   "execution_count": 68,
   "metadata": {
    "pycharm": {
     "name": "#%%\n"
    }
   },
   "outputs": [
    {
     "data": {
      "text/plain": [
       "array([1.09528633, 0.79515961, 0.89949059, 1.47676751, 0.9582205 ,\n",
       "       0.77507545])"
      ]
     },
     "execution_count": 68,
     "metadata": {},
     "output_type": "execute_result"
    }
   ],
   "source": [
    "weights = [100 / p for p in class_f1]\n",
    "mean_reciprocal = np.mean(weights)\n",
    "weights/mean_reciprocal"
   ]
  },
  {
   "cell_type": "code",
   "execution_count": null,
   "metadata": {
    "pycharm": {
     "name": "#%%\n"
    }
   },
   "outputs": [],
   "source": []
  }
 ],
 "metadata": {
  "kernelspec": {
   "display_name": "Python 3 (ipykernel)",
   "language": "python",
   "name": "python3"
  },
  "language_info": {
   "codemirror_mode": {
    "name": "ipython",
    "version": 3
   },
   "file_extension": ".py",
   "mimetype": "text/x-python",
   "name": "python",
   "nbconvert_exporter": "python",
   "pygments_lexer": "ipython3",
   "version": "3.11.4"
  }
 },
 "nbformat": 4,
 "nbformat_minor": 4
}