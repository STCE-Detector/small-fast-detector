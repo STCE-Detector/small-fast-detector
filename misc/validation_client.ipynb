{
 "cells": [
  {
   "cell_type": "code",
   "execution_count": 29,
   "id": "initial_id",
   "metadata": {
    "collapsed": true,
    "ExecuteTime": {
     "end_time": "2024-01-19T07:54:50.835656Z",
     "start_time": "2024-01-19T07:54:50.830319Z"
    },
    "pycharm": {
     "name": "#%%\n"
    }
   },
   "source": [
    "import yaml\n",
    "import platform\n",
    "import pandas as pd\n",
    "import glob\n",
    "from PIL import Image\n",
    "import brambox as bb\n",
    "import numpy as np\n",
    "import pandas as pd\n",
    "from IPython.display import display\n",
    "import matplotlib.pyplot as plt\n",
    "import seaborn as sns"
   ],
   "outputs": []
  },
  {
   "cell_type": "code",
   "source": [
    "def check_os():\n",
    "    os = platform.system()\n",
    "\n",
    "    if os == 'Darwin':\n",
    "        return \"MacOS\"\n",
    "    elif os == 'Linux':\n",
    "        return \"Linux\"\n",
    "    else:\n",
    "        return \"Unknown OS\"\n",
    "    \n",
    "operating_system = check_os()\n",
    "\n",
    "\n",
    "if operating_system == \"MacOS\":\n",
    "    root_path = \"/Users/johnny/Projects/\"\n",
    "elif operating_system == \"Linux\":\n",
    "    root_path = \"/home/johnny/Projects/\""
   ],
   "metadata": {
    "collapsed": false,
    "ExecuteTime": {
     "end_time": "2024-01-19T07:54:51.193737Z",
     "start_time": "2024-01-19T07:54:51.190047Z"
    },
    "pycharm": {
     "name": "#%%\n"
    }
   },
   "id": "5f15a895a02c9195",
   "execution_count": 30,
   "outputs": []
  },
  {
   "cell_type": "code",
   "execution_count": 31,
   "source": [
    "from brambox.io.parser.detection import CocoParser\n",
    "\n",
    "# Load detections\n",
    "\n",
    "det = bb.io.load(CocoParser, '/Users/johnny/Projects/small-fast-detector/runs/detect/val/predictions.json')\n",
    "print('detections:')\n",
    "det['image'] = det['image'].astype(str).str.lstrip('0').astype(int)\n",
    "det['class_label'] = det['class_label'].astype(int)\n",
    "label_mapping = {\n",
    "    0: 'person',\n",
    "    1: 'car',\n",
    "    2: 'truck',\n",
    "    3: 'uav',\n",
    "    4: 'airplane',\n",
    "    5: 'boat'\n",
    "}\n",
    "\n",
    "# Applying the mapping to the 'class_label' column\n",
    "det['class_label'] = det['class_label'].map(label_mapping)\n",
    "\n",
    "display(det.head())"
   ],
   "metadata": {
    "collapsed": false,
    "ExecuteTime": {
     "end_time": "2024-01-19T07:54:54.947342Z",
     "start_time": "2024-01-19T07:54:52.344585Z"
    },
    "pycharm": {
     "name": "#%%\n"
    }
   },
   "id": "b3048c1fdd1a42ea",
   "outputs": []
  },
  {
   "cell_type": "code",
   "execution_count": 32,
   "source": [
    "from brambox.io.parser.annotation import CocoParser\n",
    "# Load annotations\n",
    "anno = bb.io.load(CocoParser(add_image_dims=True), '/Users/johnny/Projects/datasets/custom_dataset_v2/annotations/instances_val2017.json')\n",
    "anno['image'] = anno['image'].astype(str).str.lstrip('0').astype(int)\n",
    "\n",
    "print('annotations:')\n",
    "display(anno.head())\n",
    "\n",
    "# save dataframes\n",
    "det.to_csv('/Users/johnny/Projects/small-fast-detector/runs/detect/val/detections.csv', index=False)\n",
    "\n",
    "anno.to_csv('/Users/johnny/Projects/small-fast-detector/runs/detect/val/annotations.csv', index=False)"
   ],
   "metadata": {
    "collapsed": false,
    "ExecuteTime": {
     "end_time": "2024-01-19T07:54:57.003276Z",
     "start_time": "2024-01-19T07:54:54.942658Z"
    },
    "pycharm": {
     "name": "#%%\n"
    }
   },
   "id": "7b58d10fb2c776c5",
   "outputs": []
  },
  {
   "cell_type": "code",
   "execution_count": 48,
   "source": [
    "from tqdm.notebook import tqdm\n",
    "\n",
    "\n",
    "def calculate_area(row):\n",
    "    return row['width'] * row['height']\n",
    "\n",
    "def iou(box_a, box_b):\n",
    "    xA = max(box_a[0], box_b[0])\n",
    "    yA = max(box_a[1], box_b[1])\n",
    "    xB = min(box_a[2], box_b[2])\n",
    "    yB = min(box_a[3], box_b[3])\n",
    "\n",
    "    interArea = max(0, xB - xA) * max(0, yB - yA)\n",
    "\n",
    "    boxAArea = (box_a[2] - box_a[0]) * (box_a[3] - box_a[1])\n",
    "    boxBArea = (box_b[2] - box_b[0]) * (box_b[3] - box_b[1])\n",
    "\n",
    "    iou = interArea / float(boxAArea + boxBArea - interArea)\n",
    "    return iou\n",
    "\n",
    "def calculate_map(detected, actual, class_labels):\n",
    "    aps = []\n",
    "    if detected.empty or 'class_label' not in detected.columns:\n",
    "        return 0\n",
    "\n",
    "    for label in class_labels:\n",
    "        if label not in detected['class_label'].values:\n",
    "            aps.append(0)\n",
    "            continue\n",
    "\n",
    "        dc = detected[detected.class_label == label]\n",
    "        ac = actual[actual.class_label == label]\n",
    "\n",
    "        ap_coco = []\n",
    "        for iou_threshold in range(50, 100, 5):\n",
    "            if dc.empty:\n",
    "                ap_coco.append(0)\n",
    "                continue\n",
    "\n",
    "            pr = bb.stat.pr(dc, ac, iou_threshold / 100, smooth=True)\n",
    "            ap_coco.append(bb.stat.auc_interpolated(pr))\n",
    "\n",
    "        aps.append(sum(ap_coco) / len(ap_coco))\n",
    "\n",
    "    mAP_coco = sum(aps) / len(aps) if aps else 0\n",
    "    return mAP_coco\n",
    "\n",
    "def calculate_pr_curve(detected, actual, iou_threshold):\n",
    "    \"\"\" Calcula la curva PR para un umbral de IoU específico. \"\"\"\n",
    "    matched_det = bb.stat.match_det(detected, actual, threshold=iou_threshold, \n",
    "                                    criteria=bb.stat.coordinates.iou, \n",
    "                                    ignore=bb.stat.IgnoreMethod.SINGLE)\n",
    "    pr_curve = bb.stat.pr(matched_det, actual)\n",
    "    return pr_curve\n",
    "\n",
    "def calculate_recall_precision(tp, fn, fp):\n",
    "    \"\"\" Calcula el recall y la precisión. \"\"\"\n",
    "    recall = tp / (tp + fn) if (tp + fn) > 0 else 0\n",
    "    precision = tp / (tp + fp) if (tp + fp) > 0 else 0\n",
    "    return recall, precision\n",
    "\n",
    "def calculate_ap(recalls, precisions):\n",
    "    \"\"\" Calcula el Average Precision (AP) a partir de las curvas de recall y precision. \"\"\"\n",
    "    recalls = [0] + recalls + [1] \n",
    "    precisions = [0] + precisions + [0] \n",
    "\n",
    "    ap = np.sum((recalls[i] - recalls[i - 1]) * precisions[i] for i in range(1, len(recalls)))\n",
    "    return ap\n",
    "\n",
    "def calculate_metrics(detected, actual, class_labels, iou_threshold=0.5):\n",
    "    precision = []\n",
    "    recall = []\n",
    "\n",
    "    for label in class_labels:\n",
    "        tp_per_class = 0\n",
    "        fp_per_class = 0\n",
    "        fn_per_class = 0\n",
    "        detected_class = detected[detected['class_label'] == label]\n",
    "        actual_class = actual[actual['class_label'] == label]\n",
    "\n",
    "        for _, det_row in detected_class.iterrows():\n",
    "            box_det = [det_row['x_top_left'], det_row['y_top_left'],\n",
    "                       det_row['x_top_left'] + det_row['width'], \n",
    "                       det_row['y_top_left'] + det_row['height']]\n",
    "\n",
    "            best_iou = 0\n",
    "            for _, act_row in actual_class.iterrows():\n",
    "                box_act = [act_row['x_top_left'], act_row['y_top_left'],\n",
    "                           act_row['x_top_left'] + act_row['width'], \n",
    "                           act_row['y_top_left'] + act_row['height']]\n",
    "                current_iou = iou(box_det, box_act)\n",
    "                best_iou = max(best_iou, current_iou)\n",
    "\n",
    "            if best_iou >= iou_threshold:\n",
    "                tp_per_class += 1\n",
    "            else:\n",
    "                fp_per_class += 1\n",
    "\n",
    "        # Calcular FN\n",
    "        fn_per_class = len(actual) - tp_per_class\n",
    "    \n",
    "        # Calcular recall y precisión\n",
    "        recall_per_class, precision_per_class = calculate_recall_precision(tp_per_class, fn_per_class, fp_per_class)\n",
    "        recall.append(recall_per_class)\n",
    "        precision.append(precision_per_class)\n",
    "    \n",
    "    recall = np.mean(recall)\n",
    "    precision = np.mean(precision)\n",
    "\n",
    "    # Calcular AP por clase y luego calcular el promedio (mAP)\n",
    "    mAP = calculate_map(detected, actual, class_labels)\n",
    "\n",
    "    return recall, precision, mAP\n",
    "\n",
    "image_stats = pd.DataFrame(columns=['name', 'width', 'height', 'num_of_gt_objects', 'lowest_area', 'biggest_area', 'num_of_predicted_objects', 'recall', 'precision', 'mAP'])\n",
    "\n",
    "det_grouped = det.groupby('image', observed=True)\n",
    "anno_grouped = anno.groupby('image', observed=True)\n",
    "\n",
    "class_labels = anno['class_label'].unique().tolist()\n",
    "\n",
    "total_images = set(anno['image'].unique().tolist() + det['image'].unique().tolist())\n",
    "total_images = sorted(total_images)\n",
    "for image_id in tqdm(total_images):\n",
    "    width = height = num_of_gt_objects = lowest_area = biggest_area = num_of_predicted_objects = np.nan\n",
    "    recall = precision = mAP = 0\n",
    "\n",
    "    if image_id in anno_grouped.groups:\n",
    "        image_data = anno_grouped.get_group(image_id).copy()\n",
    "        width = image_data.iloc[0]['image_width']\n",
    "        height = image_data.iloc[0]['image_height']\n",
    "        num_of_gt_objects = len(image_data)\n",
    "        image_data['area'] = image_data.apply(calculate_area, axis=1)\n",
    "        lowest_area = image_data['area'].min() if not image_data['area'].empty else np.nan\n",
    "        biggest_area = image_data['area'].max() if not image_data['area'].empty else np.nan\n",
    "\n",
    "    if image_id in det_grouped.groups:\n",
    "        det_data = det_grouped.get_group(image_id)\n",
    "        num_of_predicted_objects = len(det_data)\n",
    "        recall, precision, mAP = calculate_metrics(det_data, image_data, class_labels)\n",
    "\n",
    "    new_row = {\n",
    "        'name': image_id,\n",
    "        'width': width,\n",
    "        'height': height,\n",
    "        'num_of_gt_objects': num_of_gt_objects,\n",
    "        'lowest_area': lowest_area,\n",
    "        'biggest_area': biggest_area,\n",
    "        'num_of_predicted_objects': num_of_predicted_objects,\n",
    "        'recall': recall,\n",
    "        'precision': precision,\n",
    "        'mAP': mAP\n",
    "    }\n",
    "    image_stats = pd.concat([image_stats, pd.DataFrame([new_row])], ignore_index=True)\n"
   ],
   "metadata": {
    "collapsed": false,
    "ExecuteTime": {
     "end_time": "2024-01-19T08:43:20.316120Z",
     "start_time": "2024-01-19T08:30:32.515796Z"
    },
    "pycharm": {
     "name": "#%%\n"
    }
   },
   "id": "2ec505f745132894",
   "outputs": []
  },
  {
   "cell_type": "code",
   "execution_count": 49,
   "source": [
    "image_stats.sort_values(by=['name'], ascending=True, inplace=True)\n",
    "image_stats"
   ],
   "metadata": {
    "collapsed": false,
    "ExecuteTime": {
     "end_time": "2024-01-19T08:44:26.967980Z",
     "start_time": "2024-01-19T08:44:26.958491Z"
    },
    "pycharm": {
     "name": "#%%\n"
    }
   },
   "id": "cd784e99e1eeafbd",
   "outputs": []
  },
  {
   "cell_type": "code",
   "execution_count": 55,
   "source": [
    "# max column recall\n",
    "image_stats['precision'].min()"
   ],
   "metadata": {
    "collapsed": false,
    "ExecuteTime": {
     "end_time": "2024-01-19T08:45:11.278351Z",
     "start_time": "2024-01-19T08:45:11.276058Z"
    },
    "pycharm": {
     "name": "#%%\n"
    }
   },
   "id": "ccd007e3e0a61c5b",
   "outputs": []
  },
  {
   "cell_type": "code",
   "execution_count": 35,
   "source": [
    "image_stats.to_csv('/Users/johnny/Projects/small-fast-detector/runs/detect/val/image_stats.csv', index=False)"
   ],
   "metadata": {
    "collapsed": false,
    "ExecuteTime": {
     "end_time": "2024-01-19T08:06:50.527288Z",
     "start_time": "2024-01-19T08:06:50.470854Z"
    },
    "pycharm": {
     "name": "#%%\n"
    }
   },
   "id": "5b121ac3aac88e9b",
   "outputs": []
  },
  {
   "cell_type": "code",
   "execution_count": 36,
   "source": [
    "full_hd_data = image_stats[(image_stats['width'] == 1920) & (image_stats['height'] == 1080)].copy()\n",
    "full_hd_data = full_hd_data[full_hd_data['num_of_predicted_objects'] <= 100].copy()"
   ],
   "metadata": {
    "collapsed": false,
    "ExecuteTime": {
     "end_time": "2024-01-19T08:07:16.037696Z",
     "start_time": "2024-01-19T08:07:16.031363Z"
    },
    "pycharm": {
     "name": "#%%\n"
    }
   },
   "id": "8004c5962efb2953",
   "outputs": []
  },
  {
   "cell_type": "code",
   "execution_count": 37,
   "source": [],
   "metadata": {
    "collapsed": false,
    "ExecuteTime": {
     "end_time": "2024-01-19T08:07:21.131757Z",
     "start_time": "2024-01-19T08:07:21.128379Z"
    },
    "pycharm": {
     "name": "#%%\n"
    }
   },
   "id": "34639f1bb017ec40",
   "outputs": []
  },
  {
   "cell_type": "code",
   "execution_count": null,
   "source": [
    "from ultralytics import YOLO\n",
    "import os\n",
    "import glob\n",
    "import pandas as pd\n",
    "from PIL import Image\n",
    "\n",
    "# Suponiendo que 'root_path' está definido\n",
    "images_directory = root_path + 'datasets/custom_dataset_v2/images/val/'\n",
    "labels_directory = root_path + 'datasets/custom_dataset_v2/labels/val/'\n",
    "\n",
    "image_files = glob.glob(images_directory + '*.jpg')\n",
    "model = YOLO('../inference_tools/Evaluation/models/detector_best.pt', task='detect')\n",
    "\n",
    "df_rows = []\n",
    "\n",
    "def get_image_resolution(image_path):\n",
    "    with Image.open(image_path) as img:\n",
    "        return img.size\n",
    "\n",
    "for image_file in image_files:\n",
    "    image_resolution = get_image_resolution(image_file)\n",
    "    base_name = os.path.basename(image_file).replace('.jpg', '')\n",
    "    label_file = os.path.join(labels_directory, base_name + '.txt')\n",
    "    \n",
    "    if os.path.exists(label_file):\n",
    "        with open(label_file, 'r') as file:\n",
    "            annotation_data = file.readlines()\n",
    "        \n",
    "        for line in annotation_data:\n",
    "            class_id, x_center, y_center, width, height = line.strip().split()\n",
    "            object_width = int(float(width) * image_resolution[0])\n",
    "            object_height = int(float(height) * image_resolution[1])\n",
    "\n",
    "            df_rows.append({\n",
    "                'file_name': base_name + '.jpg',\n",
    "                'class_id': int(class_id),\n",
    "                'x_center': float(x_center),\n",
    "                'y_center': float(y_center),\n",
    "                'width': float(width),\n",
    "                'height': float(height),\n",
    "                'res_width': image_resolution[0],\n",
    "                'res_height': image_resolution[1],\n",
    "                'obj_width': object_width,\n",
    "                'obj_height': object_height,\n",
    "                'image_path': image_file,\n",
    "                'label_path': label_file,\n",
    "            })\n",
    "\n",
    "df_annotations = pd.DataFrame(df_rows)\n",
    "\n",
    "def calculate_area(width, height):\n",
    "    return width * height\n",
    "\n",
    "def predict_yolov8(image_path, label_path=None):\n",
    "    results = model(image_path, size=640)\n",
    "    \n",
    "    predictions = []  \n",
    "    metrics = {'recall': 0.0, 'map': 0.0}  \n",
    "    return predictions, metrics\n",
    "\n",
    "# Procesamiento adicional para obtener las métricas y predicciones\n",
    "for index, row in df_annotations.iterrows():\n",
    "    predictions, metrics = predict_yolov8(row.image_path)\n",
    "\n",
    "    df_annotations.at[index, 'num_of_predicted_objects'] = len(predictions)\n",
    "    df_annotations.at[index, 'recall'] = metrics['recall']\n",
    "    df_annotations.at[index, 'map'] = metrics['map']\n",
    "\n",
    "    areas = [calculate_area(obj.obj_width, obj.obj_height) for obj in df_annotations.itertuples() if obj.image_path == row.image_path]\n",
    "    if areas:\n",
    "        df_annotations.at[index, 'lowest_area'] = min(areas)\n",
    "        df_annotations.at[index, 'biggest_area'] = max(areas)\n",
    "\n",
    "df_annotations['num_of_gt_objects'] = df_annotations.groupby('file_name')['file_name'].transform('count')\n",
    "\n",
    "print(df_annotations.head())"
   ],
   "metadata": {
    "collapsed": false,
    "pycharm": {
     "name": "#%%\n"
    }
   },
   "id": "91f9d409eacf2295",
   "outputs": []
  },
  {
   "cell_type": "code",
   "source": [
    "df_annotations.to_csv('/data-fast/108-data3/ierregue/datasets/custom_dataset_v1/annotations_valid.csv', index=False)"
   ],
   "metadata": {
    "collapsed": false,
    "pycharm": {
     "name": "#%%\n"
    }
   },
   "id": "a52d75cecf679710",
   "execution_count": null,
   "outputs": []
  },
  {
   "cell_type": "code",
   "source": [
    "full_hd_new_data = df_annotations[(df_annotations['res_width'] == 1920) & (df_annotations['res_height'] == 1080)].copy()"
   ],
   "metadata": {
    "collapsed": false,
    "pycharm": {
     "name": "#%%\n"
    }
   },
   "id": "5bbc502a74eb3568",
   "execution_count": null,
   "outputs": []
  }
 ],
 "metadata": {
  "kernelspec": {
   "display_name": "Python 3",
   "language": "python",
   "name": "python3"
  },
  "language_info": {
   "codemirror_mode": {
    "name": "ipython",
    "version": 2
   },
   "file_extension": ".py",
   "mimetype": "text/x-python",
   "name": "python",
   "nbconvert_exporter": "python",
   "pygments_lexer": "ipython2",
   "version": "2.7.6"
  }
 },
 "nbformat": 4,
 "nbformat_minor": 5
}
