{
 "cells": [
  {
   "cell_type": "code",
   "execution_count": 1,
   "id": "67b64428-fd5b-40c5-82cf-7ffe0ccd3612",
   "metadata": {
    "pycharm": {
     "name": "#%%\n"
    }
   },
   "outputs": [],
   "source": [
    "import os\n",
    "import numpy as np\n",
    "import pandas as pd\n",
    "import imagesize\n",
    "import matplotlib.pyplot as plt"
   ]
  },
  {
   "cell_type": "code",
   "execution_count": 2,
   "id": "105af595-ae11-47ab-baf1-fcb4f6831ce9",
   "metadata": {
    "pycharm": {
     "name": "#%%\n"
    }
   },
   "outputs": [],
   "source": [
    "class_names = {\n",
    "    0:'Person',\n",
    "    1:'Car',\n",
    "    2:'Truck',\n",
    "    3:'UAV',\n",
    "    4:'Aircraft',\n",
    "    5:'Ship'\n",
    "}"
   ]
  },
  {
   "cell_type": "code",
   "execution_count": 3,
   "id": "e0c4f0f9-940a-4c7b-9df2-cacb1826a9fb",
   "metadata": {
    "pycharm": {
     "name": "#%%\n"
    }
   },
   "outputs": [],
   "source": [
    "def inspect_dataset(\n",
    "        target_dataset_root,  # ../datasets/new_dataset\n",
    "        target_dataset_slice,  # train,test,val\n",
    "):\n",
    " info = []  # list of lists, each list corresponds to an instance [cls_id, x, y, w, h, img]\n",
    "\n",
    " target_labels_dir = os.path.join(target_dataset_root, 'labels', target_dataset_slice)\n",
    "\n",
    " # Iterate over all files in the original dataset labels folder\n",
    " for filename in os.listdir(target_labels_dir):\n",
    "  if filename.endswith('.txt'):\n",
    "   # Read file\n",
    "   with open(os.path.join(target_labels_dir, filename), \"r\") as f:\n",
    "    # Iterate over instances in image and get present class ids\n",
    "    for line in f:\n",
    "     line_data = []\n",
    "     # label data\n",
    "     line_data = line.split()\n",
    "     # Image name\n",
    "     line_data.append(os.path.splitext(filename)[0])\n",
    "     # Image size: could be done at image level and not row level\n",
    "     img_path = os.path.join(target_dataset_root, 'images', target_dataset_slice,\n",
    "                             os.path.splitext(filename)[0] + '.jpg')\n",
    "     img_w, img_h = imagesize.get(img_path)\n",
    "     line_data.extend([img_w, img_h])\n",
    "     # Append line data to info\n",
    "     info.append(line_data)\n",
    "\n",
    " df = pd.DataFrame(info, columns=['new_class_id', 'xcn', 'ycn', 'wn', 'hn', 'img', 'img_w', 'img_h'])\n",
    " df = df.astype(\n",
    "  {'new_class_id': 'int32', 'xcn': 'float32', 'ycn': 'float32', 'wn': 'float32', 'hn': 'float32', 'img': 'int64',\n",
    "   'img_w': 'float32', 'img_h': 'float32'})\n",
    " df['class_name'] = df['new_class_id'].map(class_names)\n",
    " return df"
   ]
  },
  {
   "cell_type": "code",
   "execution_count": 4,
   "id": "430e882d-b5f4-4f67-b2ba-c2337b478b5a",
   "metadata": {
    "pycharm": {
     "name": "#%%\n"
    }
   },
   "outputs": [],
   "source": [
    "# Create dir to store plots\n",
    "dataset = 'VisDrone'\n",
    "save_dir = './data/dataset_creation/plots/'+ dataset\n",
    "if not os.path.isdir(save_dir):\n",
    "    os.makedirs(save_dir)"
   ]
  },
  {
   "cell_type": "code",
   "execution_count": 5,
   "id": "261e2486-3c70-4818-b6f6-62aacee96ddd",
   "metadata": {
    "pycharm": {
     "name": "#%%\n"
    }
   },
   "outputs": [],
   "source": [
    "df = inspect_dataset('/Users/inaki-eab/Desktop/DETECTOR_DATASETS/custom_visdrone', 'train')"
   ]
  },
  {
   "cell_type": "code",
   "execution_count": 6,
   "id": "42066e51-301c-43ec-b04b-5345f677c22c",
   "metadata": {
    "pycharm": {
     "name": "#%%\n"
    }
   },
   "outputs": [
    {
     "data": {
      "text/html": [
       "<div>\n",
       "<style scoped>\n",
       "    .dataframe tbody tr th:only-of-type {\n",
       "        vertical-align: middle;\n",
       "    }\n",
       "\n",
       "    .dataframe tbody tr th {\n",
       "        vertical-align: top;\n",
       "    }\n",
       "\n",
       "    .dataframe thead th {\n",
       "        text-align: right;\n",
       "    }\n",
       "</style>\n",
       "<table border=\"1\" class=\"dataframe\">\n",
       "  <thead>\n",
       "    <tr style=\"text-align: right;\">\n",
       "      <th></th>\n",
       "      <th>new_class_id</th>\n",
       "      <th>xcn</th>\n",
       "      <th>ycn</th>\n",
       "      <th>wn</th>\n",
       "      <th>hn</th>\n",
       "      <th>img</th>\n",
       "      <th>img_w</th>\n",
       "      <th>img_h</th>\n",
       "      <th>class_name</th>\n",
       "    </tr>\n",
       "  </thead>\n",
       "  <tbody>\n",
       "    <tr>\n",
       "      <th>0</th>\n",
       "      <td>0</td>\n",
       "      <td>0.494286</td>\n",
       "      <td>0.295714</td>\n",
       "      <td>0.002857</td>\n",
       "      <td>0.008571</td>\n",
       "      <td>132592</td>\n",
       "      <td>1400.0</td>\n",
       "      <td>1050.0</td>\n",
       "      <td>Person</td>\n",
       "    </tr>\n",
       "    <tr>\n",
       "      <th>1</th>\n",
       "      <td>0</td>\n",
       "      <td>0.503929</td>\n",
       "      <td>0.407143</td>\n",
       "      <td>0.003571</td>\n",
       "      <td>0.008571</td>\n",
       "      <td>132592</td>\n",
       "      <td>1400.0</td>\n",
       "      <td>1050.0</td>\n",
       "      <td>Person</td>\n",
       "    </tr>\n",
       "    <tr>\n",
       "      <th>2</th>\n",
       "      <td>0</td>\n",
       "      <td>0.498214</td>\n",
       "      <td>0.421905</td>\n",
       "      <td>0.002143</td>\n",
       "      <td>0.013333</td>\n",
       "      <td>132592</td>\n",
       "      <td>1400.0</td>\n",
       "      <td>1050.0</td>\n",
       "      <td>Person</td>\n",
       "    </tr>\n",
       "    <tr>\n",
       "      <th>3</th>\n",
       "      <td>0</td>\n",
       "      <td>0.426429</td>\n",
       "      <td>0.428095</td>\n",
       "      <td>0.004286</td>\n",
       "      <td>0.010476</td>\n",
       "      <td>132592</td>\n",
       "      <td>1400.0</td>\n",
       "      <td>1050.0</td>\n",
       "      <td>Person</td>\n",
       "    </tr>\n",
       "    <tr>\n",
       "      <th>4</th>\n",
       "      <td>2</td>\n",
       "      <td>0.262143</td>\n",
       "      <td>0.932857</td>\n",
       "      <td>0.064286</td>\n",
       "      <td>0.134286</td>\n",
       "      <td>132592</td>\n",
       "      <td>1400.0</td>\n",
       "      <td>1050.0</td>\n",
       "      <td>Truck</td>\n",
       "    </tr>\n",
       "    <tr>\n",
       "      <th>...</th>\n",
       "      <td>...</td>\n",
       "      <td>...</td>\n",
       "      <td>...</td>\n",
       "      <td>...</td>\n",
       "      <td>...</td>\n",
       "      <td>...</td>\n",
       "      <td>...</td>\n",
       "      <td>...</td>\n",
       "      <td>...</td>\n",
       "    </tr>\n",
       "    <tr>\n",
       "      <th>305565</th>\n",
       "      <td>1</td>\n",
       "      <td>0.369360</td>\n",
       "      <td>0.109340</td>\n",
       "      <td>0.009760</td>\n",
       "      <td>0.006533</td>\n",
       "      <td>133695</td>\n",
       "      <td>2000.0</td>\n",
       "      <td>1500.0</td>\n",
       "      <td>Car</td>\n",
       "    </tr>\n",
       "    <tr>\n",
       "      <th>305566</th>\n",
       "      <td>1</td>\n",
       "      <td>0.365080</td>\n",
       "      <td>0.114047</td>\n",
       "      <td>0.015865</td>\n",
       "      <td>0.007293</td>\n",
       "      <td>133695</td>\n",
       "      <td>2000.0</td>\n",
       "      <td>1500.0</td>\n",
       "      <td>Car</td>\n",
       "    </tr>\n",
       "    <tr>\n",
       "      <th>305567</th>\n",
       "      <td>1</td>\n",
       "      <td>0.347085</td>\n",
       "      <td>0.110073</td>\n",
       "      <td>0.008375</td>\n",
       "      <td>0.008753</td>\n",
       "      <td>133695</td>\n",
       "      <td>2000.0</td>\n",
       "      <td>1500.0</td>\n",
       "      <td>Car</td>\n",
       "    </tr>\n",
       "    <tr>\n",
       "      <th>305568</th>\n",
       "      <td>0</td>\n",
       "      <td>0.500535</td>\n",
       "      <td>0.103547</td>\n",
       "      <td>0.002110</td>\n",
       "      <td>0.008873</td>\n",
       "      <td>133695</td>\n",
       "      <td>2000.0</td>\n",
       "      <td>1500.0</td>\n",
       "      <td>Person</td>\n",
       "    </tr>\n",
       "    <tr>\n",
       "      <th>305569</th>\n",
       "      <td>0</td>\n",
       "      <td>0.505595</td>\n",
       "      <td>0.094633</td>\n",
       "      <td>0.002715</td>\n",
       "      <td>0.009027</td>\n",
       "      <td>133695</td>\n",
       "      <td>2000.0</td>\n",
       "      <td>1500.0</td>\n",
       "      <td>Person</td>\n",
       "    </tr>\n",
       "  </tbody>\n",
       "</table>\n",
       "<p>305570 rows × 9 columns</p>\n",
       "</div>"
      ],
      "text/plain": [
       "        new_class_id       xcn       ycn        wn        hn     img   img_w  \\\n",
       "0                  0  0.494286  0.295714  0.002857  0.008571  132592  1400.0   \n",
       "1                  0  0.503929  0.407143  0.003571  0.008571  132592  1400.0   \n",
       "2                  0  0.498214  0.421905  0.002143  0.013333  132592  1400.0   \n",
       "3                  0  0.426429  0.428095  0.004286  0.010476  132592  1400.0   \n",
       "4                  2  0.262143  0.932857  0.064286  0.134286  132592  1400.0   \n",
       "...              ...       ...       ...       ...       ...     ...     ...   \n",
       "305565             1  0.369360  0.109340  0.009760  0.006533  133695  2000.0   \n",
       "305566             1  0.365080  0.114047  0.015865  0.007293  133695  2000.0   \n",
       "305567             1  0.347085  0.110073  0.008375  0.008753  133695  2000.0   \n",
       "305568             0  0.500535  0.103547  0.002110  0.008873  133695  2000.0   \n",
       "305569             0  0.505595  0.094633  0.002715  0.009027  133695  2000.0   \n",
       "\n",
       "         img_h class_name  \n",
       "0       1050.0     Person  \n",
       "1       1050.0     Person  \n",
       "2       1050.0     Person  \n",
       "3       1050.0     Person  \n",
       "4       1050.0      Truck  \n",
       "...        ...        ...  \n",
       "305565  1500.0        Car  \n",
       "305566  1500.0        Car  \n",
       "305567  1500.0        Car  \n",
       "305568  1500.0     Person  \n",
       "305569  1500.0     Person  \n",
       "\n",
       "[305570 rows x 9 columns]"
      ]
     },
     "execution_count": 6,
     "metadata": {},
     "output_type": "execute_result"
    }
   ],
   "source": [
    "df"
   ]
  },
  {
   "cell_type": "code",
   "execution_count": 7,
   "id": "60a8ab92-8bb5-4eab-9192-6b3044b1f20d",
   "metadata": {
    "pycharm": {
     "name": "#%%\n"
    }
   },
   "outputs": [
    {
     "name": "stdout",
     "output_type": "stream",
     "text": [
      "The number of objects is 305570\n",
      "The number of images is 6458\n"
     ]
    }
   ],
   "source": [
    "print(f\"The number of objects is {len(df)}\")\n",
    "print(f\"The number of images is {len(df['img'].unique())}\")"
   ]
  },
  {
   "cell_type": "code",
   "execution_count": 8,
   "id": "90d3349c-a1d1-4a84-a7ba-b5ce36f43acd",
   "metadata": {
    "pycharm": {
     "name": "#%%\n"
    }
   },
   "outputs": [],
   "source": [
    "# CATEGORIZE OBJECT SIZE\n",
    "df['bbox_area'] = (df['wn']*df['img_w'])*(df['hn']*df['img_h'])\n",
    "bin_edges = [0, 16**2, 32**2, 96**2, float('inf')]\n",
    "bin_labels = ['Tiny', 'Small', 'Medium', 'Large']\n",
    "df['bbox_size_category'] = pd.cut(df['bbox_area'], bins=bin_edges, labels=bin_labels, right=False)"
   ]
  },
  {
   "cell_type": "code",
   "execution_count": 9,
   "id": "9171822b-e05d-4491-b65d-1a45ea0fe518",
   "metadata": {
    "pycharm": {
     "name": "#%%\n"
    }
   },
   "outputs": [
    {
     "data": {
      "text/html": [
       "<div>\n",
       "<style scoped>\n",
       "    .dataframe tbody tr th:only-of-type {\n",
       "        vertical-align: middle;\n",
       "    }\n",
       "\n",
       "    .dataframe tbody tr th {\n",
       "        vertical-align: top;\n",
       "    }\n",
       "\n",
       "    .dataframe thead th {\n",
       "        text-align: right;\n",
       "    }\n",
       "</style>\n",
       "<table border=\"1\" class=\"dataframe\">\n",
       "  <thead>\n",
       "    <tr style=\"text-align: right;\">\n",
       "      <th></th>\n",
       "      <th>new_class_id</th>\n",
       "      <th>xcn</th>\n",
       "      <th>ycn</th>\n",
       "      <th>wn</th>\n",
       "      <th>hn</th>\n",
       "      <th>img</th>\n",
       "      <th>img_w</th>\n",
       "      <th>img_h</th>\n",
       "      <th>class_name</th>\n",
       "      <th>bbox_area</th>\n",
       "      <th>bbox_size_category</th>\n",
       "    </tr>\n",
       "  </thead>\n",
       "  <tbody>\n",
       "    <tr>\n",
       "      <th>0</th>\n",
       "      <td>0</td>\n",
       "      <td>0.494286</td>\n",
       "      <td>0.295714</td>\n",
       "      <td>0.002857</td>\n",
       "      <td>0.008571</td>\n",
       "      <td>132592</td>\n",
       "      <td>1400.0</td>\n",
       "      <td>1050.0</td>\n",
       "      <td>Person</td>\n",
       "      <td>36.000000</td>\n",
       "      <td>Tiny</td>\n",
       "    </tr>\n",
       "    <tr>\n",
       "      <th>1</th>\n",
       "      <td>0</td>\n",
       "      <td>0.503929</td>\n",
       "      <td>0.407143</td>\n",
       "      <td>0.003571</td>\n",
       "      <td>0.008571</td>\n",
       "      <td>132592</td>\n",
       "      <td>1400.0</td>\n",
       "      <td>1050.0</td>\n",
       "      <td>Person</td>\n",
       "      <td>45.000000</td>\n",
       "      <td>Tiny</td>\n",
       "    </tr>\n",
       "    <tr>\n",
       "      <th>2</th>\n",
       "      <td>0</td>\n",
       "      <td>0.498214</td>\n",
       "      <td>0.421905</td>\n",
       "      <td>0.002143</td>\n",
       "      <td>0.013333</td>\n",
       "      <td>132592</td>\n",
       "      <td>1400.0</td>\n",
       "      <td>1050.0</td>\n",
       "      <td>Person</td>\n",
       "      <td>42.000000</td>\n",
       "      <td>Tiny</td>\n",
       "    </tr>\n",
       "    <tr>\n",
       "      <th>3</th>\n",
       "      <td>0</td>\n",
       "      <td>0.426429</td>\n",
       "      <td>0.428095</td>\n",
       "      <td>0.004286</td>\n",
       "      <td>0.010476</td>\n",
       "      <td>132592</td>\n",
       "      <td>1400.0</td>\n",
       "      <td>1050.0</td>\n",
       "      <td>Person</td>\n",
       "      <td>66.000000</td>\n",
       "      <td>Tiny</td>\n",
       "    </tr>\n",
       "    <tr>\n",
       "      <th>4</th>\n",
       "      <td>2</td>\n",
       "      <td>0.262143</td>\n",
       "      <td>0.932857</td>\n",
       "      <td>0.064286</td>\n",
       "      <td>0.134286</td>\n",
       "      <td>132592</td>\n",
       "      <td>1400.0</td>\n",
       "      <td>1050.0</td>\n",
       "      <td>Truck</td>\n",
       "      <td>12690.000977</td>\n",
       "      <td>Large</td>\n",
       "    </tr>\n",
       "    <tr>\n",
       "      <th>...</th>\n",
       "      <td>...</td>\n",
       "      <td>...</td>\n",
       "      <td>...</td>\n",
       "      <td>...</td>\n",
       "      <td>...</td>\n",
       "      <td>...</td>\n",
       "      <td>...</td>\n",
       "      <td>...</td>\n",
       "      <td>...</td>\n",
       "      <td>...</td>\n",
       "      <td>...</td>\n",
       "    </tr>\n",
       "    <tr>\n",
       "      <th>305565</th>\n",
       "      <td>1</td>\n",
       "      <td>0.369360</td>\n",
       "      <td>0.109340</td>\n",
       "      <td>0.009760</td>\n",
       "      <td>0.006533</td>\n",
       "      <td>133695</td>\n",
       "      <td>2000.0</td>\n",
       "      <td>1500.0</td>\n",
       "      <td>Car</td>\n",
       "      <td>191.296005</td>\n",
       "      <td>Tiny</td>\n",
       "    </tr>\n",
       "    <tr>\n",
       "      <th>305566</th>\n",
       "      <td>1</td>\n",
       "      <td>0.365080</td>\n",
       "      <td>0.114047</td>\n",
       "      <td>0.015865</td>\n",
       "      <td>0.007293</td>\n",
       "      <td>133695</td>\n",
       "      <td>2000.0</td>\n",
       "      <td>1500.0</td>\n",
       "      <td>Car</td>\n",
       "      <td>347.126190</td>\n",
       "      <td>Small</td>\n",
       "    </tr>\n",
       "    <tr>\n",
       "      <th>305567</th>\n",
       "      <td>1</td>\n",
       "      <td>0.347085</td>\n",
       "      <td>0.110073</td>\n",
       "      <td>0.008375</td>\n",
       "      <td>0.008753</td>\n",
       "      <td>133695</td>\n",
       "      <td>2000.0</td>\n",
       "      <td>1500.0</td>\n",
       "      <td>Car</td>\n",
       "      <td>219.927505</td>\n",
       "      <td>Tiny</td>\n",
       "    </tr>\n",
       "    <tr>\n",
       "      <th>305568</th>\n",
       "      <td>0</td>\n",
       "      <td>0.500535</td>\n",
       "      <td>0.103547</td>\n",
       "      <td>0.002110</td>\n",
       "      <td>0.008873</td>\n",
       "      <td>133695</td>\n",
       "      <td>2000.0</td>\n",
       "      <td>1500.0</td>\n",
       "      <td>Person</td>\n",
       "      <td>56.168194</td>\n",
       "      <td>Tiny</td>\n",
       "    </tr>\n",
       "    <tr>\n",
       "      <th>305569</th>\n",
       "      <td>0</td>\n",
       "      <td>0.505595</td>\n",
       "      <td>0.094633</td>\n",
       "      <td>0.002715</td>\n",
       "      <td>0.009027</td>\n",
       "      <td>133695</td>\n",
       "      <td>2000.0</td>\n",
       "      <td>1500.0</td>\n",
       "      <td>Person</td>\n",
       "      <td>73.522202</td>\n",
       "      <td>Tiny</td>\n",
       "    </tr>\n",
       "  </tbody>\n",
       "</table>\n",
       "<p>305570 rows × 11 columns</p>\n",
       "</div>"
      ],
      "text/plain": [
       "        new_class_id       xcn       ycn        wn        hn     img   img_w  \\\n",
       "0                  0  0.494286  0.295714  0.002857  0.008571  132592  1400.0   \n",
       "1                  0  0.503929  0.407143  0.003571  0.008571  132592  1400.0   \n",
       "2                  0  0.498214  0.421905  0.002143  0.013333  132592  1400.0   \n",
       "3                  0  0.426429  0.428095  0.004286  0.010476  132592  1400.0   \n",
       "4                  2  0.262143  0.932857  0.064286  0.134286  132592  1400.0   \n",
       "...              ...       ...       ...       ...       ...     ...     ...   \n",
       "305565             1  0.369360  0.109340  0.009760  0.006533  133695  2000.0   \n",
       "305566             1  0.365080  0.114047  0.015865  0.007293  133695  2000.0   \n",
       "305567             1  0.347085  0.110073  0.008375  0.008753  133695  2000.0   \n",
       "305568             0  0.500535  0.103547  0.002110  0.008873  133695  2000.0   \n",
       "305569             0  0.505595  0.094633  0.002715  0.009027  133695  2000.0   \n",
       "\n",
       "         img_h class_name     bbox_area bbox_size_category  \n",
       "0       1050.0     Person     36.000000               Tiny  \n",
       "1       1050.0     Person     45.000000               Tiny  \n",
       "2       1050.0     Person     42.000000               Tiny  \n",
       "3       1050.0     Person     66.000000               Tiny  \n",
       "4       1050.0      Truck  12690.000977              Large  \n",
       "...        ...        ...           ...                ...  \n",
       "305565  1500.0        Car    191.296005               Tiny  \n",
       "305566  1500.0        Car    347.126190              Small  \n",
       "305567  1500.0        Car    219.927505               Tiny  \n",
       "305568  1500.0     Person     56.168194               Tiny  \n",
       "305569  1500.0     Person     73.522202               Tiny  \n",
       "\n",
       "[305570 rows x 11 columns]"
      ]
     },
     "execution_count": 9,
     "metadata": {},
     "output_type": "execute_result"
    }
   ],
   "source": [
    "df"
   ]
  },
  {
   "cell_type": "code",
   "execution_count": 10,
   "id": "ce9b21c7-8e15-4ecd-afa9-1703381c74b9",
   "metadata": {
    "pycharm": {
     "name": "#%%\n"
    }
   },
   "outputs": [
    {
     "data": {
      "text/plain": [
       "bbox_size_category\n",
       "Medium    103667\n",
       "Small     100883\n",
       "Tiny       82565\n",
       "Large      18455\n",
       "Name: count, dtype: int64"
      ]
     },
     "execution_count": 10,
     "metadata": {},
     "output_type": "execute_result"
    }
   ],
   "source": [
    "df['bbox_size_category'].value_counts()"
   ]
  },
  {
   "cell_type": "code",
   "execution_count": 17,
   "id": "bbfc7ba6-ebf0-4b88-8c83-4a242fc50b8d",
   "metadata": {
    "pycharm": {
     "name": "#%%\n"
    }
   },
   "outputs": [],
   "source": [
    "# PERFORM PLOTS\n",
    "plt.rcParams.update({'font.size': 10})"
   ]
  },
  {
   "cell_type": "code",
   "execution_count": 19,
   "id": "6c4f417d-c311-498c-97cd-1410731ffa32",
   "metadata": {
    "pycharm": {
     "name": "#%%\n"
    }
   },
   "outputs": [
    {
     "data": {
      "image/png": "[encoded data removed]",
      "text/plain": [
       "<Figure size 300x300 with 1 Axes>"
      ]
     },
     "metadata": {},
     "output_type": "display_data"
    }
   ],
   "source": [
    "fig = plt.figure(figsize=(3, 3))\n",
    "ax = df['class_name'].value_counts().plot(kind='bar', width=0.75, zorder=3, label='Training')\n",
    "# Set x-axis label\n",
    "ax.set_xlabel(\"Classes\", weight='bold', size=12)\n",
    "# Set y-axis label\n",
    "ax.set_ylabel(\"Counts\", weight='bold', size=12)\n",
    "ax.ticklabel_format(axis='y', style='sci', scilimits=(-3,3))\n",
    "ax.set_xticklabels(ax.get_xticklabels(), rotation=0, size=8)\n",
    "ax.grid()\n",
    "#plt.legend()\n",
    "None\n",
    "fig.savefig(save_dir + '/train_class_counts.png', bbox_inches = 'tight')"
   ]
  },
  {
   "cell_type": "code",
   "execution_count": 20,
   "id": "8adf3001-1da4-4692-98de-b025b29af47f",
   "metadata": {
    "pycharm": {
     "name": "#%%\n"
    }
   },
   "outputs": [
    {
     "data": {
      "image/png": "[encoded data removed]",
      "text/plain": [
       "<Figure size 3000x300 with 1 Axes>"
      ]
     },
     "metadata": {},
     "output_type": "display_data"
    }
   ],
   "source": [
    "fig = plt.figure(figsize=(30, 3))\n",
    "ax = df.groupby(by=['img'])['img'].count().value_counts().sort_index().plot(kind='bar', zorder=3, label='Training')\n",
    "# Set x-axis label\n",
    "ax.set_xlabel(\"Instances per image\", weight='bold', size=12)\n",
    "# Set y-axis label\n",
    "ax.set_ylabel(\"Counts\", weight='bold', size=12)\n",
    "ax.ticklabel_format(axis='y', style='sci', scilimits=(-3,3))\n",
    "ax.set_xticklabels(ax.get_xticklabels(), rotation=0, size=7)\n",
    "ax.grid()"
   ]
  },
  {
   "cell_type": "code",
   "execution_count": 26,
   "id": "c681fd9f-6a86-473b-b9ac-96629109fdbd",
   "metadata": {
    "pycharm": {
     "name": "#%%\n"
    }
   },
   "outputs": [
    {
     "data": {
      "image/png": "[encoded data removed]",
      "text/plain": [
       "<Figure size 300x300 with 1 Axes>"
      ]
     },
     "metadata": {},
     "output_type": "display_data"
    }
   ],
   "source": [
    "#bins = [1,4,7,10,16,28] #TJU\n",
    "#bins = [1,4,7,10,16,47] #DUT\n",
    "#bins = [1,4,7,10,16,68] #Client\n",
    "#bins = [1,4,7,10,16,31,221] #RTTS\n",
    "\n",
    "data = df['img'].value_counts()\n",
    "bins = [1,11,26,51,101,data.max()+1]\n",
    "\n",
    "hist, bin_edges = np.histogram(data,bins) # make the histogram\n",
    "\n",
    "fig,ax = plt.subplots(figsize=(3, 3))\n",
    "\n",
    "# Plot the histogram heights against integers on the x axis\n",
    "ax.bar(range(len(hist)),hist,width=0.9) \n",
    "\n",
    "# Set the ticks to the middle of the bars\n",
    "ax.set_xticks([i for i,j in enumerate(hist)])\n",
    "# Set the xticklabels to a string that tells us what the bin edges were\n",
    "ax.set_xticklabels(['{}-{}'.format(bins[i],bins[i+1]-1) for i,j in enumerate(hist)], size=7)\n",
    "\n",
    "ax.set_xlabel(\"Instances per image\", weight='bold', size=12)\n",
    "ax.set_ylabel(\"Counts\", weight='bold', size=12)\n",
    "ax.ticklabel_format(axis='y', style='sci', scilimits=(-3,3))\n",
    "plt.rcParams['axes.axisbelow'] = True\n",
    "ax.grid()\n",
    "None\n",
    "fig.savefig(save_dir + '/train_instances_counts.png', bbox_inches = 'tight')"
   ]
  },
  {
   "cell_type": "code",
   "execution_count": 22,
   "id": "2d2d1820-c58e-461d-a4e5-6bc51bfd7c75",
   "metadata": {
    "pycharm": {
     "name": "#%%\n"
    }
   },
   "outputs": [
    {
     "data": {
      "image/png": "[encoded data removed]",
      "text/plain": [
       "<Figure size 300x300 with 1 Axes>"
      ]
     },
     "metadata": {},
     "output_type": "display_data"
    }
   ],
   "source": [
    "fig = plt.figure(figsize=(3, 3))\n",
    "ax = df['bbox_size_category'].value_counts().sort_index().plot(kind='bar', width=0.7, zorder=3, label='Training')\n",
    "# Set x-axis label\n",
    "ax.set_xlabel(\"Object category size\", weight='bold', size=12)\n",
    "# Set y-axis label\n",
    "ax.set_ylabel(\"Counts\", weight='bold', size=12)\n",
    "ax.ticklabel_format(axis='y', style='sci', scilimits=(-3,3))\n",
    "ax.set_xticklabels(ax.get_xticklabels(), rotation=0)\n",
    "ax.grid()\n",
    "None\n",
    "fig.savefig(save_dir+'/train_objsz_counts.png', bbox_inches = 'tight')"
   ]
  },
  {
   "cell_type": "code",
   "execution_count": null,
   "id": "aa1adcbe-d5a6-4beb-93cc-1ea1859a51b1",
   "metadata": {
    "pycharm": {
     "name": "#%%\n"
    }
   },
   "outputs": [],
   "source": []
  }
 ],
 "metadata": {
  "kernelspec": {
   "display_name": "Python 3 (ipykernel)",
   "language": "python",
   "name": "python3"
  },
  "language_info": {
   "codemirror_mode": {
    "name": "ipython",
    "version": 3
   },
   "file_extension": ".py",
   "mimetype": "text/x-python",
   "name": "python",
   "nbconvert_exporter": "python",
   "pygments_lexer": "ipython3",
   "version": "3.11.4"
  }
 },
 "nbformat": 4,
 "nbformat_minor": 5
}