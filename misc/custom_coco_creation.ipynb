{
 "cells": [
  {
   "cell_type": "code",
   "execution_count": 1,
   "metadata": {
    "ExecuteTime": {
     "end_time": "2023-08-24T13:39:10.396039Z",
     "start_time": "2023-08-24T13:39:10.392027Z"
    },
    "pycharm": {
     "name": "#%%\n"
    }
   },
   "outputs": [],
   "source": [
    "import os\n",
    "import shutil"
   ]
  },
  {
   "cell_type": "code",
   "execution_count": 2,
   "metadata": {
    "pycharm": {
     "name": "#%%\n"
    }
   },
   "outputs": [],
   "source": [
    "# check which env is managing the notebook: remote or local?\n",
    "#import torch\n",
    "#torch.cuda.device_count()"
   ]
  },
  {
   "cell_type": "markdown",
   "metadata": {
    "pycharm": {
     "name": "#%% md\n"
    }
   },
   "source": [
    "## COCO dataset"
   ]
  },
  {
   "cell_type": "markdown",
   "metadata": {
    "pycharm": {
     "name": "#%% md\n"
    }
   },
   "source": [
    "### Creating a new empty dataset"
   ]
  },
  {
   "cell_type": "code",
   "execution_count": 2,
   "metadata": {
    "pycharm": {
     "name": "#%%\n"
    }
   },
   "outputs": [],
   "source": [
    "#root_path = '/Users/inaki-eab/Desktop/datasets'\n",
    "root_path = '/data-fast/127-data2/ierregue/datasets'\n",
    "\n",
    "dataset_name = 'custom_coco'\n",
    "\n",
    "new_dataset_root = os.path.join(root_path, dataset_name)\n",
    "\n",
    "# Create folder structure\n",
    "if not os.path.isdir(new_dataset_root):\n",
    "    os.makedirs(new_dataset_root)\n",
    "    os.makedirs(os.path.join(new_dataset_root, 'labels','train'))\n",
    "    os.makedirs(os.path.join(new_dataset_root, 'labels','test'))\n",
    "    os.makedirs(os.path.join(new_dataset_root, 'labels','val'))\n",
    "    os.makedirs(os.path.join(new_dataset_root, 'images','train'))\n",
    "    os.makedirs(os.path.join(new_dataset_root, 'images','test'))\n",
    "    os.makedirs(os.path.join(new_dataset_root, 'images','val'))"
   ]
  },
  {
   "cell_type": "markdown",
   "metadata": {
    "pycharm": {
     "name": "#%% md\n"
    }
   },
   "source": [
    "### Selecting desired images"
   ]
  },
  {
   "cell_type": "code",
   "execution_count": 3,
   "metadata": {
    "pycharm": {
     "name": "#%%\n"
    }
   },
   "outputs": [],
   "source": [
    "wanted_indices = [\n",
    "    0, #person\n",
    "    2, #car\n",
    "    4, #airplane\n",
    "    5, #bus\n",
    "    7, #truck\n",
    "    8, #boat\n",
    "]"
   ]
  },
  {
   "cell_type": "code",
   "execution_count": 4,
   "metadata": {
    "pycharm": {
     "name": "#%%\n"
    }
   },
   "outputs": [],
   "source": [
    "def clean_map_file(file):\n",
    "# Mapping should be performed only once\n",
    "    \n",
    "    class_index_map = {\n",
    "        0:0, # person/personnel\n",
    "        2:1, # car\n",
    "        7:2, # truck\n",
    "        5:2, # bus to truck\n",
    "        4:4, # airplane/aircraft\n",
    "        8:5 #boat/ship\n",
    "    }\n",
    "    \n",
    "    with open(file, 'r+') as fp:\n",
    "        # read an store all lines into list\n",
    "        lines = fp.readlines()\n",
    "        # move file pointer to the beginning of a file\n",
    "        fp.seek(0)\n",
    "        # truncate the file\n",
    "        fp.truncate()\n",
    "    \n",
    "        # start writing lines\n",
    "        # iterate line and line number\n",
    "        for number, line in enumerate(lines):\n",
    "            # Only write rows of interested instances\n",
    "            old_class_id = int(line.split()[0])\n",
    "            if old_class_id in wanted_indices:\n",
    "                # map old class indices to new ones\n",
    "                new_class_id = class_index_map[old_class_id]\n",
    "                new_line_splitted = line.split()\n",
    "                new_line_splitted[0] = str(new_class_id)\n",
    "                new_line = ' '.join(new_line_splitted)\n",
    "                fp.write(new_line+'\\n')"
   ]
  },
  {
   "cell_type": "code",
   "execution_count": 5,
   "metadata": {
    "pycharm": {
     "name": "#%%\n"
    }
   },
   "outputs": [],
   "source": [
    "def move_desired_files(\n",
    "    original_dataset_root, #../datasets/old_dataset\n",
    "    target_dataset_root, # ../datasets/new_dataset\n",
    "    original_dataset_slice, # liketrain,test,val\n",
    "    target_dataset_slice, # train,test,val\n",
    "    wanted_indices # list of desired indices\n",
    "):\n",
    "    # Empty list to store the selected files containing at list one of the desired objects\n",
    "    selected_images = []\n",
    "    \n",
    "    \n",
    "    original_labels_dir = os.path.join(original_dataset_root, 'labels', original_dataset_slice)\n",
    "    original_images_dir = os.path.join(original_dataset_root, 'images', original_dataset_slice)\n",
    "\n",
    "    # Iterate over all files in the original dataset labels folder\n",
    "    for filename in os.listdir(original_labels_dir):\n",
    "        if filename.endswith('.txt'):\n",
    "            # Read file\n",
    "            with open(os.path.join(original_labels_dir, filename), \"r\") as f:\n",
    "                # Empty list to store objects/instances present in image\n",
    "                indices_in_file = []\n",
    "                # Iterate over instances in image and get present class ids\n",
    "                for line in f:\n",
    "                    indices_in_file.append(int(line.split()[0]))\n",
    "                # If any present class ids is a class id of interest, get its filename\n",
    "                if any((True for x in indices_in_file if x in wanted_indices)):\n",
    "                    # Get only name, no '.txt' extension\n",
    "                    selected_images.append(os.path.splitext(filename)[0])\n",
    "                    # Copy *.txt folder\n",
    "                    shutil.copy(os.path.join(original_labels_dir, filename), os.path.join(target_dataset_root, 'labels', target_dataset_slice))\n",
    "                    # Copy *jpg image\n",
    "                    img_path = os.path.join(original_images_dir, os.path.splitext(filename)[0]+'.jpg')\n",
    "                    shutil.copy(img_path, os.path.join(target_dataset_root, 'images', target_dataset_slice))\n",
    "\n",
    "                    # Map old index to new one and delete unwanted instances\n",
    "                    clean_map_file(os.path.join(target_dataset_root, 'labels', target_dataset_slice, filename))\n",
    "                    \n",
    "    return selected_images"
   ]
  },
  {
   "cell_type": "code",
   "execution_count": 6,
   "metadata": {
    "pycharm": {
     "name": "#%%\n"
    }
   },
   "outputs": [],
   "source": [
    "original_dataset_path = 'coco'\n",
    "original_dataset_root = os.path.join(root_path, original_dataset_path)"
   ]
  },
  {
   "cell_type": "code",
   "execution_count": 7,
   "metadata": {
    "pycharm": {
     "name": "#%%\n"
    }
   },
   "outputs": [],
   "source": [
    "val_indices = move_desired_files(original_dataset_root, \n",
    "                                   new_dataset_root, \n",
    "                                   'val2017', \n",
    "                                   'val', \n",
    "                                   wanted_indices)"
   ]
  },
  {
   "cell_type": "code",
   "execution_count": 8,
   "metadata": {
    "pycharm": {
     "name": "#%%\n"
    }
   },
   "outputs": [],
   "source": [
    "train_indices = move_desired_files(original_dataset_root, \n",
    "                                   new_dataset_root, \n",
    "                                   'train2017', \n",
    "                                   'train', \n",
    "                                   wanted_indices)"
   ]
  },
  {
   "cell_type": "markdown",
   "metadata": {
    "pycharm": {
     "name": "#%% md\n"
    }
   },
   "source": [
    "## Rename files"
   ]
  },
  {
   "cell_type": "code",
   "execution_count": 9,
   "metadata": {
    "pycharm": {
     "name": "#%%\n"
    }
   },
   "outputs": [],
   "source": [
    "old_len_img_train = len(os.listdir(os.path.join(new_dataset_root,'images','train')))\n",
    "old_len_img_val = len(os.listdir(os.path.join(new_dataset_root,'images','val')))\n",
    "old_len_txt_val = len(os.listdir(os.path.join(new_dataset_root,'labels','val')))\n",
    "old_len_txt_train = len(os.listdir(os.path.join(new_dataset_root,'labels','train')))"
   ]
  },
  {
   "cell_type": "code",
   "execution_count": 10,
   "metadata": {
    "pycharm": {
     "name": "#%%\n"
    }
   },
   "outputs": [],
   "source": [
    "import re\n",
    "\n",
    "def rename_dir(dir, shift=1):\n",
    "    files = [f for f in os.listdir(dir)]\n",
    "    files.sort(key=lambda x: int(re.match(r'\\d+', x).group()))\n",
    "    \n",
    "    for idx, old_filename in enumerate(files):\n",
    "        extension = os.path.splitext(old_filename)[1]\n",
    "        new_filename = f'{idx+shift}{extension}'\n",
    "        old_path = os.path.join(dir, old_filename)\n",
    "        new_path = os.path.join(dir, new_filename)\n",
    "        os.rename(old_path, new_path)"
   ]
  },
  {
   "cell_type": "code",
   "execution_count": 11,
   "metadata": {
    "pycharm": {
     "name": "#%%\n"
    }
   },
   "outputs": [],
   "source": [
    "rename_dir(os.path.join(new_dataset_root,'images','train'), shift=1+50495)\n",
    "rename_dir(os.path.join(new_dataset_root,'images','val'), shift=1+7595)\n",
    "rename_dir(os.path.join(new_dataset_root,'labels','train'), shift=1+50495)\n",
    "rename_dir(os.path.join(new_dataset_root,'labels','val'), shift=1+7595)"
   ]
  },
  {
   "cell_type": "code",
   "execution_count": 12,
   "metadata": {
    "pycharm": {
     "name": "#%%\n"
    }
   },
   "outputs": [],
   "source": [
    "# CHECK THAT WE HAVE THE SAME NUMBER OF FILES\n",
    "assert old_len_img_train == len(os.listdir(os.path.join(new_dataset_root,'images','train')))\n",
    "assert old_len_img_val == len(os.listdir(os.path.join(new_dataset_root,'images','val')))\n",
    "assert old_len_txt_val == len(os.listdir(os.path.join(new_dataset_root,'labels','val')))\n",
    "assert old_len_txt_train == len(os.listdir(os.path.join(new_dataset_root,'labels','train')))"
   ]
  },
  {
   "cell_type": "markdown",
   "metadata": {
    "pycharm": {
     "name": "#%% md\n"
    }
   },
   "source": [
    "### Inspecting the new dataset"
   ]
  },
  {
   "cell_type": "code",
   "execution_count": 13,
   "metadata": {
    "pycharm": {
     "name": "#%%\n"
    }
   },
   "outputs": [],
   "source": [
    "import pandas as pd\n",
    "import imagesize\n",
    "import matplotlib.pyplot as plt"
   ]
  },
  {
   "cell_type": "code",
   "execution_count": 14,
   "metadata": {
    "pycharm": {
     "name": "#%%\n"
    }
   },
   "outputs": [],
   "source": [
    "class_names = {\n",
    "    0:'person',\n",
    "    1:'car', \n",
    "    2:'truck', \n",
    "    3:'uav', \n",
    "    4:'airplane', \n",
    "    5:'ship'\n",
    "}"
   ]
  },
  {
   "cell_type": "code",
   "execution_count": 15,
   "metadata": {
    "pycharm": {
     "name": "#%%\n"
    }
   },
   "outputs": [],
   "source": [
    "def inspect_dataset(\n",
    "    target_dataset_root, # ../datasets/new_dataset\n",
    "    target_dataset_slice, # train,test,val\n",
    "):\n",
    "    info = [] #list of lists, each list corresponds to an instance [cls_id, x, y, w, h, img]\n",
    "    \n",
    "    \n",
    "    target_labels_dir = os.path.join(target_dataset_root, 'labels', target_dataset_slice)\n",
    "\n",
    "    # Iterate over all files in the original dataset labels folder\n",
    "    for filename in os.listdir(target_labels_dir):\n",
    "        if filename.endswith('.txt'):\n",
    "            # Read file\n",
    "            with open(os.path.join(target_labels_dir, filename), \"r\") as f:\n",
    "                # Iterate over instances in image and get present class ids\n",
    "                for line in f:\n",
    "                    line_data = []\n",
    "                    # label data\n",
    "                    line_data = line.split()\n",
    "                    # Image name\n",
    "                    line_data.append(os.path.splitext(filename)[0])\n",
    "                    # Image size: could be done at image level and not row level\n",
    "                    img_path = os.path.join(target_dataset_root,'images',target_dataset_slice, os.path.splitext(filename)[0]+'.jpg')\n",
    "                    img_w, img_h = imagesize.get(img_path)\n",
    "                    line_data.extend([img_w, img_h])\n",
    "                    # Append line data to info\n",
    "                    info.append(line_data)\n",
    "\n",
    "    df = pd.DataFrame(info, columns=['new_class_id', 'xcn', 'ycn', 'wn', 'hn', 'img', 'img_w', 'img_h'])\n",
    "    df = df.astype('float32').astype({'new_class_id':'int32', 'img':'int32'})\n",
    "    df['class_name'] = df['new_class_id'].map(class_names)\n",
    "    return df"
   ]
  },
  {
   "cell_type": "code",
   "execution_count": 16,
   "metadata": {
    "pycharm": {
     "name": "#%%\n"
    }
   },
   "outputs": [
    {
     "data": {
      "text/html": [
       "<div>\n",
       "<style scoped>\n",
       "    .dataframe tbody tr th:only-of-type {\n",
       "        vertical-align: middle;\n",
       "    }\n",
       "\n",
       "    .dataframe tbody tr th {\n",
       "        vertical-align: top;\n",
       "    }\n",
       "\n",
       "    .dataframe thead th {\n",
       "        text-align: right;\n",
       "    }\n",
       "</style>\n",
       "<table border=\"1\" class=\"dataframe\">\n",
       "  <thead>\n",
       "    <tr style=\"text-align: right;\">\n",
       "      <th></th>\n",
       "      <th>new_class_id</th>\n",
       "      <th>xcn</th>\n",
       "      <th>ycn</th>\n",
       "      <th>wn</th>\n",
       "      <th>hn</th>\n",
       "      <th>img</th>\n",
       "      <th>img_w</th>\n",
       "      <th>img_h</th>\n",
       "      <th>class_name</th>\n",
       "    </tr>\n",
       "  </thead>\n",
       "  <tbody>\n",
       "    <tr>\n",
       "      <th>0</th>\n",
       "      <td>1</td>\n",
       "      <td>0.919305</td>\n",
       "      <td>0.511549</td>\n",
       "      <td>0.141984</td>\n",
       "      <td>0.129488</td>\n",
       "      <td>111934</td>\n",
       "      <td>640.0</td>\n",
       "      <td>410.0</td>\n",
       "      <td>car</td>\n",
       "    </tr>\n",
       "    <tr>\n",
       "      <th>1</th>\n",
       "      <td>1</td>\n",
       "      <td>0.166086</td>\n",
       "      <td>0.418244</td>\n",
       "      <td>0.037641</td>\n",
       "      <td>0.043854</td>\n",
       "      <td>111934</td>\n",
       "      <td>640.0</td>\n",
       "      <td>410.0</td>\n",
       "      <td>car</td>\n",
       "    </tr>\n",
       "    <tr>\n",
       "      <th>2</th>\n",
       "      <td>1</td>\n",
       "      <td>0.291609</td>\n",
       "      <td>0.419244</td>\n",
       "      <td>0.059531</td>\n",
       "      <td>0.037415</td>\n",
       "      <td>111934</td>\n",
       "      <td>640.0</td>\n",
       "      <td>410.0</td>\n",
       "      <td>car</td>\n",
       "    </tr>\n",
       "    <tr>\n",
       "      <th>3</th>\n",
       "      <td>1</td>\n",
       "      <td>0.340023</td>\n",
       "      <td>0.430378</td>\n",
       "      <td>0.030484</td>\n",
       "      <td>0.042073</td>\n",
       "      <td>111934</td>\n",
       "      <td>640.0</td>\n",
       "      <td>410.0</td>\n",
       "      <td>car</td>\n",
       "    </tr>\n",
       "    <tr>\n",
       "      <th>4</th>\n",
       "      <td>0</td>\n",
       "      <td>0.483719</td>\n",
       "      <td>0.693427</td>\n",
       "      <td>0.203750</td>\n",
       "      <td>0.479976</td>\n",
       "      <td>111934</td>\n",
       "      <td>640.0</td>\n",
       "      <td>410.0</td>\n",
       "      <td>person</td>\n",
       "    </tr>\n",
       "    <tr>\n",
       "      <th>...</th>\n",
       "      <td>...</td>\n",
       "      <td>...</td>\n",
       "      <td>...</td>\n",
       "      <td>...</td>\n",
       "      <td>...</td>\n",
       "      <td>...</td>\n",
       "      <td>...</td>\n",
       "      <td>...</td>\n",
       "      <td>...</td>\n",
       "    </tr>\n",
       "    <tr>\n",
       "      <th>332516</th>\n",
       "      <td>1</td>\n",
       "      <td>0.475133</td>\n",
       "      <td>0.447681</td>\n",
       "      <td>0.026734</td>\n",
       "      <td>0.024122</td>\n",
       "      <td>81579</td>\n",
       "      <td>640.0</td>\n",
       "      <td>427.0</td>\n",
       "      <td>car</td>\n",
       "    </tr>\n",
       "    <tr>\n",
       "      <th>332517</th>\n",
       "      <td>1</td>\n",
       "      <td>0.568031</td>\n",
       "      <td>0.444578</td>\n",
       "      <td>0.032156</td>\n",
       "      <td>0.023255</td>\n",
       "      <td>81579</td>\n",
       "      <td>640.0</td>\n",
       "      <td>427.0</td>\n",
       "      <td>car</td>\n",
       "    </tr>\n",
       "    <tr>\n",
       "      <th>332518</th>\n",
       "      <td>1</td>\n",
       "      <td>0.741375</td>\n",
       "      <td>0.439567</td>\n",
       "      <td>0.024219</td>\n",
       "      <td>0.015902</td>\n",
       "      <td>81579</td>\n",
       "      <td>640.0</td>\n",
       "      <td>427.0</td>\n",
       "      <td>car</td>\n",
       "    </tr>\n",
       "    <tr>\n",
       "      <th>332519</th>\n",
       "      <td>2</td>\n",
       "      <td>0.650805</td>\n",
       "      <td>0.442295</td>\n",
       "      <td>0.035828</td>\n",
       "      <td>0.023607</td>\n",
       "      <td>81579</td>\n",
       "      <td>640.0</td>\n",
       "      <td>427.0</td>\n",
       "      <td>truck</td>\n",
       "    </tr>\n",
       "    <tr>\n",
       "      <th>332520</th>\n",
       "      <td>2</td>\n",
       "      <td>0.478500</td>\n",
       "      <td>0.448244</td>\n",
       "      <td>0.031937</td>\n",
       "      <td>0.015972</td>\n",
       "      <td>81579</td>\n",
       "      <td>640.0</td>\n",
       "      <td>427.0</td>\n",
       "      <td>truck</td>\n",
       "    </tr>\n",
       "  </tbody>\n",
       "</table>\n",
       "<p>332521 rows × 9 columns</p>\n",
       "</div>"
      ],
      "text/plain": [
       "        new_class_id       xcn       ycn        wn        hn     img  img_w  \\\n",
       "0                  1  0.919305  0.511549  0.141984  0.129488  111934  640.0   \n",
       "1                  1  0.166086  0.418244  0.037641  0.043854  111934  640.0   \n",
       "2                  1  0.291609  0.419244  0.059531  0.037415  111934  640.0   \n",
       "3                  1  0.340023  0.430378  0.030484  0.042073  111934  640.0   \n",
       "4                  0  0.483719  0.693427  0.203750  0.479976  111934  640.0   \n",
       "...              ...       ...       ...       ...       ...     ...    ...   \n",
       "332516             1  0.475133  0.447681  0.026734  0.024122   81579  640.0   \n",
       "332517             1  0.568031  0.444578  0.032156  0.023255   81579  640.0   \n",
       "332518             1  0.741375  0.439567  0.024219  0.015902   81579  640.0   \n",
       "332519             2  0.650805  0.442295  0.035828  0.023607   81579  640.0   \n",
       "332520             2  0.478500  0.448244  0.031937  0.015972   81579  640.0   \n",
       "\n",
       "        img_h class_name  \n",
       "0       410.0        car  \n",
       "1       410.0        car  \n",
       "2       410.0        car  \n",
       "3       410.0        car  \n",
       "4       410.0     person  \n",
       "...       ...        ...  \n",
       "332516  427.0        car  \n",
       "332517  427.0        car  \n",
       "332518  427.0        car  \n",
       "332519  427.0      truck  \n",
       "332520  427.0      truck  \n",
       "\n",
       "[332521 rows x 9 columns]"
      ]
     },
     "execution_count": 16,
     "metadata": {},
     "output_type": "execute_result"
    }
   ],
   "source": [
    "df = inspect_dataset(new_dataset_root, 'train')\n",
    "df"
   ]
  },
  {
   "cell_type": "code",
   "execution_count": 17,
   "metadata": {
    "pycharm": {
     "name": "#%%\n"
    }
   },
   "outputs": [
    {
     "name": "stdout",
     "output_type": "stream",
     "text": [
      "The number of objects is 332521\n",
      "The number of images is 71667\n"
     ]
    }
   ],
   "source": [
    "print(f\"The number of objects is {len(df)}\")\n",
    "print(f\"The number of images is {len(df['img'].unique())}\")"
   ]
  },
  {
   "cell_type": "code",
   "execution_count": 18,
   "metadata": {
    "pycharm": {
     "name": "#%%\n"
    }
   },
   "outputs": [],
   "source": [
    "# Create dir to store plots\n",
    "save_dir = './data/dataset_creation'\n",
    "if not os.path.isdir(save_dir):\n",
    "    os.makedirs(save_dir)"
   ]
  },
  {
   "cell_type": "code",
   "execution_count": 19,
   "metadata": {
    "pycharm": {
     "name": "#%%\n"
    }
   },
   "outputs": [
    {
     "data": {
      "image/png": "[encoded data removed]",
      "text/plain": [
       "<Figure size 800x600 with 1 Axes>"
      ]
     },
     "metadata": {},
     "output_type": "display_data"
    }
   ],
   "source": [
    "fig = plt.figure(figsize=(8, 6))\n",
    "ax = df['class_name'].value_counts().plot(kind='bar')\n",
    "# Set x-axis label\n",
    "ax.set_xlabel(\"Classes\", weight='bold', size=12)\n",
    "# Set y-axis label\n",
    "ax.set_ylabel(\"Counts\", weight='bold', size=12)\n",
    "ax.ticklabel_format(axis='y', style='sci', scilimits=(-3,3))\n",
    "ax.set_xticklabels(ax.get_xticklabels(), rotation=45)\n",
    "None\n",
    "fig.savefig(save_dir+'/coco_class_counts.png', bbox_inches = 'tight')"
   ]
  },
  {
   "cell_type": "code",
   "execution_count": 20,
   "metadata": {
    "pycharm": {
     "name": "#%%\n"
    }
   },
   "outputs": [
    {
     "data": {
      "image/png": "[encoded data removed]",
      "text/plain": [
       "<Figure size 1000x600 with 1 Axes>"
      ]
     },
     "metadata": {},
     "output_type": "display_data"
    }
   ],
   "source": [
    "fig = plt.figure(figsize=(10, 6))\n",
    "ax = df.groupby(by=['img'])['img'].count().value_counts().sort_index().plot(kind='bar')\n",
    "# Set x-axis label\n",
    "ax.set_xlabel(\"Instances per image\", weight='bold', size=12)\n",
    "# Set y-axis label\n",
    "ax.set_ylabel(\"Counts\", weight='bold', size=12)\n",
    "ax.ticklabel_format(axis='y', style='sci', scilimits=(-3,3))\n",
    "ax.set_xticklabels(ax.get_xticklabels(), rotation=0)\n",
    "None\n",
    "fig.savefig(save_dir+'/coco_instances_count.png', bbox_inches = 'tight')"
   ]
  },
  {
   "cell_type": "code",
   "execution_count": 21,
   "metadata": {
    "pycharm": {
     "name": "#%%\n"
    }
   },
   "outputs": [],
   "source": [
    "df['bbox_area'] = (df['wn']*df['img_w'])*(df['hn']*df['img_h'])\n",
    "bin_edges = [0, 16**2, 32**2, 96**2, float('inf')]\n",
    "bin_labels = ['tiny', 'small', 'medium', 'large']\n",
    "df['bbox_size_category'] = pd.cut(df['bbox_area'], bins=bin_edges, labels=bin_labels, right=False)"
   ]
  },
  {
   "cell_type": "code",
   "execution_count": 22,
   "metadata": {
    "pycharm": {
     "name": "#%%\n"
    }
   },
   "outputs": [
    {
     "data": {
      "image/png": "[encoded data removed]",
      "text/plain": [
       "<Figure size 800x600 with 1 Axes>"
      ]
     },
     "metadata": {},
     "output_type": "display_data"
    }
   ],
   "source": [
    "fig = plt.figure(figsize=(8, 6))\n",
    "ax = df['bbox_size_category'].value_counts().sort_index().plot(kind='bar')\n",
    "# Set x-axis label\n",
    "ax.set_xlabel(\"Object category size\", weight='bold', size=12, labelpad=10)\n",
    "# Set y-axis label\n",
    "ax.set_ylabel(\"Counts\", weight='bold', size=12)\n",
    "ax.ticklabel_format(axis='y', style='sci', scilimits=(-3,3))\n",
    "ax.set_xticklabels(ax.get_xticklabels(), rotation=45)\n",
    "None\n",
    "fig.savefig(save_dir+'/coco_objsz_counts.png', bbox_inches = 'tight')"
   ]
  },
  {
   "cell_type": "code",
   "execution_count": null,
   "metadata": {
    "pycharm": {
     "name": "#%%\n"
    }
   },
   "outputs": [],
   "source": []
  }
 ],
 "metadata": {
  "kernelspec": {
   "display_name": "Python 3 (ipykernel)",
   "language": "python",
   "name": "python3"
  },
  "language_info": {
   "codemirror_mode": {
    "name": "ipython",
    "version": 3
   },
   "file_extension": ".py",
   "mimetype": "text/x-python",
   "name": "python",
   "nbconvert_exporter": "python",
   "pygments_lexer": "ipython3",
   "version": "3.11.4"
  }
 },
 "nbformat": 4,
 "nbformat_minor": 4
}